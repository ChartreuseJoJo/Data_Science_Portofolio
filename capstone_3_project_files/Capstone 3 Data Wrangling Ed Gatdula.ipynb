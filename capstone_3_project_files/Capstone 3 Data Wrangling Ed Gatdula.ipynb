{
 "cells": [
  {
   "cell_type": "markdown",
   "metadata": {
    "toc": true
   },
   "source": [
    "<h1>Table of Contents<span class=\"tocSkip\"></span></h1>\n",
    "<div class=\"toc\"><ul class=\"toc-item\"><li><span><a href=\"#Import-Modules\" data-toc-modified-id=\"Import-Modules-1\">Import Modules</a></span></li><li><span><a href=\"#General-Outline\" data-toc-modified-id=\"General-Outline-2\">General Outline</a></span><ul class=\"toc-item\"><li><span><a href=\"#Hypothesis:--Does-inclusion-of-consumer-confiden-index-(cci)-improve-model-prediction-score-for-sales?--How-much-does-logrithmic-transformation-of-several-non-normal-distributed-features-improve-predictions?\" data-toc-modified-id=\"Hypothesis:--Does-inclusion-of-consumer-confiden-index-(cci)-improve-model-prediction-score-for-sales?--How-much-does-logrithmic-transformation-of-several-non-normal-distributed-features-improve-predictions?-2.1\">Hypothesis:  Does inclusion of consumer confiden index (cci) improve model prediction score for sales?  How much does logrithmic transformation of several non-normal distributed features improve predictions?</a></span></li></ul></li><li><span><a href=\"#Import-data\" data-toc-modified-id=\"Import-data-3\">Import data</a></span></li><li><span><a href=\"#Data\" data-toc-modified-id=\"Data-4\">Data</a></span><ul class=\"toc-item\"><li><span><a href=\"#Description-of-columns-and-values--\" data-toc-modified-id=\"Description-of-columns-and-values---4.1\">Description of columns and values -</a></span><ul class=\"toc-item\"><li><span><a href=\"#--stores.csv\" data-toc-modified-id=\"--stores.csv-4.1.1\">- stores.csv</a></span></li><li><span><a href=\"#--train.csv\" data-toc-modified-id=\"--train.csv-4.1.2\">- train.csv</a></span></li><li><span><a href=\"#--test.csv\" data-toc-modified-id=\"--test.csv-4.1.3\">- test.csv</a></span></li><li><span><a href=\"#--features.csv\" data-toc-modified-id=\"--features.csv-4.1.4\">- features.csv</a></span></li><li><span><a href=\"#--Consumer-Confidence-Indicator\" data-toc-modified-id=\"--Consumer-Confidence-Indicator-4.1.5\">- Consumer Confidence Indicator</a></span></li></ul></li></ul></li><li><span><a href=\"#Consumer-Confidence-Index\" data-toc-modified-id=\"Consumer-Confidence-Index-5\">Consumer Confidence Index</a></span><ul class=\"toc-item\"><li><span><a href=\"#Summary:\" data-toc-modified-id=\"Summary:-5.1\">Summary:</a></span></li></ul></li><li><span><a href=\"#Stores.csv-Data-Wrangling\" data-toc-modified-id=\"Stores.csv-Data-Wrangling-6\">Stores.csv Data Wrangling</a></span><ul class=\"toc-item\"><li><span><a href=\"#Summary:\" data-toc-modified-id=\"Summary:-6.1\">Summary:</a></span></li></ul></li><li><span><a href=\"#Test.csv-Data-Wrangling\" data-toc-modified-id=\"Test.csv-Data-Wrangling-7\">Test.csv Data Wrangling</a></span></li><li><span><a href=\"#Train.csv-Data-Wrangling\" data-toc-modified-id=\"Train.csv-Data-Wrangling-8\">Train.csv Data Wrangling</a></span><ul class=\"toc-item\"><li><span><a href=\"#Summary:\" data-toc-modified-id=\"Summary:-8.1\">Summary:</a></span></li></ul></li><li><span><a href=\"#Features.csv-Data-Wrangling\" data-toc-modified-id=\"Features.csv-Data-Wrangling-9\">Features.csv Data Wrangling</a></span><ul class=\"toc-item\"><li><span><a href=\"#Summary:\" data-toc-modified-id=\"Summary:-9.1\">Summary:</a></span></li><li><span><a href=\"#Missing-Values-and-How-to-Deal-With\" data-toc-modified-id=\"Missing-Values-and-How-to-Deal-With-9.2\">Missing Values and How to Deal With</a></span></li><li><span><a href=\"#Markdown-Values-Missing\" data-toc-modified-id=\"Markdown-Values-Missing-9.3\">Markdown Values Missing</a></span></li><li><span><a href=\"#'CPI'-missing-values\" data-toc-modified-id=\"'CPI'-missing-values-9.4\">'CPI' missing values</a></span></li><li><span><a href=\"#Unemployment-Missing-Values\" data-toc-modified-id=\"Unemployment-Missing-Values-9.5\">Unemployment Missing Values</a></span></li></ul></li><li><span><a href=\"#DataFrame-Merge\" data-toc-modified-id=\"DataFrame-Merge-10\">DataFrame Merge</a></span><ul class=\"toc-item\"><li><span><a href=\"#Training-Data\" data-toc-modified-id=\"Training-Data-10.1\">Training Data</a></span></li><li><span><a href=\"#Testing-Data\" data-toc-modified-id=\"Testing-Data-10.2\">Testing Data</a></span></li></ul></li></ul></div>"
   ]
  },
  {
   "cell_type": "markdown",
   "metadata": {},
   "source": [
    "# Import Modules"
   ]
  },
  {
   "cell_type": "code",
   "execution_count": 1,
   "metadata": {
    "ExecuteTime": {
     "end_time": "2021-10-21T20:48:36.000139Z",
     "start_time": "2021-10-21T20:48:35.072061Z"
    }
   },
   "outputs": [],
   "source": [
    "import pandas as pd\n",
    "import numpy as np\n",
    "\n",
    "import matplotlib.pyplot as plt\n",
    "import plotly.express as px\n",
    "import plotly.graph_objects as go\n",
    "from plotly.subplots import make_subplots\n",
    "import seaborn as sns\n",
    "\n",
    "import datetime\n",
    "\n",
    "import ipywidgets as widgets\n",
    "from ipywidgets import interact, interact_manual\n",
    "\n",
    "%matplotlib inline"
   ]
  },
  {
   "cell_type": "markdown",
   "metadata": {},
   "source": [
    "# General Outline\n",
    "\n",
    "## Hypothesis:  Does inclusion of consumer confiden index (cci) improve model prediction score for sales?  How much does logrithmic transformation of several non-normal distributed features improve predictions?\n",
    "\n",
    "Procedure:\n",
    "\n",
    "Part I.  Obtain base model performance metrics without cci values.\n",
    "\n",
    "1. Fit following models without cci data:  Ordinary Least Squares(OLS), ElasticNet, Random Forest Regressor,\n",
    "XGBoost, HistGradientBoost.\n",
    "2. Cross validate to obtain coefficient of determination (R2), mean squared error (MSE), and mean average error (MAE) for each model. \n",
    "\n",
    "Part II.  Using models from Part I, obtain performance metrics with cci values.\n",
    "1. Build and test models from Part I with cci data.\n",
    "2.  Record coefficient of determination (R2), mean squared error (MSE), and mean average error (MAE) for each model. \n",
    "3.  Cross validate to obtain R2, MSE, and MAE scores.\n",
    "4.  Compare R2, MSE, and MAE scores between Parts I and II.\n",
    "\n",
    "Part III.  Apply logrithmic function to following features: 'MarkDown1', 'MarkDown2', 'MarkDown3', 'MarkDown3',\n",
    "'MarkDown4', 'MarkDown5'\n",
    "1.  Create new features by applying logrithmic function to following features: 'MarkDown1', 'MarkDown2', 'MarkDown3', 'MarkDown3', 'MarkDown4', 'MarkDown5'.\n",
    "2.  Drop original \"MarkDown1\", \"MarkDown2\", \"MarkDown3\", \"MarkDown4\", and \"MarkDown5\" features from Training data.\n",
    "3.  Fit HistGradientBoost and Random Forest models to training data.\n",
    "4.  Cross validate to obtain R2, MSE, MAE scores.\n",
    "\n",
    "\n",
    "Download data\n",
    "\n",
    "1.  consumer price index:  \n",
    "\n",
    "four dataframes: \n",
    "- df_stores \n",
    "- df_features\n",
    "- df_test\n",
    "- df_train"
   ]
  },
  {
   "cell_type": "markdown",
   "metadata": {},
   "source": [
    "# Import data"
   ]
  },
  {
   "cell_type": "code",
   "execution_count": 2,
   "metadata": {
    "ExecuteTime": {
     "end_time": "2021-10-21T20:48:36.007889Z",
     "start_time": "2021-10-21T20:48:36.001264Z"
    }
   },
   "outputs": [],
   "source": [
    "df_stores = pd.read_csv('./capstone 3 project data/stores.csv')"
   ]
  },
  {
   "cell_type": "code",
   "execution_count": 3,
   "metadata": {
    "ExecuteTime": {
     "end_time": "2021-10-21T20:48:36.024073Z",
     "start_time": "2021-10-21T20:48:36.009138Z"
    }
   },
   "outputs": [],
   "source": [
    "df_features = pd.read_csv('./capstone 3 project data/features.csv',\n",
    "                        parse_dates = True, index_col='Date')"
   ]
  },
  {
   "cell_type": "code",
   "execution_count": 4,
   "metadata": {
    "ExecuteTime": {
     "end_time": "2021-10-21T20:48:36.067901Z",
     "start_time": "2021-10-21T20:48:36.025434Z"
    }
   },
   "outputs": [],
   "source": [
    "df_test = pd.read_csv('./capstone 3 project data/test.csv', parse_dates = True, index_col='Date')"
   ]
  },
  {
   "cell_type": "code",
   "execution_count": 5,
   "metadata": {
    "ExecuteTime": {
     "end_time": "2021-10-21T20:48:36.234284Z",
     "start_time": "2021-10-21T20:48:36.068716Z"
    }
   },
   "outputs": [],
   "source": [
    "df_train = pd.read_csv('./capstone 3 project data/train.csv', parse_dates = True, index_col='Date')"
   ]
  },
  {
   "cell_type": "code",
   "execution_count": 6,
   "metadata": {
    "ExecuteTime": {
     "end_time": "2021-10-21T20:48:36.240943Z",
     "start_time": "2021-10-21T20:48:36.235263Z"
    }
   },
   "outputs": [],
   "source": [
    "# https://data.oecd.org/leadind/consumer-confidence-index-cci.htm\n",
    "df_cci = pd.read_csv('./capstone 3 project data/us_consumer_confidence.csv', \n",
    "                     parse_dates = True, index_col='TIME')"
   ]
  },
  {
   "cell_type": "markdown",
   "metadata": {},
   "source": [
    "# Data\n",
    "\n",
    "## Description of columns and values - \n",
    "\n",
    "from kaggle.com-\n",
    "\n",
    "### - stores.csv\n",
    "\n",
    "This file contains anonymized information about the 45 stores, indicating the type and size of store.\n",
    "\n",
    "### - train.csv\n",
    "\n",
    "This is the historical training data, which covers to 2010-02-05 to 2012-11-01. Within this file you will find the following fields:\n",
    "\n",
    "Store - the store number <br>\n",
    "Dept - the department number <br>\n",
    "Date - the week <br>\n",
    "Weekly_Sales -  sales for the given department in the given store <br>\n",
    "IsHoliday - whether the week is a special holiday week <br>\n",
    "\n",
    "### - test.csv\n",
    "\n",
    "This file is identical to train.csv, except we have withheld the weekly sales. You must predict the sales for each triplet of store, department, and date in this file.\n",
    "\n",
    "### - features.csv\n",
    "\n",
    "This file contains additional data related to the store, department, and regional activity for the given dates. It contains the following fields:\n",
    "\n",
    "Store - the store number <br>\n",
    "Date - the week <br>\n",
    "Temperature - average temperature in the region <br>\n",
    "Fuel_Price - cost of fuel in the region <br>\n",
    "MarkDown1-5 - anonymized data related to promotional markdowns that Walmart is running. MarkDown data is only available after Nov 2011, and is not available for all stores all the time. Any missing value is marked with an NA. <br>\n",
    "CPI - the consumer price index <br>\n",
    "Unemployment - the unemployment rate <br>\n",
    "IsHoliday - whether the week is a special holiday week <br>\n",
    "For convenience, the four holidays fall within the following weeks in the dataset (not all holidays are in the data):\n",
    "\n",
    "Super Bowl: 12-Feb-10, 11-Feb-11, 10-Feb-12, 8-Feb-13 <br>\n",
    "Labor Day: 10-Sep-10, 9-Sep-11, 7-Sep-12, 6-Sep-13 <br>\n",
    "Thanksgiving: 26-Nov-10, 25-Nov-11, 23-Nov-12, 29-Nov-13 <br>\n",
    "Christmas: 31-Dec-10, 30-Dec-11, 28-Dec-12, 27-Dec-13 <br>\n",
    "\n",
    "### - Consumer Confidence Indicator\n",
    "\n",
    "from https://www.investopedia.com/insights/understanding-consumer-confidence-index/:\n",
    "\n",
    "\"Since consumer spending is so important to the nation's financial health, the Consumer Confidence Index is one of the most accurate and closely watched economic indicators. The index is based on a survey of five questions posed to 5,000 households, measuring their optimism on the economy's health.\"\n",
    "\n",
    "Consumer Confidence Data from: https://data.oecd.org/leadind/consumer-confidence-index-cci.htm\n",
    "\n",
    "LOCATION - Country ID <br>\n",
    "INDICATOR -  Economic metric ID <br>\n",
    "SUBJECT - <br>\n",
    "MEASURE - <br>\n",
    "FREQUENCY - time period of measurement reporting <br>\n",
    "TIME - date <br>\n",
    "Value - value of economic indicator <br>\n",
    "Flag Codes - Code ID <br>"
   ]
  },
  {
   "cell_type": "markdown",
   "metadata": {},
   "source": [
    "# Consumer Confidence Index\n",
    "\n",
    "## Summary:\n",
    "\n",
    "count\t66.000000 <br>\n",
    "mean\t98.305140 <br>\n",
    "std\t0.693007 <br>\n",
    "min\t96.237700 <br>\n",
    "25%\t97.919050 <br>\n",
    "50%\t98.426900 <br>\n",
    "75%\t98.699375 <br>\n",
    "max\t99.228900 <br>\n"
   ]
  },
  {
   "cell_type": "code",
   "execution_count": 7,
   "metadata": {
    "ExecuteTime": {
     "end_time": "2021-10-21T20:48:36.252997Z",
     "start_time": "2021-10-21T20:48:36.241946Z"
    }
   },
   "outputs": [
    {
     "name": "stdout",
     "output_type": "stream",
     "text": [
      "<class 'pandas.core.frame.DataFrame'>\n",
      "DatetimeIndex: 308 entries, 2008-09-01 to 2021-06-01\n",
      "Data columns (total 7 columns):\n",
      " #   Column      Non-Null Count  Dtype  \n",
      "---  ------      --------------  -----  \n",
      " 0   LOCATION    308 non-null    object \n",
      " 1   INDICATOR   308 non-null    object \n",
      " 2   SUBJECT     308 non-null    object \n",
      " 3   MEASURE     308 non-null    object \n",
      " 4   FREQUENCY   308 non-null    object \n",
      " 5   Value       308 non-null    float64\n",
      " 6   Flag Codes  0 non-null      float64\n",
      "dtypes: float64(2), object(5)\n",
      "memory usage: 19.2+ KB\n"
     ]
    }
   ],
   "source": [
    "df_cci.info()"
   ]
  },
  {
   "cell_type": "code",
   "execution_count": 8,
   "metadata": {
    "ExecuteTime": {
     "end_time": "2021-10-21T20:48:36.264221Z",
     "start_time": "2021-10-21T20:48:36.255238Z"
    }
   },
   "outputs": [
    {
     "data": {
      "text/html": [
       "<div>\n",
       "<style scoped>\n",
       "    .dataframe tbody tr th:only-of-type {\n",
       "        vertical-align: middle;\n",
       "    }\n",
       "\n",
       "    .dataframe tbody tr th {\n",
       "        vertical-align: top;\n",
       "    }\n",
       "\n",
       "    .dataframe thead th {\n",
       "        text-align: right;\n",
       "    }\n",
       "</style>\n",
       "<table border=\"1\" class=\"dataframe\">\n",
       "  <thead>\n",
       "    <tr style=\"text-align: right;\">\n",
       "      <th></th>\n",
       "      <th>LOCATION</th>\n",
       "      <th>INDICATOR</th>\n",
       "      <th>SUBJECT</th>\n",
       "      <th>MEASURE</th>\n",
       "      <th>FREQUENCY</th>\n",
       "      <th>Value</th>\n",
       "      <th>Flag Codes</th>\n",
       "    </tr>\n",
       "    <tr>\n",
       "      <th>TIME</th>\n",
       "      <th></th>\n",
       "      <th></th>\n",
       "      <th></th>\n",
       "      <th></th>\n",
       "      <th></th>\n",
       "      <th></th>\n",
       "      <th></th>\n",
       "    </tr>\n",
       "  </thead>\n",
       "  <tbody>\n",
       "    <tr>\n",
       "      <th>2008-09-01</th>\n",
       "      <td>OECD</td>\n",
       "      <td>CCI</td>\n",
       "      <td>AMPLITUD</td>\n",
       "      <td>LTRENDIDX</td>\n",
       "      <td>M</td>\n",
       "      <td>97.19665</td>\n",
       "      <td>NaN</td>\n",
       "    </tr>\n",
       "    <tr>\n",
       "      <th>2008-10-01</th>\n",
       "      <td>OECD</td>\n",
       "      <td>CCI</td>\n",
       "      <td>AMPLITUD</td>\n",
       "      <td>LTRENDIDX</td>\n",
       "      <td>M</td>\n",
       "      <td>96.88356</td>\n",
       "      <td>NaN</td>\n",
       "    </tr>\n",
       "    <tr>\n",
       "      <th>2008-11-01</th>\n",
       "      <td>OECD</td>\n",
       "      <td>CCI</td>\n",
       "      <td>AMPLITUD</td>\n",
       "      <td>LTRENDIDX</td>\n",
       "      <td>M</td>\n",
       "      <td>96.59681</td>\n",
       "      <td>NaN</td>\n",
       "    </tr>\n",
       "    <tr>\n",
       "      <th>2008-12-01</th>\n",
       "      <td>OECD</td>\n",
       "      <td>CCI</td>\n",
       "      <td>AMPLITUD</td>\n",
       "      <td>LTRENDIDX</td>\n",
       "      <td>M</td>\n",
       "      <td>96.42375</td>\n",
       "      <td>NaN</td>\n",
       "    </tr>\n",
       "    <tr>\n",
       "      <th>2009-01-01</th>\n",
       "      <td>OECD</td>\n",
       "      <td>CCI</td>\n",
       "      <td>AMPLITUD</td>\n",
       "      <td>LTRENDIDX</td>\n",
       "      <td>M</td>\n",
       "      <td>96.33321</td>\n",
       "      <td>NaN</td>\n",
       "    </tr>\n",
       "  </tbody>\n",
       "</table>\n",
       "</div>"
      ],
      "text/plain": [
       "           LOCATION INDICATOR   SUBJECT    MEASURE FREQUENCY     Value  \\\n",
       "TIME                                                                     \n",
       "2008-09-01     OECD       CCI  AMPLITUD  LTRENDIDX         M  97.19665   \n",
       "2008-10-01     OECD       CCI  AMPLITUD  LTRENDIDX         M  96.88356   \n",
       "2008-11-01     OECD       CCI  AMPLITUD  LTRENDIDX         M  96.59681   \n",
       "2008-12-01     OECD       CCI  AMPLITUD  LTRENDIDX         M  96.42375   \n",
       "2009-01-01     OECD       CCI  AMPLITUD  LTRENDIDX         M  96.33321   \n",
       "\n",
       "            Flag Codes  \n",
       "TIME                    \n",
       "2008-09-01         NaN  \n",
       "2008-10-01         NaN  \n",
       "2008-11-01         NaN  \n",
       "2008-12-01         NaN  \n",
       "2009-01-01         NaN  "
      ]
     },
     "execution_count": 8,
     "metadata": {},
     "output_type": "execute_result"
    }
   ],
   "source": [
    "df_cci.head(5)"
   ]
  },
  {
   "cell_type": "code",
   "execution_count": 9,
   "metadata": {
    "ExecuteTime": {
     "end_time": "2021-10-21T20:48:36.268329Z",
     "start_time": "2021-10-21T20:48:36.265897Z"
    }
   },
   "outputs": [
    {
     "data": {
      "text/plain": [
       "0"
      ]
     },
     "execution_count": 9,
     "metadata": {},
     "output_type": "execute_result"
    }
   ],
   "source": [
    "# check for null/nan values\n",
    "df_cci['LOCATION'].isna().sum()"
   ]
  },
  {
   "cell_type": "code",
   "execution_count": 10,
   "metadata": {
    "ExecuteTime": {
     "end_time": "2021-10-21T20:48:36.275768Z",
     "start_time": "2021-10-21T20:48:36.269334Z"
    }
   },
   "outputs": [
    {
     "name": "stdout",
     "output_type": "stream",
     "text": [
      "<class 'pandas.core.frame.DataFrame'>\n",
      "DatetimeIndex: 154 entries, 2008-09-01 to 2021-06-01\n",
      "Data columns (total 7 columns):\n",
      " #   Column      Non-Null Count  Dtype  \n",
      "---  ------      --------------  -----  \n",
      " 0   LOCATION    154 non-null    object \n",
      " 1   INDICATOR   154 non-null    object \n",
      " 2   SUBJECT     154 non-null    object \n",
      " 3   MEASURE     154 non-null    object \n",
      " 4   FREQUENCY   154 non-null    object \n",
      " 5   Value       154 non-null    float64\n",
      " 6   Flag Codes  0 non-null      float64\n",
      "dtypes: float64(2), object(5)\n",
      "memory usage: 9.6+ KB\n"
     ]
    }
   ],
   "source": [
    "# filter location for USA. values\n",
    "df_cci = df_cci[df_cci['LOCATION'] == 'USA']\n",
    "df_cci.info()"
   ]
  },
  {
   "cell_type": "code",
   "execution_count": 11,
   "metadata": {
    "ExecuteTime": {
     "end_time": "2021-10-21T20:48:36.279327Z",
     "start_time": "2021-10-21T20:48:36.276675Z"
    }
   },
   "outputs": [
    {
     "data": {
      "text/plain": [
       "Index(['LOCATION', 'INDICATOR', 'SUBJECT', 'MEASURE', 'FREQUENCY', 'Value',\n",
       "       'Flag Codes'],\n",
       "      dtype='object')"
      ]
     },
     "execution_count": 11,
     "metadata": {},
     "output_type": "execute_result"
    }
   ],
   "source": [
    "df_cci.columns"
   ]
  },
  {
   "cell_type": "code",
   "execution_count": 12,
   "metadata": {
    "ExecuteTime": {
     "end_time": "2021-10-21T20:48:36.285433Z",
     "start_time": "2021-10-21T20:48:36.280503Z"
    }
   },
   "outputs": [],
   "source": [
    "df_cci = df_cci.rename(columns = {\"Value\":\"cci_value\"})\n",
    "df_cci = df_cci.drop(columns = ['LOCATION', 'INDICATOR', 'SUBJECT', 'MEASURE', 'FREQUENCY',\n",
    "       'Flag Codes'])"
   ]
  },
  {
   "cell_type": "code",
   "execution_count": 13,
   "metadata": {
    "ExecuteTime": {
     "end_time": "2021-10-21T20:48:36.405139Z",
     "start_time": "2021-10-21T20:48:36.286568Z"
    },
    "scrolled": true
   },
   "outputs": [
    {
     "data": {
      "image/png": "[encoded data removed]",
      "text/plain": [
       "<Figure size 432x288 with 1 Axes>"
      ]
     },
     "metadata": {
      "needs_background": "light"
     },
     "output_type": "display_data"
    }
   ],
   "source": [
    "# filter for time period. drop all columns except 'VALUE'\n",
    "df_ = df_cci.reset_index().loc[0:58]\n",
    "\n",
    "sns.lineplot(x=df_.TIME, y=df_['cci_value']);"
   ]
  },
  {
   "cell_type": "code",
   "execution_count": 14,
   "metadata": {
    "ExecuteTime": {
     "end_time": "2021-10-21T20:48:36.415834Z",
     "start_time": "2021-10-21T20:48:36.406271Z"
    }
   },
   "outputs": [
    {
     "data": {
      "text/html": [
       "<div>\n",
       "<style scoped>\n",
       "    .dataframe tbody tr th:only-of-type {\n",
       "        vertical-align: middle;\n",
       "    }\n",
       "\n",
       "    .dataframe tbody tr th {\n",
       "        vertical-align: top;\n",
       "    }\n",
       "\n",
       "    .dataframe thead th {\n",
       "        text-align: right;\n",
       "    }\n",
       "</style>\n",
       "<table border=\"1\" class=\"dataframe\">\n",
       "  <thead>\n",
       "    <tr style=\"text-align: right;\">\n",
       "      <th></th>\n",
       "      <th>cci_value</th>\n",
       "      <th>isocalendar</th>\n",
       "    </tr>\n",
       "  </thead>\n",
       "  <tbody>\n",
       "    <tr>\n",
       "      <th>0</th>\n",
       "      <td>96.87313</td>\n",
       "      <td>(2008, 36)</td>\n",
       "    </tr>\n",
       "    <tr>\n",
       "      <th>1</th>\n",
       "      <td>96.46582</td>\n",
       "      <td>(2008, 40)</td>\n",
       "    </tr>\n",
       "    <tr>\n",
       "      <th>2</th>\n",
       "      <td>96.16968</td>\n",
       "      <td>(2008, 44)</td>\n",
       "    </tr>\n",
       "    <tr>\n",
       "      <th>3</th>\n",
       "      <td>96.16106</td>\n",
       "      <td>(2008, 49)</td>\n",
       "    </tr>\n",
       "    <tr>\n",
       "      <th>4</th>\n",
       "      <td>96.16938</td>\n",
       "      <td>(2009, 1)</td>\n",
       "    </tr>\n",
       "    <tr>\n",
       "      <th>...</th>\n",
       "      <td>...</td>\n",
       "      <td>...</td>\n",
       "    </tr>\n",
       "    <tr>\n",
       "      <th>149</th>\n",
       "      <td>99.14902</td>\n",
       "      <td>(2021, 5)</td>\n",
       "    </tr>\n",
       "    <tr>\n",
       "      <th>150</th>\n",
       "      <td>99.56915</td>\n",
       "      <td>(2021, 9)</td>\n",
       "    </tr>\n",
       "    <tr>\n",
       "      <th>151</th>\n",
       "      <td>99.86069</td>\n",
       "      <td>(2021, 13)</td>\n",
       "    </tr>\n",
       "    <tr>\n",
       "      <th>152</th>\n",
       "      <td>99.81796</td>\n",
       "      <td>(2021, 17)</td>\n",
       "    </tr>\n",
       "    <tr>\n",
       "      <th>153</th>\n",
       "      <td>99.59086</td>\n",
       "      <td>(2021, 22)</td>\n",
       "    </tr>\n",
       "  </tbody>\n",
       "</table>\n",
       "<p>154 rows × 2 columns</p>\n",
       "</div>"
      ],
      "text/plain": [
       "     cci_value isocalendar\n",
       "0     96.87313  (2008, 36)\n",
       "1     96.46582  (2008, 40)\n",
       "2     96.16968  (2008, 44)\n",
       "3     96.16106  (2008, 49)\n",
       "4     96.16938   (2009, 1)\n",
       "..         ...         ...\n",
       "149   99.14902   (2021, 5)\n",
       "150   99.56915   (2021, 9)\n",
       "151   99.86069  (2021, 13)\n",
       "152   99.81796  (2021, 17)\n",
       "153   99.59086  (2021, 22)\n",
       "\n",
       "[154 rows x 2 columns]"
      ]
     },
     "execution_count": 14,
     "metadata": {},
     "output_type": "execute_result"
    }
   ],
   "source": [
    "# create isocalendar feature.\n",
    "df_cci = df_cci.reset_index()\n",
    "df_cci['isocalendar']= df_cci['TIME'].apply(lambda x: x.isocalendar()[0:2])\n",
    "df_cci=df_cci.drop(columns='TIME')\n",
    "df_cci"
   ]
  },
  {
   "cell_type": "markdown",
   "metadata": {},
   "source": [
    "# Stores.csv Data Wrangling\n",
    "\n",
    "## Summary:\n",
    "\n",
    "Examine Type, Size values\n",
    "\n",
    "1.  There are three store types.  Appear to be sorted by Size (square footage).  However, boxplots show one or two outliers in each type.  Maybe outlier stores should be reclassified? To be answered in exploratory data analysis.\n",
    "\n",
    "    A.  Following stores identified as outliers in their respective Type:\n",
    "    \n",
    "    Type 'A':  Stores 33, 36.  Located outside lower bounds of Type 'B' distribution. Falls into Type 'C' size distribution bounds. <br>\n",
    "    Type 'B':  Stores 5, 3.  Located outside lower bounds of Type 'B' distribution. Falls into Type 'C' size distribution bounds. <br>\n",
    "    Type 'C':  Store 30.  Located outside upper bounds.  However, not large enough to qualify for B, C Type. <br>\n",
    "\n",
    "\n",
    "2.  There are 22 'A' Type stores, 17 'B' Type stores, and 6 'C' Type Stores.\n",
    "    Store Type will be an important feature going forward when analyzing feature relationship.  <br>\n",
    "\n",
    "\n",
    "3.  Grouping the data by store type and computing median of each group\n",
    "\n",
    "    A type store median size: 202406.0 <br>\n",
    "    B type store median size: 114533.0 <br>\n",
    "    C type store median size: 39910.0"
   ]
  },
  {
   "cell_type": "code",
   "execution_count": 15,
   "metadata": {
    "ExecuteTime": {
     "end_time": "2021-10-21T20:48:36.421202Z",
     "start_time": "2021-10-21T20:48:36.416933Z"
    },
    "scrolled": true
   },
   "outputs": [
    {
     "data": {
      "text/html": [
       "<div>\n",
       "<style scoped>\n",
       "    .dataframe tbody tr th:only-of-type {\n",
       "        vertical-align: middle;\n",
       "    }\n",
       "\n",
       "    .dataframe tbody tr th {\n",
       "        vertical-align: top;\n",
       "    }\n",
       "\n",
       "    .dataframe thead th {\n",
       "        text-align: right;\n",
       "    }\n",
       "</style>\n",
       "<table border=\"1\" class=\"dataframe\">\n",
       "  <thead>\n",
       "    <tr style=\"text-align: right;\">\n",
       "      <th></th>\n",
       "      <th>Store</th>\n",
       "      <th>Type</th>\n",
       "      <th>Size</th>\n",
       "    </tr>\n",
       "  </thead>\n",
       "  <tbody>\n",
       "    <tr>\n",
       "      <th>0</th>\n",
       "      <td>1</td>\n",
       "      <td>A</td>\n",
       "      <td>151315</td>\n",
       "    </tr>\n",
       "    <tr>\n",
       "      <th>1</th>\n",
       "      <td>2</td>\n",
       "      <td>A</td>\n",
       "      <td>202307</td>\n",
       "    </tr>\n",
       "    <tr>\n",
       "      <th>2</th>\n",
       "      <td>3</td>\n",
       "      <td>B</td>\n",
       "      <td>37392</td>\n",
       "    </tr>\n",
       "    <tr>\n",
       "      <th>3</th>\n",
       "      <td>4</td>\n",
       "      <td>A</td>\n",
       "      <td>205863</td>\n",
       "    </tr>\n",
       "    <tr>\n",
       "      <th>4</th>\n",
       "      <td>5</td>\n",
       "      <td>B</td>\n",
       "      <td>34875</td>\n",
       "    </tr>\n",
       "  </tbody>\n",
       "</table>\n",
       "</div>"
      ],
      "text/plain": [
       "   Store Type    Size\n",
       "0      1    A  151315\n",
       "1      2    A  202307\n",
       "2      3    B   37392\n",
       "3      4    A  205863\n",
       "4      5    B   34875"
      ]
     },
     "execution_count": 15,
     "metadata": {},
     "output_type": "execute_result"
    }
   ],
   "source": [
    "df_stores.head()"
   ]
  },
  {
   "cell_type": "code",
   "execution_count": 16,
   "metadata": {
    "ExecuteTime": {
     "end_time": "2021-10-21T20:48:36.428559Z",
     "start_time": "2021-10-21T20:48:36.422645Z"
    }
   },
   "outputs": [
    {
     "name": "stdout",
     "output_type": "stream",
     "text": [
      "<class 'pandas.core.frame.DataFrame'>\n",
      "RangeIndex: 45 entries, 0 to 44\n",
      "Data columns (total 3 columns):\n",
      " #   Column  Non-Null Count  Dtype \n",
      "---  ------  --------------  ----- \n",
      " 0   Store   45 non-null     int64 \n",
      " 1   Type    45 non-null     object\n",
      " 2   Size    45 non-null     int64 \n",
      "dtypes: int64(2), object(1)\n",
      "memory usage: 1.2+ KB\n"
     ]
    }
   ],
   "source": [
    "df_stores.info()"
   ]
  },
  {
   "cell_type": "code",
   "execution_count": 17,
   "metadata": {
    "ExecuteTime": {
     "end_time": "2021-10-21T20:48:36.432585Z",
     "start_time": "2021-10-21T20:48:36.429504Z"
    },
    "scrolled": true
   },
   "outputs": [
    {
     "data": {
      "text/plain": [
       "Store    0\n",
       "Type     0\n",
       "Size     0\n",
       "dtype: int64"
      ]
     },
     "execution_count": 17,
     "metadata": {},
     "output_type": "execute_result"
    }
   ],
   "source": [
    "#  inspect df_stores for missing, nan values.  no missing values\n",
    "df_stores.isna().sum()"
   ]
  },
  {
   "cell_type": "code",
   "execution_count": 18,
   "metadata": {
    "ExecuteTime": {
     "end_time": "2021-10-21T20:48:36.436663Z",
     "start_time": "2021-10-21T20:48:36.433388Z"
    }
   },
   "outputs": [
    {
     "data": {
      "text/plain": [
       "A    22\n",
       "B    17\n",
       "C     6\n",
       "Name: Type, dtype: int64"
      ]
     },
     "execution_count": 18,
     "metadata": {},
     "output_type": "execute_result"
    }
   ],
   "source": [
    "# \"Type\" Feature unique value counts\n",
    "df_stores.Type.astype('category')\n",
    "df_stores.Type.value_counts()"
   ]
  },
  {
   "cell_type": "code",
   "execution_count": 19,
   "metadata": {
    "ExecuteTime": {
     "end_time": "2021-10-21T20:48:36.446561Z",
     "start_time": "2021-10-21T20:48:36.437943Z"
    }
   },
   "outputs": [
    {
     "name": "stdout",
     "output_type": "stream",
     "text": [
      "A Type Store: \n",
      "count        22.000000\n",
      "mean     177247.727273\n",
      "std       49392.621098\n",
      "min       39690.000000\n",
      "25%      155840.750000\n",
      "50%      202406.000000\n",
      "75%      203819.000000\n",
      "max      219622.000000\n",
      "Name: Size, dtype: float64\n",
      "\n",
      "B Type Store: \n",
      "count        17.000000\n",
      "mean     101190.705882\n",
      "std       32371.137916\n",
      "min       34875.000000\n",
      "25%       93188.000000\n",
      "50%      114533.000000\n",
      "75%      123737.000000\n",
      "max      140167.000000\n",
      "Name: Size, dtype: float64\n",
      "\n",
      "C Type Store: \n",
      "count        6.000000\n",
      "mean     40541.666667\n",
      "std       1304.145033\n",
      "min      39690.000000\n",
      "25%      39745.000000\n",
      "50%      39910.000000\n",
      "75%      40774.000000\n",
      "max      42988.000000\n",
      "Name: Size, dtype: float64\n"
     ]
    }
   ],
   "source": [
    "# describe 'Size' statistics for each store 'Type' \n",
    "\n",
    "print(\"A Type Store: \\n{}\".format(df_stores[df_stores['Type'] == 'A']['Size'].describe()))\n",
    "print(\"\\nB Type Store: \\n{}\".format(df_stores[df_stores['Type'] == 'B']['Size'].describe()))\n",
    "print(\"\\nC Type Store: \\n{}\".format(df_stores[df_stores['Type'] == 'C']['Size'].describe()))"
   ]
  },
  {
   "cell_type": "code",
   "execution_count": 20,
   "metadata": {
    "ExecuteTime": {
     "end_time": "2021-10-21T20:48:36.537962Z",
     "start_time": "2021-10-21T20:48:36.447488Z"
    }
   },
   "outputs": [
    {
     "data": {
      "image/png": "[encoded data removed]",
      "text/plain": [
       "<Figure size 720x720 with 1 Axes>"
      ]
     },
     "metadata": {
      "needs_background": "light"
     },
     "output_type": "display_data"
    }
   ],
   "source": [
    "# Create a figure and axes\n",
    "fig, ax = plt.subplots(figsize=(10,10))\n",
    "\n",
    "# Create a boxplot\n",
    "sns.boxplot(data=df_stores,\n",
    "         y='Type',\n",
    "         x='Size')\n",
    "\n",
    "# Create a more descriptive x axis label\n",
    "ax.set(xlabel=\"Square Footage\", ylabel='Store Type')\n",
    "\n",
    "# Add the title\n",
    "ax.set_title(\"Store Area Values Boxplot by Store Type\")\n",
    "plt.show();"
   ]
  },
  {
   "cell_type": "code",
   "execution_count": 21,
   "metadata": {
    "ExecuteTime": {
     "end_time": "2021-10-21T20:48:36.544756Z",
     "start_time": "2021-10-21T20:48:36.538799Z"
    },
    "scrolled": false
   },
   "outputs": [
    {
     "data": {
      "text/html": [
       "<div>\n",
       "<style scoped>\n",
       "    .dataframe tbody tr th:only-of-type {\n",
       "        vertical-align: middle;\n",
       "    }\n",
       "\n",
       "    .dataframe tbody tr th {\n",
       "        vertical-align: top;\n",
       "    }\n",
       "\n",
       "    .dataframe thead th {\n",
       "        text-align: right;\n",
       "    }\n",
       "</style>\n",
       "<table border=\"1\" class=\"dataframe\">\n",
       "  <thead>\n",
       "    <tr style=\"text-align: right;\">\n",
       "      <th></th>\n",
       "      <th>Store</th>\n",
       "      <th>Type</th>\n",
       "      <th>Size</th>\n",
       "    </tr>\n",
       "  </thead>\n",
       "  <tbody>\n",
       "    <tr>\n",
       "      <th>32</th>\n",
       "      <td>33</td>\n",
       "      <td>A</td>\n",
       "      <td>39690</td>\n",
       "    </tr>\n",
       "    <tr>\n",
       "      <th>35</th>\n",
       "      <td>36</td>\n",
       "      <td>A</td>\n",
       "      <td>39910</td>\n",
       "    </tr>\n",
       "    <tr>\n",
       "      <th>0</th>\n",
       "      <td>1</td>\n",
       "      <td>A</td>\n",
       "      <td>151315</td>\n",
       "    </tr>\n",
       "    <tr>\n",
       "      <th>25</th>\n",
       "      <td>26</td>\n",
       "      <td>A</td>\n",
       "      <td>152513</td>\n",
       "    </tr>\n",
       "    <tr>\n",
       "      <th>7</th>\n",
       "      <td>8</td>\n",
       "      <td>A</td>\n",
       "      <td>155078</td>\n",
       "    </tr>\n",
       "  </tbody>\n",
       "</table>\n",
       "</div>"
      ],
      "text/plain": [
       "    Store Type    Size\n",
       "32     33    A   39690\n",
       "35     36    A   39910\n",
       "0       1    A  151315\n",
       "25     26    A  152513\n",
       "7       8    A  155078"
      ]
     },
     "execution_count": 21,
     "metadata": {},
     "output_type": "execute_result"
    }
   ],
   "source": [
    "# Two Type 'A' outliers:  Stores 33, 36.  Possible error in Type value?\n",
    "df_stores[df_stores['Type'] == 'A'].sort_values('Size').head(5)"
   ]
  },
  {
   "cell_type": "code",
   "execution_count": 22,
   "metadata": {
    "ExecuteTime": {
     "end_time": "2021-10-21T20:48:36.553496Z",
     "start_time": "2021-10-21T20:48:36.545722Z"
    }
   },
   "outputs": [
    {
     "data": {
      "text/html": [
       "<div>\n",
       "<style scoped>\n",
       "    .dataframe tbody tr th:only-of-type {\n",
       "        vertical-align: middle;\n",
       "    }\n",
       "\n",
       "    .dataframe tbody tr th {\n",
       "        vertical-align: top;\n",
       "    }\n",
       "\n",
       "    .dataframe thead th {\n",
       "        text-align: right;\n",
       "    }\n",
       "</style>\n",
       "<table border=\"1\" class=\"dataframe\">\n",
       "  <thead>\n",
       "    <tr style=\"text-align: right;\">\n",
       "      <th></th>\n",
       "      <th>Store</th>\n",
       "      <th>Type</th>\n",
       "      <th>Size</th>\n",
       "    </tr>\n",
       "  </thead>\n",
       "  <tbody>\n",
       "    <tr>\n",
       "      <th>4</th>\n",
       "      <td>5</td>\n",
       "      <td>B</td>\n",
       "      <td>34875</td>\n",
       "    </tr>\n",
       "    <tr>\n",
       "      <th>2</th>\n",
       "      <td>3</td>\n",
       "      <td>B</td>\n",
       "      <td>37392</td>\n",
       "    </tr>\n",
       "    <tr>\n",
       "      <th>15</th>\n",
       "      <td>16</td>\n",
       "      <td>B</td>\n",
       "      <td>57197</td>\n",
       "    </tr>\n",
       "    <tr>\n",
       "      <th>6</th>\n",
       "      <td>7</td>\n",
       "      <td>B</td>\n",
       "      <td>70713</td>\n",
       "    </tr>\n",
       "    <tr>\n",
       "      <th>16</th>\n",
       "      <td>17</td>\n",
       "      <td>B</td>\n",
       "      <td>93188</td>\n",
       "    </tr>\n",
       "  </tbody>\n",
       "</table>\n",
       "</div>"
      ],
      "text/plain": [
       "    Store Type   Size\n",
       "4       5    B  34875\n",
       "2       3    B  37392\n",
       "15     16    B  57197\n",
       "6       7    B  70713\n",
       "16     17    B  93188"
      ]
     },
     "execution_count": 22,
     "metadata": {},
     "output_type": "execute_result"
    }
   ],
   "source": [
    "# Two Type 'B' outliers:  Stores 5, 3.  Possible error in Type value?\n",
    "df_stores[df_stores['Type'] == 'B'].sort_values('Size').head(5)"
   ]
  },
  {
   "cell_type": "code",
   "execution_count": 23,
   "metadata": {
    "ExecuteTime": {
     "end_time": "2021-10-21T20:48:36.564608Z",
     "start_time": "2021-10-21T20:48:36.559722Z"
    }
   },
   "outputs": [
    {
     "data": {
      "text/html": [
       "<div>\n",
       "<style scoped>\n",
       "    .dataframe tbody tr th:only-of-type {\n",
       "        vertical-align: middle;\n",
       "    }\n",
       "\n",
       "    .dataframe tbody tr th {\n",
       "        vertical-align: top;\n",
       "    }\n",
       "\n",
       "    .dataframe thead th {\n",
       "        text-align: right;\n",
       "    }\n",
       "</style>\n",
       "<table border=\"1\" class=\"dataframe\">\n",
       "  <thead>\n",
       "    <tr style=\"text-align: right;\">\n",
       "      <th></th>\n",
       "      <th>Store</th>\n",
       "      <th>Type</th>\n",
       "      <th>Size</th>\n",
       "    </tr>\n",
       "  </thead>\n",
       "  <tbody>\n",
       "    <tr>\n",
       "      <th>29</th>\n",
       "      <td>30</td>\n",
       "      <td>C</td>\n",
       "      <td>42988</td>\n",
       "    </tr>\n",
       "    <tr>\n",
       "      <th>42</th>\n",
       "      <td>43</td>\n",
       "      <td>C</td>\n",
       "      <td>41062</td>\n",
       "    </tr>\n",
       "  </tbody>\n",
       "</table>\n",
       "</div>"
      ],
      "text/plain": [
       "    Store Type   Size\n",
       "29     30    C  42988\n",
       "42     43    C  41062"
      ]
     },
     "execution_count": 23,
     "metadata": {},
     "output_type": "execute_result"
    }
   ],
   "source": [
    "# Single Type 'C' outlier: Store 30.  Still too small to be grouped with Type 'B'\n",
    "\n",
    "df_stores[df_stores['Type'] == 'C'].sort_values('Size', ascending=False).head(2)"
   ]
  },
  {
   "cell_type": "code",
   "execution_count": 24,
   "metadata": {
    "ExecuteTime": {
     "end_time": "2021-10-21T20:48:36.572103Z",
     "start_time": "2021-10-21T20:48:36.567738Z"
    }
   },
   "outputs": [
    {
     "name": "stdout",
     "output_type": "stream",
     "text": [
      "A type store median size: 202406.0 \n",
      "B type store median size: 114533.0 \n",
      "C type store median size: 39910.0\n"
     ]
    }
   ],
   "source": [
    "# each store type group shows some overlap with over store types in size values distribution.  \n",
    "# there is a large difference between mean and median values for Type \"A\" store sizes.\n",
    "\n",
    "print(\"A type store median size: {0} \\nB type store median size: {1} \\nC type store median size: {2}\".format(\n",
    "    df_stores[df_stores['Type'] == 'A']['Size'].median(), df_stores[df_stores['Type'] == 'B']['Size'].median(),\n",
    "    df_stores[df_stores['Type'] == 'C']['Size'].median()))"
   ]
  },
  {
   "cell_type": "markdown",
   "metadata": {},
   "source": [
    "# Test.csv Data Wrangling\n",
    "\n",
    "1. Test.csv shape 115064,3\n",
    "2. Daterange spans 2012-11-02 to 2013-07-26\n",
    "3. for a given date, IsHoliday values match IsHoliday values from df_features."
   ]
  },
  {
   "cell_type": "code",
   "execution_count": 25,
   "metadata": {
    "ExecuteTime": {
     "end_time": "2021-10-21T20:48:36.579860Z",
     "start_time": "2021-10-21T20:48:36.573096Z"
    }
   },
   "outputs": [
    {
     "name": "stdout",
     "output_type": "stream",
     "text": [
      "<class 'pandas.core.frame.DataFrame'>\n",
      "DatetimeIndex: 115064 entries, 2012-11-02 to 2013-07-26\n",
      "Data columns (total 3 columns):\n",
      " #   Column     Non-Null Count   Dtype\n",
      "---  ------     --------------   -----\n",
      " 0   Store      115064 non-null  int64\n",
      " 1   Dept       115064 non-null  int64\n",
      " 2   IsHoliday  115064 non-null  bool \n",
      "dtypes: bool(1), int64(2)\n",
      "memory usage: 2.7 MB\n"
     ]
    }
   ],
   "source": [
    "df_test.info()\n"
   ]
  },
  {
   "cell_type": "code",
   "execution_count": 26,
   "metadata": {
    "ExecuteTime": {
     "end_time": "2021-10-21T20:48:36.596576Z",
     "start_time": "2021-10-21T20:48:36.580757Z"
    }
   },
   "outputs": [
    {
     "data": {
      "text/plain": [
       "Store  Dept  IsHoliday\n",
       "22     49    False        36\n",
       "21     27    False        36\n",
       "20     90    False        36\n",
       "       87    False        36\n",
       "       85    False        36\n",
       "                          ..\n",
       "23     45    True          1\n",
       "5      45    True          1\n",
       "6      45    True          1\n",
       "17     99    True          1\n",
       "12     96    True          1\n",
       "Length: 6218, dtype: int64"
      ]
     },
     "execution_count": 26,
     "metadata": {},
     "output_type": "execute_result"
    }
   ],
   "source": [
    "df_test[['Store','Dept','IsHoliday']].value_counts()\n"
   ]
  },
  {
   "cell_type": "code",
   "execution_count": 27,
   "metadata": {
    "ExecuteTime": {
     "end_time": "2021-10-21T20:48:36.602644Z",
     "start_time": "2021-10-21T20:48:36.597498Z"
    }
   },
   "outputs": [
    {
     "data": {
      "text/html": [
       "<div>\n",
       "<style scoped>\n",
       "    .dataframe tbody tr th:only-of-type {\n",
       "        vertical-align: middle;\n",
       "    }\n",
       "\n",
       "    .dataframe tbody tr th {\n",
       "        vertical-align: top;\n",
       "    }\n",
       "\n",
       "    .dataframe thead th {\n",
       "        text-align: right;\n",
       "    }\n",
       "</style>\n",
       "<table border=\"1\" class=\"dataframe\">\n",
       "  <thead>\n",
       "    <tr style=\"text-align: right;\">\n",
       "      <th></th>\n",
       "      <th>Store</th>\n",
       "      <th>Dept</th>\n",
       "      <th>IsHoliday</th>\n",
       "    </tr>\n",
       "    <tr>\n",
       "      <th>Date</th>\n",
       "      <th></th>\n",
       "      <th></th>\n",
       "      <th></th>\n",
       "    </tr>\n",
       "  </thead>\n",
       "  <tbody>\n",
       "    <tr>\n",
       "      <th>2012-11-02</th>\n",
       "      <td>1</td>\n",
       "      <td>1</td>\n",
       "      <td>0</td>\n",
       "    </tr>\n",
       "    <tr>\n",
       "      <th>2012-11-09</th>\n",
       "      <td>1</td>\n",
       "      <td>1</td>\n",
       "      <td>0</td>\n",
       "    </tr>\n",
       "    <tr>\n",
       "      <th>2012-11-16</th>\n",
       "      <td>1</td>\n",
       "      <td>1</td>\n",
       "      <td>0</td>\n",
       "    </tr>\n",
       "    <tr>\n",
       "      <th>2012-11-23</th>\n",
       "      <td>1</td>\n",
       "      <td>1</td>\n",
       "      <td>1</td>\n",
       "    </tr>\n",
       "    <tr>\n",
       "      <th>2012-11-30</th>\n",
       "      <td>1</td>\n",
       "      <td>1</td>\n",
       "      <td>0</td>\n",
       "    </tr>\n",
       "  </tbody>\n",
       "</table>\n",
       "</div>"
      ],
      "text/plain": [
       "            Store  Dept  IsHoliday\n",
       "Date                              \n",
       "2012-11-02      1     1          0\n",
       "2012-11-09      1     1          0\n",
       "2012-11-16      1     1          0\n",
       "2012-11-23      1     1          1\n",
       "2012-11-30      1     1          0"
      ]
     },
     "execution_count": 27,
     "metadata": {},
     "output_type": "execute_result"
    }
   ],
   "source": [
    "# encode IsHoliday features\n",
    "df_test['IsHoliday'] = df_test['IsHoliday'].astype(int)\n",
    "df_test.head()"
   ]
  },
  {
   "cell_type": "code",
   "execution_count": 28,
   "metadata": {
    "ExecuteTime": {
     "end_time": "2021-10-21T20:48:36.608243Z",
     "start_time": "2021-10-21T20:48:36.603630Z"
    },
    "scrolled": true
   },
   "outputs": [
    {
     "data": {
      "text/html": [
       "<div>\n",
       "<style scoped>\n",
       "    .dataframe tbody tr th:only-of-type {\n",
       "        vertical-align: middle;\n",
       "    }\n",
       "\n",
       "    .dataframe tbody tr th {\n",
       "        vertical-align: top;\n",
       "    }\n",
       "\n",
       "    .dataframe thead th {\n",
       "        text-align: right;\n",
       "    }\n",
       "</style>\n",
       "<table border=\"1\" class=\"dataframe\">\n",
       "  <thead>\n",
       "    <tr style=\"text-align: right;\">\n",
       "      <th></th>\n",
       "      <th>Store</th>\n",
       "      <th>Dept</th>\n",
       "      <th>IsHoliday</th>\n",
       "    </tr>\n",
       "    <tr>\n",
       "      <th>Date</th>\n",
       "      <th></th>\n",
       "      <th></th>\n",
       "      <th></th>\n",
       "    </tr>\n",
       "  </thead>\n",
       "  <tbody>\n",
       "    <tr>\n",
       "      <th>2013-06-28</th>\n",
       "      <td>45</td>\n",
       "      <td>98</td>\n",
       "      <td>0</td>\n",
       "    </tr>\n",
       "    <tr>\n",
       "      <th>2013-07-05</th>\n",
       "      <td>45</td>\n",
       "      <td>98</td>\n",
       "      <td>0</td>\n",
       "    </tr>\n",
       "    <tr>\n",
       "      <th>2013-07-12</th>\n",
       "      <td>45</td>\n",
       "      <td>98</td>\n",
       "      <td>0</td>\n",
       "    </tr>\n",
       "    <tr>\n",
       "      <th>2013-07-19</th>\n",
       "      <td>45</td>\n",
       "      <td>98</td>\n",
       "      <td>0</td>\n",
       "    </tr>\n",
       "    <tr>\n",
       "      <th>2013-07-26</th>\n",
       "      <td>45</td>\n",
       "      <td>98</td>\n",
       "      <td>0</td>\n",
       "    </tr>\n",
       "  </tbody>\n",
       "</table>\n",
       "</div>"
      ],
      "text/plain": [
       "            Store  Dept  IsHoliday\n",
       "Date                              \n",
       "2013-06-28     45    98          0\n",
       "2013-07-05     45    98          0\n",
       "2013-07-12     45    98          0\n",
       "2013-07-19     45    98          0\n",
       "2013-07-26     45    98          0"
      ]
     },
     "execution_count": 28,
     "metadata": {},
     "output_type": "execute_result"
    }
   ],
   "source": [
    "df_test.tail()"
   ]
  },
  {
   "cell_type": "markdown",
   "metadata": {},
   "source": [
    "# Train.csv Data Wrangling\n",
    "\n",
    "## Summary:\n",
    "\n",
    "Reindexed dataframe using Date.\n",
    "\n",
    "1.  df_train shape: 421570, 4.  421,570 entries.  4 Features.  <br>\n",
    "    A.  Categorical: Store, Department, IsHoliday  <br>\n",
    "    B.  Numerical:  Weekly_Sales  <br>\n",
    "2.  No missing/NaN values found.\n",
    "3.  There are 81 unique values for Dept. feature\n",
    "4.  Date range: 2010-02-05 thru 2012-10-26\n"
   ]
  },
  {
   "cell_type": "code",
   "execution_count": 29,
   "metadata": {
    "ExecuteTime": {
     "end_time": "2021-10-21T20:48:36.615524Z",
     "start_time": "2021-10-21T20:48:36.609206Z"
    }
   },
   "outputs": [
    {
     "name": "stdout",
     "output_type": "stream",
     "text": [
      "df_train shape: (421570, 4)\n"
     ]
    },
    {
     "data": {
      "text/plain": [
       "(            Store  Dept  Weekly_Sales  IsHoliday\n",
       " Date                                            \n",
       " 2010-02-05      1     1      24924.50      False\n",
       " 2010-02-12      1     1      46039.49       True\n",
       " 2010-02-19      1     1      41595.55      False\n",
       " 2010-02-26      1     1      19403.54      False\n",
       " 2010-03-05      1     1      21827.90      False,\n",
       "             Store  Dept  Weekly_Sales  IsHoliday\n",
       " Date                                            \n",
       " 2012-09-28     45    98        508.37      False\n",
       " 2012-10-05     45    98        628.10      False\n",
       " 2012-10-12     45    98       1061.02      False\n",
       " 2012-10-19     45    98        760.01      False\n",
       " 2012-10-26     45    98       1076.80      False)"
      ]
     },
     "execution_count": 29,
     "metadata": {},
     "output_type": "execute_result"
    }
   ],
   "source": [
    "# df_train shape: 421570 entries, 4 Features\n",
    "\n",
    "print(\"df_train shape: {}\".format(df_train.shape))\n",
    "df_train.head(), df_train.tail()"
   ]
  },
  {
   "cell_type": "code",
   "execution_count": 30,
   "metadata": {
    "ExecuteTime": {
     "end_time": "2021-10-21T20:48:36.636920Z",
     "start_time": "2021-10-21T20:48:36.616621Z"
    },
    "scrolled": false
   },
   "outputs": [
    {
     "name": "stdout",
     "output_type": "stream",
     "text": [
      "<class 'pandas.core.frame.DataFrame'>\n",
      "DatetimeIndex: 421570 entries, 2010-02-05 to 2012-10-26\n",
      "Data columns (total 4 columns):\n",
      " #   Column        Non-Null Count   Dtype  \n",
      "---  ------        --------------   -----  \n",
      " 0   Store         421570 non-null  int64  \n",
      " 1   Dept          421570 non-null  int64  \n",
      " 2   Weekly_Sales  421570 non-null  float64\n",
      " 3   IsHoliday     421570 non-null  bool   \n",
      "dtypes: bool(1), float64(1), int64(2)\n",
      "memory usage: 13.3 MB\n"
     ]
    },
    {
     "data": {
      "text/plain": [
       "Store           0\n",
       "Dept            0\n",
       "Weekly_Sales    0\n",
       "IsHoliday       0\n",
       "dtype: int64"
      ]
     },
     "execution_count": 30,
     "metadata": {},
     "output_type": "execute_result"
    }
   ],
   "source": [
    "# check info.  check for missing/nan values.  no missing/nan values found.\n",
    "df_train.info()\n",
    "df_train.isna().sum()"
   ]
  },
  {
   "cell_type": "code",
   "execution_count": 31,
   "metadata": {
    "ExecuteTime": {
     "end_time": "2021-10-21T20:48:36.649604Z",
     "start_time": "2021-10-21T20:48:36.638044Z"
    }
   },
   "outputs": [],
   "source": [
    "# change Dept and Store values to category type.  The feature values do not reflect a measurable quantity.\n",
    "\n",
    "df_train.Dept = df_train.Dept.astype('category')\n",
    "df_train.Store = df_train.Store.astype('category')"
   ]
  },
  {
   "cell_type": "code",
   "execution_count": 32,
   "metadata": {
    "ExecuteTime": {
     "end_time": "2021-10-21T20:48:36.663383Z",
     "start_time": "2021-10-21T20:48:36.650808Z"
    }
   },
   "outputs": [
    {
     "name": "stdout",
     "output_type": "stream",
     "text": [
      "<class 'pandas.core.frame.DataFrame'>\n",
      "DatetimeIndex: 421570 entries, 2010-02-05 to 2012-10-26\n",
      "Data columns (total 4 columns):\n",
      " #   Column        Non-Null Count   Dtype   \n",
      "---  ------        --------------   -----   \n",
      " 0   Store         421570 non-null  category\n",
      " 1   Dept          421570 non-null  category\n",
      " 2   Weekly_Sales  421570 non-null  float64 \n",
      " 3   IsHoliday     421570 non-null  bool    \n",
      "dtypes: bool(1), category(2), float64(1)\n",
      "memory usage: 7.6 MB\n"
     ]
    }
   ],
   "source": [
    "df_train.info()"
   ]
  },
  {
   "cell_type": "code",
   "execution_count": 33,
   "metadata": {
    "ExecuteTime": {
     "end_time": "2021-10-21T20:48:36.673469Z",
     "start_time": "2021-10-21T20:48:36.664285Z"
    }
   },
   "outputs": [
    {
     "name": "stdout",
     "output_type": "stream",
     "text": [
      "There are 81 unique values in 'Dept' feature\n"
     ]
    },
    {
     "data": {
      "text/plain": [
       "1     6435\n",
       "10    6435\n",
       "38    6435\n",
       "21    6435\n",
       "67    6435\n",
       "      ... \n",
       "78     235\n",
       "77     150\n",
       "65     143\n",
       "39      16\n",
       "43      12\n",
       "Name: Dept, Length: 81, dtype: int64"
      ]
     },
     "execution_count": 33,
     "metadata": {},
     "output_type": "execute_result"
    }
   ],
   "source": [
    "# How many unique 'Dept' values?\n",
    "print(\"There are {} unique values in 'Dept' feature\".format(df_train.Dept.nunique()))\n",
    "\n",
    "# value counts for each Dept\n",
    "df_train.Dept.value_counts()\n"
   ]
  },
  {
   "cell_type": "code",
   "execution_count": 34,
   "metadata": {
    "ExecuteTime": {
     "end_time": "2021-10-21T20:48:36.676315Z",
     "start_time": "2021-10-21T20:48:36.674475Z"
    }
   },
   "outputs": [],
   "source": [
    "# function to find which departments are found in a store?  \n",
    "\n",
    "def dept_count(store_num):\n",
    "    return df_train[df_train['Store'] == store_num]['Dept'].nunique()\n"
   ]
  },
  {
   "cell_type": "code",
   "execution_count": 35,
   "metadata": {
    "ExecuteTime": {
     "end_time": "2021-10-21T20:48:36.718776Z",
     "start_time": "2021-10-21T20:48:36.677265Z"
    }
   },
   "outputs": [],
   "source": [
    "list_ = df_train.Store.value_counts().keys().tolist()\n",
    "list_\n",
    "num_ = [dept_count(x) for x in list_]\n",
    "\n",
    "uhhh = pd.DataFrame(list(zip(list_,num_)), columns = ['store', 'dept_count'])\n",
    "uhhh.count()\n",
    "\n",
    "order_ = uhhh.sort_values('dept_count').store"
   ]
  },
  {
   "cell_type": "code",
   "execution_count": 36,
   "metadata": {
    "ExecuteTime": {
     "end_time": "2021-10-21T20:48:37.028631Z",
     "start_time": "2021-10-21T20:48:36.719907Z"
    }
   },
   "outputs": [
    {
     "data": {
      "image/png": "[encoded data removed]",
      "text/plain": [
       "<Figure size 864x360 with 1 Axes>"
      ]
     },
     "metadata": {
      "needs_background": "light"
     },
     "output_type": "display_data"
    }
   ],
   "source": [
    "# countplot of depts in each store\n",
    "fig, ax = plt.subplots(figsize=(12,5))\n",
    "sns.barplot(data=uhhh, x='store',\n",
    "         y='dept_count', order = order_ )\n",
    "\n",
    "plt.show();\n"
   ]
  },
  {
   "cell_type": "code",
   "execution_count": 37,
   "metadata": {
    "ExecuteTime": {
     "end_time": "2021-10-21T20:48:37.036526Z",
     "start_time": "2021-10-21T20:48:37.029979Z"
    }
   },
   "outputs": [],
   "source": [
    "order_dept = df_train.Dept.value_counts().sort_values().keys().to_list()"
   ]
  },
  {
   "cell_type": "code",
   "execution_count": 38,
   "metadata": {
    "ExecuteTime": {
     "end_time": "2021-10-21T20:48:37.754821Z",
     "start_time": "2021-10-21T20:48:37.037436Z"
    }
   },
   "outputs": [
    {
     "data": {
      "image/png": "[encoded data removed]",
      "text/plain": [
       "<Figure size 1080x1080 with 1 Axes>"
      ]
     },
     "metadata": {
      "needs_background": "light"
     },
     "output_type": "display_data"
    }
   ],
   "source": [
    "# Show a countplot \n",
    "fig, ax = plt.subplots(figsize=(15,15))\n",
    "sns.countplot(data=df_train,\n",
    "         y=\"Dept\", order=order_dept)\n",
    "\n",
    "plt.show();\n"
   ]
  },
  {
   "cell_type": "markdown",
   "metadata": {},
   "source": [
    "Checking Holiday Periods are Marked Correctly\n",
    "\n",
    "Super Bowl: 12-Feb-10, 11-Feb-11, 10-Feb-12, 8-Feb-13 \n",
    "Labor Day: 10-Sep-10, 9-Sep-11, 7-Sep-12, 6-Sep-13 \n",
    "Thanksgiving: 26-Nov-10, 25-Nov-11, 23-Nov-12, 29-Nov-13 \n",
    "Christmas: 31-Dec-10, 30-Dec-11, 28-Dec-12, 27-Dec-13 "
   ]
  },
  {
   "cell_type": "code",
   "execution_count": 39,
   "metadata": {
    "ExecuteTime": {
     "end_time": "2021-10-21T20:48:37.773999Z",
     "start_time": "2021-10-21T20:48:37.755744Z"
    }
   },
   "outputs": [
    {
     "data": {
      "text/html": [
       "<div>\n",
       "<style scoped>\n",
       "    .dataframe tbody tr th:only-of-type {\n",
       "        vertical-align: middle;\n",
       "    }\n",
       "\n",
       "    .dataframe tbody tr th {\n",
       "        vertical-align: top;\n",
       "    }\n",
       "\n",
       "    .dataframe thead th {\n",
       "        text-align: right;\n",
       "    }\n",
       "</style>\n",
       "<table border=\"1\" class=\"dataframe\">\n",
       "  <thead>\n",
       "    <tr style=\"text-align: right;\">\n",
       "      <th></th>\n",
       "      <th>Store</th>\n",
       "      <th>Dept</th>\n",
       "      <th>Weekly_Sales</th>\n",
       "      <th>IsHoliday</th>\n",
       "    </tr>\n",
       "    <tr>\n",
       "      <th>Date</th>\n",
       "      <th></th>\n",
       "      <th></th>\n",
       "      <th></th>\n",
       "      <th></th>\n",
       "    </tr>\n",
       "  </thead>\n",
       "  <tbody>\n",
       "    <tr>\n",
       "      <th>2010-02-12</th>\n",
       "      <td>2956</td>\n",
       "      <td>2956</td>\n",
       "      <td>2956</td>\n",
       "      <td>2956</td>\n",
       "    </tr>\n",
       "    <tr>\n",
       "      <th>2010-09-10</th>\n",
       "      <td>2937</td>\n",
       "      <td>2937</td>\n",
       "      <td>2937</td>\n",
       "      <td>2937</td>\n",
       "    </tr>\n",
       "    <tr>\n",
       "      <th>2010-11-26</th>\n",
       "      <td>2938</td>\n",
       "      <td>2938</td>\n",
       "      <td>2938</td>\n",
       "      <td>2938</td>\n",
       "    </tr>\n",
       "    <tr>\n",
       "      <th>2010-12-31</th>\n",
       "      <td>2943</td>\n",
       "      <td>2943</td>\n",
       "      <td>2943</td>\n",
       "      <td>2943</td>\n",
       "    </tr>\n",
       "    <tr>\n",
       "      <th>2011-02-11</th>\n",
       "      <td>2938</td>\n",
       "      <td>2938</td>\n",
       "      <td>2938</td>\n",
       "      <td>2938</td>\n",
       "    </tr>\n",
       "    <tr>\n",
       "      <th>2011-09-09</th>\n",
       "      <td>2958</td>\n",
       "      <td>2958</td>\n",
       "      <td>2958</td>\n",
       "      <td>2958</td>\n",
       "    </tr>\n",
       "    <tr>\n",
       "      <th>2011-11-25</th>\n",
       "      <td>3021</td>\n",
       "      <td>3021</td>\n",
       "      <td>3021</td>\n",
       "      <td>3021</td>\n",
       "    </tr>\n",
       "    <tr>\n",
       "      <th>2011-12-30</th>\n",
       "      <td>3003</td>\n",
       "      <td>3003</td>\n",
       "      <td>3003</td>\n",
       "      <td>3003</td>\n",
       "    </tr>\n",
       "    <tr>\n",
       "      <th>2012-02-10</th>\n",
       "      <td>3001</td>\n",
       "      <td>3001</td>\n",
       "      <td>3001</td>\n",
       "      <td>3001</td>\n",
       "    </tr>\n",
       "    <tr>\n",
       "      <th>2012-09-07</th>\n",
       "      <td>2966</td>\n",
       "      <td>2966</td>\n",
       "      <td>2966</td>\n",
       "      <td>2966</td>\n",
       "    </tr>\n",
       "  </tbody>\n",
       "</table>\n",
       "</div>"
      ],
      "text/plain": [
       "            Store  Dept  Weekly_Sales  IsHoliday\n",
       "Date                                            \n",
       "2010-02-12   2956  2956          2956       2956\n",
       "2010-09-10   2937  2937          2937       2937\n",
       "2010-11-26   2938  2938          2938       2938\n",
       "2010-12-31   2943  2943          2943       2943\n",
       "2011-02-11   2938  2938          2938       2938\n",
       "2011-09-09   2958  2958          2958       2958\n",
       "2011-11-25   3021  3021          3021       3021\n",
       "2011-12-30   3003  3003          3003       3003\n",
       "2012-02-10   3001  3001          3001       3001\n",
       "2012-09-07   2966  2966          2966       2966"
      ]
     },
     "execution_count": 39,
     "metadata": {},
     "output_type": "execute_result"
    }
   ],
   "source": [
    "# dates correctly matching IsHoliday == True values\n",
    "df_train.query('IsHoliday == True').groupby('Date').count()\n"
   ]
  },
  {
   "cell_type": "code",
   "execution_count": 40,
   "metadata": {
    "ExecuteTime": {
     "end_time": "2021-10-21T20:48:37.784357Z",
     "start_time": "2021-10-21T20:48:37.774972Z"
    }
   },
   "outputs": [
    {
     "data": {
      "text/html": [
       "<div>\n",
       "<style scoped>\n",
       "    .dataframe tbody tr th:only-of-type {\n",
       "        vertical-align: middle;\n",
       "    }\n",
       "\n",
       "    .dataframe tbody tr th {\n",
       "        vertical-align: top;\n",
       "    }\n",
       "\n",
       "    .dataframe thead th {\n",
       "        text-align: right;\n",
       "    }\n",
       "</style>\n",
       "<table border=\"1\" class=\"dataframe\">\n",
       "  <thead>\n",
       "    <tr style=\"text-align: right;\">\n",
       "      <th></th>\n",
       "      <th>Store</th>\n",
       "      <th>Dept</th>\n",
       "      <th>Weekly_Sales</th>\n",
       "      <th>IsHoliday</th>\n",
       "    </tr>\n",
       "    <tr>\n",
       "      <th>Date</th>\n",
       "      <th></th>\n",
       "      <th></th>\n",
       "      <th></th>\n",
       "      <th></th>\n",
       "    </tr>\n",
       "  </thead>\n",
       "  <tbody>\n",
       "    <tr>\n",
       "      <th>2010-02-05</th>\n",
       "      <td>1</td>\n",
       "      <td>1</td>\n",
       "      <td>24924.50</td>\n",
       "      <td>False</td>\n",
       "    </tr>\n",
       "    <tr>\n",
       "      <th>2010-02-12</th>\n",
       "      <td>1</td>\n",
       "      <td>1</td>\n",
       "      <td>46039.49</td>\n",
       "      <td>True</td>\n",
       "    </tr>\n",
       "    <tr>\n",
       "      <th>2010-02-19</th>\n",
       "      <td>1</td>\n",
       "      <td>1</td>\n",
       "      <td>41595.55</td>\n",
       "      <td>False</td>\n",
       "    </tr>\n",
       "    <tr>\n",
       "      <th>2010-02-26</th>\n",
       "      <td>1</td>\n",
       "      <td>1</td>\n",
       "      <td>19403.54</td>\n",
       "      <td>False</td>\n",
       "    </tr>\n",
       "    <tr>\n",
       "      <th>2010-03-05</th>\n",
       "      <td>1</td>\n",
       "      <td>1</td>\n",
       "      <td>21827.90</td>\n",
       "      <td>False</td>\n",
       "    </tr>\n",
       "    <tr>\n",
       "      <th>...</th>\n",
       "      <td>...</td>\n",
       "      <td>...</td>\n",
       "      <td>...</td>\n",
       "      <td>...</td>\n",
       "    </tr>\n",
       "    <tr>\n",
       "      <th>2012-09-28</th>\n",
       "      <td>45</td>\n",
       "      <td>98</td>\n",
       "      <td>508.37</td>\n",
       "      <td>False</td>\n",
       "    </tr>\n",
       "    <tr>\n",
       "      <th>2012-10-05</th>\n",
       "      <td>45</td>\n",
       "      <td>98</td>\n",
       "      <td>628.10</td>\n",
       "      <td>False</td>\n",
       "    </tr>\n",
       "    <tr>\n",
       "      <th>2012-10-12</th>\n",
       "      <td>45</td>\n",
       "      <td>98</td>\n",
       "      <td>1061.02</td>\n",
       "      <td>False</td>\n",
       "    </tr>\n",
       "    <tr>\n",
       "      <th>2012-10-19</th>\n",
       "      <td>45</td>\n",
       "      <td>98</td>\n",
       "      <td>760.01</td>\n",
       "      <td>False</td>\n",
       "    </tr>\n",
       "    <tr>\n",
       "      <th>2012-10-26</th>\n",
       "      <td>45</td>\n",
       "      <td>98</td>\n",
       "      <td>1076.80</td>\n",
       "      <td>False</td>\n",
       "    </tr>\n",
       "  </tbody>\n",
       "</table>\n",
       "<p>421570 rows × 4 columns</p>\n",
       "</div>"
      ],
      "text/plain": [
       "           Store Dept  Weekly_Sales  IsHoliday\n",
       "Date                                          \n",
       "2010-02-05     1    1      24924.50      False\n",
       "2010-02-12     1    1      46039.49       True\n",
       "2010-02-19     1    1      41595.55      False\n",
       "2010-02-26     1    1      19403.54      False\n",
       "2010-03-05     1    1      21827.90      False\n",
       "...          ...  ...           ...        ...\n",
       "2012-09-28    45   98        508.37      False\n",
       "2012-10-05    45   98        628.10      False\n",
       "2012-10-12    45   98       1061.02      False\n",
       "2012-10-19    45   98        760.01      False\n",
       "2012-10-26    45   98       1076.80      False\n",
       "\n",
       "[421570 rows x 4 columns]"
      ]
     },
     "execution_count": 40,
     "metadata": {},
     "output_type": "execute_result"
    }
   ],
   "source": [
    "df_train"
   ]
  },
  {
   "cell_type": "code",
   "execution_count": 41,
   "metadata": {
    "ExecuteTime": {
     "end_time": "2021-10-21T20:48:37.791631Z",
     "start_time": "2021-10-21T20:48:37.785500Z"
    }
   },
   "outputs": [
    {
     "data": {
      "text/html": [
       "<div>\n",
       "<style scoped>\n",
       "    .dataframe tbody tr th:only-of-type {\n",
       "        vertical-align: middle;\n",
       "    }\n",
       "\n",
       "    .dataframe tbody tr th {\n",
       "        vertical-align: top;\n",
       "    }\n",
       "\n",
       "    .dataframe thead th {\n",
       "        text-align: right;\n",
       "    }\n",
       "</style>\n",
       "<table border=\"1\" class=\"dataframe\">\n",
       "  <thead>\n",
       "    <tr style=\"text-align: right;\">\n",
       "      <th></th>\n",
       "      <th>Store</th>\n",
       "      <th>Dept</th>\n",
       "      <th>Weekly_Sales</th>\n",
       "      <th>IsHoliday</th>\n",
       "    </tr>\n",
       "    <tr>\n",
       "      <th>Date</th>\n",
       "      <th></th>\n",
       "      <th></th>\n",
       "      <th></th>\n",
       "      <th></th>\n",
       "    </tr>\n",
       "  </thead>\n",
       "  <tbody>\n",
       "    <tr>\n",
       "      <th>2010-02-05</th>\n",
       "      <td>1</td>\n",
       "      <td>1</td>\n",
       "      <td>24924.50</td>\n",
       "      <td>0</td>\n",
       "    </tr>\n",
       "    <tr>\n",
       "      <th>2010-02-12</th>\n",
       "      <td>1</td>\n",
       "      <td>1</td>\n",
       "      <td>46039.49</td>\n",
       "      <td>1</td>\n",
       "    </tr>\n",
       "    <tr>\n",
       "      <th>2010-02-19</th>\n",
       "      <td>1</td>\n",
       "      <td>1</td>\n",
       "      <td>41595.55</td>\n",
       "      <td>0</td>\n",
       "    </tr>\n",
       "    <tr>\n",
       "      <th>2010-02-26</th>\n",
       "      <td>1</td>\n",
       "      <td>1</td>\n",
       "      <td>19403.54</td>\n",
       "      <td>0</td>\n",
       "    </tr>\n",
       "    <tr>\n",
       "      <th>2010-03-05</th>\n",
       "      <td>1</td>\n",
       "      <td>1</td>\n",
       "      <td>21827.90</td>\n",
       "      <td>0</td>\n",
       "    </tr>\n",
       "  </tbody>\n",
       "</table>\n",
       "</div>"
      ],
      "text/plain": [
       "           Store Dept  Weekly_Sales  IsHoliday\n",
       "Date                                          \n",
       "2010-02-05     1    1      24924.50          0\n",
       "2010-02-12     1    1      46039.49          1\n",
       "2010-02-19     1    1      41595.55          0\n",
       "2010-02-26     1    1      19403.54          0\n",
       "2010-03-05     1    1      21827.90          0"
      ]
     },
     "execution_count": 41,
     "metadata": {},
     "output_type": "execute_result"
    }
   ],
   "source": [
    "# encode IsHoliday features\n",
    "df_train['IsHoliday'] = df_train['IsHoliday'].astype(int)\n",
    "df_train.head()"
   ]
  },
  {
   "cell_type": "code",
   "execution_count": 42,
   "metadata": {
    "ExecuteTime": {
     "end_time": "2021-10-21T20:48:37.796582Z",
     "start_time": "2021-10-21T20:48:37.792495Z"
    }
   },
   "outputs": [],
   "source": [
    "# reset index for merging process later\n",
    "\n",
    "df_train = df_train.reset_index()"
   ]
  },
  {
   "cell_type": "markdown",
   "metadata": {},
   "source": [
    "# Features.csv Data Wrangling\n",
    "\n",
    "## Summary:\n",
    "\n",
    "Reindexed dataframe using Date.  \n",
    "\n",
    "1.  df_train shape: (8190, 11).  8,190 entries.  11 Features. <br>\n",
    "    A.  Categorical: Store, IsHoliday <br>\n",
    "    B.  Numerical:  Temperature, Fuel_Price, MarkDown1, MarkDown2, MarkDown3, MarkDown4, MarkDown5, CPI, Unemployment\n",
    "2.  Date ranges from 2010-02-05 thru 2013-07-26.  Training.csv and Features.csv date ranges are not exact match.  Feature entries size will be adjust to match training set. <br>\n",
    "3.  MarkDown1, MarkDown2, MarkDown3, MarkDown4, MarkDown5 have significant amount of NaN values.  Boxplot and histogram plots of each features\n",
    "\n",
    " "
   ]
  },
  {
   "cell_type": "code",
   "execution_count": 43,
   "metadata": {
    "ExecuteTime": {
     "end_time": "2021-10-21T20:48:37.802762Z",
     "start_time": "2021-10-21T20:48:37.797466Z"
    }
   },
   "outputs": [
    {
     "name": "stdout",
     "output_type": "stream",
     "text": [
      "(8190, 11)\n",
      "<class 'pandas.core.frame.DataFrame'>\n",
      "DatetimeIndex: 8190 entries, 2010-02-05 to 2013-07-26\n",
      "Data columns (total 11 columns):\n",
      " #   Column        Non-Null Count  Dtype  \n",
      "---  ------        --------------  -----  \n",
      " 0   Store         8190 non-null   int64  \n",
      " 1   Temperature   8190 non-null   float64\n",
      " 2   Fuel_Price    8190 non-null   float64\n",
      " 3   MarkDown1     4032 non-null   float64\n",
      " 4   MarkDown2     2921 non-null   float64\n",
      " 5   MarkDown3     3613 non-null   float64\n",
      " 6   MarkDown4     3464 non-null   float64\n",
      " 7   MarkDown5     4050 non-null   float64\n",
      " 8   CPI           7605 non-null   float64\n",
      " 9   Unemployment  7605 non-null   float64\n",
      " 10  IsHoliday     8190 non-null   bool   \n",
      "dtypes: bool(1), float64(9), int64(1)\n",
      "memory usage: 711.8 KB\n"
     ]
    }
   ],
   "source": [
    "# Note datetime index range\n",
    "print(df_features.shape)\n",
    "df_features.info()"
   ]
  },
  {
   "cell_type": "code",
   "execution_count": 44,
   "metadata": {
    "ExecuteTime": {
     "end_time": "2021-10-21T20:48:37.806304Z",
     "start_time": "2021-10-21T20:48:37.803778Z"
    }
   },
   "outputs": [],
   "source": [
    "df_features = df_features.reset_index()"
   ]
  },
  {
   "cell_type": "code",
   "execution_count": 45,
   "metadata": {
    "ExecuteTime": {
     "end_time": "2021-10-21T20:48:37.830927Z",
     "start_time": "2021-10-21T20:48:37.807200Z"
    }
   },
   "outputs": [
    {
     "data": {
      "text/plain": [
       "0        (2010, 5)\n",
       "1        (2010, 6)\n",
       "2        (2010, 7)\n",
       "3        (2010, 8)\n",
       "4        (2010, 9)\n",
       "           ...    \n",
       "8185    (2013, 26)\n",
       "8186    (2013, 27)\n",
       "8187    (2013, 28)\n",
       "8188    (2013, 29)\n",
       "8189    (2013, 30)\n",
       "Name: isocalendar, Length: 8190, dtype: object"
      ]
     },
     "execution_count": 45,
     "metadata": {},
     "output_type": "execute_result"
    }
   ],
   "source": [
    "df_features['isocalendar'] = df_features['Date'].apply(lambda x: x.isocalendar()[0:2])\n",
    "df_features['isocalendar']"
   ]
  },
  {
   "cell_type": "code",
   "execution_count": 46,
   "metadata": {
    "ExecuteTime": {
     "end_time": "2021-10-21T20:48:37.855408Z",
     "start_time": "2021-10-21T20:48:37.831848Z"
    }
   },
   "outputs": [
    {
     "data": {
      "text/plain": [
       "0        5\n",
       "1        6\n",
       "2        7\n",
       "3        8\n",
       "4        9\n",
       "        ..\n",
       "8185    26\n",
       "8186    27\n",
       "8187    28\n",
       "8188    29\n",
       "8189    30\n",
       "Name: Week, Length: 8190, dtype: int64"
      ]
     },
     "execution_count": 46,
     "metadata": {},
     "output_type": "execute_result"
    }
   ],
   "source": [
    "df_features['Week'] = df_features['Date'].apply(lambda x: x.isocalendar()[1])\n",
    "df_features['Week']"
   ]
  },
  {
   "cell_type": "code",
   "execution_count": 47,
   "metadata": {
    "ExecuteTime": {
     "end_time": "2021-10-21T20:48:37.869524Z",
     "start_time": "2021-10-21T20:48:37.856331Z"
    }
   },
   "outputs": [
    {
     "data": {
      "text/html": [
       "<div>\n",
       "<style scoped>\n",
       "    .dataframe tbody tr th:only-of-type {\n",
       "        vertical-align: middle;\n",
       "    }\n",
       "\n",
       "    .dataframe tbody tr th {\n",
       "        vertical-align: top;\n",
       "    }\n",
       "\n",
       "    .dataframe thead th {\n",
       "        text-align: right;\n",
       "    }\n",
       "</style>\n",
       "<table border=\"1\" class=\"dataframe\">\n",
       "  <thead>\n",
       "    <tr style=\"text-align: right;\">\n",
       "      <th></th>\n",
       "      <th>Date</th>\n",
       "      <th>Store</th>\n",
       "      <th>Temperature</th>\n",
       "      <th>Fuel_Price</th>\n",
       "      <th>MarkDown1</th>\n",
       "      <th>MarkDown2</th>\n",
       "      <th>MarkDown3</th>\n",
       "      <th>MarkDown4</th>\n",
       "      <th>MarkDown5</th>\n",
       "      <th>CPI</th>\n",
       "      <th>Unemployment</th>\n",
       "      <th>IsHoliday</th>\n",
       "      <th>isocalendar</th>\n",
       "      <th>Week</th>\n",
       "    </tr>\n",
       "  </thead>\n",
       "  <tbody>\n",
       "    <tr>\n",
       "      <th>0</th>\n",
       "      <td>2010-02-05</td>\n",
       "      <td>1</td>\n",
       "      <td>42.31</td>\n",
       "      <td>2.572</td>\n",
       "      <td>NaN</td>\n",
       "      <td>NaN</td>\n",
       "      <td>NaN</td>\n",
       "      <td>NaN</td>\n",
       "      <td>NaN</td>\n",
       "      <td>211.096358</td>\n",
       "      <td>8.106</td>\n",
       "      <td>False</td>\n",
       "      <td>(2010, 5)</td>\n",
       "      <td>5</td>\n",
       "    </tr>\n",
       "    <tr>\n",
       "      <th>1</th>\n",
       "      <td>2010-02-12</td>\n",
       "      <td>1</td>\n",
       "      <td>38.51</td>\n",
       "      <td>2.548</td>\n",
       "      <td>NaN</td>\n",
       "      <td>NaN</td>\n",
       "      <td>NaN</td>\n",
       "      <td>NaN</td>\n",
       "      <td>NaN</td>\n",
       "      <td>211.242170</td>\n",
       "      <td>8.106</td>\n",
       "      <td>True</td>\n",
       "      <td>(2010, 6)</td>\n",
       "      <td>6</td>\n",
       "    </tr>\n",
       "    <tr>\n",
       "      <th>2</th>\n",
       "      <td>2010-02-19</td>\n",
       "      <td>1</td>\n",
       "      <td>39.93</td>\n",
       "      <td>2.514</td>\n",
       "      <td>NaN</td>\n",
       "      <td>NaN</td>\n",
       "      <td>NaN</td>\n",
       "      <td>NaN</td>\n",
       "      <td>NaN</td>\n",
       "      <td>211.289143</td>\n",
       "      <td>8.106</td>\n",
       "      <td>False</td>\n",
       "      <td>(2010, 7)</td>\n",
       "      <td>7</td>\n",
       "    </tr>\n",
       "    <tr>\n",
       "      <th>3</th>\n",
       "      <td>2010-02-26</td>\n",
       "      <td>1</td>\n",
       "      <td>46.63</td>\n",
       "      <td>2.561</td>\n",
       "      <td>NaN</td>\n",
       "      <td>NaN</td>\n",
       "      <td>NaN</td>\n",
       "      <td>NaN</td>\n",
       "      <td>NaN</td>\n",
       "      <td>211.319643</td>\n",
       "      <td>8.106</td>\n",
       "      <td>False</td>\n",
       "      <td>(2010, 8)</td>\n",
       "      <td>8</td>\n",
       "    </tr>\n",
       "    <tr>\n",
       "      <th>4</th>\n",
       "      <td>2010-03-05</td>\n",
       "      <td>1</td>\n",
       "      <td>46.50</td>\n",
       "      <td>2.625</td>\n",
       "      <td>NaN</td>\n",
       "      <td>NaN</td>\n",
       "      <td>NaN</td>\n",
       "      <td>NaN</td>\n",
       "      <td>NaN</td>\n",
       "      <td>211.350143</td>\n",
       "      <td>8.106</td>\n",
       "      <td>False</td>\n",
       "      <td>(2010, 9)</td>\n",
       "      <td>9</td>\n",
       "    </tr>\n",
       "    <tr>\n",
       "      <th>...</th>\n",
       "      <td>...</td>\n",
       "      <td>...</td>\n",
       "      <td>...</td>\n",
       "      <td>...</td>\n",
       "      <td>...</td>\n",
       "      <td>...</td>\n",
       "      <td>...</td>\n",
       "      <td>...</td>\n",
       "      <td>...</td>\n",
       "      <td>...</td>\n",
       "      <td>...</td>\n",
       "      <td>...</td>\n",
       "      <td>...</td>\n",
       "      <td>...</td>\n",
       "    </tr>\n",
       "    <tr>\n",
       "      <th>8185</th>\n",
       "      <td>2013-06-28</td>\n",
       "      <td>45</td>\n",
       "      <td>76.05</td>\n",
       "      <td>3.639</td>\n",
       "      <td>4842.29</td>\n",
       "      <td>975.03</td>\n",
       "      <td>3.00</td>\n",
       "      <td>2449.97</td>\n",
       "      <td>3169.69</td>\n",
       "      <td>NaN</td>\n",
       "      <td>NaN</td>\n",
       "      <td>False</td>\n",
       "      <td>(2013, 26)</td>\n",
       "      <td>26</td>\n",
       "    </tr>\n",
       "    <tr>\n",
       "      <th>8186</th>\n",
       "      <td>2013-07-05</td>\n",
       "      <td>45</td>\n",
       "      <td>77.50</td>\n",
       "      <td>3.614</td>\n",
       "      <td>9090.48</td>\n",
       "      <td>2268.58</td>\n",
       "      <td>582.74</td>\n",
       "      <td>5797.47</td>\n",
       "      <td>1514.93</td>\n",
       "      <td>NaN</td>\n",
       "      <td>NaN</td>\n",
       "      <td>False</td>\n",
       "      <td>(2013, 27)</td>\n",
       "      <td>27</td>\n",
       "    </tr>\n",
       "    <tr>\n",
       "      <th>8187</th>\n",
       "      <td>2013-07-12</td>\n",
       "      <td>45</td>\n",
       "      <td>79.37</td>\n",
       "      <td>3.614</td>\n",
       "      <td>3789.94</td>\n",
       "      <td>1827.31</td>\n",
       "      <td>85.72</td>\n",
       "      <td>744.84</td>\n",
       "      <td>2150.36</td>\n",
       "      <td>NaN</td>\n",
       "      <td>NaN</td>\n",
       "      <td>False</td>\n",
       "      <td>(2013, 28)</td>\n",
       "      <td>28</td>\n",
       "    </tr>\n",
       "    <tr>\n",
       "      <th>8188</th>\n",
       "      <td>2013-07-19</td>\n",
       "      <td>45</td>\n",
       "      <td>82.84</td>\n",
       "      <td>3.737</td>\n",
       "      <td>2961.49</td>\n",
       "      <td>1047.07</td>\n",
       "      <td>204.19</td>\n",
       "      <td>363.00</td>\n",
       "      <td>1059.46</td>\n",
       "      <td>NaN</td>\n",
       "      <td>NaN</td>\n",
       "      <td>False</td>\n",
       "      <td>(2013, 29)</td>\n",
       "      <td>29</td>\n",
       "    </tr>\n",
       "    <tr>\n",
       "      <th>8189</th>\n",
       "      <td>2013-07-26</td>\n",
       "      <td>45</td>\n",
       "      <td>76.06</td>\n",
       "      <td>3.804</td>\n",
       "      <td>212.02</td>\n",
       "      <td>851.73</td>\n",
       "      <td>2.06</td>\n",
       "      <td>10.88</td>\n",
       "      <td>1864.57</td>\n",
       "      <td>NaN</td>\n",
       "      <td>NaN</td>\n",
       "      <td>False</td>\n",
       "      <td>(2013, 30)</td>\n",
       "      <td>30</td>\n",
       "    </tr>\n",
       "  </tbody>\n",
       "</table>\n",
       "<p>8190 rows × 14 columns</p>\n",
       "</div>"
      ],
      "text/plain": [
       "           Date  Store  Temperature  Fuel_Price  MarkDown1  MarkDown2  \\\n",
       "0    2010-02-05      1        42.31       2.572        NaN        NaN   \n",
       "1    2010-02-12      1        38.51       2.548        NaN        NaN   \n",
       "2    2010-02-19      1        39.93       2.514        NaN        NaN   \n",
       "3    2010-02-26      1        46.63       2.561        NaN        NaN   \n",
       "4    2010-03-05      1        46.50       2.625        NaN        NaN   \n",
       "...         ...    ...          ...         ...        ...        ...   \n",
       "8185 2013-06-28     45        76.05       3.639    4842.29     975.03   \n",
       "8186 2013-07-05     45        77.50       3.614    9090.48    2268.58   \n",
       "8187 2013-07-12     45        79.37       3.614    3789.94    1827.31   \n",
       "8188 2013-07-19     45        82.84       3.737    2961.49    1047.07   \n",
       "8189 2013-07-26     45        76.06       3.804     212.02     851.73   \n",
       "\n",
       "      MarkDown3  MarkDown4  MarkDown5         CPI  Unemployment  IsHoliday  \\\n",
       "0           NaN        NaN        NaN  211.096358         8.106      False   \n",
       "1           NaN        NaN        NaN  211.242170         8.106       True   \n",
       "2           NaN        NaN        NaN  211.289143         8.106      False   \n",
       "3           NaN        NaN        NaN  211.319643         8.106      False   \n",
       "4           NaN        NaN        NaN  211.350143         8.106      False   \n",
       "...         ...        ...        ...         ...           ...        ...   \n",
       "8185       3.00    2449.97    3169.69         NaN           NaN      False   \n",
       "8186     582.74    5797.47    1514.93         NaN           NaN      False   \n",
       "8187      85.72     744.84    2150.36         NaN           NaN      False   \n",
       "8188     204.19     363.00    1059.46         NaN           NaN      False   \n",
       "8189       2.06      10.88    1864.57         NaN           NaN      False   \n",
       "\n",
       "     isocalendar  Week  \n",
       "0      (2010, 5)     5  \n",
       "1      (2010, 6)     6  \n",
       "2      (2010, 7)     7  \n",
       "3      (2010, 8)     8  \n",
       "4      (2010, 9)     9  \n",
       "...          ...   ...  \n",
       "8185  (2013, 26)    26  \n",
       "8186  (2013, 27)    27  \n",
       "8187  (2013, 28)    28  \n",
       "8188  (2013, 29)    29  \n",
       "8189  (2013, 30)    30  \n",
       "\n",
       "[8190 rows x 14 columns]"
      ]
     },
     "execution_count": 47,
     "metadata": {},
     "output_type": "execute_result"
    }
   ],
   "source": [
    "df_features"
   ]
  },
  {
   "cell_type": "code",
   "execution_count": 48,
   "metadata": {
    "ExecuteTime": {
     "end_time": "2021-10-21T20:48:37.873870Z",
     "start_time": "2021-10-21T20:48:37.870501Z"
    }
   },
   "outputs": [
    {
     "data": {
      "text/plain": [
       "0        (2010, 5)\n",
       "1        (2010, 6)\n",
       "2        (2010, 7)\n",
       "3        (2010, 8)\n",
       "4        (2010, 9)\n",
       "           ...    \n",
       "8185    (2013, 26)\n",
       "8186    (2013, 27)\n",
       "8187    (2013, 28)\n",
       "8188    (2013, 29)\n",
       "8189    (2013, 30)\n",
       "Name: isocalendar, Length: 8190, dtype: object"
      ]
     },
     "execution_count": 48,
     "metadata": {},
     "output_type": "execute_result"
    }
   ],
   "source": [
    "df_features['isocalendar']"
   ]
  },
  {
   "cell_type": "code",
   "execution_count": 49,
   "metadata": {
    "ExecuteTime": {
     "end_time": "2021-10-21T20:48:37.880517Z",
     "start_time": "2021-10-21T20:48:37.874791Z"
    }
   },
   "outputs": [
    {
     "name": "stdout",
     "output_type": "stream",
     "text": [
      "(8190, 14)\n",
      "<class 'pandas.core.frame.DataFrame'>\n",
      "RangeIndex: 8190 entries, 0 to 8189\n",
      "Data columns (total 14 columns):\n",
      " #   Column        Non-Null Count  Dtype         \n",
      "---  ------        --------------  -----         \n",
      " 0   Date          8190 non-null   datetime64[ns]\n",
      " 1   Store         8190 non-null   int64         \n",
      " 2   Temperature   8190 non-null   float64       \n",
      " 3   Fuel_Price    8190 non-null   float64       \n",
      " 4   MarkDown1     4032 non-null   float64       \n",
      " 5   MarkDown2     2921 non-null   float64       \n",
      " 6   MarkDown3     3613 non-null   float64       \n",
      " 7   MarkDown4     3464 non-null   float64       \n",
      " 8   MarkDown5     4050 non-null   float64       \n",
      " 9   CPI           7605 non-null   float64       \n",
      " 10  Unemployment  7605 non-null   float64       \n",
      " 11  IsHoliday     8190 non-null   bool          \n",
      " 12  isocalendar   8190 non-null   object        \n",
      " 13  Week          8190 non-null   int64         \n",
      "dtypes: bool(1), datetime64[ns](1), float64(9), int64(2), object(1)\n",
      "memory usage: 839.9+ KB\n"
     ]
    }
   ],
   "source": [
    "# Note datetime index range\n",
    "print(df_features.shape)\n",
    "df_features.info()"
   ]
  },
  {
   "cell_type": "markdown",
   "metadata": {},
   "source": [
    "## Missing Values and How to Deal With"
   ]
  },
  {
   "cell_type": "markdown",
   "metadata": {},
   "source": [
    "## Markdown Values Missing"
   ]
  },
  {
   "cell_type": "code",
   "execution_count": 50,
   "metadata": {
    "ExecuteTime": {
     "end_time": "2021-10-21T20:48:37.886136Z",
     "start_time": "2021-10-21T20:48:37.881396Z"
    },
    "scrolled": true
   },
   "outputs": [
    {
     "data": {
      "text/plain": [
       "Date             0.000000\n",
       "Store            0.000000\n",
       "Temperature      0.000000\n",
       "Fuel_Price       0.000000\n",
       "MarkDown1       50.769231\n",
       "MarkDown2       64.334554\n",
       "MarkDown3       55.885226\n",
       "MarkDown4       57.704518\n",
       "MarkDown5       50.549451\n",
       "CPI              7.142857\n",
       "Unemployment     7.142857\n",
       "IsHoliday        0.000000\n",
       "isocalendar      0.000000\n",
       "Week             0.000000\n",
       "dtype: float64"
      ]
     },
     "execution_count": 50,
     "metadata": {},
     "output_type": "execute_result"
    }
   ],
   "source": [
    "# Percentage of values for each features that are missing\n",
    "df_features.isna().sum()/8190 * 100"
   ]
  },
  {
   "cell_type": "code",
   "execution_count": 51,
   "metadata": {
    "ExecuteTime": {
     "end_time": "2021-10-21T20:48:37.899404Z",
     "start_time": "2021-10-21T20:48:37.886944Z"
    }
   },
   "outputs": [
    {
     "data": {
      "text/html": [
       "<div>\n",
       "<style scoped>\n",
       "    .dataframe tbody tr th:only-of-type {\n",
       "        vertical-align: middle;\n",
       "    }\n",
       "\n",
       "    .dataframe tbody tr th {\n",
       "        vertical-align: top;\n",
       "    }\n",
       "\n",
       "    .dataframe thead th {\n",
       "        text-align: right;\n",
       "    }\n",
       "</style>\n",
       "<table border=\"1\" class=\"dataframe\">\n",
       "  <thead>\n",
       "    <tr style=\"text-align: right;\">\n",
       "      <th></th>\n",
       "      <th>MarkDown1</th>\n",
       "      <th>MarkDown2</th>\n",
       "      <th>MarkDown3</th>\n",
       "      <th>MarkDown4</th>\n",
       "      <th>MarkDown5</th>\n",
       "    </tr>\n",
       "  </thead>\n",
       "  <tbody>\n",
       "    <tr>\n",
       "      <th>count</th>\n",
       "      <td>4032.000000</td>\n",
       "      <td>2921.000000</td>\n",
       "      <td>3613.000000</td>\n",
       "      <td>3464.000000</td>\n",
       "      <td>4050.000000</td>\n",
       "    </tr>\n",
       "    <tr>\n",
       "      <th>mean</th>\n",
       "      <td>7032.371786</td>\n",
       "      <td>3384.176594</td>\n",
       "      <td>1760.100180</td>\n",
       "      <td>3292.935886</td>\n",
       "      <td>4132.216422</td>\n",
       "    </tr>\n",
       "    <tr>\n",
       "      <th>std</th>\n",
       "      <td>9262.747448</td>\n",
       "      <td>8793.583016</td>\n",
       "      <td>11276.462208</td>\n",
       "      <td>6792.329861</td>\n",
       "      <td>13086.690278</td>\n",
       "    </tr>\n",
       "    <tr>\n",
       "      <th>min</th>\n",
       "      <td>-2781.450000</td>\n",
       "      <td>-265.760000</td>\n",
       "      <td>-179.260000</td>\n",
       "      <td>0.220000</td>\n",
       "      <td>-185.170000</td>\n",
       "    </tr>\n",
       "    <tr>\n",
       "      <th>25%</th>\n",
       "      <td>1577.532500</td>\n",
       "      <td>68.880000</td>\n",
       "      <td>6.600000</td>\n",
       "      <td>304.687500</td>\n",
       "      <td>1440.827500</td>\n",
       "    </tr>\n",
       "    <tr>\n",
       "      <th>50%</th>\n",
       "      <td>4743.580000</td>\n",
       "      <td>364.570000</td>\n",
       "      <td>36.260000</td>\n",
       "      <td>1176.425000</td>\n",
       "      <td>2727.135000</td>\n",
       "    </tr>\n",
       "    <tr>\n",
       "      <th>75%</th>\n",
       "      <td>8923.310000</td>\n",
       "      <td>2153.350000</td>\n",
       "      <td>163.150000</td>\n",
       "      <td>3310.007500</td>\n",
       "      <td>4832.555000</td>\n",
       "    </tr>\n",
       "    <tr>\n",
       "      <th>max</th>\n",
       "      <td>103184.980000</td>\n",
       "      <td>104519.540000</td>\n",
       "      <td>149483.310000</td>\n",
       "      <td>67474.850000</td>\n",
       "      <td>771448.100000</td>\n",
       "    </tr>\n",
       "  </tbody>\n",
       "</table>\n",
       "</div>"
      ],
      "text/plain": [
       "           MarkDown1      MarkDown2      MarkDown3     MarkDown4  \\\n",
       "count    4032.000000    2921.000000    3613.000000   3464.000000   \n",
       "mean     7032.371786    3384.176594    1760.100180   3292.935886   \n",
       "std      9262.747448    8793.583016   11276.462208   6792.329861   \n",
       "min     -2781.450000    -265.760000    -179.260000      0.220000   \n",
       "25%      1577.532500      68.880000       6.600000    304.687500   \n",
       "50%      4743.580000     364.570000      36.260000   1176.425000   \n",
       "75%      8923.310000    2153.350000     163.150000   3310.007500   \n",
       "max    103184.980000  104519.540000  149483.310000  67474.850000   \n",
       "\n",
       "           MarkDown5  \n",
       "count    4050.000000  \n",
       "mean     4132.216422  \n",
       "std     13086.690278  \n",
       "min      -185.170000  \n",
       "25%      1440.827500  \n",
       "50%      2727.135000  \n",
       "75%      4832.555000  \n",
       "max    771448.100000  "
      ]
     },
     "execution_count": 51,
     "metadata": {},
     "output_type": "execute_result"
    }
   ],
   "source": [
    "# stats omit NaN values in each columns\n",
    "df_features[['MarkDown1', 'MarkDown2', 'MarkDown3', 'MarkDown4', 'MarkDown5']].describe()"
   ]
  },
  {
   "cell_type": "code",
   "execution_count": 85,
   "metadata": {
    "ExecuteTime": {
     "end_time": "2021-10-21T20:49:49.849896Z",
     "start_time": "2021-10-21T20:49:49.700386Z"
    }
   },
   "outputs": [
    {
     "data": {
      "image/png": "[encoded data removed]",
      "text/plain": [
       "<Figure size 720x720 with 1 Axes>"
      ]
     },
     "metadata": {
      "needs_background": "light"
     },
     "output_type": "display_data"
    }
   ],
   "source": [
    "# A Boxplot of MarkDown values.  MarkDown5 outlier @ 800000 an error?\n",
    "\n",
    "#Basic boxplot\n",
    "fig, ax = plt.subplots(figsize=(10,10))\n",
    "\n",
    "# Add a boxplot for the \"Height\" column in the DataFrames\n",
    "ax.boxplot([df_features['MarkDown1'].dropna(), df_features['MarkDown2'].dropna(), \n",
    "            df_features['MarkDown3'].dropna(), df_features['MarkDown4'].dropna(),\n",
    "           df_features['MarkDown5'].dropna()])\n",
    "\n",
    "# Add x-axis tick labels:\n",
    "ax.set_xticklabels([\"MarkDown1\", \"MarkDown2\", \"MarkDown3\", \"MarkDown4\", \"MarkDown5\"])\n",
    "\n",
    "# Add a y-axis label\n",
    "ax.set_ylabel('Value ($)')\n",
    "\n",
    "plt.show()"
   ]
  },
  {
   "cell_type": "code",
   "execution_count": null,
   "metadata": {},
   "outputs": [],
   "source": []
  },
  {
   "cell_type": "code",
   "execution_count": 53,
   "metadata": {
    "ExecuteTime": {
     "end_time": "2021-10-21T20:48:38.009055Z",
     "start_time": "2021-10-21T20:48:38.005197Z"
    }
   },
   "outputs": [
    {
     "data": {
      "text/plain": [
       "0             NaN\n",
       "1             NaN\n",
       "2             NaN\n",
       "3             NaN\n",
       "4             NaN\n",
       "          ...    \n",
       "7044     63005.58\n",
       "7041     85851.87\n",
       "7043    105223.11\n",
       "7042    108519.28\n",
       "5059    771448.10\n",
       "Name: MarkDown5, Length: 8190, dtype: float64"
      ]
     },
     "execution_count": 53,
     "metadata": {},
     "output_type": "execute_result"
    }
   ],
   "source": [
    "# MarkDown5 outlier @ 800000 an error?\n",
    "\n",
    "df_features['MarkDown5'].sort_values(na_position='first')\n"
   ]
  },
  {
   "cell_type": "code",
   "execution_count": 104,
   "metadata": {
    "ExecuteTime": {
     "end_time": "2021-10-21T21:04:45.374454Z",
     "start_time": "2021-10-21T21:04:45.071245Z"
    }
   },
   "outputs": [
    {
     "data": {
      "image/png": "[encoded data removed]",
      "text/plain": [
       "<Figure size 432x288 with 1 Axes>"
      ]
     },
     "metadata": {
      "needs_background": "light"
     },
     "output_type": "display_data"
    },
    {
     "data": {
      "image/png": "[encoded data removed]",
      "text/plain": [
       "<Figure size 432x288 with 1 Axes>"
      ]
     },
     "metadata": {
      "needs_background": "light"
     },
     "output_type": "display_data"
    },
    {
     "data": {
      "image/png": "[encoded data removed]",
      "text/plain": [
       "<Figure size 432x288 with 1 Axes>"
      ]
     },
     "metadata": {
      "needs_background": "light"
     },
     "output_type": "display_data"
    },
    {
     "data": {
      "image/png": "[encoded data removed]",
      "text/plain": [
       "<Figure size 432x288 with 1 Axes>"
      ]
     },
     "metadata": {
      "needs_background": "light"
     },
     "output_type": "display_data"
    },
    {
     "data": {
      "image/png": "[encoded data removed]",
      "text/plain": [
       "<Figure size 432x288 with 1 Axes>"
      ]
     },
     "metadata": {
      "needs_background": "light"
     },
     "output_type": "display_data"
    }
   ],
   "source": [
    "# Seaborn MarkDown\n",
    "\n",
    "list =[\"MarkDown1\", \"MarkDown2\", \"MarkDown3\", \"MarkDown4\", \"MarkDown5\"]\n",
    "\n",
    "for i in list:\n",
    "    sns.boxplot(data=df_features[df_features[i]>0], x=i)\n",
    "\n",
    "    plt.show()"
   ]
  },
  {
   "cell_type": "code",
   "execution_count": 114,
   "metadata": {
    "ExecuteTime": {
     "end_time": "2021-10-21T21:10:16.599180Z",
     "start_time": "2021-10-21T21:10:07.560084Z"
    }
   },
   "outputs": [
    {
     "data": {
      "image/png": "[encoded data removed]",
      "text/plain": [
       "<Figure size 432x288 with 1 Axes>"
      ]
     },
     "metadata": {
      "needs_background": "light"
     },
     "output_type": "display_data"
    },
    {
     "data": {
      "image/png": "[encoded data removed]",
      "text/plain": [
       "<Figure size 432x288 with 1 Axes>"
      ]
     },
     "metadata": {
      "needs_background": "light"
     },
     "output_type": "display_data"
    },
    {
     "data": {
      "image/png": "[encoded data removed]",
      "text/plain": [
       "<Figure size 432x288 with 1 Axes>"
      ]
     },
     "metadata": {
      "needs_background": "light"
     },
     "output_type": "display_data"
    },
    {
     "data": {
      "image/png": "[encoded data removed]",
      "text/plain": [
       "<Figure size 432x288 with 1 Axes>"
      ]
     },
     "metadata": {
      "needs_background": "light"
     },
     "output_type": "display_data"
    },
    {
     "data": {
      "image/png": "[encoded data removed]",
      "text/plain": [
       "<Figure size 432x288 with 1 Axes>"
      ]
     },
     "metadata": {
      "needs_background": "light"
     },
     "output_type": "display_data"
    }
   ],
   "source": [
    "# Seaborn MarkDown\n",
    "\n",
    "list =[\"MarkDown1\", \"MarkDown2\", \"MarkDown3\", \"MarkDown4\", \"MarkDown5\"]\n",
    "\n",
    "for i in list:\n",
    "    ax = sns.histplot(data=df_features[df_features[i]>0], x=i)\n",
    "    ax.set(xlabel=i + ' Value($)', ylabel='count')\n",
    "    ax.set_xlim(right = df_features[i].max())\n",
    "    plt.show()"
   ]
  },
  {
   "cell_type": "code",
   "execution_count": 55,
   "metadata": {
    "ExecuteTime": {
     "end_time": "2021-10-21T20:48:38.433844Z",
     "start_time": "2021-10-21T20:48:38.430083Z"
    }
   },
   "outputs": [],
   "source": [
    "# for 'MarkDown' columns, fill NaN values with zeroes\n",
    "\n",
    "df_features['MarkDown1'] = df_features.MarkDown1.fillna(0)\n",
    "df_features['MarkDown2'] = df_features.MarkDown2.fillna(0)\n",
    "df_features['MarkDown3'] = df_features.MarkDown3.fillna(0)\n",
    "df_features['MarkDown4'] = df_features.MarkDown4.fillna(0)\n",
    "df_features['MarkDown5'] = df_features.MarkDown5.fillna(0)"
   ]
  },
  {
   "cell_type": "markdown",
   "metadata": {},
   "source": [
    "## 'CPI' missing values\n",
    "\n",
    "Missing 'CPI' values are for May, June, July 2013.  The missing values were imputed using forward fill."
   ]
  },
  {
   "cell_type": "code",
   "execution_count": 56,
   "metadata": {
    "ExecuteTime": {
     "end_time": "2021-10-21T20:48:38.449288Z",
     "start_time": "2021-10-21T20:48:38.434764Z"
    }
   },
   "outputs": [
    {
     "data": {
      "text/html": [
       "<div>\n",
       "<style scoped>\n",
       "    .dataframe tbody tr th:only-of-type {\n",
       "        vertical-align: middle;\n",
       "    }\n",
       "\n",
       "    .dataframe tbody tr th {\n",
       "        vertical-align: top;\n",
       "    }\n",
       "\n",
       "    .dataframe thead th {\n",
       "        text-align: right;\n",
       "    }\n",
       "</style>\n",
       "<table border=\"1\" class=\"dataframe\">\n",
       "  <thead>\n",
       "    <tr style=\"text-align: right;\">\n",
       "      <th></th>\n",
       "      <th>Date</th>\n",
       "      <th>Store</th>\n",
       "      <th>Temperature</th>\n",
       "      <th>Fuel_Price</th>\n",
       "      <th>MarkDown1</th>\n",
       "      <th>MarkDown2</th>\n",
       "      <th>MarkDown3</th>\n",
       "      <th>MarkDown4</th>\n",
       "      <th>MarkDown5</th>\n",
       "      <th>CPI</th>\n",
       "      <th>Unemployment</th>\n",
       "      <th>IsHoliday</th>\n",
       "      <th>isocalendar</th>\n",
       "      <th>Week</th>\n",
       "    </tr>\n",
       "  </thead>\n",
       "  <tbody>\n",
       "    <tr>\n",
       "      <th>169</th>\n",
       "      <td>2013-05-03</td>\n",
       "      <td>1</td>\n",
       "      <td>66.66</td>\n",
       "      <td>3.386</td>\n",
       "      <td>2298.63</td>\n",
       "      <td>2.00</td>\n",
       "      <td>129.90</td>\n",
       "      <td>55.46</td>\n",
       "      <td>1301.04</td>\n",
       "      <td>NaN</td>\n",
       "      <td>NaN</td>\n",
       "      <td>False</td>\n",
       "      <td>(2013, 18)</td>\n",
       "      <td>18</td>\n",
       "    </tr>\n",
       "    <tr>\n",
       "      <th>170</th>\n",
       "      <td>2013-05-10</td>\n",
       "      <td>1</td>\n",
       "      <td>63.90</td>\n",
       "      <td>3.392</td>\n",
       "      <td>4624.61</td>\n",
       "      <td>83.88</td>\n",
       "      <td>42.38</td>\n",
       "      <td>1618.31</td>\n",
       "      <td>8144.90</td>\n",
       "      <td>NaN</td>\n",
       "      <td>NaN</td>\n",
       "      <td>False</td>\n",
       "      <td>(2013, 19)</td>\n",
       "      <td>19</td>\n",
       "    </tr>\n",
       "    <tr>\n",
       "      <th>171</th>\n",
       "      <td>2013-05-17</td>\n",
       "      <td>1</td>\n",
       "      <td>69.53</td>\n",
       "      <td>3.454</td>\n",
       "      <td>16170.50</td>\n",
       "      <td>92.00</td>\n",
       "      <td>8.32</td>\n",
       "      <td>4127.24</td>\n",
       "      <td>6206.97</td>\n",
       "      <td>NaN</td>\n",
       "      <td>NaN</td>\n",
       "      <td>False</td>\n",
       "      <td>(2013, 20)</td>\n",
       "      <td>20</td>\n",
       "    </tr>\n",
       "    <tr>\n",
       "      <th>172</th>\n",
       "      <td>2013-05-24</td>\n",
       "      <td>1</td>\n",
       "      <td>77.19</td>\n",
       "      <td>3.494</td>\n",
       "      <td>7959.89</td>\n",
       "      <td>178.00</td>\n",
       "      <td>1621.47</td>\n",
       "      <td>3152.57</td>\n",
       "      <td>2938.70</td>\n",
       "      <td>NaN</td>\n",
       "      <td>NaN</td>\n",
       "      <td>False</td>\n",
       "      <td>(2013, 21)</td>\n",
       "      <td>21</td>\n",
       "    </tr>\n",
       "    <tr>\n",
       "      <th>173</th>\n",
       "      <td>2013-05-31</td>\n",
       "      <td>1</td>\n",
       "      <td>78.02</td>\n",
       "      <td>3.466</td>\n",
       "      <td>2369.77</td>\n",
       "      <td>142.45</td>\n",
       "      <td>475.35</td>\n",
       "      <td>45.55</td>\n",
       "      <td>2056.84</td>\n",
       "      <td>NaN</td>\n",
       "      <td>NaN</td>\n",
       "      <td>False</td>\n",
       "      <td>(2013, 22)</td>\n",
       "      <td>22</td>\n",
       "    </tr>\n",
       "    <tr>\n",
       "      <th>...</th>\n",
       "      <td>...</td>\n",
       "      <td>...</td>\n",
       "      <td>...</td>\n",
       "      <td>...</td>\n",
       "      <td>...</td>\n",
       "      <td>...</td>\n",
       "      <td>...</td>\n",
       "      <td>...</td>\n",
       "      <td>...</td>\n",
       "      <td>...</td>\n",
       "      <td>...</td>\n",
       "      <td>...</td>\n",
       "      <td>...</td>\n",
       "      <td>...</td>\n",
       "    </tr>\n",
       "    <tr>\n",
       "      <th>8185</th>\n",
       "      <td>2013-06-28</td>\n",
       "      <td>45</td>\n",
       "      <td>76.05</td>\n",
       "      <td>3.639</td>\n",
       "      <td>4842.29</td>\n",
       "      <td>975.03</td>\n",
       "      <td>3.00</td>\n",
       "      <td>2449.97</td>\n",
       "      <td>3169.69</td>\n",
       "      <td>NaN</td>\n",
       "      <td>NaN</td>\n",
       "      <td>False</td>\n",
       "      <td>(2013, 26)</td>\n",
       "      <td>26</td>\n",
       "    </tr>\n",
       "    <tr>\n",
       "      <th>8186</th>\n",
       "      <td>2013-07-05</td>\n",
       "      <td>45</td>\n",
       "      <td>77.50</td>\n",
       "      <td>3.614</td>\n",
       "      <td>9090.48</td>\n",
       "      <td>2268.58</td>\n",
       "      <td>582.74</td>\n",
       "      <td>5797.47</td>\n",
       "      <td>1514.93</td>\n",
       "      <td>NaN</td>\n",
       "      <td>NaN</td>\n",
       "      <td>False</td>\n",
       "      <td>(2013, 27)</td>\n",
       "      <td>27</td>\n",
       "    </tr>\n",
       "    <tr>\n",
       "      <th>8187</th>\n",
       "      <td>2013-07-12</td>\n",
       "      <td>45</td>\n",
       "      <td>79.37</td>\n",
       "      <td>3.614</td>\n",
       "      <td>3789.94</td>\n",
       "      <td>1827.31</td>\n",
       "      <td>85.72</td>\n",
       "      <td>744.84</td>\n",
       "      <td>2150.36</td>\n",
       "      <td>NaN</td>\n",
       "      <td>NaN</td>\n",
       "      <td>False</td>\n",
       "      <td>(2013, 28)</td>\n",
       "      <td>28</td>\n",
       "    </tr>\n",
       "    <tr>\n",
       "      <th>8188</th>\n",
       "      <td>2013-07-19</td>\n",
       "      <td>45</td>\n",
       "      <td>82.84</td>\n",
       "      <td>3.737</td>\n",
       "      <td>2961.49</td>\n",
       "      <td>1047.07</td>\n",
       "      <td>204.19</td>\n",
       "      <td>363.00</td>\n",
       "      <td>1059.46</td>\n",
       "      <td>NaN</td>\n",
       "      <td>NaN</td>\n",
       "      <td>False</td>\n",
       "      <td>(2013, 29)</td>\n",
       "      <td>29</td>\n",
       "    </tr>\n",
       "    <tr>\n",
       "      <th>8189</th>\n",
       "      <td>2013-07-26</td>\n",
       "      <td>45</td>\n",
       "      <td>76.06</td>\n",
       "      <td>3.804</td>\n",
       "      <td>212.02</td>\n",
       "      <td>851.73</td>\n",
       "      <td>2.06</td>\n",
       "      <td>10.88</td>\n",
       "      <td>1864.57</td>\n",
       "      <td>NaN</td>\n",
       "      <td>NaN</td>\n",
       "      <td>False</td>\n",
       "      <td>(2013, 30)</td>\n",
       "      <td>30</td>\n",
       "    </tr>\n",
       "  </tbody>\n",
       "</table>\n",
       "<p>585 rows × 14 columns</p>\n",
       "</div>"
      ],
      "text/plain": [
       "           Date  Store  Temperature  Fuel_Price  MarkDown1  MarkDown2  \\\n",
       "169  2013-05-03      1        66.66       3.386    2298.63       2.00   \n",
       "170  2013-05-10      1        63.90       3.392    4624.61      83.88   \n",
       "171  2013-05-17      1        69.53       3.454   16170.50      92.00   \n",
       "172  2013-05-24      1        77.19       3.494    7959.89     178.00   \n",
       "173  2013-05-31      1        78.02       3.466    2369.77     142.45   \n",
       "...         ...    ...          ...         ...        ...        ...   \n",
       "8185 2013-06-28     45        76.05       3.639    4842.29     975.03   \n",
       "8186 2013-07-05     45        77.50       3.614    9090.48    2268.58   \n",
       "8187 2013-07-12     45        79.37       3.614    3789.94    1827.31   \n",
       "8188 2013-07-19     45        82.84       3.737    2961.49    1047.07   \n",
       "8189 2013-07-26     45        76.06       3.804     212.02     851.73   \n",
       "\n",
       "      MarkDown3  MarkDown4  MarkDown5  CPI  Unemployment  IsHoliday  \\\n",
       "169      129.90      55.46    1301.04  NaN           NaN      False   \n",
       "170       42.38    1618.31    8144.90  NaN           NaN      False   \n",
       "171        8.32    4127.24    6206.97  NaN           NaN      False   \n",
       "172     1621.47    3152.57    2938.70  NaN           NaN      False   \n",
       "173      475.35      45.55    2056.84  NaN           NaN      False   \n",
       "...         ...        ...        ...  ...           ...        ...   \n",
       "8185       3.00    2449.97    3169.69  NaN           NaN      False   \n",
       "8186     582.74    5797.47    1514.93  NaN           NaN      False   \n",
       "8187      85.72     744.84    2150.36  NaN           NaN      False   \n",
       "8188     204.19     363.00    1059.46  NaN           NaN      False   \n",
       "8189       2.06      10.88    1864.57  NaN           NaN      False   \n",
       "\n",
       "     isocalendar  Week  \n",
       "169   (2013, 18)    18  \n",
       "170   (2013, 19)    19  \n",
       "171   (2013, 20)    20  \n",
       "172   (2013, 21)    21  \n",
       "173   (2013, 22)    22  \n",
       "...          ...   ...  \n",
       "8185  (2013, 26)    26  \n",
       "8186  (2013, 27)    27  \n",
       "8187  (2013, 28)    28  \n",
       "8188  (2013, 29)    29  \n",
       "8189  (2013, 30)    30  \n",
       "\n",
       "[585 rows x 14 columns]"
      ]
     },
     "execution_count": 56,
     "metadata": {},
     "output_type": "execute_result"
    }
   ],
   "source": [
    "# missing CPI values are for May, June, July 2013\n",
    "df_features[df_features['CPI'].isna()]"
   ]
  },
  {
   "cell_type": "code",
   "execution_count": 57,
   "metadata": {
    "ExecuteTime": {
     "end_time": "2021-10-21T20:48:38.453871Z",
     "start_time": "2021-10-21T20:48:38.450313Z"
    }
   },
   "outputs": [],
   "source": [
    "# forward fill missing CPI values\n",
    "df_features['CPI']=df_features['CPI'].fillna(method='ffill')"
   ]
  },
  {
   "cell_type": "code",
   "execution_count": 58,
   "metadata": {
    "ExecuteTime": {
     "end_time": "2021-10-21T20:48:40.822807Z",
     "start_time": "2021-10-21T20:48:38.455244Z"
    }
   },
   "outputs": [
    {
     "data": {
      "image/png": "[encoded data removed]",
      "text/plain": [
       "<Figure size 720x720 with 1 Axes>"
      ]
     },
     "metadata": {
      "needs_background": "light"
     },
     "output_type": "display_data"
    }
   ],
   "source": [
    "#lineplot of CPI\n",
    "fig, ax =plt.subplots(figsize=(10,10))\n",
    "sns.lineplot(data=df_features, x='Date', y='CPI')\n",
    "plt.show()"
   ]
  },
  {
   "cell_type": "code",
   "execution_count": 59,
   "metadata": {
    "ExecuteTime": {
     "end_time": "2021-10-21T20:48:40.833419Z",
     "start_time": "2021-10-21T20:48:40.824044Z"
    },
    "scrolled": false
   },
   "outputs": [
    {
     "data": {
      "text/html": [
       "<div>\n",
       "<style scoped>\n",
       "    .dataframe tbody tr th:only-of-type {\n",
       "        vertical-align: middle;\n",
       "    }\n",
       "\n",
       "    .dataframe tbody tr th {\n",
       "        vertical-align: top;\n",
       "    }\n",
       "\n",
       "    .dataframe thead th {\n",
       "        text-align: right;\n",
       "    }\n",
       "</style>\n",
       "<table border=\"1\" class=\"dataframe\">\n",
       "  <thead>\n",
       "    <tr style=\"text-align: right;\">\n",
       "      <th></th>\n",
       "      <th>Date</th>\n",
       "      <th>Store</th>\n",
       "      <th>Temperature</th>\n",
       "      <th>Fuel_Price</th>\n",
       "      <th>MarkDown1</th>\n",
       "      <th>MarkDown2</th>\n",
       "      <th>MarkDown3</th>\n",
       "      <th>MarkDown4</th>\n",
       "      <th>MarkDown5</th>\n",
       "      <th>CPI</th>\n",
       "      <th>Unemployment</th>\n",
       "      <th>IsHoliday</th>\n",
       "      <th>isocalendar</th>\n",
       "      <th>Week</th>\n",
       "    </tr>\n",
       "  </thead>\n",
       "  <tbody>\n",
       "    <tr>\n",
       "      <th>8185</th>\n",
       "      <td>2013-06-28</td>\n",
       "      <td>45</td>\n",
       "      <td>76.05</td>\n",
       "      <td>3.639</td>\n",
       "      <td>4842.29</td>\n",
       "      <td>975.03</td>\n",
       "      <td>3.00</td>\n",
       "      <td>2449.97</td>\n",
       "      <td>3169.69</td>\n",
       "      <td>193.589304</td>\n",
       "      <td>NaN</td>\n",
       "      <td>False</td>\n",
       "      <td>(2013, 26)</td>\n",
       "      <td>26</td>\n",
       "    </tr>\n",
       "    <tr>\n",
       "      <th>8186</th>\n",
       "      <td>2013-07-05</td>\n",
       "      <td>45</td>\n",
       "      <td>77.50</td>\n",
       "      <td>3.614</td>\n",
       "      <td>9090.48</td>\n",
       "      <td>2268.58</td>\n",
       "      <td>582.74</td>\n",
       "      <td>5797.47</td>\n",
       "      <td>1514.93</td>\n",
       "      <td>193.589304</td>\n",
       "      <td>NaN</td>\n",
       "      <td>False</td>\n",
       "      <td>(2013, 27)</td>\n",
       "      <td>27</td>\n",
       "    </tr>\n",
       "    <tr>\n",
       "      <th>8187</th>\n",
       "      <td>2013-07-12</td>\n",
       "      <td>45</td>\n",
       "      <td>79.37</td>\n",
       "      <td>3.614</td>\n",
       "      <td>3789.94</td>\n",
       "      <td>1827.31</td>\n",
       "      <td>85.72</td>\n",
       "      <td>744.84</td>\n",
       "      <td>2150.36</td>\n",
       "      <td>193.589304</td>\n",
       "      <td>NaN</td>\n",
       "      <td>False</td>\n",
       "      <td>(2013, 28)</td>\n",
       "      <td>28</td>\n",
       "    </tr>\n",
       "    <tr>\n",
       "      <th>8188</th>\n",
       "      <td>2013-07-19</td>\n",
       "      <td>45</td>\n",
       "      <td>82.84</td>\n",
       "      <td>3.737</td>\n",
       "      <td>2961.49</td>\n",
       "      <td>1047.07</td>\n",
       "      <td>204.19</td>\n",
       "      <td>363.00</td>\n",
       "      <td>1059.46</td>\n",
       "      <td>193.589304</td>\n",
       "      <td>NaN</td>\n",
       "      <td>False</td>\n",
       "      <td>(2013, 29)</td>\n",
       "      <td>29</td>\n",
       "    </tr>\n",
       "    <tr>\n",
       "      <th>8189</th>\n",
       "      <td>2013-07-26</td>\n",
       "      <td>45</td>\n",
       "      <td>76.06</td>\n",
       "      <td>3.804</td>\n",
       "      <td>212.02</td>\n",
       "      <td>851.73</td>\n",
       "      <td>2.06</td>\n",
       "      <td>10.88</td>\n",
       "      <td>1864.57</td>\n",
       "      <td>193.589304</td>\n",
       "      <td>NaN</td>\n",
       "      <td>False</td>\n",
       "      <td>(2013, 30)</td>\n",
       "      <td>30</td>\n",
       "    </tr>\n",
       "  </tbody>\n",
       "</table>\n",
       "</div>"
      ],
      "text/plain": [
       "           Date  Store  Temperature  Fuel_Price  MarkDown1  MarkDown2  \\\n",
       "8185 2013-06-28     45        76.05       3.639    4842.29     975.03   \n",
       "8186 2013-07-05     45        77.50       3.614    9090.48    2268.58   \n",
       "8187 2013-07-12     45        79.37       3.614    3789.94    1827.31   \n",
       "8188 2013-07-19     45        82.84       3.737    2961.49    1047.07   \n",
       "8189 2013-07-26     45        76.06       3.804     212.02     851.73   \n",
       "\n",
       "      MarkDown3  MarkDown4  MarkDown5         CPI  Unemployment  IsHoliday  \\\n",
       "8185       3.00    2449.97    3169.69  193.589304           NaN      False   \n",
       "8186     582.74    5797.47    1514.93  193.589304           NaN      False   \n",
       "8187      85.72     744.84    2150.36  193.589304           NaN      False   \n",
       "8188     204.19     363.00    1059.46  193.589304           NaN      False   \n",
       "8189       2.06      10.88    1864.57  193.589304           NaN      False   \n",
       "\n",
       "     isocalendar  Week  \n",
       "8185  (2013, 26)    26  \n",
       "8186  (2013, 27)    27  \n",
       "8187  (2013, 28)    28  \n",
       "8188  (2013, 29)    29  \n",
       "8189  (2013, 30)    30  "
      ]
     },
     "execution_count": 59,
     "metadata": {},
     "output_type": "execute_result"
    }
   ],
   "source": [
    "df_features.tail()"
   ]
  },
  {
   "cell_type": "markdown",
   "metadata": {},
   "source": [
    "## Unemployment Missing Values\n",
    "\n",
    "Missing 'Unemployment' values are for May, June, and July 2013.  The missing values were replaced using forward\n",
    "fill imputation."
   ]
  },
  {
   "cell_type": "code",
   "execution_count": 60,
   "metadata": {
    "ExecuteTime": {
     "end_time": "2021-10-21T20:48:40.839796Z",
     "start_time": "2021-10-21T20:48:40.834456Z"
    }
   },
   "outputs": [
    {
     "data": {
      "text/html": [
       "<div>\n",
       "<style scoped>\n",
       "    .dataframe tbody tr th:only-of-type {\n",
       "        vertical-align: middle;\n",
       "    }\n",
       "\n",
       "    .dataframe tbody tr th {\n",
       "        vertical-align: top;\n",
       "    }\n",
       "\n",
       "    .dataframe thead th {\n",
       "        text-align: right;\n",
       "    }\n",
       "</style>\n",
       "<table border=\"1\" class=\"dataframe\">\n",
       "  <thead>\n",
       "    <tr style=\"text-align: right;\">\n",
       "      <th></th>\n",
       "      <th>Date</th>\n",
       "      <th>Store</th>\n",
       "      <th>Temperature</th>\n",
       "      <th>Fuel_Price</th>\n",
       "      <th>MarkDown1</th>\n",
       "      <th>MarkDown2</th>\n",
       "      <th>MarkDown3</th>\n",
       "      <th>MarkDown4</th>\n",
       "      <th>MarkDown5</th>\n",
       "      <th>CPI</th>\n",
       "      <th>Unemployment</th>\n",
       "      <th>IsHoliday</th>\n",
       "      <th>isocalendar</th>\n",
       "      <th>Week</th>\n",
       "    </tr>\n",
       "  </thead>\n",
       "  <tbody>\n",
       "  </tbody>\n",
       "</table>\n",
       "</div>"
      ],
      "text/plain": [
       "Empty DataFrame\n",
       "Columns: [Date, Store, Temperature, Fuel_Price, MarkDown1, MarkDown2, MarkDown3, MarkDown4, MarkDown5, CPI, Unemployment, IsHoliday, isocalendar, Week]\n",
       "Index: []"
      ]
     },
     "execution_count": 60,
     "metadata": {},
     "output_type": "execute_result"
    }
   ],
   "source": [
    "# missing unemployment values are for May, June, July 2013\n",
    "df_features[df_features['CPI'].isna()]"
   ]
  },
  {
   "cell_type": "code",
   "execution_count": 61,
   "metadata": {
    "ExecuteTime": {
     "end_time": "2021-10-21T20:48:40.843277Z",
     "start_time": "2021-10-21T20:48:40.840883Z"
    }
   },
   "outputs": [],
   "source": [
    "df_features.Unemployment = df_features['Unemployment'].fillna(method='ffill')"
   ]
  },
  {
   "cell_type": "code",
   "execution_count": 62,
   "metadata": {
    "ExecuteTime": {
     "end_time": "2021-10-21T20:48:43.196241Z",
     "start_time": "2021-10-21T20:48:40.844224Z"
    }
   },
   "outputs": [
    {
     "data": {
      "image/png": "[encoded data removed]",
      "text/plain": [
       "<Figure size 720x720 with 1 Axes>"
      ]
     },
     "metadata": {
      "needs_background": "light"
     },
     "output_type": "display_data"
    }
   ],
   "source": [
    "# Unemployment Rate Plot\n",
    "\n",
    "fig, ax = plt.subplots(figsize = (10,10))\n",
    "sns.lineplot(data = df_features, x='Date', y = 'Unemployment' )\n",
    "plt.show()"
   ]
  },
  {
   "cell_type": "markdown",
   "metadata": {},
   "source": [
    "# DataFrame Merge \n",
    "\n",
    "Train Data:\n",
    "1.  Merge df_features with df_train.\n",
    "2.  Using result from Step 1, Merge with df_cci.  Drop 'Time' column.  Forward fill 'cci_value'.\n",
    "3.  Verify resulting dataframe entries count matches with df_train entries count.\n",
    "4.  final training data dataframe -> df_merged_train.csv\n",
    "\n",
    "Test Data:\n",
    "1.  Merge df_features with df_test.\n",
    "2.  Using result from Step 1, Merge with df_cci.  Drop 'Time' column.  Forward fill 'cci_value'\n",
    "3.  Verify resulting dataframe entries count matches with df_test entries count.\n",
    "4.  final test data dataframe -> df_test_merge.csv\n",
    "\n",
    "## Training Data"
   ]
  },
  {
   "cell_type": "code",
   "execution_count": 63,
   "metadata": {
    "ExecuteTime": {
     "end_time": "2021-10-21T20:48:43.207325Z",
     "start_time": "2021-10-21T20:48:43.197493Z"
    }
   },
   "outputs": [
    {
     "name": "stdout",
     "output_type": "stream",
     "text": [
      "df_features shape: (8190, 14)\n"
     ]
    },
    {
     "data": {
      "text/html": [
       "<div>\n",
       "<style scoped>\n",
       "    .dataframe tbody tr th:only-of-type {\n",
       "        vertical-align: middle;\n",
       "    }\n",
       "\n",
       "    .dataframe tbody tr th {\n",
       "        vertical-align: top;\n",
       "    }\n",
       "\n",
       "    .dataframe thead th {\n",
       "        text-align: right;\n",
       "    }\n",
       "</style>\n",
       "<table border=\"1\" class=\"dataframe\">\n",
       "  <thead>\n",
       "    <tr style=\"text-align: right;\">\n",
       "      <th></th>\n",
       "      <th>Date</th>\n",
       "      <th>Store</th>\n",
       "      <th>Temperature</th>\n",
       "      <th>Fuel_Price</th>\n",
       "      <th>MarkDown1</th>\n",
       "      <th>MarkDown2</th>\n",
       "      <th>MarkDown3</th>\n",
       "      <th>MarkDown4</th>\n",
       "      <th>MarkDown5</th>\n",
       "      <th>CPI</th>\n",
       "      <th>Unemployment</th>\n",
       "      <th>IsHoliday</th>\n",
       "      <th>isocalendar</th>\n",
       "      <th>Week</th>\n",
       "    </tr>\n",
       "  </thead>\n",
       "  <tbody>\n",
       "    <tr>\n",
       "      <th>0</th>\n",
       "      <td>2010-02-05</td>\n",
       "      <td>1</td>\n",
       "      <td>42.31</td>\n",
       "      <td>2.572</td>\n",
       "      <td>0.0</td>\n",
       "      <td>0.0</td>\n",
       "      <td>0.0</td>\n",
       "      <td>0.0</td>\n",
       "      <td>0.0</td>\n",
       "      <td>211.096358</td>\n",
       "      <td>8.106</td>\n",
       "      <td>False</td>\n",
       "      <td>(2010, 5)</td>\n",
       "      <td>5</td>\n",
       "    </tr>\n",
       "    <tr>\n",
       "      <th>1</th>\n",
       "      <td>2010-02-12</td>\n",
       "      <td>1</td>\n",
       "      <td>38.51</td>\n",
       "      <td>2.548</td>\n",
       "      <td>0.0</td>\n",
       "      <td>0.0</td>\n",
       "      <td>0.0</td>\n",
       "      <td>0.0</td>\n",
       "      <td>0.0</td>\n",
       "      <td>211.242170</td>\n",
       "      <td>8.106</td>\n",
       "      <td>True</td>\n",
       "      <td>(2010, 6)</td>\n",
       "      <td>6</td>\n",
       "    </tr>\n",
       "    <tr>\n",
       "      <th>2</th>\n",
       "      <td>2010-02-19</td>\n",
       "      <td>1</td>\n",
       "      <td>39.93</td>\n",
       "      <td>2.514</td>\n",
       "      <td>0.0</td>\n",
       "      <td>0.0</td>\n",
       "      <td>0.0</td>\n",
       "      <td>0.0</td>\n",
       "      <td>0.0</td>\n",
       "      <td>211.289143</td>\n",
       "      <td>8.106</td>\n",
       "      <td>False</td>\n",
       "      <td>(2010, 7)</td>\n",
       "      <td>7</td>\n",
       "    </tr>\n",
       "    <tr>\n",
       "      <th>3</th>\n",
       "      <td>2010-02-26</td>\n",
       "      <td>1</td>\n",
       "      <td>46.63</td>\n",
       "      <td>2.561</td>\n",
       "      <td>0.0</td>\n",
       "      <td>0.0</td>\n",
       "      <td>0.0</td>\n",
       "      <td>0.0</td>\n",
       "      <td>0.0</td>\n",
       "      <td>211.319643</td>\n",
       "      <td>8.106</td>\n",
       "      <td>False</td>\n",
       "      <td>(2010, 8)</td>\n",
       "      <td>8</td>\n",
       "    </tr>\n",
       "    <tr>\n",
       "      <th>4</th>\n",
       "      <td>2010-03-05</td>\n",
       "      <td>1</td>\n",
       "      <td>46.50</td>\n",
       "      <td>2.625</td>\n",
       "      <td>0.0</td>\n",
       "      <td>0.0</td>\n",
       "      <td>0.0</td>\n",
       "      <td>0.0</td>\n",
       "      <td>0.0</td>\n",
       "      <td>211.350143</td>\n",
       "      <td>8.106</td>\n",
       "      <td>False</td>\n",
       "      <td>(2010, 9)</td>\n",
       "      <td>9</td>\n",
       "    </tr>\n",
       "  </tbody>\n",
       "</table>\n",
       "</div>"
      ],
      "text/plain": [
       "        Date  Store  Temperature  Fuel_Price  MarkDown1  MarkDown2  MarkDown3  \\\n",
       "0 2010-02-05      1        42.31       2.572        0.0        0.0        0.0   \n",
       "1 2010-02-12      1        38.51       2.548        0.0        0.0        0.0   \n",
       "2 2010-02-19      1        39.93       2.514        0.0        0.0        0.0   \n",
       "3 2010-02-26      1        46.63       2.561        0.0        0.0        0.0   \n",
       "4 2010-03-05      1        46.50       2.625        0.0        0.0        0.0   \n",
       "\n",
       "   MarkDown4  MarkDown5         CPI  Unemployment  IsHoliday isocalendar  Week  \n",
       "0        0.0        0.0  211.096358         8.106      False   (2010, 5)     5  \n",
       "1        0.0        0.0  211.242170         8.106       True   (2010, 6)     6  \n",
       "2        0.0        0.0  211.289143         8.106      False   (2010, 7)     7  \n",
       "3        0.0        0.0  211.319643         8.106      False   (2010, 8)     8  \n",
       "4        0.0        0.0  211.350143         8.106      False   (2010, 9)     9  "
      ]
     },
     "execution_count": 63,
     "metadata": {},
     "output_type": "execute_result"
    }
   ],
   "source": [
    "# adding in Store Type and Size columns to df_features\n",
    "\n",
    "print(\"df_features shape: {}\".format(df_features.shape))\n",
    "df_features.head()"
   ]
  },
  {
   "cell_type": "code",
   "execution_count": 64,
   "metadata": {
    "ExecuteTime": {
     "end_time": "2021-10-21T20:48:43.223447Z",
     "start_time": "2021-10-21T20:48:43.208509Z"
    }
   },
   "outputs": [
    {
     "name": "stdout",
     "output_type": "stream",
     "text": [
      "df_features shape after adding Type and Size: (8190, 16)\n"
     ]
    },
    {
     "data": {
      "text/html": [
       "<div>\n",
       "<style scoped>\n",
       "    .dataframe tbody tr th:only-of-type {\n",
       "        vertical-align: middle;\n",
       "    }\n",
       "\n",
       "    .dataframe tbody tr th {\n",
       "        vertical-align: top;\n",
       "    }\n",
       "\n",
       "    .dataframe thead th {\n",
       "        text-align: right;\n",
       "    }\n",
       "</style>\n",
       "<table border=\"1\" class=\"dataframe\">\n",
       "  <thead>\n",
       "    <tr style=\"text-align: right;\">\n",
       "      <th></th>\n",
       "      <th>Date</th>\n",
       "      <th>Store</th>\n",
       "      <th>Temperature</th>\n",
       "      <th>Fuel_Price</th>\n",
       "      <th>MarkDown1</th>\n",
       "      <th>MarkDown2</th>\n",
       "      <th>MarkDown3</th>\n",
       "      <th>MarkDown4</th>\n",
       "      <th>MarkDown5</th>\n",
       "      <th>CPI</th>\n",
       "      <th>Unemployment</th>\n",
       "      <th>IsHoliday</th>\n",
       "      <th>isocalendar</th>\n",
       "      <th>Week</th>\n",
       "      <th>Type</th>\n",
       "      <th>Size</th>\n",
       "    </tr>\n",
       "  </thead>\n",
       "  <tbody>\n",
       "    <tr>\n",
       "      <th>0</th>\n",
       "      <td>2010-02-05</td>\n",
       "      <td>1</td>\n",
       "      <td>42.31</td>\n",
       "      <td>2.572</td>\n",
       "      <td>0.0</td>\n",
       "      <td>0.0</td>\n",
       "      <td>0.0</td>\n",
       "      <td>0.0</td>\n",
       "      <td>0.0</td>\n",
       "      <td>211.096358</td>\n",
       "      <td>8.106</td>\n",
       "      <td>False</td>\n",
       "      <td>(2010, 5)</td>\n",
       "      <td>5</td>\n",
       "      <td>A</td>\n",
       "      <td>151315</td>\n",
       "    </tr>\n",
       "    <tr>\n",
       "      <th>1</th>\n",
       "      <td>2010-02-12</td>\n",
       "      <td>1</td>\n",
       "      <td>38.51</td>\n",
       "      <td>2.548</td>\n",
       "      <td>0.0</td>\n",
       "      <td>0.0</td>\n",
       "      <td>0.0</td>\n",
       "      <td>0.0</td>\n",
       "      <td>0.0</td>\n",
       "      <td>211.242170</td>\n",
       "      <td>8.106</td>\n",
       "      <td>True</td>\n",
       "      <td>(2010, 6)</td>\n",
       "      <td>6</td>\n",
       "      <td>A</td>\n",
       "      <td>151315</td>\n",
       "    </tr>\n",
       "    <tr>\n",
       "      <th>2</th>\n",
       "      <td>2010-02-19</td>\n",
       "      <td>1</td>\n",
       "      <td>39.93</td>\n",
       "      <td>2.514</td>\n",
       "      <td>0.0</td>\n",
       "      <td>0.0</td>\n",
       "      <td>0.0</td>\n",
       "      <td>0.0</td>\n",
       "      <td>0.0</td>\n",
       "      <td>211.289143</td>\n",
       "      <td>8.106</td>\n",
       "      <td>False</td>\n",
       "      <td>(2010, 7)</td>\n",
       "      <td>7</td>\n",
       "      <td>A</td>\n",
       "      <td>151315</td>\n",
       "    </tr>\n",
       "    <tr>\n",
       "      <th>3</th>\n",
       "      <td>2010-02-26</td>\n",
       "      <td>1</td>\n",
       "      <td>46.63</td>\n",
       "      <td>2.561</td>\n",
       "      <td>0.0</td>\n",
       "      <td>0.0</td>\n",
       "      <td>0.0</td>\n",
       "      <td>0.0</td>\n",
       "      <td>0.0</td>\n",
       "      <td>211.319643</td>\n",
       "      <td>8.106</td>\n",
       "      <td>False</td>\n",
       "      <td>(2010, 8)</td>\n",
       "      <td>8</td>\n",
       "      <td>A</td>\n",
       "      <td>151315</td>\n",
       "    </tr>\n",
       "    <tr>\n",
       "      <th>4</th>\n",
       "      <td>2010-03-05</td>\n",
       "      <td>1</td>\n",
       "      <td>46.50</td>\n",
       "      <td>2.625</td>\n",
       "      <td>0.0</td>\n",
       "      <td>0.0</td>\n",
       "      <td>0.0</td>\n",
       "      <td>0.0</td>\n",
       "      <td>0.0</td>\n",
       "      <td>211.350143</td>\n",
       "      <td>8.106</td>\n",
       "      <td>False</td>\n",
       "      <td>(2010, 9)</td>\n",
       "      <td>9</td>\n",
       "      <td>A</td>\n",
       "      <td>151315</td>\n",
       "    </tr>\n",
       "  </tbody>\n",
       "</table>\n",
       "</div>"
      ],
      "text/plain": [
       "        Date  Store  Temperature  Fuel_Price  MarkDown1  MarkDown2  MarkDown3  \\\n",
       "0 2010-02-05      1        42.31       2.572        0.0        0.0        0.0   \n",
       "1 2010-02-12      1        38.51       2.548        0.0        0.0        0.0   \n",
       "2 2010-02-19      1        39.93       2.514        0.0        0.0        0.0   \n",
       "3 2010-02-26      1        46.63       2.561        0.0        0.0        0.0   \n",
       "4 2010-03-05      1        46.50       2.625        0.0        0.0        0.0   \n",
       "\n",
       "   MarkDown4  MarkDown5         CPI  Unemployment  IsHoliday isocalendar  \\\n",
       "0        0.0        0.0  211.096358         8.106      False   (2010, 5)   \n",
       "1        0.0        0.0  211.242170         8.106       True   (2010, 6)   \n",
       "2        0.0        0.0  211.289143         8.106      False   (2010, 7)   \n",
       "3        0.0        0.0  211.319643         8.106      False   (2010, 8)   \n",
       "4        0.0        0.0  211.350143         8.106      False   (2010, 9)   \n",
       "\n",
       "   Week Type    Size  \n",
       "0     5    A  151315  \n",
       "1     6    A  151315  \n",
       "2     7    A  151315  \n",
       "3     8    A  151315  \n",
       "4     9    A  151315  "
      ]
     },
     "execution_count": 64,
     "metadata": {},
     "output_type": "execute_result"
    }
   ],
   "source": [
    "# add 'Type' and 'Size' columns to df_features\n",
    "\n",
    "df_features = df_features.merge(df_stores, how='left')\n",
    "print(\"df_features shape after adding Type and Size: {}\".format(df_features.shape))\n",
    "df_features.head()"
   ]
  },
  {
   "cell_type": "code",
   "execution_count": 65,
   "metadata": {
    "ExecuteTime": {
     "end_time": "2021-10-21T20:48:43.230827Z",
     "start_time": "2021-10-21T20:48:43.224762Z"
    },
    "scrolled": false
   },
   "outputs": [
    {
     "data": {
      "text/html": [
       "<div>\n",
       "<style scoped>\n",
       "    .dataframe tbody tr th:only-of-type {\n",
       "        vertical-align: middle;\n",
       "    }\n",
       "\n",
       "    .dataframe tbody tr th {\n",
       "        vertical-align: top;\n",
       "    }\n",
       "\n",
       "    .dataframe thead th {\n",
       "        text-align: right;\n",
       "    }\n",
       "</style>\n",
       "<table border=\"1\" class=\"dataframe\">\n",
       "  <thead>\n",
       "    <tr style=\"text-align: right;\">\n",
       "      <th></th>\n",
       "      <th>Date</th>\n",
       "      <th>Store</th>\n",
       "      <th>Dept</th>\n",
       "      <th>Weekly_Sales</th>\n",
       "      <th>IsHoliday</th>\n",
       "    </tr>\n",
       "  </thead>\n",
       "  <tbody>\n",
       "    <tr>\n",
       "      <th>0</th>\n",
       "      <td>2010-02-05</td>\n",
       "      <td>1</td>\n",
       "      <td>1</td>\n",
       "      <td>24924.50</td>\n",
       "      <td>0</td>\n",
       "    </tr>\n",
       "    <tr>\n",
       "      <th>1</th>\n",
       "      <td>2010-02-12</td>\n",
       "      <td>1</td>\n",
       "      <td>1</td>\n",
       "      <td>46039.49</td>\n",
       "      <td>1</td>\n",
       "    </tr>\n",
       "    <tr>\n",
       "      <th>2</th>\n",
       "      <td>2010-02-19</td>\n",
       "      <td>1</td>\n",
       "      <td>1</td>\n",
       "      <td>41595.55</td>\n",
       "      <td>0</td>\n",
       "    </tr>\n",
       "    <tr>\n",
       "      <th>3</th>\n",
       "      <td>2010-02-26</td>\n",
       "      <td>1</td>\n",
       "      <td>1</td>\n",
       "      <td>19403.54</td>\n",
       "      <td>0</td>\n",
       "    </tr>\n",
       "    <tr>\n",
       "      <th>4</th>\n",
       "      <td>2010-03-05</td>\n",
       "      <td>1</td>\n",
       "      <td>1</td>\n",
       "      <td>21827.90</td>\n",
       "      <td>0</td>\n",
       "    </tr>\n",
       "  </tbody>\n",
       "</table>\n",
       "</div>"
      ],
      "text/plain": [
       "        Date Store Dept  Weekly_Sales  IsHoliday\n",
       "0 2010-02-05     1    1      24924.50          0\n",
       "1 2010-02-12     1    1      46039.49          1\n",
       "2 2010-02-19     1    1      41595.55          0\n",
       "3 2010-02-26     1    1      19403.54          0\n",
       "4 2010-03-05     1    1      21827.90          0"
      ]
     },
     "execution_count": 65,
     "metadata": {},
     "output_type": "execute_result"
    }
   ],
   "source": [
    "df_train.head()"
   ]
  },
  {
   "cell_type": "code",
   "execution_count": 66,
   "metadata": {
    "ExecuteTime": {
     "end_time": "2021-10-21T20:48:43.233838Z",
     "start_time": "2021-10-21T20:48:43.231841Z"
    },
    "scrolled": true
   },
   "outputs": [
    {
     "name": "stdout",
     "output_type": "stream",
     "text": [
      "df_train shape: (421570, 5)\n",
      "\n",
      "df_features shape: (8190, 16)\n"
     ]
    }
   ],
   "source": [
    "# df_train entries count\n",
    "print(\"df_train shape: {}\".format(df_train.shape))\n",
    "print(\"\\ndf_features shape: {}\".format(df_features.shape))"
   ]
  },
  {
   "cell_type": "code",
   "execution_count": 67,
   "metadata": {
    "ExecuteTime": {
     "end_time": "2021-10-21T20:48:43.365135Z",
     "start_time": "2021-10-21T20:48:43.234960Z"
    }
   },
   "outputs": [
    {
     "name": "stdout",
     "output_type": "stream",
     "text": [
      "merged dataframe shape: (421570, 18)\n"
     ]
    },
    {
     "data": {
      "text/html": [
       "<div>\n",
       "<style scoped>\n",
       "    .dataframe tbody tr th:only-of-type {\n",
       "        vertical-align: middle;\n",
       "    }\n",
       "\n",
       "    .dataframe tbody tr th {\n",
       "        vertical-align: top;\n",
       "    }\n",
       "\n",
       "    .dataframe thead th {\n",
       "        text-align: right;\n",
       "    }\n",
       "</style>\n",
       "<table border=\"1\" class=\"dataframe\">\n",
       "  <thead>\n",
       "    <tr style=\"text-align: right;\">\n",
       "      <th></th>\n",
       "      <th>Date</th>\n",
       "      <th>Store</th>\n",
       "      <th>Dept</th>\n",
       "      <th>Weekly_Sales</th>\n",
       "      <th>IsHoliday</th>\n",
       "      <th>Temperature</th>\n",
       "      <th>Fuel_Price</th>\n",
       "      <th>MarkDown1</th>\n",
       "      <th>MarkDown2</th>\n",
       "      <th>MarkDown3</th>\n",
       "      <th>MarkDown4</th>\n",
       "      <th>MarkDown5</th>\n",
       "      <th>CPI</th>\n",
       "      <th>Unemployment</th>\n",
       "      <th>isocalendar</th>\n",
       "      <th>Week</th>\n",
       "      <th>Type</th>\n",
       "      <th>Size</th>\n",
       "    </tr>\n",
       "  </thead>\n",
       "  <tbody>\n",
       "    <tr>\n",
       "      <th>0</th>\n",
       "      <td>2010-02-05</td>\n",
       "      <td>1</td>\n",
       "      <td>1</td>\n",
       "      <td>24924.50</td>\n",
       "      <td>0</td>\n",
       "      <td>42.31</td>\n",
       "      <td>2.572</td>\n",
       "      <td>0.0</td>\n",
       "      <td>0.0</td>\n",
       "      <td>0.0</td>\n",
       "      <td>0.0</td>\n",
       "      <td>0.0</td>\n",
       "      <td>211.096358</td>\n",
       "      <td>8.106</td>\n",
       "      <td>(2010, 5)</td>\n",
       "      <td>5</td>\n",
       "      <td>A</td>\n",
       "      <td>151315</td>\n",
       "    </tr>\n",
       "    <tr>\n",
       "      <th>1</th>\n",
       "      <td>2010-02-05</td>\n",
       "      <td>1</td>\n",
       "      <td>2</td>\n",
       "      <td>50605.27</td>\n",
       "      <td>0</td>\n",
       "      <td>42.31</td>\n",
       "      <td>2.572</td>\n",
       "      <td>0.0</td>\n",
       "      <td>0.0</td>\n",
       "      <td>0.0</td>\n",
       "      <td>0.0</td>\n",
       "      <td>0.0</td>\n",
       "      <td>211.096358</td>\n",
       "      <td>8.106</td>\n",
       "      <td>(2010, 5)</td>\n",
       "      <td>5</td>\n",
       "      <td>A</td>\n",
       "      <td>151315</td>\n",
       "    </tr>\n",
       "    <tr>\n",
       "      <th>2</th>\n",
       "      <td>2010-02-05</td>\n",
       "      <td>1</td>\n",
       "      <td>3</td>\n",
       "      <td>13740.12</td>\n",
       "      <td>0</td>\n",
       "      <td>42.31</td>\n",
       "      <td>2.572</td>\n",
       "      <td>0.0</td>\n",
       "      <td>0.0</td>\n",
       "      <td>0.0</td>\n",
       "      <td>0.0</td>\n",
       "      <td>0.0</td>\n",
       "      <td>211.096358</td>\n",
       "      <td>8.106</td>\n",
       "      <td>(2010, 5)</td>\n",
       "      <td>5</td>\n",
       "      <td>A</td>\n",
       "      <td>151315</td>\n",
       "    </tr>\n",
       "    <tr>\n",
       "      <th>3</th>\n",
       "      <td>2010-02-05</td>\n",
       "      <td>1</td>\n",
       "      <td>4</td>\n",
       "      <td>39954.04</td>\n",
       "      <td>0</td>\n",
       "      <td>42.31</td>\n",
       "      <td>2.572</td>\n",
       "      <td>0.0</td>\n",
       "      <td>0.0</td>\n",
       "      <td>0.0</td>\n",
       "      <td>0.0</td>\n",
       "      <td>0.0</td>\n",
       "      <td>211.096358</td>\n",
       "      <td>8.106</td>\n",
       "      <td>(2010, 5)</td>\n",
       "      <td>5</td>\n",
       "      <td>A</td>\n",
       "      <td>151315</td>\n",
       "    </tr>\n",
       "    <tr>\n",
       "      <th>4</th>\n",
       "      <td>2010-02-05</td>\n",
       "      <td>1</td>\n",
       "      <td>5</td>\n",
       "      <td>32229.38</td>\n",
       "      <td>0</td>\n",
       "      <td>42.31</td>\n",
       "      <td>2.572</td>\n",
       "      <td>0.0</td>\n",
       "      <td>0.0</td>\n",
       "      <td>0.0</td>\n",
       "      <td>0.0</td>\n",
       "      <td>0.0</td>\n",
       "      <td>211.096358</td>\n",
       "      <td>8.106</td>\n",
       "      <td>(2010, 5)</td>\n",
       "      <td>5</td>\n",
       "      <td>A</td>\n",
       "      <td>151315</td>\n",
       "    </tr>\n",
       "  </tbody>\n",
       "</table>\n",
       "</div>"
      ],
      "text/plain": [
       "        Date  Store Dept  Weekly_Sales IsHoliday  Temperature  Fuel_Price  \\\n",
       "0 2010-02-05      1    1      24924.50         0        42.31       2.572   \n",
       "1 2010-02-05      1    2      50605.27         0        42.31       2.572   \n",
       "2 2010-02-05      1    3      13740.12         0        42.31       2.572   \n",
       "3 2010-02-05      1    4      39954.04         0        42.31       2.572   \n",
       "4 2010-02-05      1    5      32229.38         0        42.31       2.572   \n",
       "\n",
       "   MarkDown1  MarkDown2  MarkDown3  MarkDown4  MarkDown5         CPI  \\\n",
       "0        0.0        0.0        0.0        0.0        0.0  211.096358   \n",
       "1        0.0        0.0        0.0        0.0        0.0  211.096358   \n",
       "2        0.0        0.0        0.0        0.0        0.0  211.096358   \n",
       "3        0.0        0.0        0.0        0.0        0.0  211.096358   \n",
       "4        0.0        0.0        0.0        0.0        0.0  211.096358   \n",
       "\n",
       "   Unemployment isocalendar  Week Type    Size  \n",
       "0         8.106   (2010, 5)     5    A  151315  \n",
       "1         8.106   (2010, 5)     5    A  151315  \n",
       "2         8.106   (2010, 5)     5    A  151315  \n",
       "3         8.106   (2010, 5)     5    A  151315  \n",
       "4         8.106   (2010, 5)     5    A  151315  "
      ]
     },
     "execution_count": 67,
     "metadata": {},
     "output_type": "execute_result"
    }
   ],
   "source": [
    "# add weekly_sales, isholiday columns to features, match on dates, store, dept\n",
    "df_merged_train = df_train.merge(df_features, how='inner')\n",
    "\n",
    "print(\"merged dataframe shape: {}\".format(df_merged_train.shape))\n",
    "df_merged_train.head()"
   ]
  },
  {
   "cell_type": "code",
   "execution_count": 68,
   "metadata": {
    "ExecuteTime": {
     "end_time": "2021-10-21T20:48:43.463231Z",
     "start_time": "2021-10-21T20:48:43.376180Z"
    }
   },
   "outputs": [],
   "source": [
    "# add cci features\n",
    "df_merged_train = df_merged_train.merge(df_cci, on='isocalendar', how='left')"
   ]
  },
  {
   "cell_type": "code",
   "execution_count": 69,
   "metadata": {
    "ExecuteTime": {
     "end_time": "2021-10-21T20:48:43.473166Z",
     "start_time": "2021-10-21T20:48:43.469756Z"
    }
   },
   "outputs": [],
   "source": [
    "df_merged_train['cci_value'] = df_merged_train['cci_value'].fillna(method='ffill')"
   ]
  },
  {
   "cell_type": "code",
   "execution_count": 70,
   "metadata": {
    "ExecuteTime": {
     "end_time": "2021-10-21T20:48:43.485789Z",
     "start_time": "2021-10-21T20:48:43.474413Z"
    },
    "scrolled": true
   },
   "outputs": [
    {
     "data": {
      "text/html": [
       "<div>\n",
       "<style scoped>\n",
       "    .dataframe tbody tr th:only-of-type {\n",
       "        vertical-align: middle;\n",
       "    }\n",
       "\n",
       "    .dataframe tbody tr th {\n",
       "        vertical-align: top;\n",
       "    }\n",
       "\n",
       "    .dataframe thead th {\n",
       "        text-align: right;\n",
       "    }\n",
       "</style>\n",
       "<table border=\"1\" class=\"dataframe\">\n",
       "  <thead>\n",
       "    <tr style=\"text-align: right;\">\n",
       "      <th></th>\n",
       "      <th>Date</th>\n",
       "      <th>Store</th>\n",
       "      <th>Dept</th>\n",
       "      <th>Weekly_Sales</th>\n",
       "      <th>IsHoliday</th>\n",
       "      <th>Temperature</th>\n",
       "      <th>Fuel_Price</th>\n",
       "      <th>MarkDown1</th>\n",
       "      <th>MarkDown2</th>\n",
       "      <th>MarkDown3</th>\n",
       "      <th>MarkDown4</th>\n",
       "      <th>MarkDown5</th>\n",
       "      <th>CPI</th>\n",
       "      <th>Unemployment</th>\n",
       "      <th>isocalendar</th>\n",
       "      <th>Week</th>\n",
       "      <th>Type</th>\n",
       "      <th>Size</th>\n",
       "      <th>cci_value</th>\n",
       "    </tr>\n",
       "  </thead>\n",
       "  <tbody>\n",
       "    <tr>\n",
       "      <th>0</th>\n",
       "      <td>2010-02-05</td>\n",
       "      <td>1</td>\n",
       "      <td>1</td>\n",
       "      <td>24924.50</td>\n",
       "      <td>0</td>\n",
       "      <td>42.31</td>\n",
       "      <td>2.572</td>\n",
       "      <td>0.0</td>\n",
       "      <td>0.0</td>\n",
       "      <td>0.0</td>\n",
       "      <td>0.0</td>\n",
       "      <td>0.0</td>\n",
       "      <td>211.096358</td>\n",
       "      <td>8.106</td>\n",
       "      <td>(2010, 5)</td>\n",
       "      <td>5</td>\n",
       "      <td>A</td>\n",
       "      <td>151315</td>\n",
       "      <td>98.22324</td>\n",
       "    </tr>\n",
       "    <tr>\n",
       "      <th>1</th>\n",
       "      <td>2010-02-05</td>\n",
       "      <td>1</td>\n",
       "      <td>2</td>\n",
       "      <td>50605.27</td>\n",
       "      <td>0</td>\n",
       "      <td>42.31</td>\n",
       "      <td>2.572</td>\n",
       "      <td>0.0</td>\n",
       "      <td>0.0</td>\n",
       "      <td>0.0</td>\n",
       "      <td>0.0</td>\n",
       "      <td>0.0</td>\n",
       "      <td>211.096358</td>\n",
       "      <td>8.106</td>\n",
       "      <td>(2010, 5)</td>\n",
       "      <td>5</td>\n",
       "      <td>A</td>\n",
       "      <td>151315</td>\n",
       "      <td>98.22324</td>\n",
       "    </tr>\n",
       "    <tr>\n",
       "      <th>2</th>\n",
       "      <td>2010-02-05</td>\n",
       "      <td>1</td>\n",
       "      <td>3</td>\n",
       "      <td>13740.12</td>\n",
       "      <td>0</td>\n",
       "      <td>42.31</td>\n",
       "      <td>2.572</td>\n",
       "      <td>0.0</td>\n",
       "      <td>0.0</td>\n",
       "      <td>0.0</td>\n",
       "      <td>0.0</td>\n",
       "      <td>0.0</td>\n",
       "      <td>211.096358</td>\n",
       "      <td>8.106</td>\n",
       "      <td>(2010, 5)</td>\n",
       "      <td>5</td>\n",
       "      <td>A</td>\n",
       "      <td>151315</td>\n",
       "      <td>98.22324</td>\n",
       "    </tr>\n",
       "    <tr>\n",
       "      <th>3</th>\n",
       "      <td>2010-02-05</td>\n",
       "      <td>1</td>\n",
       "      <td>4</td>\n",
       "      <td>39954.04</td>\n",
       "      <td>0</td>\n",
       "      <td>42.31</td>\n",
       "      <td>2.572</td>\n",
       "      <td>0.0</td>\n",
       "      <td>0.0</td>\n",
       "      <td>0.0</td>\n",
       "      <td>0.0</td>\n",
       "      <td>0.0</td>\n",
       "      <td>211.096358</td>\n",
       "      <td>8.106</td>\n",
       "      <td>(2010, 5)</td>\n",
       "      <td>5</td>\n",
       "      <td>A</td>\n",
       "      <td>151315</td>\n",
       "      <td>98.22324</td>\n",
       "    </tr>\n",
       "    <tr>\n",
       "      <th>4</th>\n",
       "      <td>2010-02-05</td>\n",
       "      <td>1</td>\n",
       "      <td>5</td>\n",
       "      <td>32229.38</td>\n",
       "      <td>0</td>\n",
       "      <td>42.31</td>\n",
       "      <td>2.572</td>\n",
       "      <td>0.0</td>\n",
       "      <td>0.0</td>\n",
       "      <td>0.0</td>\n",
       "      <td>0.0</td>\n",
       "      <td>0.0</td>\n",
       "      <td>211.096358</td>\n",
       "      <td>8.106</td>\n",
       "      <td>(2010, 5)</td>\n",
       "      <td>5</td>\n",
       "      <td>A</td>\n",
       "      <td>151315</td>\n",
       "      <td>98.22324</td>\n",
       "    </tr>\n",
       "  </tbody>\n",
       "</table>\n",
       "</div>"
      ],
      "text/plain": [
       "        Date  Store Dept  Weekly_Sales IsHoliday  Temperature  Fuel_Price  \\\n",
       "0 2010-02-05      1    1      24924.50         0        42.31       2.572   \n",
       "1 2010-02-05      1    2      50605.27         0        42.31       2.572   \n",
       "2 2010-02-05      1    3      13740.12         0        42.31       2.572   \n",
       "3 2010-02-05      1    4      39954.04         0        42.31       2.572   \n",
       "4 2010-02-05      1    5      32229.38         0        42.31       2.572   \n",
       "\n",
       "   MarkDown1  MarkDown2  MarkDown3  MarkDown4  MarkDown5         CPI  \\\n",
       "0        0.0        0.0        0.0        0.0        0.0  211.096358   \n",
       "1        0.0        0.0        0.0        0.0        0.0  211.096358   \n",
       "2        0.0        0.0        0.0        0.0        0.0  211.096358   \n",
       "3        0.0        0.0        0.0        0.0        0.0  211.096358   \n",
       "4        0.0        0.0        0.0        0.0        0.0  211.096358   \n",
       "\n",
       "   Unemployment isocalendar  Week Type    Size  cci_value  \n",
       "0         8.106   (2010, 5)     5    A  151315   98.22324  \n",
       "1         8.106   (2010, 5)     5    A  151315   98.22324  \n",
       "2         8.106   (2010, 5)     5    A  151315   98.22324  \n",
       "3         8.106   (2010, 5)     5    A  151315   98.22324  \n",
       "4         8.106   (2010, 5)     5    A  151315   98.22324  "
      ]
     },
     "execution_count": 70,
     "metadata": {},
     "output_type": "execute_result"
    }
   ],
   "source": [
    "df_merged_train.head()"
   ]
  },
  {
   "cell_type": "code",
   "execution_count": 71,
   "metadata": {
    "ExecuteTime": {
     "end_time": "2021-10-21T20:48:43.489284Z",
     "start_time": "2021-10-21T20:48:43.487279Z"
    }
   },
   "outputs": [
    {
     "name": "stdout",
     "output_type": "stream",
     "text": [
      "df_train entries shape: (421570, 5)\n",
      "\n",
      "df_merged_train shape: (421570, 19)\n"
     ]
    }
   ],
   "source": [
    "# df_train, df_merged_train entries count comparison\n",
    "\n",
    "print(\"df_train entries shape: {}\".format(df_train.shape))\n",
    "print(\"\\ndf_merged_train shape: {}\".format(df_merged_train.shape))"
   ]
  },
  {
   "cell_type": "code",
   "execution_count": 72,
   "metadata": {
    "ExecuteTime": {
     "end_time": "2021-10-21T20:48:43.492590Z",
     "start_time": "2021-10-21T20:48:43.490440Z"
    }
   },
   "outputs": [
    {
     "name": "stdout",
     "output_type": "stream",
     "text": [
      "original train set features: ['Date', 'Store', 'Dept', 'Weekly_Sales', 'IsHoliday']\n",
      "\n",
      "added features: ['Week', 'MarkDown2', 'Unemployment', 'Temperature', 'MarkDown1', 'Size', 'Type', 'MarkDown4', 'MarkDown3', 'CPI', 'cci_value', 'MarkDown5', 'isocalendar', 'Fuel_Price']\n"
     ]
    }
   ],
   "source": [
    "#compare columns between df_train and df_merged_train.\n",
    "\n",
    "print(\"original train set features: {}\".format(df_train.columns.to_list()))\n",
    "print(\"\\nadded features: {}\".format(list(set(df_merged_train.columns)-set(df_train.columns))))"
   ]
  },
  {
   "cell_type": "code",
   "execution_count": 73,
   "metadata": {
    "ExecuteTime": {
     "end_time": "2021-10-21T20:48:50.126387Z",
     "start_time": "2021-10-21T20:48:43.493587Z"
    }
   },
   "outputs": [],
   "source": [
    "df_merged_train.to_csv('capstone_3_train_data', index=False)"
   ]
  },
  {
   "cell_type": "markdown",
   "metadata": {},
   "source": [
    "## Testing Data"
   ]
  },
  {
   "cell_type": "code",
   "execution_count": 74,
   "metadata": {
    "ExecuteTime": {
     "end_time": "2021-10-21T20:48:50.132088Z",
     "start_time": "2021-10-21T20:48:50.127539Z"
    }
   },
   "outputs": [
    {
     "name": "stdout",
     "output_type": "stream",
     "text": [
      "df_test entries shape: (115064, 3)\n"
     ]
    },
    {
     "data": {
      "text/html": [
       "<div>\n",
       "<style scoped>\n",
       "    .dataframe tbody tr th:only-of-type {\n",
       "        vertical-align: middle;\n",
       "    }\n",
       "\n",
       "    .dataframe tbody tr th {\n",
       "        vertical-align: top;\n",
       "    }\n",
       "\n",
       "    .dataframe thead th {\n",
       "        text-align: right;\n",
       "    }\n",
       "</style>\n",
       "<table border=\"1\" class=\"dataframe\">\n",
       "  <thead>\n",
       "    <tr style=\"text-align: right;\">\n",
       "      <th></th>\n",
       "      <th>Store</th>\n",
       "      <th>Dept</th>\n",
       "      <th>IsHoliday</th>\n",
       "    </tr>\n",
       "    <tr>\n",
       "      <th>Date</th>\n",
       "      <th></th>\n",
       "      <th></th>\n",
       "      <th></th>\n",
       "    </tr>\n",
       "  </thead>\n",
       "  <tbody>\n",
       "    <tr>\n",
       "      <th>2012-11-02</th>\n",
       "      <td>1</td>\n",
       "      <td>1</td>\n",
       "      <td>0</td>\n",
       "    </tr>\n",
       "    <tr>\n",
       "      <th>2012-11-09</th>\n",
       "      <td>1</td>\n",
       "      <td>1</td>\n",
       "      <td>0</td>\n",
       "    </tr>\n",
       "    <tr>\n",
       "      <th>2012-11-16</th>\n",
       "      <td>1</td>\n",
       "      <td>1</td>\n",
       "      <td>0</td>\n",
       "    </tr>\n",
       "    <tr>\n",
       "      <th>2012-11-23</th>\n",
       "      <td>1</td>\n",
       "      <td>1</td>\n",
       "      <td>1</td>\n",
       "    </tr>\n",
       "    <tr>\n",
       "      <th>2012-11-30</th>\n",
       "      <td>1</td>\n",
       "      <td>1</td>\n",
       "      <td>0</td>\n",
       "    </tr>\n",
       "  </tbody>\n",
       "</table>\n",
       "</div>"
      ],
      "text/plain": [
       "            Store  Dept  IsHoliday\n",
       "Date                              \n",
       "2012-11-02      1     1          0\n",
       "2012-11-09      1     1          0\n",
       "2012-11-16      1     1          0\n",
       "2012-11-23      1     1          1\n",
       "2012-11-30      1     1          0"
      ]
     },
     "execution_count": 74,
     "metadata": {},
     "output_type": "execute_result"
    }
   ],
   "source": [
    "# repeat above process with df_test\n",
    "print(\"df_test entries shape: {}\".format(df_test.shape))\n",
    "df_test.head()"
   ]
  },
  {
   "cell_type": "code",
   "execution_count": 75,
   "metadata": {
    "ExecuteTime": {
     "end_time": "2021-10-21T20:48:50.163331Z",
     "start_time": "2021-10-21T20:48:50.132994Z"
    }
   },
   "outputs": [
    {
     "name": "stdout",
     "output_type": "stream",
     "text": [
      "merge results shape: (115064, 17)\n"
     ]
    }
   ],
   "source": [
    "# reset index. inner merge df_test with df_features\n",
    "df_test = df_test.reset_index()\n",
    "df_test_merge = df_test.merge(df_features, how='inner')\n",
    "print(\"merge results shape: {}\".format(df_test_merge.shape))"
   ]
  },
  {
   "cell_type": "code",
   "execution_count": 76,
   "metadata": {
    "ExecuteTime": {
     "end_time": "2021-10-21T20:48:50.174743Z",
     "start_time": "2021-10-21T20:48:50.164329Z"
    }
   },
   "outputs": [
    {
     "data": {
      "text/html": [
       "<div>\n",
       "<style scoped>\n",
       "    .dataframe tbody tr th:only-of-type {\n",
       "        vertical-align: middle;\n",
       "    }\n",
       "\n",
       "    .dataframe tbody tr th {\n",
       "        vertical-align: top;\n",
       "    }\n",
       "\n",
       "    .dataframe thead th {\n",
       "        text-align: right;\n",
       "    }\n",
       "</style>\n",
       "<table border=\"1\" class=\"dataframe\">\n",
       "  <thead>\n",
       "    <tr style=\"text-align: right;\">\n",
       "      <th></th>\n",
       "      <th>Date</th>\n",
       "      <th>Store</th>\n",
       "      <th>Dept</th>\n",
       "      <th>IsHoliday</th>\n",
       "      <th>Temperature</th>\n",
       "      <th>Fuel_Price</th>\n",
       "      <th>MarkDown1</th>\n",
       "      <th>MarkDown2</th>\n",
       "      <th>MarkDown3</th>\n",
       "      <th>MarkDown4</th>\n",
       "      <th>MarkDown5</th>\n",
       "      <th>CPI</th>\n",
       "      <th>Unemployment</th>\n",
       "      <th>isocalendar</th>\n",
       "      <th>Week</th>\n",
       "      <th>Type</th>\n",
       "      <th>Size</th>\n",
       "    </tr>\n",
       "  </thead>\n",
       "  <tbody>\n",
       "    <tr>\n",
       "      <th>0</th>\n",
       "      <td>2012-11-02</td>\n",
       "      <td>1</td>\n",
       "      <td>1</td>\n",
       "      <td>0</td>\n",
       "      <td>55.32</td>\n",
       "      <td>3.386</td>\n",
       "      <td>6766.44</td>\n",
       "      <td>5147.7</td>\n",
       "      <td>50.82</td>\n",
       "      <td>3639.9</td>\n",
       "      <td>2737.42</td>\n",
       "      <td>223.462779</td>\n",
       "      <td>6.573</td>\n",
       "      <td>(2012, 44)</td>\n",
       "      <td>44</td>\n",
       "      <td>A</td>\n",
       "      <td>151315</td>\n",
       "    </tr>\n",
       "    <tr>\n",
       "      <th>1</th>\n",
       "      <td>2012-11-02</td>\n",
       "      <td>1</td>\n",
       "      <td>2</td>\n",
       "      <td>0</td>\n",
       "      <td>55.32</td>\n",
       "      <td>3.386</td>\n",
       "      <td>6766.44</td>\n",
       "      <td>5147.7</td>\n",
       "      <td>50.82</td>\n",
       "      <td>3639.9</td>\n",
       "      <td>2737.42</td>\n",
       "      <td>223.462779</td>\n",
       "      <td>6.573</td>\n",
       "      <td>(2012, 44)</td>\n",
       "      <td>44</td>\n",
       "      <td>A</td>\n",
       "      <td>151315</td>\n",
       "    </tr>\n",
       "    <tr>\n",
       "      <th>2</th>\n",
       "      <td>2012-11-02</td>\n",
       "      <td>1</td>\n",
       "      <td>3</td>\n",
       "      <td>0</td>\n",
       "      <td>55.32</td>\n",
       "      <td>3.386</td>\n",
       "      <td>6766.44</td>\n",
       "      <td>5147.7</td>\n",
       "      <td>50.82</td>\n",
       "      <td>3639.9</td>\n",
       "      <td>2737.42</td>\n",
       "      <td>223.462779</td>\n",
       "      <td>6.573</td>\n",
       "      <td>(2012, 44)</td>\n",
       "      <td>44</td>\n",
       "      <td>A</td>\n",
       "      <td>151315</td>\n",
       "    </tr>\n",
       "    <tr>\n",
       "      <th>3</th>\n",
       "      <td>2012-11-02</td>\n",
       "      <td>1</td>\n",
       "      <td>4</td>\n",
       "      <td>0</td>\n",
       "      <td>55.32</td>\n",
       "      <td>3.386</td>\n",
       "      <td>6766.44</td>\n",
       "      <td>5147.7</td>\n",
       "      <td>50.82</td>\n",
       "      <td>3639.9</td>\n",
       "      <td>2737.42</td>\n",
       "      <td>223.462779</td>\n",
       "      <td>6.573</td>\n",
       "      <td>(2012, 44)</td>\n",
       "      <td>44</td>\n",
       "      <td>A</td>\n",
       "      <td>151315</td>\n",
       "    </tr>\n",
       "    <tr>\n",
       "      <th>4</th>\n",
       "      <td>2012-11-02</td>\n",
       "      <td>1</td>\n",
       "      <td>5</td>\n",
       "      <td>0</td>\n",
       "      <td>55.32</td>\n",
       "      <td>3.386</td>\n",
       "      <td>6766.44</td>\n",
       "      <td>5147.7</td>\n",
       "      <td>50.82</td>\n",
       "      <td>3639.9</td>\n",
       "      <td>2737.42</td>\n",
       "      <td>223.462779</td>\n",
       "      <td>6.573</td>\n",
       "      <td>(2012, 44)</td>\n",
       "      <td>44</td>\n",
       "      <td>A</td>\n",
       "      <td>151315</td>\n",
       "    </tr>\n",
       "  </tbody>\n",
       "</table>\n",
       "</div>"
      ],
      "text/plain": [
       "        Date  Store  Dept IsHoliday  Temperature  Fuel_Price  MarkDown1  \\\n",
       "0 2012-11-02      1     1         0        55.32       3.386    6766.44   \n",
       "1 2012-11-02      1     2         0        55.32       3.386    6766.44   \n",
       "2 2012-11-02      1     3         0        55.32       3.386    6766.44   \n",
       "3 2012-11-02      1     4         0        55.32       3.386    6766.44   \n",
       "4 2012-11-02      1     5         0        55.32       3.386    6766.44   \n",
       "\n",
       "   MarkDown2  MarkDown3  MarkDown4  MarkDown5         CPI  Unemployment  \\\n",
       "0     5147.7      50.82     3639.9    2737.42  223.462779         6.573   \n",
       "1     5147.7      50.82     3639.9    2737.42  223.462779         6.573   \n",
       "2     5147.7      50.82     3639.9    2737.42  223.462779         6.573   \n",
       "3     5147.7      50.82     3639.9    2737.42  223.462779         6.573   \n",
       "4     5147.7      50.82     3639.9    2737.42  223.462779         6.573   \n",
       "\n",
       "  isocalendar  Week Type    Size  \n",
       "0  (2012, 44)    44    A  151315  \n",
       "1  (2012, 44)    44    A  151315  \n",
       "2  (2012, 44)    44    A  151315  \n",
       "3  (2012, 44)    44    A  151315  \n",
       "4  (2012, 44)    44    A  151315  "
      ]
     },
     "execution_count": 76,
     "metadata": {},
     "output_type": "execute_result"
    }
   ],
   "source": [
    "df_test_merge.head()"
   ]
  },
  {
   "cell_type": "code",
   "execution_count": 77,
   "metadata": {
    "ExecuteTime": {
     "end_time": "2021-10-21T20:48:50.201148Z",
     "start_time": "2021-10-21T20:48:50.175672Z"
    }
   },
   "outputs": [],
   "source": [
    "df_test_merge = df_test_merge.merge(df_cci, on='isocalendar', how='left')"
   ]
  },
  {
   "cell_type": "code",
   "execution_count": 78,
   "metadata": {
    "ExecuteTime": {
     "end_time": "2021-10-21T20:48:50.212595Z",
     "start_time": "2021-10-21T20:48:50.202227Z"
    }
   },
   "outputs": [
    {
     "data": {
      "text/html": [
       "<div>\n",
       "<style scoped>\n",
       "    .dataframe tbody tr th:only-of-type {\n",
       "        vertical-align: middle;\n",
       "    }\n",
       "\n",
       "    .dataframe tbody tr th {\n",
       "        vertical-align: top;\n",
       "    }\n",
       "\n",
       "    .dataframe thead th {\n",
       "        text-align: right;\n",
       "    }\n",
       "</style>\n",
       "<table border=\"1\" class=\"dataframe\">\n",
       "  <thead>\n",
       "    <tr style=\"text-align: right;\">\n",
       "      <th></th>\n",
       "      <th>Date</th>\n",
       "      <th>Store</th>\n",
       "      <th>Dept</th>\n",
       "      <th>IsHoliday</th>\n",
       "      <th>Temperature</th>\n",
       "      <th>Fuel_Price</th>\n",
       "      <th>MarkDown1</th>\n",
       "      <th>MarkDown2</th>\n",
       "      <th>MarkDown3</th>\n",
       "      <th>MarkDown4</th>\n",
       "      <th>MarkDown5</th>\n",
       "      <th>CPI</th>\n",
       "      <th>Unemployment</th>\n",
       "      <th>isocalendar</th>\n",
       "      <th>Week</th>\n",
       "      <th>Type</th>\n",
       "      <th>Size</th>\n",
       "      <th>cci_value</th>\n",
       "    </tr>\n",
       "  </thead>\n",
       "  <tbody>\n",
       "    <tr>\n",
       "      <th>0</th>\n",
       "      <td>2012-11-02</td>\n",
       "      <td>1</td>\n",
       "      <td>1</td>\n",
       "      <td>0</td>\n",
       "      <td>55.32</td>\n",
       "      <td>3.386</td>\n",
       "      <td>6766.44</td>\n",
       "      <td>5147.7</td>\n",
       "      <td>50.82</td>\n",
       "      <td>3639.9</td>\n",
       "      <td>2737.42</td>\n",
       "      <td>223.462779</td>\n",
       "      <td>6.573</td>\n",
       "      <td>(2012, 44)</td>\n",
       "      <td>44</td>\n",
       "      <td>A</td>\n",
       "      <td>151315</td>\n",
       "      <td>99.00362</td>\n",
       "    </tr>\n",
       "    <tr>\n",
       "      <th>1</th>\n",
       "      <td>2012-11-02</td>\n",
       "      <td>1</td>\n",
       "      <td>2</td>\n",
       "      <td>0</td>\n",
       "      <td>55.32</td>\n",
       "      <td>3.386</td>\n",
       "      <td>6766.44</td>\n",
       "      <td>5147.7</td>\n",
       "      <td>50.82</td>\n",
       "      <td>3639.9</td>\n",
       "      <td>2737.42</td>\n",
       "      <td>223.462779</td>\n",
       "      <td>6.573</td>\n",
       "      <td>(2012, 44)</td>\n",
       "      <td>44</td>\n",
       "      <td>A</td>\n",
       "      <td>151315</td>\n",
       "      <td>99.00362</td>\n",
       "    </tr>\n",
       "    <tr>\n",
       "      <th>2</th>\n",
       "      <td>2012-11-02</td>\n",
       "      <td>1</td>\n",
       "      <td>3</td>\n",
       "      <td>0</td>\n",
       "      <td>55.32</td>\n",
       "      <td>3.386</td>\n",
       "      <td>6766.44</td>\n",
       "      <td>5147.7</td>\n",
       "      <td>50.82</td>\n",
       "      <td>3639.9</td>\n",
       "      <td>2737.42</td>\n",
       "      <td>223.462779</td>\n",
       "      <td>6.573</td>\n",
       "      <td>(2012, 44)</td>\n",
       "      <td>44</td>\n",
       "      <td>A</td>\n",
       "      <td>151315</td>\n",
       "      <td>99.00362</td>\n",
       "    </tr>\n",
       "    <tr>\n",
       "      <th>3</th>\n",
       "      <td>2012-11-02</td>\n",
       "      <td>1</td>\n",
       "      <td>4</td>\n",
       "      <td>0</td>\n",
       "      <td>55.32</td>\n",
       "      <td>3.386</td>\n",
       "      <td>6766.44</td>\n",
       "      <td>5147.7</td>\n",
       "      <td>50.82</td>\n",
       "      <td>3639.9</td>\n",
       "      <td>2737.42</td>\n",
       "      <td>223.462779</td>\n",
       "      <td>6.573</td>\n",
       "      <td>(2012, 44)</td>\n",
       "      <td>44</td>\n",
       "      <td>A</td>\n",
       "      <td>151315</td>\n",
       "      <td>99.00362</td>\n",
       "    </tr>\n",
       "    <tr>\n",
       "      <th>4</th>\n",
       "      <td>2012-11-02</td>\n",
       "      <td>1</td>\n",
       "      <td>5</td>\n",
       "      <td>0</td>\n",
       "      <td>55.32</td>\n",
       "      <td>3.386</td>\n",
       "      <td>6766.44</td>\n",
       "      <td>5147.7</td>\n",
       "      <td>50.82</td>\n",
       "      <td>3639.9</td>\n",
       "      <td>2737.42</td>\n",
       "      <td>223.462779</td>\n",
       "      <td>6.573</td>\n",
       "      <td>(2012, 44)</td>\n",
       "      <td>44</td>\n",
       "      <td>A</td>\n",
       "      <td>151315</td>\n",
       "      <td>99.00362</td>\n",
       "    </tr>\n",
       "  </tbody>\n",
       "</table>\n",
       "</div>"
      ],
      "text/plain": [
       "        Date  Store  Dept IsHoliday  Temperature  Fuel_Price  MarkDown1  \\\n",
       "0 2012-11-02      1     1         0        55.32       3.386    6766.44   \n",
       "1 2012-11-02      1     2         0        55.32       3.386    6766.44   \n",
       "2 2012-11-02      1     3         0        55.32       3.386    6766.44   \n",
       "3 2012-11-02      1     4         0        55.32       3.386    6766.44   \n",
       "4 2012-11-02      1     5         0        55.32       3.386    6766.44   \n",
       "\n",
       "   MarkDown2  MarkDown3  MarkDown4  MarkDown5         CPI  Unemployment  \\\n",
       "0     5147.7      50.82     3639.9    2737.42  223.462779         6.573   \n",
       "1     5147.7      50.82     3639.9    2737.42  223.462779         6.573   \n",
       "2     5147.7      50.82     3639.9    2737.42  223.462779         6.573   \n",
       "3     5147.7      50.82     3639.9    2737.42  223.462779         6.573   \n",
       "4     5147.7      50.82     3639.9    2737.42  223.462779         6.573   \n",
       "\n",
       "  isocalendar  Week Type    Size  cci_value  \n",
       "0  (2012, 44)    44    A  151315   99.00362  \n",
       "1  (2012, 44)    44    A  151315   99.00362  \n",
       "2  (2012, 44)    44    A  151315   99.00362  \n",
       "3  (2012, 44)    44    A  151315   99.00362  \n",
       "4  (2012, 44)    44    A  151315   99.00362  "
      ]
     },
     "execution_count": 78,
     "metadata": {},
     "output_type": "execute_result"
    }
   ],
   "source": [
    "df_test_merge.head()"
   ]
  },
  {
   "cell_type": "code",
   "execution_count": 79,
   "metadata": {
    "ExecuteTime": {
     "end_time": "2021-10-21T20:48:50.216522Z",
     "start_time": "2021-10-21T20:48:50.214045Z"
    }
   },
   "outputs": [],
   "source": [
    "df_test_merge['cci_value'] = df_test_merge['cci_value'].fillna(method='ffill')"
   ]
  },
  {
   "cell_type": "code",
   "execution_count": 80,
   "metadata": {
    "ExecuteTime": {
     "end_time": "2021-10-21T20:48:50.227709Z",
     "start_time": "2021-10-21T20:48:50.217557Z"
    }
   },
   "outputs": [
    {
     "data": {
      "text/html": [
       "<div>\n",
       "<style scoped>\n",
       "    .dataframe tbody tr th:only-of-type {\n",
       "        vertical-align: middle;\n",
       "    }\n",
       "\n",
       "    .dataframe tbody tr th {\n",
       "        vertical-align: top;\n",
       "    }\n",
       "\n",
       "    .dataframe thead th {\n",
       "        text-align: right;\n",
       "    }\n",
       "</style>\n",
       "<table border=\"1\" class=\"dataframe\">\n",
       "  <thead>\n",
       "    <tr style=\"text-align: right;\">\n",
       "      <th></th>\n",
       "      <th>Date</th>\n",
       "      <th>Store</th>\n",
       "      <th>Dept</th>\n",
       "      <th>IsHoliday</th>\n",
       "      <th>Temperature</th>\n",
       "      <th>Fuel_Price</th>\n",
       "      <th>MarkDown1</th>\n",
       "      <th>MarkDown2</th>\n",
       "      <th>MarkDown3</th>\n",
       "      <th>MarkDown4</th>\n",
       "      <th>MarkDown5</th>\n",
       "      <th>CPI</th>\n",
       "      <th>Unemployment</th>\n",
       "      <th>isocalendar</th>\n",
       "      <th>Week</th>\n",
       "      <th>Type</th>\n",
       "      <th>Size</th>\n",
       "      <th>cci_value</th>\n",
       "    </tr>\n",
       "  </thead>\n",
       "  <tbody>\n",
       "    <tr>\n",
       "      <th>0</th>\n",
       "      <td>2012-11-02</td>\n",
       "      <td>1</td>\n",
       "      <td>1</td>\n",
       "      <td>0</td>\n",
       "      <td>55.32</td>\n",
       "      <td>3.386</td>\n",
       "      <td>6766.44</td>\n",
       "      <td>5147.7</td>\n",
       "      <td>50.82</td>\n",
       "      <td>3639.9</td>\n",
       "      <td>2737.42</td>\n",
       "      <td>223.462779</td>\n",
       "      <td>6.573</td>\n",
       "      <td>(2012, 44)</td>\n",
       "      <td>44</td>\n",
       "      <td>A</td>\n",
       "      <td>151315</td>\n",
       "      <td>99.00362</td>\n",
       "    </tr>\n",
       "    <tr>\n",
       "      <th>1</th>\n",
       "      <td>2012-11-02</td>\n",
       "      <td>1</td>\n",
       "      <td>2</td>\n",
       "      <td>0</td>\n",
       "      <td>55.32</td>\n",
       "      <td>3.386</td>\n",
       "      <td>6766.44</td>\n",
       "      <td>5147.7</td>\n",
       "      <td>50.82</td>\n",
       "      <td>3639.9</td>\n",
       "      <td>2737.42</td>\n",
       "      <td>223.462779</td>\n",
       "      <td>6.573</td>\n",
       "      <td>(2012, 44)</td>\n",
       "      <td>44</td>\n",
       "      <td>A</td>\n",
       "      <td>151315</td>\n",
       "      <td>99.00362</td>\n",
       "    </tr>\n",
       "    <tr>\n",
       "      <th>2</th>\n",
       "      <td>2012-11-02</td>\n",
       "      <td>1</td>\n",
       "      <td>3</td>\n",
       "      <td>0</td>\n",
       "      <td>55.32</td>\n",
       "      <td>3.386</td>\n",
       "      <td>6766.44</td>\n",
       "      <td>5147.7</td>\n",
       "      <td>50.82</td>\n",
       "      <td>3639.9</td>\n",
       "      <td>2737.42</td>\n",
       "      <td>223.462779</td>\n",
       "      <td>6.573</td>\n",
       "      <td>(2012, 44)</td>\n",
       "      <td>44</td>\n",
       "      <td>A</td>\n",
       "      <td>151315</td>\n",
       "      <td>99.00362</td>\n",
       "    </tr>\n",
       "    <tr>\n",
       "      <th>3</th>\n",
       "      <td>2012-11-02</td>\n",
       "      <td>1</td>\n",
       "      <td>4</td>\n",
       "      <td>0</td>\n",
       "      <td>55.32</td>\n",
       "      <td>3.386</td>\n",
       "      <td>6766.44</td>\n",
       "      <td>5147.7</td>\n",
       "      <td>50.82</td>\n",
       "      <td>3639.9</td>\n",
       "      <td>2737.42</td>\n",
       "      <td>223.462779</td>\n",
       "      <td>6.573</td>\n",
       "      <td>(2012, 44)</td>\n",
       "      <td>44</td>\n",
       "      <td>A</td>\n",
       "      <td>151315</td>\n",
       "      <td>99.00362</td>\n",
       "    </tr>\n",
       "    <tr>\n",
       "      <th>4</th>\n",
       "      <td>2012-11-02</td>\n",
       "      <td>1</td>\n",
       "      <td>5</td>\n",
       "      <td>0</td>\n",
       "      <td>55.32</td>\n",
       "      <td>3.386</td>\n",
       "      <td>6766.44</td>\n",
       "      <td>5147.7</td>\n",
       "      <td>50.82</td>\n",
       "      <td>3639.9</td>\n",
       "      <td>2737.42</td>\n",
       "      <td>223.462779</td>\n",
       "      <td>6.573</td>\n",
       "      <td>(2012, 44)</td>\n",
       "      <td>44</td>\n",
       "      <td>A</td>\n",
       "      <td>151315</td>\n",
       "      <td>99.00362</td>\n",
       "    </tr>\n",
       "  </tbody>\n",
       "</table>\n",
       "</div>"
      ],
      "text/plain": [
       "        Date  Store  Dept IsHoliday  Temperature  Fuel_Price  MarkDown1  \\\n",
       "0 2012-11-02      1     1         0        55.32       3.386    6766.44   \n",
       "1 2012-11-02      1     2         0        55.32       3.386    6766.44   \n",
       "2 2012-11-02      1     3         0        55.32       3.386    6766.44   \n",
       "3 2012-11-02      1     4         0        55.32       3.386    6766.44   \n",
       "4 2012-11-02      1     5         0        55.32       3.386    6766.44   \n",
       "\n",
       "   MarkDown2  MarkDown3  MarkDown4  MarkDown5         CPI  Unemployment  \\\n",
       "0     5147.7      50.82     3639.9    2737.42  223.462779         6.573   \n",
       "1     5147.7      50.82     3639.9    2737.42  223.462779         6.573   \n",
       "2     5147.7      50.82     3639.9    2737.42  223.462779         6.573   \n",
       "3     5147.7      50.82     3639.9    2737.42  223.462779         6.573   \n",
       "4     5147.7      50.82     3639.9    2737.42  223.462779         6.573   \n",
       "\n",
       "  isocalendar  Week Type    Size  cci_value  \n",
       "0  (2012, 44)    44    A  151315   99.00362  \n",
       "1  (2012, 44)    44    A  151315   99.00362  \n",
       "2  (2012, 44)    44    A  151315   99.00362  \n",
       "3  (2012, 44)    44    A  151315   99.00362  \n",
       "4  (2012, 44)    44    A  151315   99.00362  "
      ]
     },
     "execution_count": 80,
     "metadata": {},
     "output_type": "execute_result"
    }
   ],
   "source": [
    "df_test_merge.head()"
   ]
  },
  {
   "cell_type": "code",
   "execution_count": 81,
   "metadata": {
    "ExecuteTime": {
     "end_time": "2021-10-21T20:48:50.231112Z",
     "start_time": "2021-10-21T20:48:50.228710Z"
    }
   },
   "outputs": [
    {
     "name": "stdout",
     "output_type": "stream",
     "text": [
      "df_test shape: (115064, 4)\n",
      "df_test_merge shape: (115064, 18)\n"
     ]
    }
   ],
   "source": [
    "print(\"df_test shape: {}\".format(df_test.shape))\n",
    "print(\"df_test_merge shape: {}\".format(df_test_merge.shape))"
   ]
  },
  {
   "cell_type": "code",
   "execution_count": 82,
   "metadata": {
    "ExecuteTime": {
     "end_time": "2021-10-21T20:48:50.234797Z",
     "start_time": "2021-10-21T20:48:50.232163Z"
    }
   },
   "outputs": [
    {
     "name": "stdout",
     "output_type": "stream",
     "text": [
      "number of features added: 14\n",
      "\n",
      "original test set features: ['Date', 'Store', 'Dept', 'IsHoliday']\n",
      "\n",
      "added features: ['MarkDown2', 'Week', 'Unemployment', 'Temperature', 'MarkDown1', 'Type', 'Size', 'MarkDown4', 'MarkDown3', 'CPI', 'cci_value', 'MarkDown5', 'Fuel_Price', 'isocalendar']\n"
     ]
    }
   ],
   "source": [
    "#compare columns between df_test and df_test_merge.\n",
    "\n",
    "print(\"number of features added: {}\".format(df_test_merge.shape[1] - df_test.shape[1]))\n",
    "print(\"\\noriginal test set features: {}\".format(df_test.columns.to_list()))\n",
    "print(\"\\nadded features: {}\".format(list(set(df_test_merge.columns)-set(df_test.columns))))"
   ]
  },
  {
   "cell_type": "code",
   "execution_count": 83,
   "metadata": {
    "ExecuteTime": {
     "end_time": "2021-10-21T20:48:50.238219Z",
     "start_time": "2021-10-21T20:48:50.235848Z"
    }
   },
   "outputs": [
    {
     "name": "stdout",
     "output_type": "stream",
     "text": [
      "features difference between train and test dataframes: ['Weekly_Sales']\n"
     ]
    }
   ],
   "source": [
    "#compare columns between df_test and df_test_merge.  Weekly_Sales is target to be predicted using df_test_merge\n",
    "\n",
    "print(\"features difference between train and test dataframes: {}\".\n",
    "      format(list(set(df_merged_train.columns)-set(df_test_merge.columns))))"
   ]
  },
  {
   "cell_type": "code",
   "execution_count": 84,
   "metadata": {
    "ExecuteTime": {
     "end_time": "2021-10-21T20:48:52.057019Z",
     "start_time": "2021-10-21T20:48:50.239137Z"
    }
   },
   "outputs": [],
   "source": [
    "df_test_merge_ = df_test_merge.to_csv('capstone_3_test_data', index=False)"
   ]
  },
  {
   "cell_type": "code",
   "execution_count": null,
   "metadata": {},
   "outputs": [],
   "source": []
  }
 ],
 "metadata": {
  "kernelspec": {
   "display_name": "Python 3",
   "language": "python",
   "name": "python3"
  },
  "language_info": {
   "codemirror_mode": {
    "name": "ipython",
    "version": 3
   },
   "file_extension": ".py",
   "mimetype": "text/x-python",
   "name": "python",
   "nbconvert_exporter": "python",
   "pygments_lexer": "ipython3",
   "version": "3.8.5"
  },
  "toc": {
   "base_numbering": 1,
   "nav_menu": {},
   "number_sections": false,
   "sideBar": true,
   "skip_h1_title": false,
   "title_cell": "Table of Contents",
   "title_sidebar": "Contents",
   "toc_cell": true,
   "toc_position": {},
   "toc_section_display": true,
   "toc_window_display": true
  },
  "varInspector": {
   "cols": {
    "lenName": 16,
    "lenType": 16,
    "lenVar": 40
   },
   "kernels_config": {
    "python": {
     "delete_cmd_postfix": "",
     "delete_cmd_prefix": "del ",
     "library": "var_list.py",
     "varRefreshCmd": "print(var_dic_list())"
    },
    "r": {
     "delete_cmd_postfix": ") ",
     "delete_cmd_prefix": "rm(",
     "library": "var_list.r",
     "varRefreshCmd": "cat(var_dic_list()) "
    }
   },
   "oldHeight": 122,
   "position": {
    "height": "40px",
    "left": "886px",
    "right": "20px",
    "top": "68px",
    "width": "350px"
   },
   "types_to_exclude": [
    "module",
    "function",
    "builtin_function_or_method",
    "instance",
    "_Feature"
   ],
   "varInspector_section_display": "none",
   "window_display": true
  }
 },
 "nbformat": 4,
 "nbformat_minor": 4
}
