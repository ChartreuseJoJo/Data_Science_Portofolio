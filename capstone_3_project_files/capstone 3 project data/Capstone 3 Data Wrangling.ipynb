{
 "cells": [
  {
   "cell_type": "markdown",
   "metadata": {
    "toc": true
   },
   "source": [
    "<h1>Table of Contents<span class=\"tocSkip\"></span></h1>\n",
    "<div class=\"toc\"><ul class=\"toc-item\"><li><span><a href=\"#Import-Modules\" data-toc-modified-id=\"Import-Modules-1\">Import Modules</a></span></li><li><span><a href=\"#General-Outline\" data-toc-modified-id=\"General-Outline-2\">General Outline</a></span><ul class=\"toc-item\"><li><span><a href=\"#Hypothesis:--Does-inclusion-of-consumer-price-index-(cpi)-improve-model-prediction-score-for-sales?\" data-toc-modified-id=\"Hypothesis:--Does-inclusion-of-consumer-price-index-(cpi)-improve-model-prediction-score-for-sales?-2.1\">Hypothesis:  Does inclusion of consumer price index (cpi) improve model prediction score for sales?</a></span></li></ul></li><li><span><a href=\"#Import-data\" data-toc-modified-id=\"Import-data-3\">Import data</a></span></li><li><span><a href=\"#Data\" data-toc-modified-id=\"Data-4\">Data</a></span><ul class=\"toc-item\"><li><span><a href=\"#Description-of-columns-and-values--\" data-toc-modified-id=\"Description-of-columns-and-values---4.1\">Description of columns and values -</a></span></li></ul></li><li><span><a href=\"#Stores.csv-Exploratory-Data-Analysis\" data-toc-modified-id=\"Stores.csv-Exploratory-Data-Analysis-5\">Stores.csv Exploratory Data Analysis</a></span></li><li><span><a href=\"#Train.csv-Exploratory-Data-Analysis\" data-toc-modified-id=\"Train.csv-Exploratory-Data-Analysis-6\">Train.csv Exploratory Data Analysis</a></span></li><li><span><a href=\"#Features.csv-Exploratory-Data-Analysis\" data-toc-modified-id=\"Features.csv-Exploratory-Data-Analysis-7\">Features.csv Exploratory Data Analysis</a></span></li><li><span><a href=\"#Features-Data-Wrangling\" data-toc-modified-id=\"Features-Data-Wrangling-8\">Features Data Wrangling</a></span></li><li><span><a href=\"#df_train-and-Weekly_Sales\" data-toc-modified-id=\"df_train-and-Weekly_Sales-9\">df_train and Weekly_Sales</a></span><ul class=\"toc-item\"><li><span><a href=\"#Plot-of-Weekly_Sales-for-individual-stores\" data-toc-modified-id=\"Plot-of-Weekly_Sales-for-individual-stores-9.1\">Plot of Weekly_Sales for individual stores</a></span></li><li><span><a href=\"#Plot-of-Weekly_Sales-for-departments-within-a-store\" data-toc-modified-id=\"Plot-of-Weekly_Sales-for-departments-within-a-store-9.2\">Plot of Weekly_Sales for departments within a store</a></span></li></ul></li></ul></div>"
   ]
  },
  {
   "cell_type": "markdown",
   "metadata": {},
   "source": [
    "# Import Modules"
   ]
  },
  {
   "cell_type": "code",
   "execution_count": 1,
   "metadata": {},
   "outputs": [],
   "source": [
    "import pandas as pd\n",
    "import numpy as np\n",
    "\n",
    "import matplotlib.pyplot as plt\n",
    "import plotly.express as px\n",
    "import plotly.graph_objects as go\n",
    "from plotly.subplots import make_subplots\n",
    "import seaborn as sns\n",
    "\n",
    "\n",
    "import ipywidgets as widgets\n",
    "from ipywidgets import interact, interact_manual"
   ]
  },
  {
   "cell_type": "markdown",
   "metadata": {},
   "source": [
    "# General Outline\n",
    "\n",
    "## Hypothesis:  Does inclusion of consumer price index (cpi) improve model prediction score for sales?\n",
    "\n",
    "download data\n",
    "\n",
    "1.  consumer price index:  \n",
    "\n",
    "four dataframes: \n",
    "- df_stores \n",
    "- df_features\n",
    "- df_test\n",
    "- df_train"
   ]
  },
  {
   "cell_type": "code",
   "execution_count": 2,
   "metadata": {},
   "outputs": [
    {
     "name": "stdout",
     "output_type": "stream",
     "text": [
      "Capstone 3 Data Wrangling.ipynb \u001b[34mcapstone 3 project data\u001b[m\u001b[m\r\n"
     ]
    }
   ],
   "source": [
    "!ls\n"
   ]
  },
  {
   "cell_type": "markdown",
   "metadata": {},
   "source": [
    "# Import data"
   ]
  },
  {
   "cell_type": "code",
   "execution_count": 3,
   "metadata": {},
   "outputs": [],
   "source": [
    "df_stores = pd.read_csv('./capstone 3 project data/stores.csv')"
   ]
  },
  {
   "cell_type": "code",
   "execution_count": 4,
   "metadata": {},
   "outputs": [],
   "source": [
    "df_features = pd.read_csv('./capstone 3 project data/features.csv')"
   ]
  },
  {
   "cell_type": "code",
   "execution_count": 5,
   "metadata": {},
   "outputs": [],
   "source": [
    "df_test = pd.read_csv('./capstone 3 project data/test.csv')"
   ]
  },
  {
   "cell_type": "code",
   "execution_count": 6,
   "metadata": {},
   "outputs": [],
   "source": [
    "df_train = pd.read_csv('./capstone 3 project data/train.csv')"
   ]
  },
  {
   "cell_type": "markdown",
   "metadata": {},
   "source": [
    "# Data\n",
    "\n",
    "## Description of columns and values - \n",
    "\n",
    "from kaggle.com-\n",
    "\n",
    " - stores.csv\n",
    "\n",
    "This file contains anonymized information about the 45 stores, indicating the type and size of store.\n",
    "\n",
    " - train.csv\n",
    "\n",
    "This is the historical training data, which covers to 2010-02-05 to 2012-11-01. Within this file you will find the following fields:\n",
    "\n",
    "Store - the store number <br>\n",
    "Dept - the department number <br>\n",
    "Date - the week <br>\n",
    "Weekly_Sales -  sales for the given department in the given store <br>\n",
    "IsHoliday - whether the week is a special holiday week <br>\n",
    "\n",
    " - test.csv\n",
    "\n",
    "This file is identical to train.csv, except we have withheld the weekly sales. You must predict the sales for each triplet of store, department, and date in this file.\n",
    "\n",
    " - features.csv\n",
    "\n",
    "This file contains additional data related to the store, department, and regional activity for the given dates. It contains the following fields:\n",
    "\n",
    "Store - the store number <br>\n",
    "Date - the week <br>\n",
    "Temperature - average temperature in the region <br>\n",
    "Fuel_Price - cost of fuel in the region <br>\n",
    "MarkDown1-5 - anonymized data related to promotional markdowns that Walmart is running. MarkDown data is only available after Nov 2011, and is not available for all stores all the time. Any missing value is marked with an NA. <br>\n",
    "CPI - the consumer price index <br>\n",
    "Unemployment - the unemployment rate <br>\n",
    "IsHoliday - whether the week is a special holiday week <br>\n",
    "For convenience, the four holidays fall within the following weeks in the dataset (not all holidays are in the data):\n",
    "\n",
    "Super Bowl: 12-Feb-10, 11-Feb-11, 10-Feb-12, 8-Feb-13 <br>\n",
    "Labor Day: 10-Sep-10, 9-Sep-11, 7-Sep-12, 6-Sep-13 <br>\n",
    "Thanksgiving: 26-Nov-10, 25-Nov-11, 23-Nov-12, 29-Nov-13 <br>\n",
    "Christmas: 31-Dec-10, 30-Dec-11, 28-Dec-12, 27-Dec-13 <br>"
   ]
  },
  {
   "cell_type": "markdown",
   "metadata": {},
   "source": [
    "# Stores.csv Exploratory Data Analysis\n",
    "\n",
    "Examine Type, Size values\n",
    "\n",
    "1.  There are three store types.  There are 22 'A' Type stores, 17 'B' Type stores, and 6 'C' Type Stores.\n",
    "\n",
    "2.  Grouping the data by store type and computing median of each group\n",
    "\n",
    "    A type store median size: 202406.0 <br>\n",
    "    B type store median size: 114533.0 <br>\n",
    "    C type store median size: 39910.0"
   ]
  },
  {
   "cell_type": "code",
   "execution_count": 7,
   "metadata": {},
   "outputs": [
    {
     "data": {
      "text/html": [
       "<div>\n",
       "<style scoped>\n",
       "    .dataframe tbody tr th:only-of-type {\n",
       "        vertical-align: middle;\n",
       "    }\n",
       "\n",
       "    .dataframe tbody tr th {\n",
       "        vertical-align: top;\n",
       "    }\n",
       "\n",
       "    .dataframe thead th {\n",
       "        text-align: right;\n",
       "    }\n",
       "</style>\n",
       "<table border=\"1\" class=\"dataframe\">\n",
       "  <thead>\n",
       "    <tr style=\"text-align: right;\">\n",
       "      <th></th>\n",
       "      <th>Store</th>\n",
       "      <th>Type</th>\n",
       "      <th>Size</th>\n",
       "    </tr>\n",
       "  </thead>\n",
       "  <tbody>\n",
       "    <tr>\n",
       "      <th>0</th>\n",
       "      <td>1</td>\n",
       "      <td>A</td>\n",
       "      <td>151315</td>\n",
       "    </tr>\n",
       "    <tr>\n",
       "      <th>1</th>\n",
       "      <td>2</td>\n",
       "      <td>A</td>\n",
       "      <td>202307</td>\n",
       "    </tr>\n",
       "    <tr>\n",
       "      <th>2</th>\n",
       "      <td>3</td>\n",
       "      <td>B</td>\n",
       "      <td>37392</td>\n",
       "    </tr>\n",
       "    <tr>\n",
       "      <th>3</th>\n",
       "      <td>4</td>\n",
       "      <td>A</td>\n",
       "      <td>205863</td>\n",
       "    </tr>\n",
       "    <tr>\n",
       "      <th>4</th>\n",
       "      <td>5</td>\n",
       "      <td>B</td>\n",
       "      <td>34875</td>\n",
       "    </tr>\n",
       "  </tbody>\n",
       "</table>\n",
       "</div>"
      ],
      "text/plain": [
       "   Store Type    Size\n",
       "0      1    A  151315\n",
       "1      2    A  202307\n",
       "2      3    B   37392\n",
       "3      4    A  205863\n",
       "4      5    B   34875"
      ]
     },
     "execution_count": 7,
     "metadata": {},
     "output_type": "execute_result"
    }
   ],
   "source": [
    "df_stores.head()"
   ]
  },
  {
   "cell_type": "code",
   "execution_count": 8,
   "metadata": {},
   "outputs": [
    {
     "name": "stdout",
     "output_type": "stream",
     "text": [
      "<class 'pandas.core.frame.DataFrame'>\n",
      "RangeIndex: 45 entries, 0 to 44\n",
      "Data columns (total 3 columns):\n",
      " #   Column  Non-Null Count  Dtype \n",
      "---  ------  --------------  ----- \n",
      " 0   Store   45 non-null     int64 \n",
      " 1   Type    45 non-null     object\n",
      " 2   Size    45 non-null     int64 \n",
      "dtypes: int64(2), object(1)\n",
      "memory usage: 1.2+ KB\n"
     ]
    }
   ],
   "source": [
    "df_stores.info()"
   ]
  },
  {
   "cell_type": "code",
   "execution_count": 9,
   "metadata": {
    "scrolled": true
   },
   "outputs": [
    {
     "data": {
      "text/plain": [
       "Store    0\n",
       "Type     0\n",
       "Size     0\n",
       "dtype: int64"
      ]
     },
     "execution_count": 9,
     "metadata": {},
     "output_type": "execute_result"
    }
   ],
   "source": [
    "#  inspect df_stores for missing, nan values.  no missing values\n",
    "\n",
    "df_stores.isna().sum()"
   ]
  },
  {
   "cell_type": "code",
   "execution_count": 10,
   "metadata": {
    "scrolled": true
   },
   "outputs": [
    {
     "name": "stdout",
     "output_type": "stream",
     "text": [
      "A type store count:Store    22\n",
      "Type     22\n",
      "Size     22\n",
      "dtype: int64 \n",
      "B type store count:Store    17\n",
      "Type     17\n",
      "Size     17\n",
      "dtype: int64 \n",
      "C type store count:Store    6\n",
      "Type     6\n",
      "Size     6\n",
      "dtype: int64\n"
     ]
    }
   ],
   "source": [
    "df_stores.Type.unique()\n",
    "\n",
    "print(\"A type store count:{0} \\nB type store count:{1} \\nC type store count:{2}\".format(\n",
    "    df_stores[df_stores['Type'] == 'A'].count(), df_stores[df_stores['Type'] == 'B'].count(),\n",
    "    df_stores[df_stores['Type'] == 'C'].count()))"
   ]
  },
  {
   "cell_type": "code",
   "execution_count": 11,
   "metadata": {},
   "outputs": [
    {
     "name": "stdout",
     "output_type": "stream",
     "text": [
      "           Store           Size\n",
      "count  22.000000      22.000000\n",
      "mean   22.227273  177247.727273\n",
      "std    13.078269   49392.621098\n",
      "min     1.000000   39690.000000\n",
      "25%    11.500000  155840.750000\n",
      "50%    25.000000  202406.000000\n",
      "75%    32.750000  203819.000000\n",
      "max    41.000000  219622.000000\n",
      "           Store           Size\n",
      "count  17.000000      17.000000\n",
      "mean   18.352941  101190.705882\n",
      "std    11.028039   32371.137916\n",
      "min     3.000000   34875.000000\n",
      "25%    10.000000   93188.000000\n",
      "50%    17.000000  114533.000000\n",
      "75%    23.000000  123737.000000\n",
      "max    45.000000  140167.000000\n",
      "           Store          Size\n",
      "count   6.000000      6.000000\n",
      "mean   39.000000  40541.666667\n",
      "std     5.215362   1304.145033\n",
      "min    30.000000  39690.000000\n",
      "25%    37.250000  39745.000000\n",
      "50%    40.000000  39910.000000\n",
      "75%    42.750000  40774.000000\n",
      "max    44.000000  42988.000000\n"
     ]
    }
   ],
   "source": [
    "print(df_stores[df_stores['Type'] == 'A'].describe())\n",
    "print(df_stores[df_stores['Type'] == 'B'].describe())\n",
    "print(df_stores[df_stores['Type'] == 'C'].describe())"
   ]
  },
  {
   "cell_type": "code",
   "execution_count": 12,
   "metadata": {},
   "outputs": [
    {
     "name": "stdout",
     "output_type": "stream",
     "text": [
      "A type store median size: 202406.0 \n",
      "B type store median size: 114533.0 \n",
      "C type store median size: 39910.0\n"
     ]
    }
   ],
   "source": [
    "# each store type group shows some overlap with over store types in size values distribution.  \n",
    "# there is a large difference between mean and median values for Type \"A\" store sizes.\n",
    "\n",
    "print(\"A type store median size: {0} \\nB type store median size: {1} \\nC type store median size: {2}\".format(\n",
    "    df_stores[df_stores['Type'] == 'A']['Size'].median(), df_stores[df_stores['Type'] == 'B']['Size'].median(),\n",
    "    df_stores[df_stores['Type'] == 'C']['Size'].median()))"
   ]
  },
  {
   "cell_type": "markdown",
   "metadata": {},
   "source": [
    "# Train.csv Exploratory Data Analysis\n"
   ]
  },
  {
   "cell_type": "code",
   "execution_count": 13,
   "metadata": {
    "scrolled": true
   },
   "outputs": [
    {
     "data": {
      "text/html": [
       "<div>\n",
       "<style scoped>\n",
       "    .dataframe tbody tr th:only-of-type {\n",
       "        vertical-align: middle;\n",
       "    }\n",
       "\n",
       "    .dataframe tbody tr th {\n",
       "        vertical-align: top;\n",
       "    }\n",
       "\n",
       "    .dataframe thead th {\n",
       "        text-align: right;\n",
       "    }\n",
       "</style>\n",
       "<table border=\"1\" class=\"dataframe\">\n",
       "  <thead>\n",
       "    <tr style=\"text-align: right;\">\n",
       "      <th></th>\n",
       "      <th>Store</th>\n",
       "      <th>Dept</th>\n",
       "      <th>Date</th>\n",
       "      <th>Weekly_Sales</th>\n",
       "      <th>IsHoliday</th>\n",
       "    </tr>\n",
       "  </thead>\n",
       "  <tbody>\n",
       "    <tr>\n",
       "      <th>0</th>\n",
       "      <td>1</td>\n",
       "      <td>1</td>\n",
       "      <td>2010-02-05</td>\n",
       "      <td>24924.50</td>\n",
       "      <td>False</td>\n",
       "    </tr>\n",
       "    <tr>\n",
       "      <th>1</th>\n",
       "      <td>1</td>\n",
       "      <td>1</td>\n",
       "      <td>2010-02-12</td>\n",
       "      <td>46039.49</td>\n",
       "      <td>True</td>\n",
       "    </tr>\n",
       "    <tr>\n",
       "      <th>2</th>\n",
       "      <td>1</td>\n",
       "      <td>1</td>\n",
       "      <td>2010-02-19</td>\n",
       "      <td>41595.55</td>\n",
       "      <td>False</td>\n",
       "    </tr>\n",
       "    <tr>\n",
       "      <th>3</th>\n",
       "      <td>1</td>\n",
       "      <td>1</td>\n",
       "      <td>2010-02-26</td>\n",
       "      <td>19403.54</td>\n",
       "      <td>False</td>\n",
       "    </tr>\n",
       "    <tr>\n",
       "      <th>4</th>\n",
       "      <td>1</td>\n",
       "      <td>1</td>\n",
       "      <td>2010-03-05</td>\n",
       "      <td>21827.90</td>\n",
       "      <td>False</td>\n",
       "    </tr>\n",
       "  </tbody>\n",
       "</table>\n",
       "</div>"
      ],
      "text/plain": [
       "   Store  Dept        Date  Weekly_Sales  IsHoliday\n",
       "0      1     1  2010-02-05      24924.50      False\n",
       "1      1     1  2010-02-12      46039.49       True\n",
       "2      1     1  2010-02-19      41595.55      False\n",
       "3      1     1  2010-02-26      19403.54      False\n",
       "4      1     1  2010-03-05      21827.90      False"
      ]
     },
     "execution_count": 13,
     "metadata": {},
     "output_type": "execute_result"
    }
   ],
   "source": [
    "df_train.head()"
   ]
  },
  {
   "cell_type": "code",
   "execution_count": 14,
   "metadata": {},
   "outputs": [
    {
     "data": {
      "text/html": [
       "<div>\n",
       "<style scoped>\n",
       "    .dataframe tbody tr th:only-of-type {\n",
       "        vertical-align: middle;\n",
       "    }\n",
       "\n",
       "    .dataframe tbody tr th {\n",
       "        vertical-align: top;\n",
       "    }\n",
       "\n",
       "    .dataframe thead th {\n",
       "        text-align: right;\n",
       "    }\n",
       "</style>\n",
       "<table border=\"1\" class=\"dataframe\">\n",
       "  <thead>\n",
       "    <tr style=\"text-align: right;\">\n",
       "      <th></th>\n",
       "      <th></th>\n",
       "      <th>Dept</th>\n",
       "      <th>Weekly_Sales</th>\n",
       "      <th>IsHoliday</th>\n",
       "    </tr>\n",
       "    <tr>\n",
       "      <th>Store</th>\n",
       "      <th>Date</th>\n",
       "      <th></th>\n",
       "      <th></th>\n",
       "      <th></th>\n",
       "    </tr>\n",
       "  </thead>\n",
       "  <tbody>\n",
       "    <tr>\n",
       "      <th rowspan=\"5\" valign=\"top\">1</th>\n",
       "      <th>2010-02-05</th>\n",
       "      <td>3184</td>\n",
       "      <td>1643690.90</td>\n",
       "      <td>0</td>\n",
       "    </tr>\n",
       "    <tr>\n",
       "      <th>2010-02-12</th>\n",
       "      <td>3137</td>\n",
       "      <td>1641957.44</td>\n",
       "      <td>72</td>\n",
       "    </tr>\n",
       "    <tr>\n",
       "      <th>2010-02-19</th>\n",
       "      <td>3184</td>\n",
       "      <td>1611968.17</td>\n",
       "      <td>0</td>\n",
       "    </tr>\n",
       "    <tr>\n",
       "      <th>2010-02-26</th>\n",
       "      <td>3137</td>\n",
       "      <td>1409727.59</td>\n",
       "      <td>0</td>\n",
       "    </tr>\n",
       "    <tr>\n",
       "      <th>2010-03-05</th>\n",
       "      <td>3215</td>\n",
       "      <td>1554806.68</td>\n",
       "      <td>0</td>\n",
       "    </tr>\n",
       "    <tr>\n",
       "      <th>...</th>\n",
       "      <th>...</th>\n",
       "      <td>...</td>\n",
       "      <td>...</td>\n",
       "      <td>...</td>\n",
       "    </tr>\n",
       "    <tr>\n",
       "      <th rowspan=\"5\" valign=\"top\">45</th>\n",
       "      <th>2012-09-28</th>\n",
       "      <td>2853</td>\n",
       "      <td>713173.95</td>\n",
       "      <td>0</td>\n",
       "    </tr>\n",
       "    <tr>\n",
       "      <th>2012-10-05</th>\n",
       "      <td>2952</td>\n",
       "      <td>733455.07</td>\n",
       "      <td>0</td>\n",
       "    </tr>\n",
       "    <tr>\n",
       "      <th>2012-10-12</th>\n",
       "      <td>2853</td>\n",
       "      <td>734464.36</td>\n",
       "      <td>0</td>\n",
       "    </tr>\n",
       "    <tr>\n",
       "      <th>2012-10-19</th>\n",
       "      <td>2853</td>\n",
       "      <td>718125.53</td>\n",
       "      <td>0</td>\n",
       "    </tr>\n",
       "    <tr>\n",
       "      <th>2012-10-26</th>\n",
       "      <td>2907</td>\n",
       "      <td>760281.43</td>\n",
       "      <td>0</td>\n",
       "    </tr>\n",
       "  </tbody>\n",
       "</table>\n",
       "<p>6435 rows × 3 columns</p>\n",
       "</div>"
      ],
      "text/plain": [
       "                  Dept  Weekly_Sales  IsHoliday\n",
       "Store Date                                     \n",
       "1     2010-02-05  3184    1643690.90          0\n",
       "      2010-02-12  3137    1641957.44         72\n",
       "      2010-02-19  3184    1611968.17          0\n",
       "      2010-02-26  3137    1409727.59          0\n",
       "      2010-03-05  3215    1554806.68          0\n",
       "...                ...           ...        ...\n",
       "45    2012-09-28  2853     713173.95          0\n",
       "      2012-10-05  2952     733455.07          0\n",
       "      2012-10-12  2853     734464.36          0\n",
       "      2012-10-19  2853     718125.53          0\n",
       "      2012-10-26  2907     760281.43          0\n",
       "\n",
       "[6435 rows x 3 columns]"
      ]
     },
     "execution_count": 14,
     "metadata": {},
     "output_type": "execute_result"
    }
   ],
   "source": [
    "df_train.groupby(['Store', 'Date']).sum()"
   ]
  },
  {
   "cell_type": "code",
   "execution_count": 15,
   "metadata": {
    "scrolled": true
   },
   "outputs": [
    {
     "name": "stdout",
     "output_type": "stream",
     "text": [
      "<class 'pandas.core.frame.DataFrame'>\n",
      "RangeIndex: 421570 entries, 0 to 421569\n",
      "Data columns (total 5 columns):\n",
      " #   Column        Non-Null Count   Dtype  \n",
      "---  ------        --------------   -----  \n",
      " 0   Store         421570 non-null  int64  \n",
      " 1   Dept          421570 non-null  int64  \n",
      " 2   Date          421570 non-null  object \n",
      " 3   Weekly_Sales  421570 non-null  float64\n",
      " 4   IsHoliday     421570 non-null  bool   \n",
      "dtypes: bool(1), float64(1), int64(2), object(1)\n",
      "memory usage: 13.3+ MB\n"
     ]
    },
    {
     "data": {
      "text/plain": [
       "Store           0\n",
       "Dept            0\n",
       "Date            0\n",
       "Weekly_Sales    0\n",
       "IsHoliday       0\n",
       "dtype: int64"
      ]
     },
     "execution_count": 15,
     "metadata": {},
     "output_type": "execute_result"
    }
   ],
   "source": [
    "df_train.info()\n",
    "df_train.isna().sum()"
   ]
  },
  {
   "cell_type": "code",
   "execution_count": 16,
   "metadata": {},
   "outputs": [
    {
     "data": {
      "text/html": [
       "<div>\n",
       "<style scoped>\n",
       "    .dataframe tbody tr th:only-of-type {\n",
       "        vertical-align: middle;\n",
       "    }\n",
       "\n",
       "    .dataframe tbody tr th {\n",
       "        vertical-align: top;\n",
       "    }\n",
       "\n",
       "    .dataframe thead th {\n",
       "        text-align: right;\n",
       "    }\n",
       "</style>\n",
       "<table border=\"1\" class=\"dataframe\">\n",
       "  <thead>\n",
       "    <tr style=\"text-align: right;\">\n",
       "      <th></th>\n",
       "      <th></th>\n",
       "      <th>Weekly_Sales</th>\n",
       "      <th>IsHoliday</th>\n",
       "    </tr>\n",
       "    <tr>\n",
       "      <th>Store</th>\n",
       "      <th>Dept</th>\n",
       "      <th></th>\n",
       "      <th></th>\n",
       "    </tr>\n",
       "  </thead>\n",
       "  <tbody>\n",
       "    <tr>\n",
       "      <th rowspan=\"5\" valign=\"top\">1</th>\n",
       "      <th>1</th>\n",
       "      <td>3219405.18</td>\n",
       "      <td>10</td>\n",
       "    </tr>\n",
       "    <tr>\n",
       "      <th>2</th>\n",
       "      <td>6592598.93</td>\n",
       "      <td>10</td>\n",
       "    </tr>\n",
       "    <tr>\n",
       "      <th>3</th>\n",
       "      <td>1880518.36</td>\n",
       "      <td>10</td>\n",
       "    </tr>\n",
       "    <tr>\n",
       "      <th>4</th>\n",
       "      <td>5285874.09</td>\n",
       "      <td>10</td>\n",
       "    </tr>\n",
       "    <tr>\n",
       "      <th>5</th>\n",
       "      <td>3468885.58</td>\n",
       "      <td>10</td>\n",
       "    </tr>\n",
       "    <tr>\n",
       "      <th>...</th>\n",
       "      <th>...</th>\n",
       "      <td>...</td>\n",
       "      <td>...</td>\n",
       "    </tr>\n",
       "    <tr>\n",
       "      <th rowspan=\"5\" valign=\"top\">45</th>\n",
       "      <th>94</th>\n",
       "      <td>494496.46</td>\n",
       "      <td>10</td>\n",
       "    </tr>\n",
       "    <tr>\n",
       "      <th>95</th>\n",
       "      <td>7564151.83</td>\n",
       "      <td>10</td>\n",
       "    </tr>\n",
       "    <tr>\n",
       "      <th>96</th>\n",
       "      <td>5.94</td>\n",
       "      <td>0</td>\n",
       "    </tr>\n",
       "    <tr>\n",
       "      <th>97</th>\n",
       "      <td>924775.55</td>\n",
       "      <td>10</td>\n",
       "    </tr>\n",
       "    <tr>\n",
       "      <th>98</th>\n",
       "      <td>75767.27</td>\n",
       "      <td>10</td>\n",
       "    </tr>\n",
       "  </tbody>\n",
       "</table>\n",
       "<p>3331 rows × 2 columns</p>\n",
       "</div>"
      ],
      "text/plain": [
       "            Weekly_Sales  IsHoliday\n",
       "Store Dept                         \n",
       "1     1       3219405.18         10\n",
       "      2       6592598.93         10\n",
       "      3       1880518.36         10\n",
       "      4       5285874.09         10\n",
       "      5       3468885.58         10\n",
       "...                  ...        ...\n",
       "45    94       494496.46         10\n",
       "      95      7564151.83         10\n",
       "      96            5.94          0\n",
       "      97       924775.55         10\n",
       "      98        75767.27         10\n",
       "\n",
       "[3331 rows x 2 columns]"
      ]
     },
     "execution_count": 16,
     "metadata": {},
     "output_type": "execute_result"
    }
   ],
   "source": [
    "# Group by Store\n",
    "\n",
    "df_train.groupby(['Store','Dept']).sum('Weekly_Sales')"
   ]
  },
  {
   "cell_type": "code",
   "execution_count": 17,
   "metadata": {},
   "outputs": [
    {
     "ename": "NameError",
     "evalue": "name 'islands' is not defined",
     "output_type": "error",
     "traceback": [
      "\u001b[0;31m---------------------------------------------------------------------------\u001b[0m",
      "\u001b[0;31mNameError\u001b[0m                                 Traceback (most recent call last)",
      "\u001b[0;32m<ipython-input-17-aa3444ac68f5>\u001b[0m in \u001b[0;36m<module>\u001b[0;34m\u001b[0m\n\u001b[1;32m      7\u001b[0m \u001b[0;32mfor\u001b[0m \u001b[0mspecies\u001b[0m \u001b[0;32min\u001b[0m \u001b[0;34m[\u001b[0m\u001b[0;34m'Adelie'\u001b[0m\u001b[0;34m,\u001b[0m \u001b[0;34m'Chinstrap'\u001b[0m\u001b[0;34m,\u001b[0m \u001b[0;34m'Gentoo'\u001b[0m\u001b[0;34m]\u001b[0m\u001b[0;34m:\u001b[0m\u001b[0;34m\u001b[0m\u001b[0;34m\u001b[0m\u001b[0m\n\u001b[1;32m      8\u001b[0m   \u001b[0;31m# Add a bar chart trace\u001b[0m\u001b[0;34m\u001b[0m\u001b[0;34m\u001b[0m\u001b[0;34m\u001b[0m\u001b[0m\n\u001b[0;32m----> 9\u001b[0;31m   fig.add_trace(go.Bar(x=islands,\n\u001b[0m\u001b[1;32m     10\u001b[0m     \u001b[0;31m# Set the appropriate y subset and name\u001b[0m\u001b[0;34m\u001b[0m\u001b[0;34m\u001b[0m\u001b[0;34m\u001b[0m\u001b[0m\n\u001b[1;32m     11\u001b[0m     \u001b[0my\u001b[0m\u001b[0;34m=\u001b[0m\u001b[0mpenguins_grouped\u001b[0m\u001b[0;34m[\u001b[0m\u001b[0mpenguins_grouped\u001b[0m\u001b[0;34m.\u001b[0m\u001b[0mSpecies\u001b[0m \u001b[0;34m==\u001b[0m \u001b[0mspecies\u001b[0m\u001b[0;34m]\u001b[0m\u001b[0;34m[\u001b[0m\u001b[0;34m'Count'\u001b[0m\u001b[0;34m]\u001b[0m\u001b[0;34m,\u001b[0m\u001b[0;34m\u001b[0m\u001b[0;34m\u001b[0m\u001b[0m\n",
      "\u001b[0;31mNameError\u001b[0m: name 'islands' is not defined"
     ]
    }
   ],
   "source": [
    "# - Code Example - \n",
    "\n",
    "# Create the base figure\n",
    "fig = go.Figure()\n",
    "\n",
    "# Loop through the species\n",
    "for species in ['Adelie', 'Chinstrap', 'Gentoo']:\n",
    "  # Add a bar chart trace\n",
    "  fig.add_trace(go.Bar(x=islands,\n",
    "    # Set the appropriate y subset and name\n",
    "    y=penguins_grouped[penguins_grouped.Species == species]['Count'],\n",
    "    name=species))\n",
    "# Show the figure\n",
    "fig.show()\n",
    "\n",
    "\n",
    "# species subplots example\n",
    "\n",
    "fig = make_subplots(rows = 3, cols=1, shared_xaxes=True, shared_yaxes='columns',\n",
    "                   subplot_titles = ['setosa', 'versicolor', 'virginica'],\n",
    "                   row_heights = (50,50,50))\n",
    "\n",
    "row_num = 1\n",
    "\n",
    "for variety in df['species'].unique():\n",
    "    # filter df for specific species\n",
    "    df_ = df[df.species == variety]\n",
    "    # add scatter of petal_width vs petal_length\n",
    "    fig.add_trace(go.Scatter(x=df_['petal_width'], y=df_['petal_length'], name = variety, mode ='markers'),\n",
    "    # position the trace             \n",
    "    row=row_num, col = 1)\n",
    "    row_num +=1\n",
    "    # axes\n",
    "    fig.update_layout({'xaxis': {'title' : {'text':'Petal Length'}},\n",
    "                 'yaxis': {'title' : {'text':'Count'}}})\n",
    "                  \n",
    "\n",
    "    \n",
    "\n",
    "# show the plot\n",
    "\n",
    "fig.show()\n",
    "\n"
   ]
  },
  {
   "cell_type": "code",
   "execution_count": null,
   "metadata": {},
   "outputs": [],
   "source": [
    "df_subset = df_train[df_train['Store'] == 1]\n",
    "#df_subset[df_subset['Dept'] == 1]\n",
    "#df_subset[df_subset['Dept'] == 1].Weekly_Sales"
   ]
  },
  {
   "cell_type": "code",
   "execution_count": null,
   "metadata": {},
   "outputs": [],
   "source": [
    "# Simplified plot of Store 1, Dept 1 Weekly_Sales\n",
    "\n",
    "fig = go.Figure()\n",
    "\n",
    "fig.add_trace(go.Scatter(x=df_subset['Date'], y = df_subset[df_subset['Dept']==1].Weekly_Sales,\n",
    "                         mode = 'markers'))\n",
    "\n",
    "fig.show()"
   ]
  },
  {
   "cell_type": "code",
   "execution_count": null,
   "metadata": {},
   "outputs": [],
   "source": [
    "# For Store 1, plot Weekly Sales for all departments.\n",
    "\n",
    "df_subset = df_train[df_train['Store'] == 1]\n",
    "\n",
    "# Create the base figure\n",
    "fig = go.Figure()\n",
    "\n",
    "# Loop through the Dept\n",
    "for value in df_subset['Dept'].unique():\n",
    "    # Add a line chart trace\n",
    "    fig.add_trace(go.Scatter(x=df_subset['Date'], y = df_subset[df_subset['Dept']==value].Weekly_Sales,\n",
    "                             name = str(value), mode = 'markers'))\n",
    "                \n",
    "fig.show()\n"
   ]
  },
  {
   "cell_type": "markdown",
   "metadata": {},
   "source": [
    "# Features.csv Exploratory Data Analysis"
   ]
  },
  {
   "cell_type": "code",
   "execution_count": null,
   "metadata": {},
   "outputs": [],
   "source": [
    "df_features.head()\n"
   ]
  },
  {
   "cell_type": "markdown",
   "metadata": {},
   "source": [
    "# Features Data Wrangling"
   ]
  },
  {
   "cell_type": "code",
   "execution_count": null,
   "metadata": {},
   "outputs": [],
   "source": [
    "df_features.head()"
   ]
  },
  {
   "cell_type": "code",
   "execution_count": null,
   "metadata": {},
   "outputs": [],
   "source": [
    "df_features.info()"
   ]
  },
  {
   "cell_type": "code",
   "execution_count": null,
   "metadata": {},
   "outputs": [],
   "source": [
    "# Percentage of values for each features that are missing\n",
    "df_features.isna().sum()/8190 * 100\n"
   ]
  },
  {
   "cell_type": "code",
   "execution_count": null,
   "metadata": {},
   "outputs": [],
   "source": [
    "df_features.describe()"
   ]
  },
  {
   "cell_type": "code",
   "execution_count": null,
   "metadata": {},
   "outputs": [],
   "source": [
    "df_features[df_features.MarkDown1.notna()]"
   ]
  },
  {
   "cell_type": "markdown",
   "metadata": {},
   "source": [
    "# df_train and Weekly_Sales\n",
    "\n",
    "Procedure:\n",
    "\n",
    "1.  For each store, plot Weekly Sales over the time.\n",
    "    a.  Within each store, plot the Weekly_Sales of each Dept over time."
   ]
  },
  {
   "cell_type": "code",
   "execution_count": null,
   "metadata": {},
   "outputs": [],
   "source": [
    "df_train.head()"
   ]
  },
  {
   "cell_type": "code",
   "execution_count": null,
   "metadata": {},
   "outputs": [],
   "source": [
    "# Initial look at Weekly_Sales data.  For each store, total sales of all departments over period.  \n",
    "# Rank stores in order of increasing sales\n",
    "\n",
    "df_train.groupby('Store').sum().sort_values('Weekly_Sales')"
   ]
  },
  {
   "cell_type": "markdown",
   "metadata": {},
   "source": [
    "## Plot of Weekly_Sales for individual stores"
   ]
  },
  {
   "cell_type": "code",
   "execution_count": null,
   "metadata": {},
   "outputs": [],
   "source": [
    "df_train['Dept'].unique()\n",
    "len(df_train['Dept'].unique())"
   ]
  },
  {
   "cell_type": "code",
   "execution_count": null,
   "metadata": {},
   "outputs": [],
   "source": [
    "df_train[df_train['Store'] == 1].sort_values('Dept')"
   ]
  },
  {
   "cell_type": "code",
   "execution_count": null,
   "metadata": {},
   "outputs": [],
   "source": [
    "df_train[df_train['Store'] == 1]['Dept'].unique()\n",
    "len(df_train[df_train['Store'] == 1]['Dept'].unique())"
   ]
  },
  {
   "cell_type": "code",
   "execution_count": null,
   "metadata": {},
   "outputs": [],
   "source": [
    "# Store #1 Weekly_Sales by Dept\n",
    "\n",
    "store = df_train[df_train['Store'] == 1].sort_values('Dept')\n",
    "\n",
    "# Filter Store 1 by Dept 1\n",
    "\n",
    "store_ = store[store['Dept'] == 1]\n",
    "\n",
    "# Plot Weekly Sales for Store 1 Dept 1\n",
    "\n",
    "fig = px.scatter(data_frame=store_, x='Date',\n",
    "                 y='Weekly_Sales', size='Weekly_Sales', color='IsHoliday')\n",
    "#,\n",
    "#                                   # Add columns to the hover information\n",
    "#                   hover_data=['sepal_length',\n",
    "#                               'sepal_width', 'petal_width'],\n",
    "#                   # Add bold variable in hover information\n",
    "#                   hover_name='species')\n",
    "\n",
    "fig.update_layout(legend_title_text = \"Store 1 Dept 1 Weekly Sales\")\n",
    "fig.update_xaxes(title_text = \"Date\")\n",
    "\n",
    "fig.show()"
   ]
  },
  {
   "cell_type": "code",
   "execution_count": null,
   "metadata": {},
   "outputs": [],
   "source": [
    "fig = px.scatter(data_frame=df, x='petal_length',\n",
    "                 y='petal_width', size='sepal_length', color='species',\n",
    "                                   # Add columns to the hover information\n",
    "                   hover_data=['sepal_length',\n",
    "                               'sepal_width', 'petal_width'],\n",
    "                   # Add bold variable in hover information\n",
    "                   hover_name='species')\n",
    "\n",
    "fig.update_layout(legend_title_text = \"Iris Petal Length Histogram\")\n",
    "fig.update_xaxes(title_text = \"Petal Length\")"
   ]
  },
  {
   "cell_type": "code",
   "execution_count": null,
   "metadata": {},
   "outputs": [],
   "source": []
  },
  {
   "cell_type": "code",
   "execution_count": null,
   "metadata": {},
   "outputs": [],
   "source": [
    "# Interactive \n",
    "\n",
    "@interact\n",
    "def show_weeks_with_sales_more_than(column='Store', x=5000, column_='Dept', y=54):\n",
    "    return df_train.sort_values(column, column_)\n",
    "\n",
    "\n",
    "#df_train.groupby('Store').sum().sort_values('Weekly_Sales')\n",
    "\n",
    "#df_train.loc[:,df_train[column] > x, df_train[column_] == y]\n",
    "\n",
    "#@interact\n",
    "#def show_articles_more_than(column='claps', x=5000):\n",
    "#    return df.loc[df[column] > x]"
   ]
  },
  {
   "cell_type": "markdown",
   "metadata": {},
   "source": [
    "## Plot of Weekly_Sales for departments within a store"
   ]
  },
  {
   "cell_type": "code",
   "execution_count": null,
   "metadata": {},
   "outputs": [],
   "source": []
  }
 ],
 "metadata": {
  "kernelspec": {
   "display_name": "Python 3",
   "language": "python",
   "name": "python3"
  },
  "language_info": {
   "codemirror_mode": {
    "name": "ipython",
    "version": 3
   },
   "file_extension": ".py",
   "mimetype": "text/x-python",
   "name": "python",
   "nbconvert_exporter": "python",
   "pygments_lexer": "ipython3",
   "version": "3.8.5"
  },
  "toc": {
   "base_numbering": 1,
   "nav_menu": {},
   "number_sections": false,
   "sideBar": true,
   "skip_h1_title": false,
   "title_cell": "Table of Contents",
   "title_sidebar": "Contents",
   "toc_cell": true,
   "toc_position": {},
   "toc_section_display": true,
   "toc_window_display": true
  },
  "varInspector": {
   "cols": {
    "lenName": 16,
    "lenType": 16,
    "lenVar": 40
   },
   "kernels_config": {
    "python": {
     "delete_cmd_postfix": "",
     "delete_cmd_prefix": "del ",
     "library": "var_list.py",
     "varRefreshCmd": "print(var_dic_list())"
    },
    "r": {
     "delete_cmd_postfix": ") ",
     "delete_cmd_prefix": "rm(",
     "library": "var_list.r",
     "varRefreshCmd": "cat(var_dic_list()) "
    }
   },
   "position": {
    "height": "144px",
    "left": "948px",
    "right": "20px",
    "top": "30px",
    "width": "350px"
   },
   "types_to_exclude": [
    "module",
    "function",
    "builtin_function_or_method",
    "instance",
    "_Feature"
   ],
   "window_display": true
  }
 },
 "nbformat": 4,
 "nbformat_minor": 4
}
