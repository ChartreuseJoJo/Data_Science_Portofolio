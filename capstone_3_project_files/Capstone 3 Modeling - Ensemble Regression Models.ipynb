{
 "cells": [
  {
   "cell_type": "markdown",
   "metadata": {
    "hide_input": false
   },
   "source": [
    "# Capstone 3 - Modeling\n",
    "\n",
    "\n",
    "## Hypothesis:  Does inclusion of consumer confiden index (cci) improve model prediction score for sales?  How much does logrithmic transformation of several non-normal distributed features improve predictions?\n",
    "\n",
    "\n",
    "Procedure:\n",
    "\n",
    "Part I.\n",
    "\n",
    "Build and apply column transformer to Train Set-\n",
    "\n",
    "Nominal Categories: 'IsHoliday', 'Dept'\n",
    "\n",
    "Ordinal Categories: 'Week','Type'\n",
    "\n",
    "Standard Scaler for Numerical Features: 'Temperature', 'Fuel_Price', 'MarkDown1', 'MarkDown2', 'MarkDown3', 'MarkDown4', 'MarkDown5', 'CPI', 'Unemployment', 'Size','cci_value'\n",
    "\n",
    "\n",
    "Part II.  Obtain base model performance metrics without cci values.\n",
    "\n",
    "1. Fit following models without cci data:  Ordinary Least Squares(OLS), ElasticNet, Random Forest Regressor,\n",
    "XGBoost, HistGradientBoost.\n",
    "2. Cross validate to obtain coefficient of determination (R2), mean squared error (MSE), and mean average error (MAE) for each model. \n",
    "\n",
    "Part III.  Using models from Part I, obtain performance metrics with cci values.\n",
    "1. Build and test models from Part I with cci data.\n",
    "2.  Record coefficient of determination (R2), mean squared error (MSE), and mean average error (MAE) for each model. \n",
    "3.  Cross validate to obtain R2, MSE, and MAE scores.\n",
    "4.  Compare R2, MSE, and MAE scores between Parts II and III.\n",
    "\n",
    "Part IV.  Apply logrithmic function to following features: 'MarkDown1', 'MarkDown2', 'MarkDown3', 'MarkDown3',\n",
    "'MarkDown4', 'MarkDown5'\n",
    "1.  Create new features by applying logrithmic function to following features: 'MarkDown1', 'MarkDown2', 'MarkDown3', 'MarkDown3', 'MarkDown4', 'MarkDown5'.\n",
    "2.  Drop original \"MarkDown1\", \"MarkDown2\", \"MarkDown3\", \"MarkDown4\", and \"MarkDown5\" features from Training data.\n",
    "3.  Fit HistGradientBoost and Random Forest models to training data.\n",
    "4.  Cross validate to obtain R2, MSE, MAE scores.\n",
    "5.  Compare R2, MSE MAE scores between II and IV.\n",
    "\n",
    "Results:\n",
    "\n",
    "\n",
    "Conclusion:\n",
    "\n",
    "\n"
   ]
  },
  {
   "cell_type": "markdown",
   "metadata": {},
   "source": [
    "# Import Modules"
   ]
  },
  {
   "cell_type": "code",
   "execution_count": 1,
   "metadata": {
    "ExecuteTime": {
     "end_time": "2021-11-04T21:26:42.567621Z",
     "start_time": "2021-11-04T21:26:41.965290Z"
    }
   },
   "outputs": [],
   "source": [
    "import pandas as pd\n",
    "import numpy as np\n",
    "import matplotlib.pyplot as plt\n",
    "import seaborn as sns\n",
    "\n",
    "%matplotlib inline"
   ]
  },
  {
   "cell_type": "code",
   "execution_count": 2,
   "metadata": {
    "ExecuteTime": {
     "end_time": "2021-11-04T21:26:44.370012Z",
     "start_time": "2021-11-04T21:26:42.568757Z"
    }
   },
   "outputs": [
    {
     "name": "stderr",
     "output_type": "stream",
     "text": [
      "/Users/marshallbanana/opt/anaconda3/lib/python3.8/site-packages/sklearn/experimental/enable_hist_gradient_boosting.py:16: UserWarning: Since version 1.0, it is not needed to import enable_hist_gradient_boosting anymore. HistGradientBoostingClassifier and HistGradientBoostingRegressor are now stable and can be normally imported from sklearn.ensemble.\n",
      "  warnings.warn(\n"
     ]
    }
   ],
   "source": [
    "# sklearn libraries\n",
    "\n",
    "from sklearn.compose import make_column_transformer\n",
    "\n",
    "from sklearn.model_selection import train_test_split\n",
    "from sklearn.model_selection import TimeSeriesSplit, GridSearchCV, RandomizedSearchCV, TimeSeriesSplit\n",
    "\n",
    "from sklearn.preprocessing import StandardScaler, OneHotEncoder, OrdinalEncoder\n",
    "\n",
    "from sklearn.model_selection import cross_validate\n",
    "\n",
    "\n",
    "from sklearn.decomposition import PCA\n",
    "from sklearn.decomposition import NMF\n",
    "\n",
    "from sklearn.tree import DecisionTreeClassifier\n",
    "\n",
    "from sklearn.linear_model import LogisticRegression\n",
    "from sklearn.linear_model import LinearRegression\n",
    "from sklearn.linear_model import Lasso\n",
    "from sklearn.linear_model import ElasticNet\n",
    "\n",
    "\n",
    "from sklearn.ensemble import RandomForestRegressor\n",
    "from sklearn.ensemble import GradientBoostingRegressor\n",
    "from sklearn.experimental import enable_hist_gradient_boosting\n",
    "from sklearn.ensemble import HistGradientBoostingRegressor\n",
    "\n",
    "\n",
    "#Model Metrics\n",
    "from sklearn.metrics import mean_squared_error\n",
    "from sklearn.metrics import mean_absolute_error\n",
    "from sklearn.metrics import r2_score\n",
    "\n",
    "from sklearn.pipeline import Pipeline\n",
    "from sklearn.pipeline import make_pipeline\n",
    "from sklearn.svm import LinearSVC\n",
    "\n",
    "import xgboost as xgb \n",
    "\n",
    "from sklearn.pipeline import Pipeline\n"
   ]
  },
  {
   "cell_type": "code",
   "execution_count": 3,
   "metadata": {
    "ExecuteTime": {
     "end_time": "2021-11-04T21:26:44.507370Z",
     "start_time": "2021-11-04T21:26:44.371399Z"
    },
    "scrolled": true
   },
   "outputs": [
    {
     "name": "stdout",
     "output_type": "stream",
     "text": [
      "Capstone 3 Data Wrangling Ed Gatdula.ipynb\r\n",
      "Capstone 3 EDA Ed Gatdula.ipynb\r\n",
      "Capstone 3 Modeling - Ensemble Regression Models.ipynb\r\n",
      "Capstone 3 Modeling - Linear Regression Models Ed Gatdula.ipynb\r\n",
      "Capstone 3 Modeling - Regression Model Compilations.ipynb\r\n",
      "Capstone 3 Modeling - Results Plots.ipynb\r\n",
      "Capstone 3 Modeling - TimeSeriesSplit Version.ipynb\r\n",
      "Feature Union Worksheet.ipynb\r\n",
      "\u001b[34mKaggle Submissions\u001b[m\u001b[m\r\n",
      "Log Transform MarkDown Features.ipynb\r\n",
      "\u001b[34mMisc Worksheet\u001b[m\u001b[m\r\n",
      "\u001b[34mcapstone 3 project data\u001b[m\u001b[m\r\n",
      "capstone_3\r\n",
      "capstone_3_test_data\r\n",
      "capstone_3_train_data.csv\r\n",
      "capstone_3_wrnglng_results\r\n",
      "df_metric_results\r\n",
      "df_summary_linear\r\n",
      "ensemble_scores_temp\r\n",
      "features_gbrt.png\r\n",
      "kaggle_submission5_randomforest_randomsearchcv\r\n",
      "nov_02_xgb_rf_results\r\n",
      "random_forest_results.csv\r\n",
      "\u001b[34mreport_images\u001b[m\u001b[m\r\n",
      "temp_df\r\n"
     ]
    }
   ],
   "source": [
    "!ls"
   ]
  },
  {
   "cell_type": "markdown",
   "metadata": {},
   "source": [
    "# Import Data\n"
   ]
  },
  {
   "cell_type": "markdown",
   "metadata": {},
   "source": [
    "## Test set: OneHotEncode, OrdinalEncoder"
   ]
  },
  {
   "cell_type": "code",
   "execution_count": 4,
   "metadata": {
    "ExecuteTime": {
     "end_time": "2021-11-04T21:26:44.670569Z",
     "start_time": "2021-11-04T21:26:44.509854Z"
    },
    "scrolled": false
   },
   "outputs": [
    {
     "name": "stdout",
     "output_type": "stream",
     "text": [
      "df_test shape: (115064, 18)\n",
      "\n",
      "<class 'pandas.core.frame.DataFrame'>\n",
      "RangeIndex: 115064 entries, 0 to 115063\n",
      "Data columns (total 18 columns):\n",
      " #   Column        Non-Null Count   Dtype  \n",
      "---  ------        --------------   -----  \n",
      " 0   Date          115064 non-null  object \n",
      " 1   Store         115064 non-null  int64  \n",
      " 2   Dept          115064 non-null  int64  \n",
      " 3   IsHoliday     115064 non-null  int64  \n",
      " 4   Temperature   115064 non-null  float64\n",
      " 5   Fuel_Price    115064 non-null  float64\n",
      " 6   MarkDown1     115064 non-null  float64\n",
      " 7   MarkDown2     115064 non-null  float64\n",
      " 8   MarkDown3     115064 non-null  float64\n",
      " 9   MarkDown4     115064 non-null  float64\n",
      " 10  MarkDown5     115064 non-null  float64\n",
      " 11  CPI           115064 non-null  float64\n",
      " 12  Unemployment  115064 non-null  float64\n",
      " 13  isocalendar   115064 non-null  object \n",
      " 14  Week          115064 non-null  int64  \n",
      " 15  Type          115064 non-null  object \n",
      " 16  Size          115064 non-null  int64  \n",
      " 17  cci_value     115064 non-null  float64\n",
      "dtypes: float64(10), int64(5), object(3)\n",
      "memory usage: 15.8+ MB\n"
     ]
    },
    {
     "data": {
      "text/html": [
       "<div>\n",
       "<style scoped>\n",
       "    .dataframe tbody tr th:only-of-type {\n",
       "        vertical-align: middle;\n",
       "    }\n",
       "\n",
       "    .dataframe tbody tr th {\n",
       "        vertical-align: top;\n",
       "    }\n",
       "\n",
       "    .dataframe thead th {\n",
       "        text-align: right;\n",
       "    }\n",
       "</style>\n",
       "<table border=\"1\" class=\"dataframe\">\n",
       "  <thead>\n",
       "    <tr style=\"text-align: right;\">\n",
       "      <th></th>\n",
       "      <th>Date</th>\n",
       "      <th>Store</th>\n",
       "      <th>Dept</th>\n",
       "      <th>IsHoliday</th>\n",
       "      <th>Temperature</th>\n",
       "      <th>Fuel_Price</th>\n",
       "      <th>MarkDown1</th>\n",
       "      <th>MarkDown2</th>\n",
       "      <th>MarkDown3</th>\n",
       "      <th>MarkDown4</th>\n",
       "      <th>MarkDown5</th>\n",
       "      <th>CPI</th>\n",
       "      <th>Unemployment</th>\n",
       "      <th>isocalendar</th>\n",
       "      <th>Week</th>\n",
       "      <th>Type</th>\n",
       "      <th>Size</th>\n",
       "      <th>cci_value</th>\n",
       "    </tr>\n",
       "  </thead>\n",
       "  <tbody>\n",
       "    <tr>\n",
       "      <th>0</th>\n",
       "      <td>2012-11-02</td>\n",
       "      <td>1</td>\n",
       "      <td>1</td>\n",
       "      <td>0</td>\n",
       "      <td>55.32</td>\n",
       "      <td>3.386</td>\n",
       "      <td>6766.44</td>\n",
       "      <td>5147.7</td>\n",
       "      <td>50.82</td>\n",
       "      <td>3639.9</td>\n",
       "      <td>2737.42</td>\n",
       "      <td>223.462779</td>\n",
       "      <td>6.573</td>\n",
       "      <td>(2012, 44)</td>\n",
       "      <td>44</td>\n",
       "      <td>A</td>\n",
       "      <td>151315</td>\n",
       "      <td>99.00362</td>\n",
       "    </tr>\n",
       "    <tr>\n",
       "      <th>1</th>\n",
       "      <td>2012-11-02</td>\n",
       "      <td>1</td>\n",
       "      <td>2</td>\n",
       "      <td>0</td>\n",
       "      <td>55.32</td>\n",
       "      <td>3.386</td>\n",
       "      <td>6766.44</td>\n",
       "      <td>5147.7</td>\n",
       "      <td>50.82</td>\n",
       "      <td>3639.9</td>\n",
       "      <td>2737.42</td>\n",
       "      <td>223.462779</td>\n",
       "      <td>6.573</td>\n",
       "      <td>(2012, 44)</td>\n",
       "      <td>44</td>\n",
       "      <td>A</td>\n",
       "      <td>151315</td>\n",
       "      <td>99.00362</td>\n",
       "    </tr>\n",
       "    <tr>\n",
       "      <th>2</th>\n",
       "      <td>2012-11-02</td>\n",
       "      <td>1</td>\n",
       "      <td>3</td>\n",
       "      <td>0</td>\n",
       "      <td>55.32</td>\n",
       "      <td>3.386</td>\n",
       "      <td>6766.44</td>\n",
       "      <td>5147.7</td>\n",
       "      <td>50.82</td>\n",
       "      <td>3639.9</td>\n",
       "      <td>2737.42</td>\n",
       "      <td>223.462779</td>\n",
       "      <td>6.573</td>\n",
       "      <td>(2012, 44)</td>\n",
       "      <td>44</td>\n",
       "      <td>A</td>\n",
       "      <td>151315</td>\n",
       "      <td>99.00362</td>\n",
       "    </tr>\n",
       "    <tr>\n",
       "      <th>3</th>\n",
       "      <td>2012-11-02</td>\n",
       "      <td>1</td>\n",
       "      <td>4</td>\n",
       "      <td>0</td>\n",
       "      <td>55.32</td>\n",
       "      <td>3.386</td>\n",
       "      <td>6766.44</td>\n",
       "      <td>5147.7</td>\n",
       "      <td>50.82</td>\n",
       "      <td>3639.9</td>\n",
       "      <td>2737.42</td>\n",
       "      <td>223.462779</td>\n",
       "      <td>6.573</td>\n",
       "      <td>(2012, 44)</td>\n",
       "      <td>44</td>\n",
       "      <td>A</td>\n",
       "      <td>151315</td>\n",
       "      <td>99.00362</td>\n",
       "    </tr>\n",
       "    <tr>\n",
       "      <th>4</th>\n",
       "      <td>2012-11-02</td>\n",
       "      <td>1</td>\n",
       "      <td>5</td>\n",
       "      <td>0</td>\n",
       "      <td>55.32</td>\n",
       "      <td>3.386</td>\n",
       "      <td>6766.44</td>\n",
       "      <td>5147.7</td>\n",
       "      <td>50.82</td>\n",
       "      <td>3639.9</td>\n",
       "      <td>2737.42</td>\n",
       "      <td>223.462779</td>\n",
       "      <td>6.573</td>\n",
       "      <td>(2012, 44)</td>\n",
       "      <td>44</td>\n",
       "      <td>A</td>\n",
       "      <td>151315</td>\n",
       "      <td>99.00362</td>\n",
       "    </tr>\n",
       "  </tbody>\n",
       "</table>\n",
       "</div>"
      ],
      "text/plain": [
       "         Date  Store  Dept  IsHoliday  Temperature  Fuel_Price  MarkDown1  \\\n",
       "0  2012-11-02      1     1          0        55.32       3.386    6766.44   \n",
       "1  2012-11-02      1     2          0        55.32       3.386    6766.44   \n",
       "2  2012-11-02      1     3          0        55.32       3.386    6766.44   \n",
       "3  2012-11-02      1     4          0        55.32       3.386    6766.44   \n",
       "4  2012-11-02      1     5          0        55.32       3.386    6766.44   \n",
       "\n",
       "   MarkDown2  MarkDown3  MarkDown4  MarkDown5         CPI  Unemployment  \\\n",
       "0     5147.7      50.82     3639.9    2737.42  223.462779         6.573   \n",
       "1     5147.7      50.82     3639.9    2737.42  223.462779         6.573   \n",
       "2     5147.7      50.82     3639.9    2737.42  223.462779         6.573   \n",
       "3     5147.7      50.82     3639.9    2737.42  223.462779         6.573   \n",
       "4     5147.7      50.82     3639.9    2737.42  223.462779         6.573   \n",
       "\n",
       "  isocalendar  Week Type    Size  cci_value  \n",
       "0  (2012, 44)    44    A  151315   99.00362  \n",
       "1  (2012, 44)    44    A  151315   99.00362  \n",
       "2  (2012, 44)    44    A  151315   99.00362  \n",
       "3  (2012, 44)    44    A  151315   99.00362  \n",
       "4  (2012, 44)    44    A  151315   99.00362  "
      ]
     },
     "execution_count": 4,
     "metadata": {},
     "output_type": "execute_result"
    }
   ],
   "source": [
    "# test set for kaggle prediction\n",
    "\n",
    "df_test = pd.read_csv('./capstone_3_test_data')\n",
    "print('df_test shape: {}\\n'.format(df_test.shape))\n",
    "df_test.info()\n",
    "df_test.head()"
   ]
  },
  {
   "cell_type": "markdown",
   "metadata": {},
   "source": [
    "## Train Set: OneHotEncoder, OrdinalEncoder\n",
    "\n",
    "Using OrdinalEncoder, OneHotEncoder, StandardScaler to:\n",
    "\n",
    "1. prepare data for model use\n",
    "2. prepare columntransformer in pipeline"
   ]
  },
  {
   "cell_type": "code",
   "execution_count": 5,
   "metadata": {
    "ExecuteTime": {
     "end_time": "2021-11-04T21:26:45.175171Z",
     "start_time": "2021-11-04T21:26:44.671904Z"
    },
    "scrolled": false
   },
   "outputs": [
    {
     "name": "stdout",
     "output_type": "stream",
     "text": [
      "df_train shape: (421570, 19)\n",
      "\n",
      "<class 'pandas.core.frame.DataFrame'>\n",
      "RangeIndex: 421570 entries, 0 to 421569\n",
      "Data columns (total 19 columns):\n",
      " #   Column        Non-Null Count   Dtype  \n",
      "---  ------        --------------   -----  \n",
      " 0   Date          421570 non-null  object \n",
      " 1   Store         421570 non-null  int64  \n",
      " 2   Dept          421570 non-null  int64  \n",
      " 3   Weekly_Sales  421570 non-null  float64\n",
      " 4   IsHoliday     421570 non-null  int64  \n",
      " 5   Temperature   421570 non-null  float64\n",
      " 6   Fuel_Price    421570 non-null  float64\n",
      " 7   MarkDown1     421570 non-null  float64\n",
      " 8   MarkDown2     421570 non-null  float64\n",
      " 9   MarkDown3     421570 non-null  float64\n",
      " 10  MarkDown4     421570 non-null  float64\n",
      " 11  MarkDown5     421570 non-null  float64\n",
      " 12  CPI           421570 non-null  float64\n",
      " 13  Unemployment  421570 non-null  float64\n",
      " 14  isocalendar   421570 non-null  object \n",
      " 15  Week          421570 non-null  int64  \n",
      " 16  Type          421570 non-null  object \n",
      " 17  Size          421570 non-null  int64  \n",
      " 18  cci_value     421570 non-null  float64\n",
      "dtypes: float64(11), int64(5), object(3)\n",
      "memory usage: 61.1+ MB\n"
     ]
    },
    {
     "data": {
      "text/html": [
       "<div>\n",
       "<style scoped>\n",
       "    .dataframe tbody tr th:only-of-type {\n",
       "        vertical-align: middle;\n",
       "    }\n",
       "\n",
       "    .dataframe tbody tr th {\n",
       "        vertical-align: top;\n",
       "    }\n",
       "\n",
       "    .dataframe thead th {\n",
       "        text-align: right;\n",
       "    }\n",
       "</style>\n",
       "<table border=\"1\" class=\"dataframe\">\n",
       "  <thead>\n",
       "    <tr style=\"text-align: right;\">\n",
       "      <th></th>\n",
       "      <th>Date</th>\n",
       "      <th>Store</th>\n",
       "      <th>Dept</th>\n",
       "      <th>Weekly_Sales</th>\n",
       "      <th>IsHoliday</th>\n",
       "      <th>Temperature</th>\n",
       "      <th>Fuel_Price</th>\n",
       "      <th>MarkDown1</th>\n",
       "      <th>MarkDown2</th>\n",
       "      <th>MarkDown3</th>\n",
       "      <th>MarkDown4</th>\n",
       "      <th>MarkDown5</th>\n",
       "      <th>CPI</th>\n",
       "      <th>Unemployment</th>\n",
       "      <th>isocalendar</th>\n",
       "      <th>Week</th>\n",
       "      <th>Type</th>\n",
       "      <th>Size</th>\n",
       "      <th>cci_value</th>\n",
       "    </tr>\n",
       "  </thead>\n",
       "  <tbody>\n",
       "    <tr>\n",
       "      <th>0</th>\n",
       "      <td>2010-02-05</td>\n",
       "      <td>1</td>\n",
       "      <td>1</td>\n",
       "      <td>24924.50</td>\n",
       "      <td>0</td>\n",
       "      <td>42.31</td>\n",
       "      <td>2.572</td>\n",
       "      <td>0.0</td>\n",
       "      <td>0.0</td>\n",
       "      <td>0.0</td>\n",
       "      <td>0.0</td>\n",
       "      <td>0.0</td>\n",
       "      <td>211.096358</td>\n",
       "      <td>8.106</td>\n",
       "      <td>(2010, 5)</td>\n",
       "      <td>5</td>\n",
       "      <td>A</td>\n",
       "      <td>151315</td>\n",
       "      <td>98.22324</td>\n",
       "    </tr>\n",
       "    <tr>\n",
       "      <th>1</th>\n",
       "      <td>2010-02-05</td>\n",
       "      <td>1</td>\n",
       "      <td>2</td>\n",
       "      <td>50605.27</td>\n",
       "      <td>0</td>\n",
       "      <td>42.31</td>\n",
       "      <td>2.572</td>\n",
       "      <td>0.0</td>\n",
       "      <td>0.0</td>\n",
       "      <td>0.0</td>\n",
       "      <td>0.0</td>\n",
       "      <td>0.0</td>\n",
       "      <td>211.096358</td>\n",
       "      <td>8.106</td>\n",
       "      <td>(2010, 5)</td>\n",
       "      <td>5</td>\n",
       "      <td>A</td>\n",
       "      <td>151315</td>\n",
       "      <td>98.22324</td>\n",
       "    </tr>\n",
       "    <tr>\n",
       "      <th>2</th>\n",
       "      <td>2010-02-05</td>\n",
       "      <td>1</td>\n",
       "      <td>3</td>\n",
       "      <td>13740.12</td>\n",
       "      <td>0</td>\n",
       "      <td>42.31</td>\n",
       "      <td>2.572</td>\n",
       "      <td>0.0</td>\n",
       "      <td>0.0</td>\n",
       "      <td>0.0</td>\n",
       "      <td>0.0</td>\n",
       "      <td>0.0</td>\n",
       "      <td>211.096358</td>\n",
       "      <td>8.106</td>\n",
       "      <td>(2010, 5)</td>\n",
       "      <td>5</td>\n",
       "      <td>A</td>\n",
       "      <td>151315</td>\n",
       "      <td>98.22324</td>\n",
       "    </tr>\n",
       "    <tr>\n",
       "      <th>3</th>\n",
       "      <td>2010-02-05</td>\n",
       "      <td>1</td>\n",
       "      <td>4</td>\n",
       "      <td>39954.04</td>\n",
       "      <td>0</td>\n",
       "      <td>42.31</td>\n",
       "      <td>2.572</td>\n",
       "      <td>0.0</td>\n",
       "      <td>0.0</td>\n",
       "      <td>0.0</td>\n",
       "      <td>0.0</td>\n",
       "      <td>0.0</td>\n",
       "      <td>211.096358</td>\n",
       "      <td>8.106</td>\n",
       "      <td>(2010, 5)</td>\n",
       "      <td>5</td>\n",
       "      <td>A</td>\n",
       "      <td>151315</td>\n",
       "      <td>98.22324</td>\n",
       "    </tr>\n",
       "    <tr>\n",
       "      <th>4</th>\n",
       "      <td>2010-02-05</td>\n",
       "      <td>1</td>\n",
       "      <td>5</td>\n",
       "      <td>32229.38</td>\n",
       "      <td>0</td>\n",
       "      <td>42.31</td>\n",
       "      <td>2.572</td>\n",
       "      <td>0.0</td>\n",
       "      <td>0.0</td>\n",
       "      <td>0.0</td>\n",
       "      <td>0.0</td>\n",
       "      <td>0.0</td>\n",
       "      <td>211.096358</td>\n",
       "      <td>8.106</td>\n",
       "      <td>(2010, 5)</td>\n",
       "      <td>5</td>\n",
       "      <td>A</td>\n",
       "      <td>151315</td>\n",
       "      <td>98.22324</td>\n",
       "    </tr>\n",
       "  </tbody>\n",
       "</table>\n",
       "</div>"
      ],
      "text/plain": [
       "         Date  Store  Dept  Weekly_Sales  IsHoliday  Temperature  Fuel_Price  \\\n",
       "0  2010-02-05      1     1      24924.50          0        42.31       2.572   \n",
       "1  2010-02-05      1     2      50605.27          0        42.31       2.572   \n",
       "2  2010-02-05      1     3      13740.12          0        42.31       2.572   \n",
       "3  2010-02-05      1     4      39954.04          0        42.31       2.572   \n",
       "4  2010-02-05      1     5      32229.38          0        42.31       2.572   \n",
       "\n",
       "   MarkDown1  MarkDown2  MarkDown3  MarkDown4  MarkDown5         CPI  \\\n",
       "0        0.0        0.0        0.0        0.0        0.0  211.096358   \n",
       "1        0.0        0.0        0.0        0.0        0.0  211.096358   \n",
       "2        0.0        0.0        0.0        0.0        0.0  211.096358   \n",
       "3        0.0        0.0        0.0        0.0        0.0  211.096358   \n",
       "4        0.0        0.0        0.0        0.0        0.0  211.096358   \n",
       "\n",
       "   Unemployment isocalendar  Week Type    Size  cci_value  \n",
       "0         8.106   (2010, 5)     5    A  151315   98.22324  \n",
       "1         8.106   (2010, 5)     5    A  151315   98.22324  \n",
       "2         8.106   (2010, 5)     5    A  151315   98.22324  \n",
       "3         8.106   (2010, 5)     5    A  151315   98.22324  \n",
       "4         8.106   (2010, 5)     5    A  151315   98.22324  "
      ]
     },
     "execution_count": 5,
     "metadata": {},
     "output_type": "execute_result"
    }
   ],
   "source": [
    "# training data\n",
    "df_train = pd.read_csv('./capstone_3_train_data.csv')\n",
    "print('df_train shape: {}\\n'.format(df_train.shape))\n",
    "df_train.info()\n",
    "df_train.head()"
   ]
  },
  {
   "cell_type": "code",
   "execution_count": 6,
   "metadata": {
    "ExecuteTime": {
     "end_time": "2021-11-04T21:26:45.178636Z",
     "start_time": "2021-11-04T21:26:45.176214Z"
    }
   },
   "outputs": [
    {
     "data": {
      "text/plain": [
       "['Date',\n",
       " 'Store',\n",
       " 'Dept',\n",
       " 'Weekly_Sales',\n",
       " 'IsHoliday',\n",
       " 'Temperature',\n",
       " 'Fuel_Price',\n",
       " 'MarkDown1',\n",
       " 'MarkDown2',\n",
       " 'MarkDown3',\n",
       " 'MarkDown4',\n",
       " 'MarkDown5',\n",
       " 'CPI',\n",
       " 'Unemployment',\n",
       " 'isocalendar',\n",
       " 'Week',\n",
       " 'Type',\n",
       " 'Size',\n",
       " 'cci_value']"
      ]
     },
     "execution_count": 6,
     "metadata": {},
     "output_type": "execute_result"
    }
   ],
   "source": [
    "train_features = df_train.columns.to_list()\n",
    "train_features"
   ]
  },
  {
   "cell_type": "markdown",
   "metadata": {},
   "source": [
    "## Column Transformer Setup\n",
    "\n",
    "\n",
    "two column_transform objects:\n",
    "\n",
    "###  column_transform_no_cci\n",
    "\n",
    "IMPORTANT! drop 'cci_value' from column transformer setup\n"
   ]
  },
  {
   "cell_type": "code",
   "execution_count": 7,
   "metadata": {
    "ExecuteTime": {
     "end_time": "2021-11-04T21:26:45.181853Z",
     "start_time": "2021-11-04T21:26:45.179616Z"
    }
   },
   "outputs": [
    {
     "data": {
      "text/plain": [
       "(421570, 19)"
      ]
     },
     "execution_count": 7,
     "metadata": {},
     "output_type": "execute_result"
    }
   ],
   "source": [
    "df_train.shape"
   ]
  },
  {
   "cell_type": "code",
   "execution_count": 8,
   "metadata": {
    "ExecuteTime": {
     "end_time": "2021-11-04T21:26:46.298861Z",
     "start_time": "2021-11-04T21:26:45.183965Z"
    }
   },
   "outputs": [
    {
     "data": {
      "text/plain": [
       "ColumnTransformer(sparse_threshold=0,\n",
       "                  transformers=[('standardscaler', StandardScaler(),\n",
       "                                 ['Temperature', 'Fuel_Price', 'MarkDown1',\n",
       "                                  'MarkDown2', 'MarkDown3', 'MarkDown4',\n",
       "                                  'MarkDown5', 'CPI', 'Unemployment', 'Size']),\n",
       "                                ('onehotencoder',\n",
       "                                 OneHotEncoder(handle_unknown='ignore'),\n",
       "                                 ['IsHoliday', 'Dept', 'Store']),\n",
       "                                ('ordinalencoder', OrdinalEncoder(),\n",
       "                                 ['Week', 'Type', 'isocalendar'])])"
      ]
     },
     "execution_count": 8,
     "metadata": {},
     "output_type": "execute_result"
    }
   ],
   "source": [
    "# column_transform_no_cci\n",
    "# 'Date', 'Store', 'Dept', 'Weekly_Sales', 'IsHoliday', 'Temperature', 'Fuel_Price', 'MarkDown1',\n",
    "# 'MarkDown2', 'MarkDown3', 'MarkDown4', 'MarkDown5', 'CPI', 'Unemployment', 'isocalendar', 'Week',\n",
    "# 'Type', 'Size', 'cci_value'\n",
    "\n",
    "# 3 Nominal Categories: 'IsHoliday', 'Dept','Store'\n",
    "\n",
    "ohe=OneHotEncoder(handle_unknown='ignore')\n",
    "ohe.fit_transform(df_train[[\"IsHoliday\",'Dept','Store']])\n",
    "ohe.categories_\n",
    "\n",
    "# 3 Ordinal Categories: 'Week', 'Type', 'isocalendar'\n",
    "oe = OrdinalEncoder()\n",
    "oe.fit_transform(df_train[['Week','Type', 'isocalendar']])\n",
    "oe.categories_\n",
    "\n",
    "# 10 Standard Scaler for Numerical Feature\n",
    "scaler = StandardScaler()\n",
    "scaler.fit_transform(df_train[['Temperature', 'Fuel_Price', 'MarkDown1',\n",
    "                                  'MarkDown2', 'MarkDown3', 'MarkDown4',\n",
    "                                  'MarkDown5', 'CPI', 'Unemployment', 'Size',\n",
    "                              #    'cci_value'\n",
    "                              ]])\n",
    "\n",
    "# Instantiate make_column_transformer using standard scaler, onehotencoder, ordinalencoder\n",
    "\n",
    "column_transform_no_cci = make_column_transformer((scaler,['Temperature', 'Fuel_Price','MarkDown1',\n",
    "                                                              'MarkDown2', 'MarkDown3', 'MarkDown4',\n",
    "                                                              'MarkDown5', 'CPI', 'Unemployment', 'Size',\n",
    "                                                          #    'cci_value'\n",
    "                                                          ]),\n",
    "                                           (ohe,['IsHoliday','Dept','Store']), \n",
    "                                           (oe,['Week','Type','isocalendar']),sparse_threshold=0)\n",
    "\n",
    "#fit_transform make_column_transformer object\n",
    "column_transform_no_cci.fit(df_train.drop(columns = ['Date','Weekly_Sales','cci_value']))"
   ]
  },
  {
   "cell_type": "markdown",
   "metadata": {},
   "source": [
    "###  column_transform_cci\n",
    "\n",
    "IMPORTANT:  Retains Consumer Confidence Index (cci) values"
   ]
  },
  {
   "cell_type": "code",
   "execution_count": 9,
   "metadata": {
    "ExecuteTime": {
     "end_time": "2021-11-04T21:26:47.151480Z",
     "start_time": "2021-11-04T21:26:46.300372Z"
    }
   },
   "outputs": [
    {
     "data": {
      "text/plain": [
       "ColumnTransformer(sparse_threshold=0,\n",
       "                  transformers=[('standardscaler', StandardScaler(),\n",
       "                                 ['Temperature', 'Fuel_Price', 'MarkDown1',\n",
       "                                  'MarkDown2', 'MarkDown3', 'MarkDown4',\n",
       "                                  'MarkDown5', 'CPI', 'Unemployment', 'Size',\n",
       "                                  'cci_value']),\n",
       "                                ('onehotencoder',\n",
       "                                 OneHotEncoder(handle_unknown='ignore'),\n",
       "                                 ['IsHoliday', 'Dept', 'Store']),\n",
       "                                ('ordinalencoder', OrdinalEncoder(),\n",
       "                                 ['Week', 'Type', 'isocalendar'])])"
      ]
     },
     "execution_count": 9,
     "metadata": {},
     "output_type": "execute_result"
    }
   ],
   "source": [
    "# column_transform_cci\n",
    "# 'Date', 'Store', 'Dept', 'Weekly_Sales', 'IsHoliday', 'Temperature', 'Fuel_Price', 'MarkDown1',\n",
    "# 'MarkDown2', 'MarkDown3', 'MarkDown4', 'MarkDown5', 'CPI', 'Unemployment', 'isocalendar', 'Week',\n",
    "# 'Type', 'Size', 'cci_value'\n",
    "\n",
    "# 3 Nominal Categories: 'IsHoliday', 'Dept','Store'\n",
    "\n",
    "ohe=OneHotEncoder(handle_unknown='ignore')\n",
    "ohe.fit_transform(df_train[[\"IsHoliday\",'Dept','Store']])\n",
    "ohe.categories_\n",
    "\n",
    "# 3 Ordinal Categories: 'Week', 'Type', 'isocalendar'\n",
    "oe = OrdinalEncoder()\n",
    "oe.fit_transform(df_train[['Week','Type', 'isocalendar']])\n",
    "oe.categories_\n",
    "\n",
    "# 11 Standard Scaler for Numerical Feature (includes 'cci_value' feature)\n",
    "scaler = StandardScaler()\n",
    "scaler.fit_transform(df_train[['Temperature', 'Fuel_Price', 'MarkDown1',\n",
    "                                  'MarkDown2', 'MarkDown3', 'MarkDown4',\n",
    "                                  'MarkDown5', 'CPI', 'Unemployment', 'Size',\n",
    "                                  'cci_value'\n",
    "                              ]])\n",
    "\n",
    "# Instantiate make_column_transformer using standard scaler, onehotencoder, ordinalencoder\n",
    "\n",
    "column_transform_cci = make_column_transformer((scaler,['Temperature', 'Fuel_Price','MarkDown1',\n",
    "                                                              'MarkDown2', 'MarkDown3', 'MarkDown4',\n",
    "                                                              'MarkDown5', 'CPI', 'Unemployment', 'Size',\n",
    "                                                              'cci_value'\n",
    "                                                          ]),\n",
    "                                           (ohe,['IsHoliday','Dept','Store']), \n",
    "                                           (oe,['Week','Type','isocalendar']),sparse_threshold=0)\n",
    "\n",
    "#fit_transform make_column_transformer object\n",
    "column_transform_cci.fit(df_train.drop(columns = ['Date','Weekly_Sales']))\n",
    "\n"
   ]
  },
  {
   "cell_type": "markdown",
   "metadata": {},
   "source": [
    "# Random Forest Regression\n"
   ]
  },
  {
   "cell_type": "markdown",
   "metadata": {},
   "source": [
    "## Random Forest Regressor (no cci_value) - TimeSeriesSplit cross validation"
   ]
  },
  {
   "cell_type": "code",
   "execution_count": 12,
   "metadata": {
    "ExecuteTime": {
     "end_time": "2021-11-01T20:12:08.969385Z",
     "start_time": "2021-11-01T19:54:10.622737Z"
    },
    "scrolled": true
   },
   "outputs": [
    {
     "name": "stdout",
     "output_type": "stream",
     "text": [
      "MSE scores: [-4.07553965e+08 -1.37085670e+08 -2.05669963e+08 -1.69657857e+08\n",
      " -1.01422857e+08]\n",
      "R2 scores: [0.43915919 0.71089562 0.570028   0.49938663 0.72647196]\n",
      "MAE scores: [-9745.24993557 -6149.42349425 -8162.92530431 -7350.72618753\n",
      " -5017.51451143]\n"
     ]
    }
   ],
   "source": [
    "# split data into test train split\n",
    "# cross validate base regression model, no cci_value\n",
    "\n",
    "cv = TimeSeriesSplit(n_splits=5)\n",
    "\n",
    "Y = df_train['Weekly_Sales']\n",
    "X = df_train.drop(columns = ['Date','cci_value','Weekly_Sales'])\n",
    "Z = column_transform_no_cci.fit(df_train.drop(columns = ['Date','cci_value','Weekly_Sales']))\n",
    "\n",
    "randomforest_no_cci_scores = cross_validate(RandomForestRegressor(), Z.transform(X), Y, cv=cv,\n",
    "                        scoring=('r2', 'neg_mean_squared_error', 'neg_mean_absolute_error'), n_jobs=-1)\n",
    "\n",
    "print(\"MSE scores: {}\".format(randomforest_no_cci_scores['test_neg_mean_squared_error']))\n",
    "print(\"R2 scores: {}\".format(randomforest_no_cci_scores['test_r2']))\n",
    "print(\"MAE scores: {}\".format(randomforest_no_cci_scores['test_neg_mean_absolute_error']))"
   ]
  },
  {
   "cell_type": "code",
   "execution_count": 13,
   "metadata": {
    "ExecuteTime": {
     "end_time": "2021-11-01T20:13:26.709415Z",
     "start_time": "2021-11-01T20:13:26.694155Z"
    }
   },
   "outputs": [
    {
     "data": {
      "text/plain": [
       "{'test_r2': 0.59,\n",
       " 'test_neg_mean_squared_error': 204278062.29,\n",
       " 'test_neg_mean_absolute_error': 7285.17}"
      ]
     },
     "execution_count": 13,
     "metadata": {},
     "output_type": "execute_result"
    }
   ],
   "source": [
    "# write a function that returns average of cross validation scores\n",
    "list = {}\n",
    "\n",
    "def scores(name):\n",
    "    keys = ['test_r2', 'test_neg_mean_squared_error',\n",
    "            'test_neg_mean_absolute_error']\n",
    "    for item in keys:\n",
    "        z = list.update({item: np.round(np.mean(np.abs(name[item])), 2)})\n",
    "    return list\n",
    "\n",
    "\n",
    "scores(randomforest_no_cci_scores)"
   ]
  },
  {
   "cell_type": "code",
   "execution_count": 14,
   "metadata": {
    "ExecuteTime": {
     "end_time": "2021-11-01T20:13:48.332533Z",
     "start_time": "2021-11-01T20:13:48.327781Z"
    }
   },
   "outputs": [],
   "source": [
    "# function to write model name and results to a dict.  dict be used to create df_summary entry\n",
    "\n",
    "def write(description, cv_scores):\n",
    "    dict1 = {'model description':description}\n",
    "    dict2 = scores(cv_scores)\n",
    "    dict2.update(dict1)\n",
    "    return(dict2)  "
   ]
  },
  {
   "cell_type": "code",
   "execution_count": 15,
   "metadata": {
    "ExecuteTime": {
     "end_time": "2021-11-01T20:15:18.506721Z",
     "start_time": "2021-11-01T20:15:18.474418Z"
    }
   },
   "outputs": [
    {
     "data": {
      "text/html": [
       "<div>\n",
       "<style scoped>\n",
       "    .dataframe tbody tr th:only-of-type {\n",
       "        vertical-align: middle;\n",
       "    }\n",
       "\n",
       "    .dataframe tbody tr th {\n",
       "        vertical-align: top;\n",
       "    }\n",
       "\n",
       "    .dataframe thead th {\n",
       "        text-align: right;\n",
       "    }\n",
       "</style>\n",
       "<table border=\"1\" class=\"dataframe\">\n",
       "  <thead>\n",
       "    <tr style=\"text-align: right;\">\n",
       "      <th></th>\n",
       "      <th>name</th>\n",
       "      <th>model description</th>\n",
       "      <th>test_neg_mean_absolute_error</th>\n",
       "      <th>test_neg_mean_squared_error</th>\n",
       "      <th>test_r2</th>\n",
       "    </tr>\n",
       "  </thead>\n",
       "  <tbody>\n",
       "    <tr>\n",
       "      <th>0</th>\n",
       "      <td>NaN</td>\n",
       "      <td>randomforest base no cci</td>\n",
       "      <td>7285.17</td>\n",
       "      <td>2.042781e+08</td>\n",
       "      <td>0.59</td>\n",
       "    </tr>\n",
       "  </tbody>\n",
       "</table>\n",
       "</div>"
      ],
      "text/plain": [
       "   name         model description  test_neg_mean_absolute_error  \\\n",
       "0   NaN  randomforest base no cci                       7285.17   \n",
       "\n",
       "   test_neg_mean_squared_error  test_r2  \n",
       "0                 2.042781e+08     0.59  "
      ]
     },
     "execution_count": 15,
     "metadata": {},
     "output_type": "execute_result"
    }
   ],
   "source": [
    "# create dataframe to record performance metrics for all models\n",
    "df_summary = pd.DataFrame(columns = ['name'])\n",
    "df_summary = df_summary.append(write('randomforest base no cci', randomforest_no_cci_scores), ignore_index=True)\n",
    "df_summary"
   ]
  },
  {
   "cell_type": "markdown",
   "metadata": {},
   "source": [
    "## Random Forest Regressor (cci_value) - TimeSeriesSplit CV "
   ]
  },
  {
   "cell_type": "code",
   "execution_count": 173,
   "metadata": {
    "ExecuteTime": {
     "end_time": "2021-11-05T21:05:20.252459Z",
     "start_time": "2021-11-05T20:57:12.144370Z"
    }
   },
   "outputs": [
    {
     "ename": "KeyboardInterrupt",
     "evalue": "",
     "output_type": "error",
     "traceback": [
      "\u001b[0;31m---------------------------------------------------------------------------\u001b[0m",
      "\u001b[0;31mKeyboardInterrupt\u001b[0m                         Traceback (most recent call last)",
      "\u001b[0;32m<ipython-input-173-443b776c1915>\u001b[0m in \u001b[0;36m<module>\u001b[0;34m\u001b[0m\n\u001b[1;32m      8\u001b[0m \u001b[0mZ\u001b[0m \u001b[0;34m=\u001b[0m \u001b[0mcolumn_transform_cci\u001b[0m\u001b[0;34m.\u001b[0m\u001b[0mfit\u001b[0m\u001b[0;34m(\u001b[0m\u001b[0mX\u001b[0m\u001b[0;34m)\u001b[0m\u001b[0;34m\u001b[0m\u001b[0;34m\u001b[0m\u001b[0m\n\u001b[1;32m      9\u001b[0m \u001b[0;34m\u001b[0m\u001b[0m\n\u001b[0;32m---> 10\u001b[0;31m randomforest_cci_scores = cross_validate(RandomForestRegressor(), Z.transform(X), Y, cv=cv,\n\u001b[0m\u001b[1;32m     11\u001b[0m                         scoring=('r2', 'neg_mean_squared_error', 'neg_mean_absolute_error'), n_jobs=-1)\n\u001b[1;32m     12\u001b[0m \u001b[0;34m\u001b[0m\u001b[0m\n",
      "\u001b[0;32m~/opt/anaconda3/lib/python3.8/site-packages/sklearn/model_selection/_validation.py\u001b[0m in \u001b[0;36mcross_validate\u001b[0;34m(estimator, X, y, groups, scoring, cv, n_jobs, verbose, fit_params, pre_dispatch, return_train_score, return_estimator, error_score)\u001b[0m\n\u001b[1;32m    265\u001b[0m     \u001b[0;31m# independent, and that it is pickle-able.\u001b[0m\u001b[0;34m\u001b[0m\u001b[0;34m\u001b[0m\u001b[0;34m\u001b[0m\u001b[0m\n\u001b[1;32m    266\u001b[0m     \u001b[0mparallel\u001b[0m \u001b[0;34m=\u001b[0m \u001b[0mParallel\u001b[0m\u001b[0;34m(\u001b[0m\u001b[0mn_jobs\u001b[0m\u001b[0;34m=\u001b[0m\u001b[0mn_jobs\u001b[0m\u001b[0;34m,\u001b[0m \u001b[0mverbose\u001b[0m\u001b[0;34m=\u001b[0m\u001b[0mverbose\u001b[0m\u001b[0;34m,\u001b[0m \u001b[0mpre_dispatch\u001b[0m\u001b[0;34m=\u001b[0m\u001b[0mpre_dispatch\u001b[0m\u001b[0;34m)\u001b[0m\u001b[0;34m\u001b[0m\u001b[0;34m\u001b[0m\u001b[0m\n\u001b[0;32m--> 267\u001b[0;31m     results = parallel(\n\u001b[0m\u001b[1;32m    268\u001b[0m         delayed(_fit_and_score)(\n\u001b[1;32m    269\u001b[0m             \u001b[0mclone\u001b[0m\u001b[0;34m(\u001b[0m\u001b[0mestimator\u001b[0m\u001b[0;34m)\u001b[0m\u001b[0;34m,\u001b[0m\u001b[0;34m\u001b[0m\u001b[0;34m\u001b[0m\u001b[0m\n",
      "\u001b[0;32m~/opt/anaconda3/lib/python3.8/site-packages/joblib/parallel.py\u001b[0m in \u001b[0;36m__call__\u001b[0;34m(self, iterable)\u001b[0m\n\u001b[1;32m   1059\u001b[0m \u001b[0;34m\u001b[0m\u001b[0m\n\u001b[1;32m   1060\u001b[0m             \u001b[0;32mwith\u001b[0m \u001b[0mself\u001b[0m\u001b[0;34m.\u001b[0m\u001b[0m_backend\u001b[0m\u001b[0;34m.\u001b[0m\u001b[0mretrieval_context\u001b[0m\u001b[0;34m(\u001b[0m\u001b[0;34m)\u001b[0m\u001b[0;34m:\u001b[0m\u001b[0;34m\u001b[0m\u001b[0;34m\u001b[0m\u001b[0m\n\u001b[0;32m-> 1061\u001b[0;31m                 \u001b[0mself\u001b[0m\u001b[0;34m.\u001b[0m\u001b[0mretrieve\u001b[0m\u001b[0;34m(\u001b[0m\u001b[0;34m)\u001b[0m\u001b[0;34m\u001b[0m\u001b[0;34m\u001b[0m\u001b[0m\n\u001b[0m\u001b[1;32m   1062\u001b[0m             \u001b[0;31m# Make sure that we get a last message telling us we are done\u001b[0m\u001b[0;34m\u001b[0m\u001b[0;34m\u001b[0m\u001b[0;34m\u001b[0m\u001b[0m\n\u001b[1;32m   1063\u001b[0m             \u001b[0melapsed_time\u001b[0m \u001b[0;34m=\u001b[0m \u001b[0mtime\u001b[0m\u001b[0;34m.\u001b[0m\u001b[0mtime\u001b[0m\u001b[0;34m(\u001b[0m\u001b[0;34m)\u001b[0m \u001b[0;34m-\u001b[0m \u001b[0mself\u001b[0m\u001b[0;34m.\u001b[0m\u001b[0m_start_time\u001b[0m\u001b[0;34m\u001b[0m\u001b[0;34m\u001b[0m\u001b[0m\n",
      "\u001b[0;32m~/opt/anaconda3/lib/python3.8/site-packages/joblib/parallel.py\u001b[0m in \u001b[0;36mretrieve\u001b[0;34m(self)\u001b[0m\n\u001b[1;32m    938\u001b[0m             \u001b[0;32mtry\u001b[0m\u001b[0;34m:\u001b[0m\u001b[0;34m\u001b[0m\u001b[0;34m\u001b[0m\u001b[0m\n\u001b[1;32m    939\u001b[0m                 \u001b[0;32mif\u001b[0m \u001b[0mgetattr\u001b[0m\u001b[0;34m(\u001b[0m\u001b[0mself\u001b[0m\u001b[0;34m.\u001b[0m\u001b[0m_backend\u001b[0m\u001b[0;34m,\u001b[0m \u001b[0;34m'supports_timeout'\u001b[0m\u001b[0;34m,\u001b[0m \u001b[0;32mFalse\u001b[0m\u001b[0;34m)\u001b[0m\u001b[0;34m:\u001b[0m\u001b[0;34m\u001b[0m\u001b[0;34m\u001b[0m\u001b[0m\n\u001b[0;32m--> 940\u001b[0;31m                     \u001b[0mself\u001b[0m\u001b[0;34m.\u001b[0m\u001b[0m_output\u001b[0m\u001b[0;34m.\u001b[0m\u001b[0mextend\u001b[0m\u001b[0;34m(\u001b[0m\u001b[0mjob\u001b[0m\u001b[0;34m.\u001b[0m\u001b[0mget\u001b[0m\u001b[0;34m(\u001b[0m\u001b[0mtimeout\u001b[0m\u001b[0;34m=\u001b[0m\u001b[0mself\u001b[0m\u001b[0;34m.\u001b[0m\u001b[0mtimeout\u001b[0m\u001b[0;34m)\u001b[0m\u001b[0;34m)\u001b[0m\u001b[0;34m\u001b[0m\u001b[0;34m\u001b[0m\u001b[0m\n\u001b[0m\u001b[1;32m    941\u001b[0m                 \u001b[0;32melse\u001b[0m\u001b[0;34m:\u001b[0m\u001b[0;34m\u001b[0m\u001b[0;34m\u001b[0m\u001b[0m\n\u001b[1;32m    942\u001b[0m                     \u001b[0mself\u001b[0m\u001b[0;34m.\u001b[0m\u001b[0m_output\u001b[0m\u001b[0;34m.\u001b[0m\u001b[0mextend\u001b[0m\u001b[0;34m(\u001b[0m\u001b[0mjob\u001b[0m\u001b[0;34m.\u001b[0m\u001b[0mget\u001b[0m\u001b[0;34m(\u001b[0m\u001b[0;34m)\u001b[0m\u001b[0;34m)\u001b[0m\u001b[0;34m\u001b[0m\u001b[0;34m\u001b[0m\u001b[0m\n",
      "\u001b[0;32m~/opt/anaconda3/lib/python3.8/site-packages/joblib/_parallel_backends.py\u001b[0m in \u001b[0;36mwrap_future_result\u001b[0;34m(future, timeout)\u001b[0m\n\u001b[1;32m    540\u001b[0m         AsyncResults.get from multiprocessing.\"\"\"\n\u001b[1;32m    541\u001b[0m         \u001b[0;32mtry\u001b[0m\u001b[0;34m:\u001b[0m\u001b[0;34m\u001b[0m\u001b[0;34m\u001b[0m\u001b[0m\n\u001b[0;32m--> 542\u001b[0;31m             \u001b[0;32mreturn\u001b[0m \u001b[0mfuture\u001b[0m\u001b[0;34m.\u001b[0m\u001b[0mresult\u001b[0m\u001b[0;34m(\u001b[0m\u001b[0mtimeout\u001b[0m\u001b[0;34m=\u001b[0m\u001b[0mtimeout\u001b[0m\u001b[0;34m)\u001b[0m\u001b[0;34m\u001b[0m\u001b[0;34m\u001b[0m\u001b[0m\n\u001b[0m\u001b[1;32m    543\u001b[0m         \u001b[0;32mexcept\u001b[0m \u001b[0mCfTimeoutError\u001b[0m \u001b[0;32mas\u001b[0m \u001b[0me\u001b[0m\u001b[0;34m:\u001b[0m\u001b[0;34m\u001b[0m\u001b[0;34m\u001b[0m\u001b[0m\n\u001b[1;32m    544\u001b[0m             \u001b[0;32mraise\u001b[0m \u001b[0mTimeoutError\u001b[0m \u001b[0;32mfrom\u001b[0m \u001b[0me\u001b[0m\u001b[0;34m\u001b[0m\u001b[0;34m\u001b[0m\u001b[0m\n",
      "\u001b[0;32m~/opt/anaconda3/lib/python3.8/concurrent/futures/_base.py\u001b[0m in \u001b[0;36mresult\u001b[0;34m(self, timeout)\u001b[0m\n\u001b[1;32m    432\u001b[0m                 \u001b[0;32mreturn\u001b[0m \u001b[0mself\u001b[0m\u001b[0;34m.\u001b[0m\u001b[0m__get_result\u001b[0m\u001b[0;34m(\u001b[0m\u001b[0;34m)\u001b[0m\u001b[0;34m\u001b[0m\u001b[0;34m\u001b[0m\u001b[0m\n\u001b[1;32m    433\u001b[0m \u001b[0;34m\u001b[0m\u001b[0m\n\u001b[0;32m--> 434\u001b[0;31m             \u001b[0mself\u001b[0m\u001b[0;34m.\u001b[0m\u001b[0m_condition\u001b[0m\u001b[0;34m.\u001b[0m\u001b[0mwait\u001b[0m\u001b[0;34m(\u001b[0m\u001b[0mtimeout\u001b[0m\u001b[0;34m)\u001b[0m\u001b[0;34m\u001b[0m\u001b[0;34m\u001b[0m\u001b[0m\n\u001b[0m\u001b[1;32m    435\u001b[0m \u001b[0;34m\u001b[0m\u001b[0m\n\u001b[1;32m    436\u001b[0m             \u001b[0;32mif\u001b[0m \u001b[0mself\u001b[0m\u001b[0;34m.\u001b[0m\u001b[0m_state\u001b[0m \u001b[0;32min\u001b[0m \u001b[0;34m[\u001b[0m\u001b[0mCANCELLED\u001b[0m\u001b[0;34m,\u001b[0m \u001b[0mCANCELLED_AND_NOTIFIED\u001b[0m\u001b[0;34m]\u001b[0m\u001b[0;34m:\u001b[0m\u001b[0;34m\u001b[0m\u001b[0;34m\u001b[0m\u001b[0m\n",
      "\u001b[0;32m~/opt/anaconda3/lib/python3.8/threading.py\u001b[0m in \u001b[0;36mwait\u001b[0;34m(self, timeout)\u001b[0m\n\u001b[1;32m    300\u001b[0m         \u001b[0;32mtry\u001b[0m\u001b[0;34m:\u001b[0m    \u001b[0;31m# restore state no matter what (e.g., KeyboardInterrupt)\u001b[0m\u001b[0;34m\u001b[0m\u001b[0;34m\u001b[0m\u001b[0m\n\u001b[1;32m    301\u001b[0m             \u001b[0;32mif\u001b[0m \u001b[0mtimeout\u001b[0m \u001b[0;32mis\u001b[0m \u001b[0;32mNone\u001b[0m\u001b[0;34m:\u001b[0m\u001b[0;34m\u001b[0m\u001b[0;34m\u001b[0m\u001b[0m\n\u001b[0;32m--> 302\u001b[0;31m                 \u001b[0mwaiter\u001b[0m\u001b[0;34m.\u001b[0m\u001b[0macquire\u001b[0m\u001b[0;34m(\u001b[0m\u001b[0;34m)\u001b[0m\u001b[0;34m\u001b[0m\u001b[0;34m\u001b[0m\u001b[0m\n\u001b[0m\u001b[1;32m    303\u001b[0m                 \u001b[0mgotit\u001b[0m \u001b[0;34m=\u001b[0m \u001b[0;32mTrue\u001b[0m\u001b[0;34m\u001b[0m\u001b[0;34m\u001b[0m\u001b[0m\n\u001b[1;32m    304\u001b[0m             \u001b[0;32melse\u001b[0m\u001b[0;34m:\u001b[0m\u001b[0;34m\u001b[0m\u001b[0;34m\u001b[0m\u001b[0m\n",
      "\u001b[0;31mKeyboardInterrupt\u001b[0m: "
     ]
    }
   ],
   "source": [
    "# split data into test train split\n",
    "# cross validate base regression model, no cci_value\n",
    "\n",
    "cv = TimeSeriesSplit(n_splits=5)\n",
    "\n",
    "Y = df_train['Weekly_Sales']\n",
    "X = df_train.drop(columns = ['Date','Weekly_Sales'])\n",
    "Z = column_transform_cci.fit(X)\n",
    "\n",
    "randomforest_cci_scores = cross_validate(RandomForestRegressor(), Z.transform(X), Y, cv=cv,\n",
    "                        scoring=('r2', 'neg_mean_squared_error', 'neg_mean_absolute_error'), n_jobs=-1)\n",
    "\n",
    "print(\"MSE scores: {}\".format(randomforest_cci_scores['test_neg_mean_squared_error']))\n",
    "print(\"R2 scores: {}\".format(randomforest_cci_scores['test_r2']))\n",
    "print(\"MAE scores: {}\".format(randomforest_cci_scores['test_neg_mean_absolute_error']))\n",
    "\n",
    "# appending metrics to df_summary\n",
    "scores(randomforest_cci_scores)\n",
    "\n",
    "score_dict=write('randomforest cci', randomforest_cci_scores)\n",
    "\n",
    "df_summary=df_summary.append(score_dict, ignore_index=True)\n",
    "df_summary"
   ]
  },
  {
   "cell_type": "markdown",
   "metadata": {},
   "source": [
    "## Random Forest Regressor GridSearchCV"
   ]
  },
  {
   "cell_type": "code",
   "execution_count": 17,
   "metadata": {
    "ExecuteTime": {
     "end_time": "2021-11-01T20:35:35.782488Z",
     "start_time": "2021-11-01T20:35:35.768086Z"
    }
   },
   "outputs": [
    {
     "data": {
      "text/html": [
       "<div>\n",
       "<style scoped>\n",
       "    .dataframe tbody tr th:only-of-type {\n",
       "        vertical-align: middle;\n",
       "    }\n",
       "\n",
       "    .dataframe tbody tr th {\n",
       "        vertical-align: top;\n",
       "    }\n",
       "\n",
       "    .dataframe thead th {\n",
       "        text-align: right;\n",
       "    }\n",
       "</style>\n",
       "<table border=\"1\" class=\"dataframe\">\n",
       "  <thead>\n",
       "    <tr style=\"text-align: right;\">\n",
       "      <th></th>\n",
       "      <th>name</th>\n",
       "      <th>model description</th>\n",
       "      <th>test_neg_mean_absolute_error</th>\n",
       "      <th>test_neg_mean_squared_error</th>\n",
       "      <th>test_r2</th>\n",
       "    </tr>\n",
       "  </thead>\n",
       "  <tbody>\n",
       "    <tr>\n",
       "      <th>0</th>\n",
       "      <td>NaN</td>\n",
       "      <td>randomforest base no cci</td>\n",
       "      <td>7285.17</td>\n",
       "      <td>2.042781e+08</td>\n",
       "      <td>0.59</td>\n",
       "    </tr>\n",
       "    <tr>\n",
       "      <th>1</th>\n",
       "      <td>NaN</td>\n",
       "      <td>randomforest cci</td>\n",
       "      <td>7264.21</td>\n",
       "      <td>2.020688e+08</td>\n",
       "      <td>0.59</td>\n",
       "    </tr>\n",
       "  </tbody>\n",
       "</table>\n",
       "</div>"
      ],
      "text/plain": [
       "   name         model description  test_neg_mean_absolute_error  \\\n",
       "0   NaN  randomforest base no cci                       7285.17   \n",
       "1   NaN          randomforest cci                       7264.21   \n",
       "\n",
       "   test_neg_mean_squared_error  test_r2  \n",
       "0                 2.042781e+08     0.59  \n",
       "1                 2.020688e+08     0.59  "
      ]
     },
     "execution_count": 17,
     "metadata": {},
     "output_type": "execute_result"
    }
   ],
   "source": [
    "df_summary"
   ]
  },
  {
   "cell_type": "code",
   "execution_count": 18,
   "metadata": {
    "ExecuteTime": {
     "end_time": "2021-11-01T21:07:17.296869Z",
     "start_time": "2021-11-01T20:35:41.298740Z"
    },
    "scrolled": true
   },
   "outputs": [
    {
     "name": "stdout",
     "output_type": "stream",
     "text": [
      "{'RandomForest__n_estimators': [75, 80, 85], 'RandomForest__max_depth': [45, 50, 55]}\n",
      "Fitting 5 folds for each of 9 candidates, totalling 45 fits\n"
     ]
    },
    {
     "name": "stderr",
     "output_type": "stream",
     "text": [
      "/Users/marshallbanana/opt/anaconda3/lib/python3.8/site-packages/joblib/externals/loky/process_executor.py:688: UserWarning: A worker stopped while some jobs were given to the executor. This can be caused by a too short worker timeout or by a memory leak.\n",
      "  warnings.warn(\n"
     ]
    },
    {
     "data": {
      "text/plain": [
       "GridSearchCV(cv=TimeSeriesSplit(gap=0, max_train_size=None, n_splits=5, test_size=None),\n",
       "             estimator=Pipeline(steps=[('RandomForest',\n",
       "                                        RandomForestRegressor(max_features='sqrt'))]),\n",
       "             n_jobs=-1,\n",
       "             param_grid={'RandomForest__max_depth': [45, 50, 55],\n",
       "                         'RandomForest__n_estimators': [75, 80, 85]},\n",
       "             verbose=1)"
      ]
     },
     "execution_count": 18,
     "metadata": {},
     "output_type": "execute_result"
    }
   ],
   "source": [
    "# GridSearchCV Lasso Regressor using column_transform\n",
    "\n",
    "# create steps\n",
    "\n",
    "steps = [#('transform', column_transform),\n",
    "         ('RandomForest', RandomForestRegressor(max_features='sqrt'))]\n",
    "\n",
    "#instantiate pipeline object\n",
    "pipe = Pipeline(steps)\n",
    "\n",
    "Y = df_train['Weekly_Sales']\n",
    "X = df_train.drop(columns = ['Date','cci_value','Weekly_Sales'])\n",
    "Z = column_transform_no_cci.fit(X)\n",
    "\n",
    "\n",
    "# GridSearchCV parameters\n",
    "# Number of trees in random forest\n",
    "n_estimators = [int(x) for x in np.linspace(start = 40, stop = 70, num = 7)]\n",
    "# Number of features to consider at every split\n",
    "#max_features = ['auto', 'sqrt']\n",
    "# Maximum number of levels in tree\n",
    "max_depth = [int(x) for x in np.linspace(2, 10, num = 5)]\n",
    "#max_depth.append(None)\n",
    "#max_depth.append(None)\n",
    "\n",
    "param_grid = {'RandomForest__n_estimators': [75,80,85],\n",
    "             'RandomForest__max_depth': [45,50,55]}\n",
    "              \n",
    "                # 'max_features': max_features,\n",
    "               #'RandomForest__max_depth': max_depth}\n",
    "             #  'min_samples_split': min_samples_split,\n",
    "             #  'min_samples_leaf': min_samples_leaf,\n",
    "             #  'bootstrap': bootstrap}\n",
    "\n",
    "print(param_grid)\n",
    "\n",
    "tscv = TimeSeriesSplit(n_splits=5)\n",
    "rf_random = GridSearchCV(pipe, param_grid=param_grid, cv = tscv, verbose=1,n_jobs=-1)\n",
    "\n",
    "# Fit the random search model\n",
    "rf_random.fit(Z.transform(X),Y)\n",
    "\n",
    "\n"
   ]
  },
  {
   "cell_type": "code",
   "execution_count": 19,
   "metadata": {
    "ExecuteTime": {
     "end_time": "2021-11-01T21:07:31.537837Z",
     "start_time": "2021-11-01T21:07:31.530647Z"
    }
   },
   "outputs": [
    {
     "data": {
      "text/plain": [
       "({'RandomForest__max_depth': 50, 'RandomForest__n_estimators': 85},\n",
       " 0.7012128981167465)"
      ]
     },
     "execution_count": 19,
     "metadata": {},
     "output_type": "execute_result"
    }
   ],
   "source": [
    "# gridsearch for max depth only\n",
    "rf_random.best_params_, rf_random.best_score_"
   ]
  },
  {
   "cell_type": "code",
   "execution_count": 175,
   "metadata": {
    "ExecuteTime": {
     "end_time": "2021-11-06T18:36:25.476735Z",
     "start_time": "2021-11-06T18:36:25.440661Z"
    }
   },
   "outputs": [
    {
     "ename": "NameError",
     "evalue": "name 'rf_random' is not defined",
     "output_type": "error",
     "traceback": [
      "\u001b[0;31m---------------------------------------------------------------------------\u001b[0m",
      "\u001b[0;31mNameError\u001b[0m                                 Traceback (most recent call last)",
      "\u001b[0;32m<ipython-input-175-8dc4e677b30f>\u001b[0m in \u001b[0;36m<module>\u001b[0;34m\u001b[0m\n\u001b[0;32m----> 1\u001b[0;31m \u001b[0mrf_random\u001b[0m\u001b[0;34m.\u001b[0m\u001b[0mbest_features_\u001b[0m\u001b[0;34m\u001b[0m\u001b[0;34m\u001b[0m\u001b[0m\n\u001b[0m",
      "\u001b[0;31mNameError\u001b[0m: name 'rf_random' is not defined"
     ]
    }
   ],
   "source": []
  },
  {
   "cell_type": "code",
   "execution_count": null,
   "metadata": {},
   "outputs": [],
   "source": []
  },
  {
   "cell_type": "code",
   "execution_count": null,
   "metadata": {},
   "outputs": [],
   "source": []
  },
  {
   "cell_type": "code",
   "execution_count": null,
   "metadata": {},
   "outputs": [],
   "source": []
  },
  {
   "cell_type": "code",
   "execution_count": null,
   "metadata": {},
   "outputs": [],
   "source": []
  },
  {
   "cell_type": "code",
   "execution_count": 21,
   "metadata": {
    "ExecuteTime": {
     "end_time": "2021-11-02T03:32:31.542686Z",
     "start_time": "2021-11-01T21:07:54.159035Z"
    }
   },
   "outputs": [
    {
     "name": "stdout",
     "output_type": "stream",
     "text": [
      "[-2.39410116e+08 -1.05625607e+08 -1.20597589e+08 -1.61330114e+08\n",
      " -8.85082284e+07]\n",
      "[0.67054433 0.77724276 0.74787963 0.5239595  0.76130151]\n",
      "[-8597.39244074 -6089.48880556 -7223.10534278 -8319.42491558\n",
      " -6380.05666237]\n"
     ]
    }
   ],
   "source": [
    "# cross validate gridsearchcv model\n",
    "# cross validate gridsearchcv model\n",
    "Y = df_train['Weekly_Sales']\n",
    "X = df_train.drop(columns = ['Date','cci_value','Weekly_Sales'])\n",
    "Z = column_transform_no_cci.fit(X)\n",
    "\n",
    "\n",
    "cv = TimeSeriesSplit(n_splits=5)\n",
    "rf_scores = cross_validate(rf_random, Z.transform(X), Y, cv=cv,\n",
    "                        scoring=('r2', 'neg_mean_squared_error', 'neg_mean_absolute_error'), n_jobs=-1)\n",
    "print(rf_scores['test_neg_mean_squared_error'])\n",
    "print(rf_scores['test_r2'])\n",
    "print(rf_scores['test_neg_mean_absolute_error'])"
   ]
  },
  {
   "cell_type": "code",
   "execution_count": 22,
   "metadata": {
    "ExecuteTime": {
     "end_time": "2021-11-02T03:58:19.471164Z",
     "start_time": "2021-11-02T03:58:19.439439Z"
    }
   },
   "outputs": [
    {
     "data": {
      "text/html": [
       "<div>\n",
       "<style scoped>\n",
       "    .dataframe tbody tr th:only-of-type {\n",
       "        vertical-align: middle;\n",
       "    }\n",
       "\n",
       "    .dataframe tbody tr th {\n",
       "        vertical-align: top;\n",
       "    }\n",
       "\n",
       "    .dataframe thead th {\n",
       "        text-align: right;\n",
       "    }\n",
       "</style>\n",
       "<table border=\"1\" class=\"dataframe\">\n",
       "  <thead>\n",
       "    <tr style=\"text-align: right;\">\n",
       "      <th></th>\n",
       "      <th>name</th>\n",
       "      <th>model description</th>\n",
       "      <th>test_neg_mean_absolute_error</th>\n",
       "      <th>test_neg_mean_squared_error</th>\n",
       "      <th>test_r2</th>\n",
       "    </tr>\n",
       "  </thead>\n",
       "  <tbody>\n",
       "    <tr>\n",
       "      <th>0</th>\n",
       "      <td>NaN</td>\n",
       "      <td>randomforest base no cci</td>\n",
       "      <td>7285.17</td>\n",
       "      <td>2.042781e+08</td>\n",
       "      <td>0.59</td>\n",
       "    </tr>\n",
       "    <tr>\n",
       "      <th>1</th>\n",
       "      <td>NaN</td>\n",
       "      <td>randomforest cci</td>\n",
       "      <td>7264.21</td>\n",
       "      <td>2.020688e+08</td>\n",
       "      <td>0.59</td>\n",
       "    </tr>\n",
       "    <tr>\n",
       "      <th>2</th>\n",
       "      <td>NaN</td>\n",
       "      <td>random forest gridsearch</td>\n",
       "      <td>7321.89</td>\n",
       "      <td>1.430943e+08</td>\n",
       "      <td>0.70</td>\n",
       "    </tr>\n",
       "  </tbody>\n",
       "</table>\n",
       "</div>"
      ],
      "text/plain": [
       "   name         model description  test_neg_mean_absolute_error  \\\n",
       "0   NaN  randomforest base no cci                       7285.17   \n",
       "1   NaN          randomforest cci                       7264.21   \n",
       "2   NaN  random forest gridsearch                       7321.89   \n",
       "\n",
       "   test_neg_mean_squared_error  test_r2  \n",
       "0                 2.042781e+08     0.59  \n",
       "1                 2.020688e+08     0.59  \n",
       "2                 1.430943e+08     0.70  "
      ]
     },
     "execution_count": 22,
     "metadata": {},
     "output_type": "execute_result"
    }
   ],
   "source": [
    "# appending metrics to df_summary\n",
    "scores(rf_scores)\n",
    "\n",
    "score_dict=write('random forest gridsearch', rf_scores)\n",
    "\n",
    "df_summary=df_summary.append(score_dict, ignore_index=True)\n",
    "df_summary"
   ]
  },
  {
   "cell_type": "markdown",
   "metadata": {},
   "source": [
    "### Random Forest Model Residuals Plot - \n",
    "\n",
    "1.  Make prediction using Random Forest Model.\n",
    "2.  Calculate residuals.  Residual = Predicted Value - Observed value\n",
    "3.  Plot residuals vs individual features.\n",
    "4.  Observe scatterplot distribution to determine areas where tuned model is not performing well.\n",
    "\n",
    "Summary:\n",
    "\n",
    "The positive value residuals range from 0 to 50000.  The negative residuals are found in the range of 0 to -20000.\n",
    "\n",
    "'Date' - Three dates produce sizeable number of large residual values. 2010-11-26, 2011-12-23, 2010-12-24\t\t\t\n",
    "'Store' - 10, 35 \n",
    "\n",
    "'Dept' - Departments 72, 7 \n",
    "\n",
    "'Temperature' - \n",
    "\n",
    "'Fuel_Price'\n",
    "\n",
    "'MarkDown1' - If residuals for MarkDown1 = 0 are omitted, the distribution of residuals appears to be random\n",
    "\n",
    "'MarkDown2' - If residuals for MarkDown2 = 0 are omitted, the distribution of residuals appears to be random\n",
    "\n",
    "'MarkDown3' - If residuals for MarkDown3 = 0 are omitted, the distribution of residuals appears to be random\n",
    "\n",
    "'MarkDown4' - If residuals for MarkDown4 = 0 are omitted, the distribution of residuals appears to be random\n",
    "\n",
    "'MarkDown5' - If residuals for MarkDown5 = 0 are omitted, the distribution of residuals appears to be random\n",
    "\n"
   ]
  },
  {
   "cell_type": "code",
   "execution_count": 23,
   "metadata": {
    "ExecuteTime": {
     "end_time": "2021-11-02T03:58:27.086282Z",
     "start_time": "2021-11-02T03:58:27.056147Z"
    }
   },
   "outputs": [
    {
     "data": {
      "text/html": [
       "<div>\n",
       "<style scoped>\n",
       "    .dataframe tbody tr th:only-of-type {\n",
       "        vertical-align: middle;\n",
       "    }\n",
       "\n",
       "    .dataframe tbody tr th {\n",
       "        vertical-align: top;\n",
       "    }\n",
       "\n",
       "    .dataframe thead th {\n",
       "        text-align: right;\n",
       "    }\n",
       "</style>\n",
       "<table border=\"1\" class=\"dataframe\">\n",
       "  <thead>\n",
       "    <tr style=\"text-align: right;\">\n",
       "      <th></th>\n",
       "      <th>Date</th>\n",
       "      <th>Store</th>\n",
       "      <th>Dept</th>\n",
       "      <th>Weekly_Sales</th>\n",
       "      <th>IsHoliday</th>\n",
       "      <th>Temperature</th>\n",
       "      <th>Fuel_Price</th>\n",
       "      <th>MarkDown1</th>\n",
       "      <th>MarkDown2</th>\n",
       "      <th>MarkDown3</th>\n",
       "      <th>MarkDown4</th>\n",
       "      <th>MarkDown5</th>\n",
       "      <th>CPI</th>\n",
       "      <th>Unemployment</th>\n",
       "      <th>isocalendar</th>\n",
       "      <th>Week</th>\n",
       "      <th>Type</th>\n",
       "      <th>Size</th>\n",
       "      <th>cci_value</th>\n",
       "    </tr>\n",
       "  </thead>\n",
       "  <tbody>\n",
       "    <tr>\n",
       "      <th>0</th>\n",
       "      <td>2010-02-05</td>\n",
       "      <td>1</td>\n",
       "      <td>1</td>\n",
       "      <td>24924.50</td>\n",
       "      <td>0</td>\n",
       "      <td>42.31</td>\n",
       "      <td>2.572</td>\n",
       "      <td>0.0</td>\n",
       "      <td>0.0</td>\n",
       "      <td>0.0</td>\n",
       "      <td>0.0</td>\n",
       "      <td>0.0</td>\n",
       "      <td>211.096358</td>\n",
       "      <td>8.106</td>\n",
       "      <td>(2010, 5)</td>\n",
       "      <td>5</td>\n",
       "      <td>A</td>\n",
       "      <td>151315</td>\n",
       "      <td>98.22324</td>\n",
       "    </tr>\n",
       "    <tr>\n",
       "      <th>1</th>\n",
       "      <td>2010-02-05</td>\n",
       "      <td>1</td>\n",
       "      <td>2</td>\n",
       "      <td>50605.27</td>\n",
       "      <td>0</td>\n",
       "      <td>42.31</td>\n",
       "      <td>2.572</td>\n",
       "      <td>0.0</td>\n",
       "      <td>0.0</td>\n",
       "      <td>0.0</td>\n",
       "      <td>0.0</td>\n",
       "      <td>0.0</td>\n",
       "      <td>211.096358</td>\n",
       "      <td>8.106</td>\n",
       "      <td>(2010, 5)</td>\n",
       "      <td>5</td>\n",
       "      <td>A</td>\n",
       "      <td>151315</td>\n",
       "      <td>98.22324</td>\n",
       "    </tr>\n",
       "    <tr>\n",
       "      <th>2</th>\n",
       "      <td>2010-02-05</td>\n",
       "      <td>1</td>\n",
       "      <td>3</td>\n",
       "      <td>13740.12</td>\n",
       "      <td>0</td>\n",
       "      <td>42.31</td>\n",
       "      <td>2.572</td>\n",
       "      <td>0.0</td>\n",
       "      <td>0.0</td>\n",
       "      <td>0.0</td>\n",
       "      <td>0.0</td>\n",
       "      <td>0.0</td>\n",
       "      <td>211.096358</td>\n",
       "      <td>8.106</td>\n",
       "      <td>(2010, 5)</td>\n",
       "      <td>5</td>\n",
       "      <td>A</td>\n",
       "      <td>151315</td>\n",
       "      <td>98.22324</td>\n",
       "    </tr>\n",
       "    <tr>\n",
       "      <th>3</th>\n",
       "      <td>2010-02-05</td>\n",
       "      <td>1</td>\n",
       "      <td>4</td>\n",
       "      <td>39954.04</td>\n",
       "      <td>0</td>\n",
       "      <td>42.31</td>\n",
       "      <td>2.572</td>\n",
       "      <td>0.0</td>\n",
       "      <td>0.0</td>\n",
       "      <td>0.0</td>\n",
       "      <td>0.0</td>\n",
       "      <td>0.0</td>\n",
       "      <td>211.096358</td>\n",
       "      <td>8.106</td>\n",
       "      <td>(2010, 5)</td>\n",
       "      <td>5</td>\n",
       "      <td>A</td>\n",
       "      <td>151315</td>\n",
       "      <td>98.22324</td>\n",
       "    </tr>\n",
       "    <tr>\n",
       "      <th>4</th>\n",
       "      <td>2010-02-05</td>\n",
       "      <td>1</td>\n",
       "      <td>5</td>\n",
       "      <td>32229.38</td>\n",
       "      <td>0</td>\n",
       "      <td>42.31</td>\n",
       "      <td>2.572</td>\n",
       "      <td>0.0</td>\n",
       "      <td>0.0</td>\n",
       "      <td>0.0</td>\n",
       "      <td>0.0</td>\n",
       "      <td>0.0</td>\n",
       "      <td>211.096358</td>\n",
       "      <td>8.106</td>\n",
       "      <td>(2010, 5)</td>\n",
       "      <td>5</td>\n",
       "      <td>A</td>\n",
       "      <td>151315</td>\n",
       "      <td>98.22324</td>\n",
       "    </tr>\n",
       "  </tbody>\n",
       "</table>\n",
       "</div>"
      ],
      "text/plain": [
       "         Date  Store  Dept  Weekly_Sales  IsHoliday  Temperature  Fuel_Price  \\\n",
       "0  2010-02-05      1     1      24924.50          0        42.31       2.572   \n",
       "1  2010-02-05      1     2      50605.27          0        42.31       2.572   \n",
       "2  2010-02-05      1     3      13740.12          0        42.31       2.572   \n",
       "3  2010-02-05      1     4      39954.04          0        42.31       2.572   \n",
       "4  2010-02-05      1     5      32229.38          0        42.31       2.572   \n",
       "\n",
       "   MarkDown1  MarkDown2  MarkDown3  MarkDown4  MarkDown5         CPI  \\\n",
       "0        0.0        0.0        0.0        0.0        0.0  211.096358   \n",
       "1        0.0        0.0        0.0        0.0        0.0  211.096358   \n",
       "2        0.0        0.0        0.0        0.0        0.0  211.096358   \n",
       "3        0.0        0.0        0.0        0.0        0.0  211.096358   \n",
       "4        0.0        0.0        0.0        0.0        0.0  211.096358   \n",
       "\n",
       "   Unemployment isocalendar  Week Type    Size  cci_value  \n",
       "0         8.106   (2010, 5)     5    A  151315   98.22324  \n",
       "1         8.106   (2010, 5)     5    A  151315   98.22324  \n",
       "2         8.106   (2010, 5)     5    A  151315   98.22324  \n",
       "3         8.106   (2010, 5)     5    A  151315   98.22324  \n",
       "4         8.106   (2010, 5)     5    A  151315   98.22324  "
      ]
     },
     "execution_count": 23,
     "metadata": {},
     "output_type": "execute_result"
    }
   ],
   "source": [
    "df_random_forest = df_train\n",
    "df_random_forest.head()"
   ]
  },
  {
   "cell_type": "code",
   "execution_count": 53,
   "metadata": {
    "ExecuteTime": {
     "end_time": "2021-11-02T16:31:41.744388Z",
     "start_time": "2021-11-02T16:31:41.728626Z"
    }
   },
   "outputs": [
    {
     "data": {
      "text/html": [
       "<div>\n",
       "<style scoped>\n",
       "    .dataframe tbody tr th:only-of-type {\n",
       "        vertical-align: middle;\n",
       "    }\n",
       "\n",
       "    .dataframe tbody tr th {\n",
       "        vertical-align: top;\n",
       "    }\n",
       "\n",
       "    .dataframe thead th {\n",
       "        text-align: right;\n",
       "    }\n",
       "</style>\n",
       "<table border=\"1\" class=\"dataframe\">\n",
       "  <thead>\n",
       "    <tr style=\"text-align: right;\">\n",
       "      <th></th>\n",
       "      <th>name</th>\n",
       "      <th>model description</th>\n",
       "      <th>test_neg_mean_absolute_error</th>\n",
       "      <th>test_neg_mean_squared_error</th>\n",
       "      <th>test_r2</th>\n",
       "    </tr>\n",
       "  </thead>\n",
       "  <tbody>\n",
       "    <tr>\n",
       "      <th>0</th>\n",
       "      <td>NaN</td>\n",
       "      <td>randomforest base no cci</td>\n",
       "      <td>7285.17</td>\n",
       "      <td>2.042781e+08</td>\n",
       "      <td>0.59</td>\n",
       "    </tr>\n",
       "    <tr>\n",
       "      <th>1</th>\n",
       "      <td>NaN</td>\n",
       "      <td>randomforest cci</td>\n",
       "      <td>7264.21</td>\n",
       "      <td>2.020688e+08</td>\n",
       "      <td>0.59</td>\n",
       "    </tr>\n",
       "    <tr>\n",
       "      <th>2</th>\n",
       "      <td>NaN</td>\n",
       "      <td>random forest gridsearch</td>\n",
       "      <td>7321.89</td>\n",
       "      <td>1.430943e+08</td>\n",
       "      <td>0.70</td>\n",
       "    </tr>\n",
       "    <tr>\n",
       "      <th>3</th>\n",
       "      <td>NaN</td>\n",
       "      <td>xgb_no_cci_scores</td>\n",
       "      <td>8826.88</td>\n",
       "      <td>1.717879e+08</td>\n",
       "      <td>0.65</td>\n",
       "    </tr>\n",
       "    <tr>\n",
       "      <th>4</th>\n",
       "      <td>NaN</td>\n",
       "      <td>xgb_cci_scores</td>\n",
       "      <td>8807.58</td>\n",
       "      <td>1.720648e+08</td>\n",
       "      <td>0.65</td>\n",
       "    </tr>\n",
       "    <tr>\n",
       "      <th>5</th>\n",
       "      <td>NaN</td>\n",
       "      <td>xgb_cci_scores</td>\n",
       "      <td>8807.58</td>\n",
       "      <td>1.720648e+08</td>\n",
       "      <td>0.65</td>\n",
       "    </tr>\n",
       "  </tbody>\n",
       "</table>\n",
       "</div>"
      ],
      "text/plain": [
       "   name         model description  test_neg_mean_absolute_error  \\\n",
       "0   NaN  randomforest base no cci                       7285.17   \n",
       "1   NaN          randomforest cci                       7264.21   \n",
       "2   NaN  random forest gridsearch                       7321.89   \n",
       "3   NaN         xgb_no_cci_scores                       8826.88   \n",
       "4   NaN            xgb_cci_scores                       8807.58   \n",
       "5   NaN            xgb_cci_scores                       8807.58   \n",
       "\n",
       "   test_neg_mean_squared_error  test_r2  \n",
       "0                 2.042781e+08     0.59  \n",
       "1                 2.020688e+08     0.59  \n",
       "2                 1.430943e+08     0.70  \n",
       "3                 1.717879e+08     0.65  \n",
       "4                 1.720648e+08     0.65  \n",
       "5                 1.720648e+08     0.65  "
      ]
     },
     "execution_count": 53,
     "metadata": {},
     "output_type": "execute_result"
    }
   ],
   "source": [
    "df_summary\n",
    "\n"
   ]
  },
  {
   "cell_type": "code",
   "execution_count": 24,
   "metadata": {
    "ExecuteTime": {
     "end_time": "2021-11-02T03:58:44.101325Z",
     "start_time": "2021-11-02T03:58:30.632322Z"
    },
    "scrolled": false
   },
   "outputs": [
    {
     "data": {
      "image/png": "[encoded data removed]",
      "text/plain": [
       "<Figure size 576x576 with 1 Axes>"
      ]
     },
     "metadata": {
      "needs_background": "light"
     },
     "output_type": "display_data"
    },
    {
     "data": {
      "image/png": "[encoded data removed]",
      "text/plain": [
       "<Figure size 576x576 with 1 Axes>"
      ]
     },
     "metadata": {
      "needs_background": "light"
     },
     "output_type": "display_data"
    },
    {
     "data": {
      "image/png": "[encoded data removed]",
      "text/plain": [
       "<Figure size 576x576 with 1 Axes>"
      ]
     },
     "metadata": {
      "needs_background": "light"
     },
     "output_type": "display_data"
    },
    {
     "data": {
      "image/png": "[encoded data removed]",
      "text/plain": [
       "<Figure size 576x576 with 1 Axes>"
      ]
     },
     "metadata": {
      "needs_background": "light"
     },
     "output_type": "display_data"
    },
    {
     "data": {
      "image/png": "[encoded data removed]",
      "text/plain": [
       "<Figure size 576x576 with 1 Axes>"
      ]
     },
     "metadata": {
      "needs_background": "light"
     },
     "output_type": "display_data"
    },
    {
     "data": {
      "image/png": "[encoded data removed]",
      "text/plain": [
       "<Figure size 576x576 with 1 Axes>"
      ]
     },
     "metadata": {
      "needs_background": "light"
     },
     "output_type": "display_data"
    },
    {
     "data": {
      "image/png": "[encoded data removed]",
      "text/plain": [
       "<Figure size 576x576 with 1 Axes>"
      ]
     },
     "metadata": {
      "needs_background": "light"
     },
     "output_type": "display_data"
    },
    {
     "data": {
      "image/png": "[encoded data removed]",
      "text/plain": [
       "<Figure size 576x576 with 1 Axes>"
      ]
     },
     "metadata": {
      "needs_background": "light"
     },
     "output_type": "display_data"
    },
    {
     "data": {
      "image/png": "[encoded data removed]",
      "text/plain": [
       "<Figure size 576x576 with 1 Axes>"
      ]
     },
     "metadata": {
      "needs_background": "light"
     },
     "output_type": "display_data"
    },
    {
     "data": {
      "image/png": "[encoded data removed]",
      "text/plain": [
       "<Figure size 576x576 with 1 Axes>"
      ]
     },
     "metadata": {
      "needs_background": "light"
     },
     "output_type": "display_data"
    },
    {
     "data": {
      "image/png": "[encoded data removed]",
      "text/plain": [
       "<Figure size 576x576 with 1 Axes>"
      ]
     },
     "metadata": {
      "needs_background": "light"
     },
     "output_type": "display_data"
    }
   ],
   "source": [
    "# Calculate residuals\n",
    "Y = df_train['Weekly_Sales']\n",
    "X = df_train.drop(columns = ['Date','cci_value','Weekly_Sales'])\n",
    "Z = column_transform_no_cci.fit(X)\n",
    "\n",
    "y_pred = rf_random.predict(Z.transform(X))\n",
    "\n",
    "df_random_forest['y_pred'] = y_pred\n",
    "df_random_forest['residual'] = y_pred - df_random_forest['Weekly_Sales']\n",
    "\n",
    "# Plot Residuals For Each Random Forest Model Feature\n",
    "\n",
    "features_list = ['Date', 'Store', 'Dept', 'Temperature', 'Fuel_Price', 'MarkDown1', 'MarkDown2', 'MarkDown3',\n",
    "                'MarkDown4', 'MarkDown5', 'Size']\n",
    "\n",
    "for i in features_list:    \n",
    "    plt.figure(figsize=(8,8))\n",
    "    sns.scatterplot(data=df_random_forest, x=i, y='residual' )\n",
    "    plt.show()"
   ]
  },
  {
   "cell_type": "code",
   "execution_count": 25,
   "metadata": {
    "ExecuteTime": {
     "end_time": "2021-11-02T03:58:44.556402Z",
     "start_time": "2021-11-02T03:58:44.503992Z"
    },
    "scrolled": false
   },
   "outputs": [
    {
     "data": {
      "text/html": [
       "<div>\n",
       "<style scoped>\n",
       "    .dataframe tbody tr th:only-of-type {\n",
       "        vertical-align: middle;\n",
       "    }\n",
       "\n",
       "    .dataframe tbody tr th {\n",
       "        vertical-align: top;\n",
       "    }\n",
       "\n",
       "    .dataframe thead th {\n",
       "        text-align: right;\n",
       "    }\n",
       "</style>\n",
       "<table border=\"1\" class=\"dataframe\">\n",
       "  <thead>\n",
       "    <tr style=\"text-align: right;\">\n",
       "      <th></th>\n",
       "      <th>Date</th>\n",
       "      <th>Store</th>\n",
       "      <th>Dept</th>\n",
       "      <th>Weekly_Sales</th>\n",
       "      <th>IsHoliday</th>\n",
       "      <th>Temperature</th>\n",
       "      <th>Fuel_Price</th>\n",
       "      <th>MarkDown1</th>\n",
       "      <th>MarkDown2</th>\n",
       "      <th>MarkDown3</th>\n",
       "      <th>...</th>\n",
       "      <th>MarkDown5</th>\n",
       "      <th>CPI</th>\n",
       "      <th>Unemployment</th>\n",
       "      <th>isocalendar</th>\n",
       "      <th>Week</th>\n",
       "      <th>Type</th>\n",
       "      <th>Size</th>\n",
       "      <th>cci_value</th>\n",
       "      <th>y_pred</th>\n",
       "      <th>residual</th>\n",
       "    </tr>\n",
       "  </thead>\n",
       "  <tbody>\n",
       "    <tr>\n",
       "      <th>90645</th>\n",
       "      <td>2010-11-26</td>\n",
       "      <td>10</td>\n",
       "      <td>72</td>\n",
       "      <td>693099.36</td>\n",
       "      <td>1</td>\n",
       "      <td>55.33</td>\n",
       "      <td>3.162</td>\n",
       "      <td>0.00</td>\n",
       "      <td>0.00</td>\n",
       "      <td>0.00</td>\n",
       "      <td>...</td>\n",
       "      <td>0.00</td>\n",
       "      <td>126.669267</td>\n",
       "      <td>9.003</td>\n",
       "      <td>(2010, 47)</td>\n",
       "      <td>47</td>\n",
       "      <td>B</td>\n",
       "      <td>126512</td>\n",
       "      <td>97.90868</td>\n",
       "      <td>528668.636187</td>\n",
       "      <td>-164430.723813</td>\n",
       "    </tr>\n",
       "    <tr>\n",
       "      <th>94393</th>\n",
       "      <td>2011-11-25</td>\n",
       "      <td>10</td>\n",
       "      <td>72</td>\n",
       "      <td>630999.19</td>\n",
       "      <td>1</td>\n",
       "      <td>60.68</td>\n",
       "      <td>3.760</td>\n",
       "      <td>174.72</td>\n",
       "      <td>329.00</td>\n",
       "      <td>141630.61</td>\n",
       "      <td>...</td>\n",
       "      <td>1009.98</td>\n",
       "      <td>129.836400</td>\n",
       "      <td>7.874</td>\n",
       "      <td>(2011, 47)</td>\n",
       "      <td>47</td>\n",
       "      <td>B</td>\n",
       "      <td>126512</td>\n",
       "      <td>97.01297</td>\n",
       "      <td>468221.737070</td>\n",
       "      <td>-162777.452930</td>\n",
       "    </tr>\n",
       "    <tr>\n",
       "      <th>337053</th>\n",
       "      <td>2011-11-25</td>\n",
       "      <td>35</td>\n",
       "      <td>72</td>\n",
       "      <td>649770.18</td>\n",
       "      <td>1</td>\n",
       "      <td>47.88</td>\n",
       "      <td>3.492</td>\n",
       "      <td>1333.24</td>\n",
       "      <td>0.00</td>\n",
       "      <td>58563.24</td>\n",
       "      <td>...</td>\n",
       "      <td>6386.86</td>\n",
       "      <td>140.421786</td>\n",
       "      <td>8.745</td>\n",
       "      <td>(2011, 47)</td>\n",
       "      <td>47</td>\n",
       "      <td>B</td>\n",
       "      <td>103681</td>\n",
       "      <td>97.01297</td>\n",
       "      <td>496492.635059</td>\n",
       "      <td>-153277.544941</td>\n",
       "    </tr>\n",
       "    <tr>\n",
       "      <th>333594</th>\n",
       "      <td>2010-11-26</td>\n",
       "      <td>35</td>\n",
       "      <td>72</td>\n",
       "      <td>627962.93</td>\n",
       "      <td>1</td>\n",
       "      <td>46.67</td>\n",
       "      <td>3.039</td>\n",
       "      <td>0.00</td>\n",
       "      <td>0.00</td>\n",
       "      <td>0.00</td>\n",
       "      <td>...</td>\n",
       "      <td>0.00</td>\n",
       "      <td>136.689571</td>\n",
       "      <td>8.763</td>\n",
       "      <td>(2010, 47)</td>\n",
       "      <td>47</td>\n",
       "      <td>B</td>\n",
       "      <td>103681</td>\n",
       "      <td>97.90868</td>\n",
       "      <td>509283.587164</td>\n",
       "      <td>-118679.342836</td>\n",
       "    </tr>\n",
       "    <tr>\n",
       "      <th>90886</th>\n",
       "      <td>2010-12-24</td>\n",
       "      <td>10</td>\n",
       "      <td>7</td>\n",
       "      <td>406988.63</td>\n",
       "      <td>0</td>\n",
       "      <td>57.06</td>\n",
       "      <td>3.236</td>\n",
       "      <td>0.00</td>\n",
       "      <td>0.00</td>\n",
       "      <td>0.00</td>\n",
       "      <td>...</td>\n",
       "      <td>0.00</td>\n",
       "      <td>126.983581</td>\n",
       "      <td>9.003</td>\n",
       "      <td>(2010, 51)</td>\n",
       "      <td>51</td>\n",
       "      <td>B</td>\n",
       "      <td>126512</td>\n",
       "      <td>98.19749</td>\n",
       "      <td>300378.609108</td>\n",
       "      <td>-106610.020892</td>\n",
       "    </tr>\n",
       "    <tr>\n",
       "      <th>219800</th>\n",
       "      <td>2010-11-26</td>\n",
       "      <td>23</td>\n",
       "      <td>72</td>\n",
       "      <td>369830.98</td>\n",
       "      <td>1</td>\n",
       "      <td>34.95</td>\n",
       "      <td>3.070</td>\n",
       "      <td>0.00</td>\n",
       "      <td>0.00</td>\n",
       "      <td>0.00</td>\n",
       "      <td>...</td>\n",
       "      <td>0.00</td>\n",
       "      <td>132.836933</td>\n",
       "      <td>5.287</td>\n",
       "      <td>(2010, 47)</td>\n",
       "      <td>47</td>\n",
       "      <td>B</td>\n",
       "      <td>114533</td>\n",
       "      <td>97.90868</td>\n",
       "      <td>264211.038842</td>\n",
       "      <td>-105619.941158</td>\n",
       "    </tr>\n",
       "    <tr>\n",
       "      <th>178778</th>\n",
       "      <td>2010-07-09</td>\n",
       "      <td>19</td>\n",
       "      <td>11</td>\n",
       "      <td>119483.37</td>\n",
       "      <td>0</td>\n",
       "      <td>78.22</td>\n",
       "      <td>2.940</td>\n",
       "      <td>0.00</td>\n",
       "      <td>0.00</td>\n",
       "      <td>0.00</td>\n",
       "      <td>...</td>\n",
       "      <td>0.00</td>\n",
       "      <td>132.546133</td>\n",
       "      <td>8.099</td>\n",
       "      <td>(2010, 27)</td>\n",
       "      <td>27</td>\n",
       "      <td>A</td>\n",
       "      <td>203819</td>\n",
       "      <td>97.75742</td>\n",
       "      <td>22005.975434</td>\n",
       "      <td>-97477.394566</td>\n",
       "    </tr>\n",
       "    <tr>\n",
       "      <th>123551</th>\n",
       "      <td>2011-08-26</td>\n",
       "      <td>13</td>\n",
       "      <td>3</td>\n",
       "      <td>131564.25</td>\n",
       "      <td>0</td>\n",
       "      <td>81.53</td>\n",
       "      <td>3.570</td>\n",
       "      <td>0.00</td>\n",
       "      <td>0.00</td>\n",
       "      <td>0.00</td>\n",
       "      <td>...</td>\n",
       "      <td>0.00</td>\n",
       "      <td>129.283258</td>\n",
       "      <td>6.877</td>\n",
       "      <td>(2011, 34)</td>\n",
       "      <td>34</td>\n",
       "      <td>A</td>\n",
       "      <td>219622</td>\n",
       "      <td>96.31504</td>\n",
       "      <td>35705.975673</td>\n",
       "      <td>-95858.274327</td>\n",
       "    </tr>\n",
       "    <tr>\n",
       "      <th>131321</th>\n",
       "      <td>2010-12-24</td>\n",
       "      <td>14</td>\n",
       "      <td>7</td>\n",
       "      <td>356867.25</td>\n",
       "      <td>0</td>\n",
       "      <td>30.59</td>\n",
       "      <td>3.141</td>\n",
       "      <td>0.00</td>\n",
       "      <td>0.00</td>\n",
       "      <td>0.00</td>\n",
       "      <td>...</td>\n",
       "      <td>0.00</td>\n",
       "      <td>182.544590</td>\n",
       "      <td>8.724</td>\n",
       "      <td>(2010, 51)</td>\n",
       "      <td>51</td>\n",
       "      <td>A</td>\n",
       "      <td>200898</td>\n",
       "      <td>98.19749</td>\n",
       "      <td>264888.789041</td>\n",
       "      <td>-91978.460959</td>\n",
       "    </tr>\n",
       "    <tr>\n",
       "      <th>94634</th>\n",
       "      <td>2011-12-23</td>\n",
       "      <td>10</td>\n",
       "      <td>7</td>\n",
       "      <td>341308.00</td>\n",
       "      <td>0</td>\n",
       "      <td>48.36</td>\n",
       "      <td>3.541</td>\n",
       "      <td>300.02</td>\n",
       "      <td>77.73</td>\n",
       "      <td>2432.01</td>\n",
       "      <td>...</td>\n",
       "      <td>4078.21</td>\n",
       "      <td>129.984548</td>\n",
       "      <td>7.874</td>\n",
       "      <td>(2011, 51)</td>\n",
       "      <td>51</td>\n",
       "      <td>B</td>\n",
       "      <td>126512</td>\n",
       "      <td>97.64204</td>\n",
       "      <td>250199.493878</td>\n",
       "      <td>-91108.506122</td>\n",
       "    </tr>\n",
       "    <tr>\n",
       "      <th>190370</th>\n",
       "      <td>2010-11-26</td>\n",
       "      <td>20</td>\n",
       "      <td>72</td>\n",
       "      <td>422306.25</td>\n",
       "      <td>1</td>\n",
       "      <td>46.66</td>\n",
       "      <td>3.039</td>\n",
       "      <td>0.00</td>\n",
       "      <td>0.00</td>\n",
       "      <td>0.00</td>\n",
       "      <td>...</td>\n",
       "      <td>0.00</td>\n",
       "      <td>204.962100</td>\n",
       "      <td>7.484</td>\n",
       "      <td>(2010, 47)</td>\n",
       "      <td>47</td>\n",
       "      <td>A</td>\n",
       "      <td>203742</td>\n",
       "      <td>97.90868</td>\n",
       "      <td>331215.408657</td>\n",
       "      <td>-91090.841343</td>\n",
       "    </tr>\n",
       "    <tr>\n",
       "      <th>370268</th>\n",
       "      <td>2012-08-24</td>\n",
       "      <td>39</td>\n",
       "      <td>3</td>\n",
       "      <td>107674.50</td>\n",
       "      <td>0</td>\n",
       "      <td>80.49</td>\n",
       "      <td>3.620</td>\n",
       "      <td>6741.36</td>\n",
       "      <td>81.74</td>\n",
       "      <td>0.02</td>\n",
       "      <td>...</td>\n",
       "      <td>13783.29</td>\n",
       "      <td>220.852679</td>\n",
       "      <td>6.623</td>\n",
       "      <td>(2012, 34)</td>\n",
       "      <td>34</td>\n",
       "      <td>A</td>\n",
       "      <td>184109</td>\n",
       "      <td>98.47306</td>\n",
       "      <td>17276.902513</td>\n",
       "      <td>-90397.597487</td>\n",
       "    </tr>\n",
       "  </tbody>\n",
       "</table>\n",
       "<p>12 rows × 21 columns</p>\n",
       "</div>"
      ],
      "text/plain": [
       "              Date  Store  Dept  Weekly_Sales  IsHoliday  Temperature  \\\n",
       "90645   2010-11-26     10    72     693099.36          1        55.33   \n",
       "94393   2011-11-25     10    72     630999.19          1        60.68   \n",
       "337053  2011-11-25     35    72     649770.18          1        47.88   \n",
       "333594  2010-11-26     35    72     627962.93          1        46.67   \n",
       "90886   2010-12-24     10     7     406988.63          0        57.06   \n",
       "219800  2010-11-26     23    72     369830.98          1        34.95   \n",
       "178778  2010-07-09     19    11     119483.37          0        78.22   \n",
       "123551  2011-08-26     13     3     131564.25          0        81.53   \n",
       "131321  2010-12-24     14     7     356867.25          0        30.59   \n",
       "94634   2011-12-23     10     7     341308.00          0        48.36   \n",
       "190370  2010-11-26     20    72     422306.25          1        46.66   \n",
       "370268  2012-08-24     39     3     107674.50          0        80.49   \n",
       "\n",
       "        Fuel_Price  MarkDown1  MarkDown2  MarkDown3  ...  MarkDown5  \\\n",
       "90645        3.162       0.00       0.00       0.00  ...       0.00   \n",
       "94393        3.760     174.72     329.00  141630.61  ...    1009.98   \n",
       "337053       3.492    1333.24       0.00   58563.24  ...    6386.86   \n",
       "333594       3.039       0.00       0.00       0.00  ...       0.00   \n",
       "90886        3.236       0.00       0.00       0.00  ...       0.00   \n",
       "219800       3.070       0.00       0.00       0.00  ...       0.00   \n",
       "178778       2.940       0.00       0.00       0.00  ...       0.00   \n",
       "123551       3.570       0.00       0.00       0.00  ...       0.00   \n",
       "131321       3.141       0.00       0.00       0.00  ...       0.00   \n",
       "94634        3.541     300.02      77.73    2432.01  ...    4078.21   \n",
       "190370       3.039       0.00       0.00       0.00  ...       0.00   \n",
       "370268       3.620    6741.36      81.74       0.02  ...   13783.29   \n",
       "\n",
       "               CPI  Unemployment  isocalendar Week  Type    Size  cci_value  \\\n",
       "90645   126.669267         9.003   (2010, 47)   47     B  126512   97.90868   \n",
       "94393   129.836400         7.874   (2011, 47)   47     B  126512   97.01297   \n",
       "337053  140.421786         8.745   (2011, 47)   47     B  103681   97.01297   \n",
       "333594  136.689571         8.763   (2010, 47)   47     B  103681   97.90868   \n",
       "90886   126.983581         9.003   (2010, 51)   51     B  126512   98.19749   \n",
       "219800  132.836933         5.287   (2010, 47)   47     B  114533   97.90868   \n",
       "178778  132.546133         8.099   (2010, 27)   27     A  203819   97.75742   \n",
       "123551  129.283258         6.877   (2011, 34)   34     A  219622   96.31504   \n",
       "131321  182.544590         8.724   (2010, 51)   51     A  200898   98.19749   \n",
       "94634   129.984548         7.874   (2011, 51)   51     B  126512   97.64204   \n",
       "190370  204.962100         7.484   (2010, 47)   47     A  203742   97.90868   \n",
       "370268  220.852679         6.623   (2012, 34)   34     A  184109   98.47306   \n",
       "\n",
       "               y_pred       residual  \n",
       "90645   528668.636187 -164430.723813  \n",
       "94393   468221.737070 -162777.452930  \n",
       "337053  496492.635059 -153277.544941  \n",
       "333594  509283.587164 -118679.342836  \n",
       "90886   300378.609108 -106610.020892  \n",
       "219800  264211.038842 -105619.941158  \n",
       "178778   22005.975434  -97477.394566  \n",
       "123551   35705.975673  -95858.274327  \n",
       "131321  264888.789041  -91978.460959  \n",
       "94634   250199.493878  -91108.506122  \n",
       "190370  331215.408657  -91090.841343  \n",
       "370268   17276.902513  -90397.597487  \n",
       "\n",
       "[12 rows x 21 columns]"
      ]
     },
     "execution_count": 25,
     "metadata": {},
     "output_type": "execute_result"
    }
   ],
   "source": [
    "# residual outliers lie below -90000 limit\n",
    "\n",
    "df_random_forest[df_random_forest['residual'] <= -90000].sort_values('residual')"
   ]
  },
  {
   "cell_type": "markdown",
   "metadata": {},
   "source": [
    "# XGBoost Regressor \n",
    "## XGBoost (no cci_value), time series split cross validation"
   ]
  },
  {
   "cell_type": "code",
   "execution_count": 26,
   "metadata": {
    "ExecuteTime": {
     "end_time": "2021-11-02T04:05:50.507272Z",
     "start_time": "2021-11-02T04:02:49.133061Z"
    }
   },
   "outputs": [
    {
     "name": "stdout",
     "output_type": "stream",
     "text": [
      "MSE scores: [-3.23797046e+08 -1.47809490e+08 -1.50446401e+08 -1.26518453e+08\n",
      " -1.10368136e+08]\n",
      "R2 scores: [0.55441828 0.68827982 0.68547794 0.62667907 0.70234737]\n",
      "MAE scores: [-11316.62337025  -8203.99043315  -9034.12759313  -8061.86334813\n",
      "  -7517.79237417]\n"
     ]
    }
   ],
   "source": [
    "\n",
    "# split data into test train split\n",
    "# cross validate base regression model, no cci_value\n",
    "\n",
    "cv = TimeSeriesSplit(n_splits=5)\n",
    "\n",
    "Y = df_train['Weekly_Sales']\n",
    "X = df_train.drop(columns = ['Date','cci_value','Weekly_Sales'])\n",
    "Z = column_transform_no_cci.fit(df_train.drop(columns = ['Date','cci_value','Weekly_Sales']))\n",
    "\n",
    "xgb_no_cci_scores = cross_validate(GradientBoostingRegressor(), Z.transform(X), Y, cv=cv,\n",
    "                        scoring=('r2', 'neg_mean_squared_error', 'neg_mean_absolute_error'), n_jobs=-1)\n",
    "\n",
    "print(\"MSE scores: {}\".format(xgb_no_cci_scores['test_neg_mean_squared_error']))\n",
    "print(\"R2 scores: {}\".format(xgb_no_cci_scores['test_r2']))\n",
    "print(\"MAE scores: {}\".format(xgb_no_cci_scores['test_neg_mean_absolute_error']))"
   ]
  },
  {
   "cell_type": "code",
   "execution_count": 27,
   "metadata": {
    "ExecuteTime": {
     "end_time": "2021-11-02T04:05:50.929678Z",
     "start_time": "2021-11-02T04:05:50.919090Z"
    }
   },
   "outputs": [
    {
     "data": {
      "text/html": [
       "<div>\n",
       "<style scoped>\n",
       "    .dataframe tbody tr th:only-of-type {\n",
       "        vertical-align: middle;\n",
       "    }\n",
       "\n",
       "    .dataframe tbody tr th {\n",
       "        vertical-align: top;\n",
       "    }\n",
       "\n",
       "    .dataframe thead th {\n",
       "        text-align: right;\n",
       "    }\n",
       "</style>\n",
       "<table border=\"1\" class=\"dataframe\">\n",
       "  <thead>\n",
       "    <tr style=\"text-align: right;\">\n",
       "      <th></th>\n",
       "      <th>name</th>\n",
       "      <th>model description</th>\n",
       "      <th>test_neg_mean_absolute_error</th>\n",
       "      <th>test_neg_mean_squared_error</th>\n",
       "      <th>test_r2</th>\n",
       "    </tr>\n",
       "  </thead>\n",
       "  <tbody>\n",
       "    <tr>\n",
       "      <th>0</th>\n",
       "      <td>NaN</td>\n",
       "      <td>randomforest base no cci</td>\n",
       "      <td>7285.17</td>\n",
       "      <td>2.042781e+08</td>\n",
       "      <td>0.59</td>\n",
       "    </tr>\n",
       "    <tr>\n",
       "      <th>1</th>\n",
       "      <td>NaN</td>\n",
       "      <td>randomforest cci</td>\n",
       "      <td>7264.21</td>\n",
       "      <td>2.020688e+08</td>\n",
       "      <td>0.59</td>\n",
       "    </tr>\n",
       "    <tr>\n",
       "      <th>2</th>\n",
       "      <td>NaN</td>\n",
       "      <td>random forest gridsearch</td>\n",
       "      <td>7321.89</td>\n",
       "      <td>1.430943e+08</td>\n",
       "      <td>0.70</td>\n",
       "    </tr>\n",
       "    <tr>\n",
       "      <th>3</th>\n",
       "      <td>NaN</td>\n",
       "      <td>xgb_no_cci_scores</td>\n",
       "      <td>8826.88</td>\n",
       "      <td>1.717879e+08</td>\n",
       "      <td>0.65</td>\n",
       "    </tr>\n",
       "  </tbody>\n",
       "</table>\n",
       "</div>"
      ],
      "text/plain": [
       "   name         model description  test_neg_mean_absolute_error  \\\n",
       "0   NaN  randomforest base no cci                       7285.17   \n",
       "1   NaN          randomforest cci                       7264.21   \n",
       "2   NaN  random forest gridsearch                       7321.89   \n",
       "3   NaN         xgb_no_cci_scores                       8826.88   \n",
       "\n",
       "   test_neg_mean_squared_error  test_r2  \n",
       "0                 2.042781e+08     0.59  \n",
       "1                 2.020688e+08     0.59  \n",
       "2                 1.430943e+08     0.70  \n",
       "3                 1.717879e+08     0.65  "
      ]
     },
     "execution_count": 27,
     "metadata": {},
     "output_type": "execute_result"
    }
   ],
   "source": [
    "# appending metrics to df_summary\n",
    "scores(xgb_no_cci_scores)\n",
    "\n",
    "score_dict=write('xgb_no_cci_scores', xgb_no_cci_scores)\n",
    "\n",
    "df_summary=df_summary.append(score_dict, ignore_index=True)\n",
    "df_summary"
   ]
  },
  {
   "cell_type": "markdown",
   "metadata": {},
   "source": [
    "## XGBoost (cci values) TimeSeriesSplit Cross-Validation"
   ]
  },
  {
   "cell_type": "code",
   "execution_count": 28,
   "metadata": {
    "ExecuteTime": {
     "end_time": "2021-11-02T04:08:52.891209Z",
     "start_time": "2021-11-02T04:05:51.253700Z"
    }
   },
   "outputs": [
    {
     "name": "stdout",
     "output_type": "stream",
     "text": [
      "MSE scores: [-3.22804201e+08 -1.47873448e+08 -1.50869322e+08 -1.28408787e+08\n",
      " -1.10368136e+08]\n",
      "R2 scores: [0.55578455 0.68814493 0.68459379 0.62110122 0.70234737]\n",
      "MAE scores: [-11197.35664069  -8216.30554057  -9035.44012966  -8071.00313028\n",
      "  -7517.79237417]\n"
     ]
    }
   ],
   "source": [
    "# split data into test train split\n",
    "# cross validate base regression model, no cci_value\n",
    "\n",
    "cv = TimeSeriesSplit(n_splits=5)\n",
    "\n",
    "Y = df_train['Weekly_Sales']\n",
    "X = df_train.drop(columns = ['Date','Weekly_Sales'])\n",
    "Z = column_transform_cci.fit(X)\n",
    "\n",
    "xgb_cci_scores = cross_validate(GradientBoostingRegressor(), Z.transform(X), Y, cv=cv,\n",
    "                        scoring=('r2', 'neg_mean_squared_error', 'neg_mean_absolute_error'), n_jobs=-1)\n",
    "\n",
    "print(\"MSE scores: {}\".format(xgb_cci_scores['test_neg_mean_squared_error']))\n",
    "print(\"R2 scores: {}\".format(xgb_cci_scores['test_r2']))\n",
    "print(\"MAE scores: {}\".format(xgb_cci_scores['test_neg_mean_absolute_error']))\n"
   ]
  },
  {
   "cell_type": "code",
   "execution_count": 29,
   "metadata": {
    "ExecuteTime": {
     "end_time": "2021-11-02T04:08:53.272238Z",
     "start_time": "2021-11-02T04:08:53.262833Z"
    }
   },
   "outputs": [
    {
     "data": {
      "text/html": [
       "<div>\n",
       "<style scoped>\n",
       "    .dataframe tbody tr th:only-of-type {\n",
       "        vertical-align: middle;\n",
       "    }\n",
       "\n",
       "    .dataframe tbody tr th {\n",
       "        vertical-align: top;\n",
       "    }\n",
       "\n",
       "    .dataframe thead th {\n",
       "        text-align: right;\n",
       "    }\n",
       "</style>\n",
       "<table border=\"1\" class=\"dataframe\">\n",
       "  <thead>\n",
       "    <tr style=\"text-align: right;\">\n",
       "      <th></th>\n",
       "      <th>name</th>\n",
       "      <th>model description</th>\n",
       "      <th>test_neg_mean_absolute_error</th>\n",
       "      <th>test_neg_mean_squared_error</th>\n",
       "      <th>test_r2</th>\n",
       "    </tr>\n",
       "  </thead>\n",
       "  <tbody>\n",
       "    <tr>\n",
       "      <th>0</th>\n",
       "      <td>NaN</td>\n",
       "      <td>randomforest base no cci</td>\n",
       "      <td>7285.17</td>\n",
       "      <td>2.042781e+08</td>\n",
       "      <td>0.59</td>\n",
       "    </tr>\n",
       "    <tr>\n",
       "      <th>1</th>\n",
       "      <td>NaN</td>\n",
       "      <td>randomforest cci</td>\n",
       "      <td>7264.21</td>\n",
       "      <td>2.020688e+08</td>\n",
       "      <td>0.59</td>\n",
       "    </tr>\n",
       "    <tr>\n",
       "      <th>2</th>\n",
       "      <td>NaN</td>\n",
       "      <td>random forest gridsearch</td>\n",
       "      <td>7321.89</td>\n",
       "      <td>1.430943e+08</td>\n",
       "      <td>0.70</td>\n",
       "    </tr>\n",
       "    <tr>\n",
       "      <th>3</th>\n",
       "      <td>NaN</td>\n",
       "      <td>xgb_no_cci_scores</td>\n",
       "      <td>8826.88</td>\n",
       "      <td>1.717879e+08</td>\n",
       "      <td>0.65</td>\n",
       "    </tr>\n",
       "    <tr>\n",
       "      <th>4</th>\n",
       "      <td>NaN</td>\n",
       "      <td>xgb_cci_scores</td>\n",
       "      <td>8807.58</td>\n",
       "      <td>1.720648e+08</td>\n",
       "      <td>0.65</td>\n",
       "    </tr>\n",
       "  </tbody>\n",
       "</table>\n",
       "</div>"
      ],
      "text/plain": [
       "   name         model description  test_neg_mean_absolute_error  \\\n",
       "0   NaN  randomforest base no cci                       7285.17   \n",
       "1   NaN          randomforest cci                       7264.21   \n",
       "2   NaN  random forest gridsearch                       7321.89   \n",
       "3   NaN         xgb_no_cci_scores                       8826.88   \n",
       "4   NaN            xgb_cci_scores                       8807.58   \n",
       "\n",
       "   test_neg_mean_squared_error  test_r2  \n",
       "0                 2.042781e+08     0.59  \n",
       "1                 2.020688e+08     0.59  \n",
       "2                 1.430943e+08     0.70  \n",
       "3                 1.717879e+08     0.65  \n",
       "4                 1.720648e+08     0.65  "
      ]
     },
     "execution_count": 29,
     "metadata": {},
     "output_type": "execute_result"
    }
   ],
   "source": [
    "# appending metrics to df_summary\n",
    "scores(xgb_cci_scores)\n",
    "\n",
    "score_dict=write('xgb_cci_scores',xgb_cci_scores)\n",
    "\n",
    "df_summary=df_summary.append(score_dict, ignore_index=True)\n",
    "df_summary"
   ]
  },
  {
   "cell_type": "markdown",
   "metadata": {},
   "source": [
    "## XGBoost Regressor - TimeSeriesSplit, GridSearchCV"
   ]
  },
  {
   "cell_type": "code",
   "execution_count": 10,
   "metadata": {
    "ExecuteTime": {
     "end_time": "2021-11-04T21:27:12.409301Z",
     "start_time": "2021-11-04T21:27:12.402687Z"
    }
   },
   "outputs": [
    {
     "data": {
      "text/plain": [
       "dict_keys(['alpha', 'ccp_alpha', 'criterion', 'init', 'learning_rate', 'loss', 'max_depth', 'max_features', 'max_leaf_nodes', 'min_impurity_decrease', 'min_samples_leaf', 'min_samples_split', 'min_weight_fraction_leaf', 'n_estimators', 'n_iter_no_change', 'random_state', 'subsample', 'tol', 'validation_fraction', 'verbose', 'warm_start'])"
      ]
     },
     "execution_count": 10,
     "metadata": {},
     "output_type": "execute_result"
    }
   ],
   "source": [
    "reg = GradientBoostingRegressor(random_state=0)\n",
    "reg.get_params().keys()"
   ]
  },
  {
   "cell_type": "code",
   "execution_count": 11,
   "metadata": {
    "ExecuteTime": {
     "end_time": "2021-11-04T21:48:22.720722Z",
     "start_time": "2021-11-04T21:27:14.157475Z"
    },
    "scrolled": true
   },
   "outputs": [
    {
     "name": "stdout",
     "output_type": "stream",
     "text": [
      "Fitting 5 folds for each of 4 candidates, totalling 20 fits\n"
     ]
    },
    {
     "data": {
      "text/plain": [
       "GridSearchCV(cv=TimeSeriesSplit(gap=0, max_train_size=None, n_splits=5, test_size=None),\n",
       "             estimator=Pipeline(steps=[('xgb', GradientBoostingRegressor())]),\n",
       "             n_jobs=-1,\n",
       "             param_grid={'xgb__learning_rate': [0.5, 0.6],\n",
       "                         'xgb__max_depth': [8], 'xgb__n_estimators': [60, 70]},\n",
       "             verbose=1)"
      ]
     },
     "execution_count": 11,
     "metadata": {},
     "output_type": "execute_result"
    }
   ],
   "source": [
    "# GridSearchCV Example\n",
    "\n",
    "# GridSearchCV xgbboost Regressor using column_transform\n",
    "\n",
    "# create steps\n",
    "steps = [#('transform', column_transform),\n",
    "        ('xgb', GradientBoostingRegressor())]\n",
    "\n",
    "\n",
    "#instantiate pipeline object\n",
    "pipe = Pipeline(steps)\n",
    "\n",
    "# Create the parameter grid: gbm_param_grid\n",
    "gbm_param_grid = {'xgb__learning_rate': [0.5,0.6],\n",
    "                  'xgb__n_estimators' : [60,70],\n",
    "                  'xgb__max_depth'    : [8]\n",
    "                 }\n",
    "\n",
    "   # split df_train into test and train sets \n",
    "# Column Transform df_train before split\n",
    "Y = df_train['Weekly_Sales']\n",
    "X = df_train.drop(columns = ['Date','cci_value','Weekly_Sales'])\n",
    "Z = column_transform_no_cci.fit(df_train.drop(columns = ['Date','cci_value','Weekly_Sales']))\n",
    "\n",
    "# Perform grid search\n",
    "cv = TimeSeriesSplit(n_splits=5)\n",
    "xgb_gridsearch = GridSearchCV(pipe, param_grid=gbm_param_grid, cv=cv, verbose=1,\n",
    "                             n_jobs=-1)\n",
    "\n",
    "\n",
    "# Fit grid_mse to the data\n",
    "xgb_gridsearch.fit(Z.transform(X),Y)\n"
   ]
  },
  {
   "cell_type": "code",
   "execution_count": 12,
   "metadata": {
    "ExecuteTime": {
     "end_time": "2021-11-04T22:24:32.670292Z",
     "start_time": "2021-11-04T21:48:22.781218Z"
    }
   },
   "outputs": [
    {
     "data": {
      "text/plain": [
       "GradientBoostingRegressor(learning_rate=0.6, max_depth=8, n_estimators=70)"
      ]
     },
     "execution_count": 12,
     "metadata": {},
     "output_type": "execute_result"
    }
   ],
   "source": [
    "xgb= GradientBoostingRegressor(learning_rate= 0.6,max_depth= 8, n_estimators= 70)\n",
    "\n",
    "Y = df_train['Weekly_Sales']\n",
    "X = df_train.drop(columns = ['Date','cci_value','Weekly_Sales'])\n",
    "Z = column_transform_no_cci.fit(df_train.drop(columns = ['Date','cci_value','Weekly_Sales']))\n",
    "\n",
    "xgb.fit(Z.transform(X), Y)"
   ]
  },
  {
   "cell_type": "markdown",
   "metadata": {},
   "source": [
    "## figure out features from xgboost"
   ]
  },
  {
   "cell_type": "code",
   "execution_count": 23,
   "metadata": {
    "ExecuteTime": {
     "end_time": "2021-11-04T22:53:47.609677Z",
     "start_time": "2021-11-04T22:53:47.061219Z"
    }
   },
   "outputs": [
    {
     "data": {
      "text/plain": [
       "<bound method ColumnTransformer.get_feature_names_out of ColumnTransformer(sparse_threshold=0,\n",
       "                  transformers=[('standardscaler', StandardScaler(),\n",
       "                                 ['Temperature', 'Fuel_Price', 'MarkDown1',\n",
       "                                  'MarkDown2', 'MarkDown3', 'MarkDown4',\n",
       "                                  'MarkDown5', 'CPI', 'Unemployment', 'Size']),\n",
       "                                ('onehotencoder',\n",
       "                                 OneHotEncoder(handle_unknown='ignore'),\n",
       "                                 ['IsHoliday', 'Dept', 'Store']),\n",
       "                                ('ordinalencoder', OrdinalEncoder(),\n",
       "                                 ['Week', 'Type', 'isocalendar'])])>"
      ]
     },
     "execution_count": 23,
     "metadata": {},
     "output_type": "execute_result"
    }
   ],
   "source": [
    "Z.fit(X).get_feature_names_out"
   ]
  },
  {
   "cell_type": "code",
   "execution_count": 24,
   "metadata": {
    "ExecuteTime": {
     "end_time": "2021-11-04T22:55:05.737184Z",
     "start_time": "2021-11-04T22:55:05.050717Z"
    }
   },
   "outputs": [
    {
     "data": {
      "text/plain": [
       "{'standardscaler': slice(0, 10, None),\n",
       " 'onehotencoder': slice(10, 138, None),\n",
       " 'ordinalencoder': slice(138, 141, None),\n",
       " 'remainder': slice(0, 0, None)}"
      ]
     },
     "execution_count": 24,
     "metadata": {},
     "output_type": "execute_result"
    }
   ],
   "source": [
    "Z.fit(X).output_indices_"
   ]
  },
  {
   "cell_type": "code",
   "execution_count": 155,
   "metadata": {
    "ExecuteTime": {
     "end_time": "2021-11-05T20:45:30.640842Z",
     "start_time": "2021-11-05T20:45:30.634077Z"
    }
   },
   "outputs": [
    {
     "data": {
      "text/plain": [
       "141"
      ]
     },
     "execution_count": 155,
     "metadata": {},
     "output_type": "execute_result"
    }
   ],
   "source": [
    "len(xgb.feature_importances_)"
   ]
  },
  {
   "cell_type": "markdown",
   "metadata": {},
   "source": [
    "### Standard Scaler Features"
   ]
  },
  {
   "cell_type": "code",
   "execution_count": 57,
   "metadata": {
    "ExecuteTime": {
     "end_time": "2021-11-04T23:09:37.646402Z",
     "start_time": "2021-11-04T23:09:37.638533Z"
    },
    "scrolled": true
   },
   "outputs": [
    {
     "data": {
      "text/plain": [
       "array([0.00461331, 0.00124322, 0.00044054, 0.00021698, 0.00351436,\n",
       "       0.00085807, 0.00054331, 0.0077672 , 0.0046786 , 0.20486997])"
      ]
     },
     "execution_count": 57,
     "metadata": {},
     "output_type": "execute_result"
    }
   ],
   "source": [
    "# Standard Scaler Features Values\n",
    "# There are 10 scaled features\n",
    "std_scaler_values = xgb.feature_importances_[0:10]\n",
    "std_scaler_values"
   ]
  },
  {
   "cell_type": "code",
   "execution_count": 139,
   "metadata": {
    "ExecuteTime": {
     "end_time": "2021-11-04T23:51:58.848389Z",
     "start_time": "2021-11-04T23:51:58.774841Z"
    }
   },
   "outputs": [],
   "source": [
    "#Check Standard Scaler names\n",
    "process = StandardScaler()\n",
    "scaler_process = process.fit(df_train[['Temperature', 'Fuel_Price', 'MarkDown1',\n",
    "                                  'MarkDown2', 'MarkDown3', 'MarkDown4',\n",
    "                                  'MarkDown5', 'CPI', 'Unemployment', 'Size']])"
   ]
  },
  {
   "cell_type": "code",
   "execution_count": 141,
   "metadata": {
    "ExecuteTime": {
     "end_time": "2021-11-04T23:52:43.153545Z",
     "start_time": "2021-11-04T23:52:43.148859Z"
    }
   },
   "outputs": [
    {
     "data": {
      "text/plain": [
       "['Temperature',\n",
       " 'Fuel_Price',\n",
       " 'MarkDown1',\n",
       " 'MarkDown2',\n",
       " 'MarkDown3',\n",
       " 'MarkDown4',\n",
       " 'MarkDown5',\n",
       " 'CPI',\n",
       " 'Unemployment',\n",
       " 'Size']"
      ]
     },
     "execution_count": 141,
     "metadata": {},
     "output_type": "execute_result"
    }
   ],
   "source": [
    "np.array(scaler_process.feature_names_in_).tolist()"
   ]
  },
  {
   "cell_type": "code",
   "execution_count": null,
   "metadata": {},
   "outputs": [],
   "source": [
    "# Ordinalencoder Feature Values -> xgb.features_importance index range (138,141)\n",
    "# 138 \n",
    "\n",
    "ordinal_feature_values = xgb.feature_importances_[138:141]"
   ]
  },
  {
   "cell_type": "code",
   "execution_count": 77,
   "metadata": {
    "ExecuteTime": {
     "end_time": "2021-11-04T23:25:17.132466Z",
     "start_time": "2021-11-04T23:25:17.075274Z"
    }
   },
   "outputs": [],
   "source": [
    "process = OrdinalEncoder()\n",
    "ordinal_process = process.fit(df_train[['Week', 'Type', 'isocalendar']])"
   ]
  },
  {
   "cell_type": "code",
   "execution_count": null,
   "metadata": {
    "ExecuteTime": {
     "end_time": "2021-11-05T21:05:20.258088Z",
     "start_time": "2021-11-05T21:05:11.789Z"
    }
   },
   "outputs": [],
   "source": [
    "ordinal_process.categories_"
   ]
  },
  {
   "cell_type": "code",
   "execution_count": 120,
   "metadata": {
    "ExecuteTime": {
     "end_time": "2021-11-04T23:39:35.139761Z",
     "start_time": "2021-11-04T23:39:35.129302Z"
    },
    "scrolled": true
   },
   "outputs": [
    {
     "data": {
      "text/plain": [
       "['(2010, 10)',\n",
       " '(2010, 11)',\n",
       " '(2010, 12)',\n",
       " '(2010, 13)',\n",
       " '(2010, 14)',\n",
       " '(2010, 15)',\n",
       " '(2010, 16)',\n",
       " '(2010, 17)',\n",
       " '(2010, 18)',\n",
       " '(2010, 19)',\n",
       " '(2010, 20)',\n",
       " '(2010, 21)',\n",
       " '(2010, 22)',\n",
       " '(2010, 23)',\n",
       " '(2010, 24)',\n",
       " '(2010, 25)',\n",
       " '(2010, 26)',\n",
       " '(2010, 27)',\n",
       " '(2010, 28)',\n",
       " '(2010, 29)',\n",
       " '(2010, 30)',\n",
       " '(2010, 31)',\n",
       " '(2010, 32)',\n",
       " '(2010, 33)',\n",
       " '(2010, 34)',\n",
       " '(2010, 35)',\n",
       " '(2010, 36)',\n",
       " '(2010, 37)',\n",
       " '(2010, 38)',\n",
       " '(2010, 39)',\n",
       " '(2010, 40)',\n",
       " '(2010, 41)',\n",
       " '(2010, 42)',\n",
       " '(2010, 43)',\n",
       " '(2010, 44)',\n",
       " '(2010, 45)',\n",
       " '(2010, 46)',\n",
       " '(2010, 47)',\n",
       " '(2010, 48)',\n",
       " '(2010, 49)',\n",
       " '(2010, 5)',\n",
       " '(2010, 50)',\n",
       " '(2010, 51)',\n",
       " '(2010, 52)',\n",
       " '(2010, 6)',\n",
       " '(2010, 7)',\n",
       " '(2010, 8)',\n",
       " '(2010, 9)',\n",
       " '(2011, 1)',\n",
       " '(2011, 10)',\n",
       " '(2011, 11)',\n",
       " '(2011, 12)',\n",
       " '(2011, 13)',\n",
       " '(2011, 14)',\n",
       " '(2011, 15)',\n",
       " '(2011, 16)',\n",
       " '(2011, 17)',\n",
       " '(2011, 18)',\n",
       " '(2011, 19)',\n",
       " '(2011, 2)',\n",
       " '(2011, 20)',\n",
       " '(2011, 21)',\n",
       " '(2011, 22)',\n",
       " '(2011, 23)',\n",
       " '(2011, 24)',\n",
       " '(2011, 25)',\n",
       " '(2011, 26)',\n",
       " '(2011, 27)',\n",
       " '(2011, 28)',\n",
       " '(2011, 29)',\n",
       " '(2011, 3)',\n",
       " '(2011, 30)',\n",
       " '(2011, 31)',\n",
       " '(2011, 32)',\n",
       " '(2011, 33)',\n",
       " '(2011, 34)',\n",
       " '(2011, 35)',\n",
       " '(2011, 36)',\n",
       " '(2011, 37)',\n",
       " '(2011, 38)',\n",
       " '(2011, 39)',\n",
       " '(2011, 4)',\n",
       " '(2011, 40)',\n",
       " '(2011, 41)',\n",
       " '(2011, 42)',\n",
       " '(2011, 43)',\n",
       " '(2011, 44)',\n",
       " '(2011, 45)',\n",
       " '(2011, 46)',\n",
       " '(2011, 47)',\n",
       " '(2011, 48)',\n",
       " '(2011, 49)',\n",
       " '(2011, 5)',\n",
       " '(2011, 50)',\n",
       " '(2011, 51)',\n",
       " '(2011, 52)',\n",
       " '(2011, 6)',\n",
       " '(2011, 7)',\n",
       " '(2011, 8)',\n",
       " '(2011, 9)',\n",
       " '(2012, 1)',\n",
       " '(2012, 10)',\n",
       " '(2012, 11)',\n",
       " '(2012, 12)',\n",
       " '(2012, 13)',\n",
       " '(2012, 14)',\n",
       " '(2012, 15)',\n",
       " '(2012, 16)',\n",
       " '(2012, 17)',\n",
       " '(2012, 18)',\n",
       " '(2012, 19)',\n",
       " '(2012, 2)',\n",
       " '(2012, 20)',\n",
       " '(2012, 21)',\n",
       " '(2012, 22)',\n",
       " '(2012, 23)',\n",
       " '(2012, 24)',\n",
       " '(2012, 25)',\n",
       " '(2012, 26)',\n",
       " '(2012, 27)',\n",
       " '(2012, 28)',\n",
       " '(2012, 29)',\n",
       " '(2012, 3)',\n",
       " '(2012, 30)',\n",
       " '(2012, 31)',\n",
       " '(2012, 32)',\n",
       " '(2012, 33)',\n",
       " '(2012, 34)',\n",
       " '(2012, 35)',\n",
       " '(2012, 36)',\n",
       " '(2012, 37)',\n",
       " '(2012, 38)',\n",
       " '(2012, 39)',\n",
       " '(2012, 4)',\n",
       " '(2012, 40)',\n",
       " '(2012, 41)',\n",
       " '(2012, 42)',\n",
       " '(2012, 43)',\n",
       " '(2012, 5)',\n",
       " '(2012, 6)',\n",
       " '(2012, 7)',\n",
       " '(2012, 8)',\n",
       " '(2012, 9)']"
      ]
     },
     "execution_count": 120,
     "metadata": {},
     "output_type": "execute_result"
    }
   ],
   "source": [
    "np.array(ordinal_process.categories_[2][0:143]).tolist()"
   ]
  },
  {
   "cell_type": "code",
   "execution_count": 163,
   "metadata": {
    "ExecuteTime": {
     "end_time": "2021-11-05T20:51:29.760120Z",
     "start_time": "2021-11-05T20:51:29.744955Z"
    },
    "code_folding": [],
    "scrolled": true
   },
   "outputs": [
    {
     "data": {
      "text/plain": [
       "['Temperature',\n",
       " 'Fuel_Price',\n",
       " 'MarkDown1',\n",
       " 'MarkDown2',\n",
       " 'MarkDown3',\n",
       " 'MarkDown4',\n",
       " 'MarkDown5',\n",
       " 'CPI',\n",
       " 'Unemployment',\n",
       " 'Size',\n",
       " 'IsHoliday_0',\n",
       " 'IsHoliday_1',\n",
       " 'Dept_1',\n",
       " 'Dept_2',\n",
       " 'Dept_3',\n",
       " 'Dept_4',\n",
       " 'Dept_5',\n",
       " 'Dept_6',\n",
       " 'Dept_7',\n",
       " 'Dept_8',\n",
       " 'Dept_9',\n",
       " 'Dept_10',\n",
       " 'Dept_11',\n",
       " 'Dept_12',\n",
       " 'Dept_13',\n",
       " 'Dept_14',\n",
       " 'Dept_16',\n",
       " 'Dept_17',\n",
       " 'Dept_18',\n",
       " 'Dept_19',\n",
       " 'Dept_20',\n",
       " 'Dept_21',\n",
       " 'Dept_22',\n",
       " 'Dept_23',\n",
       " 'Dept_24',\n",
       " 'Dept_25',\n",
       " 'Dept_26',\n",
       " 'Dept_27',\n",
       " 'Dept_28',\n",
       " 'Dept_29',\n",
       " 'Dept_30',\n",
       " 'Dept_31',\n",
       " 'Dept_32',\n",
       " 'Dept_33',\n",
       " 'Dept_34',\n",
       " 'Dept_35',\n",
       " 'Dept_36',\n",
       " 'Dept_37',\n",
       " 'Dept_38',\n",
       " 'Dept_39',\n",
       " 'Dept_40',\n",
       " 'Dept_41',\n",
       " 'Dept_42',\n",
       " 'Dept_43',\n",
       " 'Dept_44',\n",
       " 'Dept_45',\n",
       " 'Dept_46',\n",
       " 'Dept_47',\n",
       " 'Dept_48',\n",
       " 'Dept_49',\n",
       " 'Dept_50',\n",
       " 'Dept_51',\n",
       " 'Dept_52',\n",
       " 'Dept_54',\n",
       " 'Dept_55',\n",
       " 'Dept_56',\n",
       " 'Dept_58',\n",
       " 'Dept_59',\n",
       " 'Dept_60',\n",
       " 'Dept_65',\n",
       " 'Dept_67',\n",
       " 'Dept_71',\n",
       " 'Dept_72',\n",
       " 'Dept_74',\n",
       " 'Dept_77',\n",
       " 'Dept_78',\n",
       " 'Dept_79',\n",
       " 'Dept_80',\n",
       " 'Dept_81',\n",
       " 'Dept_82',\n",
       " 'Dept_83',\n",
       " 'Dept_85',\n",
       " 'Dept_87',\n",
       " 'Dept_90',\n",
       " 'Dept_91',\n",
       " 'Dept_92',\n",
       " 'Dept_93',\n",
       " 'Dept_94',\n",
       " 'Dept_95',\n",
       " 'Dept_96',\n",
       " 'Dept_97',\n",
       " 'Dept_98',\n",
       " 'Dept_99',\n",
       " 'Store_1',\n",
       " 'Store_2',\n",
       " 'Store_3',\n",
       " 'Store_4',\n",
       " 'Store_5',\n",
       " 'Store_6',\n",
       " 'Store_7',\n",
       " 'Store_8',\n",
       " 'Store_9',\n",
       " 'Store_10',\n",
       " 'Store_11',\n",
       " 'Store_12',\n",
       " 'Store_13',\n",
       " 'Store_14',\n",
       " 'Store_15',\n",
       " 'Store_16',\n",
       " 'Store_17',\n",
       " 'Store_18',\n",
       " 'Store_19',\n",
       " 'Store_20',\n",
       " 'Store_21',\n",
       " 'Store_22',\n",
       " 'Store_23',\n",
       " 'Store_24',\n",
       " 'Store_25',\n",
       " 'Store_26',\n",
       " 'Store_27',\n",
       " 'Store_28',\n",
       " 'Store_29',\n",
       " 'Store_30',\n",
       " 'Store_31',\n",
       " 'Store_32',\n",
       " 'Store_33',\n",
       " 'Store_34',\n",
       " 'Store_35',\n",
       " 'Store_36',\n",
       " 'Store_37',\n",
       " 'Store_38',\n",
       " 'Store_39',\n",
       " 'Store_40',\n",
       " 'Store_41',\n",
       " 'Store_42',\n",
       " 'Store_43',\n",
       " 'Store_44',\n",
       " 'Store_45',\n",
       " 'A',\n",
       " 'B',\n",
       " 'C']"
      ]
     },
     "execution_count": 163,
     "metadata": {},
     "output_type": "execute_result"
    }
   ],
   "source": [
    "#standard scaler columns \n",
    "\n",
    "_a = np.array(scaler_process.feature_names_in_).tolist()\n",
    "\n",
    "#onehotencode ['IsHoliday', 'Dept', 'Store'] -> 128 columns\n",
    "\n",
    "_b = np.array(z.get_feature_names_out()).tolist()\n",
    "\n",
    "#ordinal encode ['Week', 'Type', 'isocalendar'] -> 3 columns\n",
    "\n",
    "#Type\n",
    "_c = np.array(ordinal_process.categories_[1][0:3]).tolist()\n",
    "\n",
    "features_list = (_a + _b + _c)\n",
    "features_list  #use features_list as index for xgb.feature_importances_"
   ]
  },
  {
   "cell_type": "code",
   "execution_count": 172,
   "metadata": {
    "ExecuteTime": {
     "end_time": "2021-11-05T20:56:18.602249Z",
     "start_time": "2021-11-05T20:56:18.417386Z"
    }
   },
   "outputs": [
    {
     "data": {
      "image/png": "[encoded data removed]",
      "text/plain": [
       "<Figure size 432x288 with 1 Axes>"
      ]
     },
     "metadata": {
      "needs_background": "light"
     },
     "output_type": "display_data"
    }
   ],
   "source": [
    "# plot the 7 most important features \n",
    "\n",
    "fig, ax = plt.subplots()\n",
    "\n",
    "\n",
    "feat_importances = pd.Series((xgb.feature_importances_), index = (features_list))\n",
    "ax = feat_importances.nlargest(7).plot(kind='barh')\n",
    "\n",
    "ax.set_xlabel(\"Percentage (%)\")\n",
    "ax.set_ylabel(\"Feature Name\")\n",
    "\n",
    "# Add the legend and show the Figure\n",
    "#ax.legend()\n",
    "plt.savefig('features_gbrt.png', bbox_inches=\"tight\")\n",
    "plt.show();"
   ]
  },
  {
   "cell_type": "markdown",
   "metadata": {},
   "source": [
    "# HistGradientBoosting"
   ]
  },
  {
   "cell_type": "markdown",
   "metadata": {},
   "source": [
    "## HistGradientBoosting (no cci_value) - TimeSeriesSplit, Manual Cross-Validation"
   ]
  },
  {
   "cell_type": "code",
   "execution_count": null,
   "metadata": {
    "ExecuteTime": {
     "start_time": "2021-11-02T06:22:38.568Z"
    }
   },
   "outputs": [],
   "source": [
    "# split data into test train split\n",
    "# cross validate base regression model, no cci_value\n",
    "\n",
    "cv = TimeSeriesSplit(n_splits=5)\n",
    "\n",
    "Y = df_train['Weekly_Sales']\n",
    "X = df_train.drop(columns = ['Date','cci_value','Weekly_Sales'])\n",
    "Z = column_transform_no_cci.fit(df_train.drop(columns = ['Date','cci_value','Weekly_Sales']))\n",
    "\n",
    "hist_gradient_no_cci_scores = cross_validate(HistGradientBoostingRegressor(), Z.transform(X), Y, cv=cv,\n",
    "                        scoring=('r2', 'neg_mean_squared_error', 'neg_mean_absolute_error'))\n",
    "\n",
    "print(\"MSE scores: {}\".format(hist_gradient_no_cci_scores['test_neg_mean_squared_error']))\n",
    "print(\"R2 scores: {}\".format(hist_gradient_no_cci_scores['test_r2']))\n",
    "print(\"MAE scores: {}\".format(hist_gradient_no_cci_scores['test_neg_mean_absolute_error']))"
   ]
  },
  {
   "cell_type": "code",
   "execution_count": null,
   "metadata": {
    "ExecuteTime": {
     "start_time": "2021-11-02T06:22:38.569Z"
    }
   },
   "outputs": [],
   "source": [
    "# appending metrics to df_summary\n",
    "scores(hist_gradient_no_cci_scores)\n",
    "\n",
    "score_dict=write('histgradientboost no cci',hist_gradient_no_cci_scores)\n",
    "\n",
    "df_summary=df_summary.append(score_dict, ignore_index=True)\n",
    "df_summary"
   ]
  },
  {
   "cell_type": "markdown",
   "metadata": {},
   "source": [
    "##  HistGradientBoosting (cci_value) - TimeSeriesSplit, Manual Cross-Validation"
   ]
  },
  {
   "cell_type": "code",
   "execution_count": null,
   "metadata": {
    "ExecuteTime": {
     "start_time": "2021-11-02T06:22:38.571Z"
    }
   },
   "outputs": [],
   "source": [
    "# split data into test train split\n",
    "# cross validate base regression model, no cci_value\n",
    "\n",
    "cv = TimeSeriesSplit(n_splits=5)\n",
    "\n",
    "Y = df_train['Weekly_Sales']\n",
    "X = df_train.drop(columns = ['Date','Weekly_Sales'])\n",
    "Z = column_transform_cci.fit(X)\n",
    "\n",
    "hist_grad_cci_scores = cross_validate(HistGradientBoostingRegressor(), Z.transform(X), Y, cv=cv,\n",
    "                        scoring=('r2', 'neg_mean_squared_error', 'neg_mean_absolute_error'))\n",
    "\n",
    "print(\"MSE scores: {}\".format(hist_grad_cci_scores['test_neg_mean_squared_error']))\n",
    "print(\"R2 scores: {}\".format(hist_grad_cci_scores['test_r2']))\n",
    "print(\"MAE scores: {}\".format(hist_grad_cci_scores['test_neg_mean_absolute_error']))\n"
   ]
  },
  {
   "cell_type": "code",
   "execution_count": null,
   "metadata": {
    "ExecuteTime": {
     "start_time": "2021-11-02T06:22:38.572Z"
    }
   },
   "outputs": [],
   "source": [
    "# appending metrics to df_summary\n",
    "scores(hist_grad_cci_scores)\n",
    "\n",
    "score_dict=write('hist_grad_cci_scores', hist_grad_cci_scores)\n",
    "\n",
    "df_summary=df_summary.append(score_dict, ignore_index=True)\n",
    "df_summary"
   ]
  },
  {
   "cell_type": "markdown",
   "metadata": {},
   "source": [
    "## HistGradientBoost GridSearch"
   ]
  },
  {
   "cell_type": "code",
   "execution_count": null,
   "metadata": {
    "ExecuteTime": {
     "start_time": "2021-11-02T06:22:38.574Z"
    },
    "scrolled": false
   },
   "outputs": [],
   "source": [
    "# GridSearchCV Example\n",
    "\n",
    "# GridSearchCV xgboost Regressor using column_transform_no_cci\n",
    "\n",
    "# create steps\n",
    "steps = [#('transform', column_transform),\n",
    "        ('hist', HistGradientBoostingRegressor())]\n",
    "\n",
    "\n",
    "#instantiate pipeline object\n",
    "pipe = Pipeline(steps)\n",
    "\n",
    "# Create the parameter grid: gbm_param_grid\n",
    "gbm_param_grid = {'hist__learning_rate': [0.01,0.2],\n",
    "                'hist__max_depth'    : [8,10]\n",
    "                 }\n",
    "\n",
    "# split df_train into test and train sets \n",
    "Y = df_train['Weekly_Sales']\n",
    "X = df_train.drop(columns = ['Date','Weekly_Sales','cci_value'])\n",
    "Z = column_transform_no_cci.fit(X)\n",
    "\n",
    "# Perform grid search: grid_mse\n",
    "cv = TimeSeriesSplit(n_splits=5)\n",
    "hist_gridsearch = GridSearchCV(pipe, param_grid=gbm_param_grid, cv=cv,\n",
    "                               verbose=1)\n",
    "\n",
    "# Fit hist_gridsearch to the data\n",
    "hist_gridsearch.fit(Z.transform(X),Y)\n",
    "\n"
   ]
  },
  {
   "cell_type": "code",
   "execution_count": null,
   "metadata": {
    "ExecuteTime": {
     "start_time": "2021-11-02T06:22:38.575Z"
    }
   },
   "outputs": [],
   "source": [
    "# cross validate gridsearchcv model\n",
    "\n",
    "# cross validate gridsearchcv model\n",
    "# split df_train into test and train sets \n",
    "# Column Transform df_train before split\n",
    "Y = df_train['Weekly_Sales']\n",
    "X = df_train.drop(columns = ['Date','cci_value','Weekly_Sales'])\n",
    "Z = column_transform_no_cci.fit(X)\n",
    "\n",
    "cv = TimeSeriesSplit(n_splits=5)\n",
    "hist_scores = cross_validate(hist_gridsearch, Z.transform(X), Y, cv=cv,\n",
    "                        scoring=('r2', 'neg_mean_squared_error', 'neg_mean_absolute_error'), n_jobs=-1)\n",
    "print(hist_scores['test_neg_mean_squared_error'])\n",
    "print(hist_scores['test_r2'])\n",
    "print(hist_scores['test_neg_mean_absolute_error'])\n",
    "\n",
    "\n"
   ]
  },
  {
   "cell_type": "code",
   "execution_count": null,
   "metadata": {
    "ExecuteTime": {
     "start_time": "2021-11-02T06:22:38.577Z"
    }
   },
   "outputs": [],
   "source": [
    "# appending metrics to df_summary\n",
    "scores(hist_scores)\n",
    "\n",
    "score_dict=write('histgradient_scores', hist_scores)\n",
    "\n",
    "df_summary=df_summary.append(score_dict, ignore_index=True)\n",
    "df_summary"
   ]
  },
  {
   "cell_type": "code",
   "execution_count": null,
   "metadata": {
    "ExecuteTime": {
     "start_time": "2021-11-02T06:22:38.579Z"
    }
   },
   "outputs": [],
   "source": [
    "df_summary"
   ]
  },
  {
   "cell_type": "markdown",
   "metadata": {},
   "source": [
    "# Feature Engineering to Improve Predictions\n",
    "\n",
    "General Procedure:\n",
    "\n",
    "1.  Create MarkDown_log Feature.  Apply logrithmic function to all non zero MarkDown values.\n",
    "2.  Drop MarkDown1, MarkDown2, MarkDown3, MarkDown4, MarkDown5 features for HistGradientBoost GridSearch.\n",
    "3.  Drop MarkDown1, MarkDown2, MarkDown3, MarkDown4, MarkDown5 features for ElasticNet GridSearch.\n",
    "\n",
    "Engineered Features Summary:\n",
    "\n",
    "|    | model              |   R2 |   Mean Squared Error, MSE |   Mean Absolute Error, MAE |\n",
    "|---:|:-------------------|-----:|--------------------------:|---------------------------:|\n",
    "|  0 | ElasticNet         | 0.26 |               3.6639e+08  |                   13065.3  |\n",
    "|  1 | ElasticNet+        | 0.27 |               3.52625e+08 |                   12828.1  |\n",
    "|  2 | HistGradientBoost  | 0.62 |               1.84274e+08 |                    8168.48 |\n",
    "|  3 | HistGradientBoost+ | 0.63 |               1.78486e+08 |                    7996.65 |\n",
    "\n",
    "ElasticNet Metric Effects:  \n",
    "*  3.8% increase Coefficient of Determination. \n",
    "*  3.8% reduction Mean Squared Error.  \n",
    "*  1.8% reduction Mean Absolute Error.  \n",
    "    \n",
    "HistGradientBoost Metric Effects:  \n",
    "*  0.016% increase Coefficient of Determination.  \n",
    "*  3.0% reduction Mean Square Error.  \n",
    "*  2.0% reudction Mean Absolute Error.  \n",
    "\n",
    "\n"
   ]
  },
  {
   "cell_type": "code",
   "execution_count": null,
   "metadata": {
    "ExecuteTime": {
     "start_time": "2021-11-02T06:22:38.581Z"
    }
   },
   "outputs": [],
   "source": [
    "df_summary"
   ]
  },
  {
   "cell_type": "code",
   "execution_count": null,
   "metadata": {
    "ExecuteTime": {
     "start_time": "2021-11-02T06:22:38.583Z"
    },
    "scrolled": false
   },
   "outputs": [],
   "source": [
    "# Create new features by apply logrithmic function to all non zero MarkDown values.  By doing so, the distribution\n",
    "# MarkDown values will become more normalized.\n",
    "\n",
    "list = ['MarkDown1','MarkDown2','MarkDown3','MarkDown4','MarkDown5']\n",
    "names = [x +\"_log\" for x in list]\n",
    "\n",
    "# create new columns containing log values of respective MarkDowns\n",
    "\n",
    "for x_, y_ in zip(names, list):\n",
    "#   print(x_, y_)\n",
    "    df_train[x_]=[np.log(x) if x > 0 else 0 for x in df_train[y_]]\n",
    "\n",
    "df_train    \n",
    "\n",
    "# plot function to compare new features.\n",
    "\n",
    "def compare_plot(before, after):\n",
    "    fig, (ax1, ax2) = plt.subplots(1,2, figsize=(10,5), sharey=True)\n",
    "\n",
    "    sns.histplot(data=df_train[df_train[before]!=0], x=df_train[df_train[before]!=0][before], ax=ax1)\n",
    "    #ax1.set(xlabel=\"High End\", ylim=(0,10000), title=\"Salaries\")\n",
    "\n",
    "\n",
    "    sns.histplot(data=df_train[df_train[after]!=0],\n",
    "    x=df_train[df_train[after]!=0][after], ax=ax2)\n",
    "\n",
    "    plt.show()\n",
    "    \n",
    "compare_plot('MarkDown1', 'MarkDown1_log')\n",
    "\n",
    "for x_, y_ in zip(names, list):\n",
    "    compare_plot(y_, x_)"
   ]
  },
  {
   "cell_type": "code",
   "execution_count": null,
   "metadata": {
    "ExecuteTime": {
     "start_time": "2021-11-02T06:22:38.584Z"
    }
   },
   "outputs": [],
   "source": [
    "# Use log transformed values in place of original MarkDown Features. no cci values"
   ]
  },
  {
   "cell_type": "code",
   "execution_count": null,
   "metadata": {
    "ExecuteTime": {
     "start_time": "2021-11-02T06:22:38.585Z"
    },
    "scrolled": true
   },
   "outputs": [],
   "source": [
    "# Nominal Categories: 'IsHoliday', 'Dept'\n",
    "\n",
    "ohe = OneHotEncoder(handle_unknown='ignore')\n",
    "ohe.fit_transform(df_train[[\"IsHoliday\",'Dept','Store','Type','isocalendar']])\n",
    "ohe.categories_\n",
    "\n",
    "# Ordinal Categories: 'Week','Type'\n",
    "oe = OrdinalEncoder()\n",
    "oe.fit_transform(df_train[['Week']])\n",
    "oe.categories_\n",
    "\n",
    "# Standard Scaler for Numerical Features\n",
    "scaler = StandardScaler()\n",
    "scaler.fit_transform(df_train[['Temperature', 'Fuel_Price', 'MarkDown1_log', 'MarkDown2_log', \"MarkDown3_log\",\n",
    "                               \"MarkDown4_log\", \"MarkDown5_log\", 'CPI', 'Unemployment', 'Size']])\n",
    "                               #'cci_value']])\n",
    "\n",
    "# Instantiate make_column_transformer using standard scaler, onehotencoder, ordinalencoder\n",
    "\n",
    "column_transform_log = make_column_transformer((scaler, ['Temperature', 'Fuel_Price', 'MarkDown1_log', 'MarkDown2_log', \"MarkDown3_log\",\n",
    "                                                     \"MarkDown4_log\", \"MarkDown5_log\", 'CPI', 'Unemployment', 'Size',]),\n",
    "                                                     #'cci_value']),\n",
    "                                           (ohe, [\"IsHoliday\",'Dept','Store','Type','isocalendar']),\n",
    "                                           (oe, ['Week', 'Type']), sparse_threshold=0)\n",
    "column_transform_log"
   ]
  },
  {
   "cell_type": "markdown",
   "metadata": {},
   "source": [
    "## HistGradientBoosting with Engineered Feature"
   ]
  },
  {
   "cell_type": "code",
   "execution_count": null,
   "metadata": {
    "ExecuteTime": {
     "start_time": "2021-11-02T06:22:38.587Z"
    }
   },
   "outputs": [],
   "source": [
    "# split df_train into test and train set\n",
    "X = df_train.drop(columns=['Weekly_Sales','Date', 'cci_value','MarkDown1', 'MarkDown2',\n",
    "                                                          'MarkDown3', 'MarkDown4','MarkDown5',])\n",
    "Y = df_train['Weekly_Sales']\n",
    "Z = column_transform_log.fit(X)\n",
    "\n",
    "histgradient_feature_basic = cross_validate(HistGradientBoostingRegressor(), Z.transform(X), Y, cv=cv,\n",
    "                        scoring=('r2', 'neg_mean_squared_error', 'neg_mean_absolute_error'), n_jobs=-1)\n",
    "\n",
    "print(\"MSE scores: {}\".format(histgradient_feature_basic['test_neg_mean_squared_error']))\n",
    "print(\"R2 scores: {}\".format(histgradient_feature_basic['test_r2']))\n",
    "print(\"MAE scores: {}\".format(histgradient_feature_basic['test_neg_mean_absolute_error']))"
   ]
  },
  {
   "cell_type": "code",
   "execution_count": null,
   "metadata": {
    "ExecuteTime": {
     "start_time": "2021-11-02T06:22:38.589Z"
    }
   },
   "outputs": [],
   "source": [
    "# appending metrics to df_summary\n",
    "scores(histgradient_feature_basic)\n",
    "\n",
    "score_dict=write('histgradient_feature_basic_scores', histgradient_feature_basic)\n",
    "\n",
    "df_summary=df_summary.append(score_dict, ignore_index=True)\n",
    "df_summary"
   ]
  },
  {
   "cell_type": "markdown",
   "metadata": {},
   "source": [
    "## HistGradientBoosting GridSearch with Engineered Feature"
   ]
  },
  {
   "cell_type": "code",
   "execution_count": null,
   "metadata": {
    "ExecuteTime": {
     "start_time": "2021-11-02T06:22:38.591Z"
    },
    "scrolled": false
   },
   "outputs": [],
   "source": [
    "# GridSearchCV HistGradientBoosting Regressor using column_transform\n",
    "\n",
    "# create steps\n",
    "steps = [  # ('transform', column_transform),\n",
    "    ('hist', HistGradientBoostingRegressor())]\n",
    "\n",
    "\n",
    "# instantiate pipeline object\n",
    "pipe = Pipeline(steps)\n",
    "\n",
    "# Create the parameter grid: gbm_param_grid\n",
    "hist_param_grid = {'hist__learning_rate': [0.01,0.2],\n",
    "                  #'hist__min_samples_leaf' : [30,40,50],\n",
    "                    'hist__max_depth'    : [8,10]\n",
    "                 }\n",
    "\n",
    "\n",
    "\n",
    "# split df_train into test and train set\n",
    "X = df_train.drop(columns=['Weekly_Sales','Date', 'cci_value','MarkDown1', 'MarkDown2',\n",
    "                                                          'MarkDown3', 'MarkDown4','MarkDown5',])\n",
    "Y = df_train['Weekly_Sales']\n",
    "Z = column_transform_log.fit(X)\n",
    "\n",
    "\n",
    "# Perform grid search: grid_mse\n",
    "cv = TimeSeriesSplit(n_splits=5)\n",
    "hist_feature_gridsearch = GridSearchCV(pipe, param_grid=hist_param_grid, cv=cv,\n",
    "                              verbose=1, n_jobs=-1)\n",
    "#GridSearchCV(pipe, param_grid, cv=5, return_train_score = True)\n",
    "\n",
    "# Fit grid_mse to the data\n",
    "hist_feature_gridsearch.fit(Z.transform(X), Y)"
   ]
  },
  {
   "cell_type": "code",
   "execution_count": null,
   "metadata": {
    "ExecuteTime": {
     "start_time": "2021-11-02T06:22:38.593Z"
    }
   },
   "outputs": [],
   "source": [
    "hist_feature_gridsearch.best_params_"
   ]
  },
  {
   "cell_type": "code",
   "execution_count": null,
   "metadata": {
    "ExecuteTime": {
     "start_time": "2021-11-02T06:22:38.595Z"
    },
    "code_folding": []
   },
   "outputs": [],
   "source": [
    "#learning rate only\n",
    "hist_feature_gridsearch.best_params_,hist_feature_gridsearch.best_score_"
   ]
  },
  {
   "cell_type": "code",
   "execution_count": null,
   "metadata": {
    "ExecuteTime": {
     "start_time": "2021-11-02T06:22:38.596Z"
    },
    "code_folding": []
   },
   "outputs": [],
   "source": [
    "#min samples leaf\n",
    "hist_feature_gridsearch.best_params_, hist_feature_gridsearch.best_score_"
   ]
  },
  {
   "cell_type": "code",
   "execution_count": null,
   "metadata": {
    "ExecuteTime": {
     "start_time": "2021-11-02T06:22:38.597Z"
    }
   },
   "outputs": [],
   "source": [
    "# cross validate gridsearchcv model\n",
    "# split df_train into test and train set\n",
    "X = df_train.drop(columns=['Weekly_Sales','Date', 'cci_value','MarkDown1', 'MarkDown2',\n",
    "                                                          'MarkDown3', 'MarkDown4','MarkDown5'])\n",
    "Y = df_train['Weekly_Sales']\n",
    "Z = column_transform_log.fit(X)\n",
    "\n",
    "\n",
    "cv = TimeSeriesSplit(n_splits=5)\n",
    "hist_feature_scores = cross_validate(hist_feature_gridsearch, Z.transform(X), Y, cv=cv,\n",
    "                        scoring=('r2',\n",
    "                                # 'neg_mean_squared_error',\n",
    "                                # 'neg_mean_absolute_error'\n",
    "                                ), n_jobs=-1)\n",
    "#print(hist_feature_scores['test_neg_mean_squared_error'])\n",
    "print(hist_feature_scores['test_r2'])\n",
    "#print(hist_feature_scores['test_neg_mean_absolute_error'])\n",
    "\n"
   ]
  },
  {
   "cell_type": "code",
   "execution_count": null,
   "metadata": {
    "ExecuteTime": {
     "start_time": "2021-11-02T06:22:38.598Z"
    }
   },
   "outputs": [],
   "source": [
    "# appending metrics to df_summary\n",
    "scores(hist_feature_scores)\n",
    "\n",
    "score_dict=write('histgradient with log feature scores', hist_feature_scores)\n",
    "\n",
    "df_summary=df_summary.append(score_dict, ignore_index=True)\n",
    "df_summary"
   ]
  },
  {
   "cell_type": "markdown",
   "metadata": {},
   "source": [
    "## ElasticNet using Engineered Feature"
   ]
  },
  {
   "cell_type": "code",
   "execution_count": null,
   "metadata": {
    "ExecuteTime": {
     "start_time": "2021-11-02T06:22:38.600Z"
    }
   },
   "outputs": [],
   "source": [
    "# split df_train into test and train set\n",
    "X = df_train.drop(columns=['Weekly_Sales','Date', 'cci_value','MarkDown1', 'MarkDown2',\n",
    "                                                          'MarkDown3', 'MarkDown4','MarkDown5',])\n",
    "Y = df_train['Weekly_Sales']\n",
    "Z = column_transform_log.fit(X)\n",
    "\n",
    "elasticnet_feature_basic = cross_validate(ElasticNet(), Z.transform(X), Y, cv=cv,\n",
    "                        scoring=('r2', 'neg_mean_squared_error', 'neg_mean_absolute_error'), n_jobs=-1)\n",
    "\n",
    "print(\"MSE scores: {}\".format(elasticnet_feature_basic['test_neg_mean_squared_error']))\n",
    "print(\"R2 scores: {}\".format(elasticnet_feature_basic['test_r2']))\n",
    "print(\"MAE scores: {}\".format(elasticnet_feature_basic['test_neg_mean_absolute_error']))"
   ]
  },
  {
   "cell_type": "code",
   "execution_count": null,
   "metadata": {
    "ExecuteTime": {
     "start_time": "2021-11-02T06:22:38.601Z"
    },
    "scrolled": true
   },
   "outputs": [],
   "source": [
    "# appending metrics to df_summary\n",
    "scores(elasticnet_feature_basic)\n",
    "\n",
    "score_dict=write('elasticnet basic with log feature scores', elasticnet_feature_basic)\n",
    "\n",
    "df_summary=df_summary.append(score_dict, ignore_index=True)\n",
    "df_summary"
   ]
  },
  {
   "cell_type": "code",
   "execution_count": null,
   "metadata": {
    "ExecuteTime": {
     "start_time": "2021-11-02T06:22:38.602Z"
    }
   },
   "outputs": [],
   "source": [
    "df_summary"
   ]
  },
  {
   "cell_type": "code",
   "execution_count": null,
   "metadata": {
    "ExecuteTime": {
     "start_time": "2021-11-02T06:22:38.604Z"
    }
   },
   "outputs": [],
   "source": [
    "df_summary.to_csv('temp_df', index=False)"
   ]
  },
  {
   "cell_type": "markdown",
   "metadata": {},
   "source": [
    "## ElasticNet GridSearchCV using Engineered Feature"
   ]
  },
  {
   "cell_type": "code",
   "execution_count": null,
   "metadata": {},
   "outputs": [],
   "source": []
  },
  {
   "cell_type": "code",
   "execution_count": null,
   "metadata": {
    "ExecuteTime": {
     "start_time": "2021-11-02T06:22:38.606Z"
    }
   },
   "outputs": [],
   "source": [
    "# create steps\n",
    "\n",
    "steps = [#('transform', column_transform),\n",
    "         ('linear',ElasticNet())]\n",
    "\n",
    "#instantiate pipeline object\n",
    "pipe = Pipeline(steps)\n",
    "\n",
    "# split df_train into test and train sets \n",
    "# Column Transform df_train before split\n",
    "# split df_train into test and train set\n",
    "# split df_train into test and train set\n",
    "X = df_train.drop(columns=['Weekly_Sales','Date', 'cci_value','MarkDown1', 'MarkDown2',\n",
    "                                                          'MarkDown3', 'MarkDown4','MarkDown5',])\n",
    "Y = df_train['Weekly_Sales']\n",
    "Z = column_transform_log.fit(X)\n",
    "\n",
    "\n",
    "\n",
    "# GridSearchCV parameters\n",
    "param_grid = {'linear__alpha':[0.1,0.2,0.3,0.4,0.5,0.6,0.7,0.8,0.9,1.0]}\n",
    "\n",
    "scoring = {'R2': 'r2_score', 'MAE': 'mean_absolute_error', 'MSE': 'mean_squared_error'}\n",
    "\n",
    "cv = TimeSeriesSplit(n_splits=5)\n",
    "# instantiate GridSearchCV object using pipeline, parameters dict\n",
    "elasticnet_feature_gridsearch = GridSearchCV(pipe, param_grid, cv=cv, return_train_score = True)\n",
    "elasticnet_feature_gridsearch.fit(Z.transform(X), Y)\n"
   ]
  },
  {
   "cell_type": "code",
   "execution_count": null,
   "metadata": {
    "ExecuteTime": {
     "start_time": "2021-11-02T06:22:38.607Z"
    }
   },
   "outputs": [],
   "source": [
    "# cross validate gridsearchcv model\n",
    "X = df_train.drop(columns=['Weekly_Sales','Date', 'cci_value','MarkDown1', 'MarkDown2',\n",
    "                                                          'MarkDown3', 'MarkDown4','MarkDown5',])\n",
    "Y = df_train['Weekly_Sales']\n",
    "Z = column_transform_log.fit(X)\n",
    "\n",
    "cv = TimeSeriesSplit(n_splits=5)\n",
    "\n",
    "elasticnet_feature_scores = cross_validate(elasticnet_feature_gridsearch, Z.transform(X), Y, cv=cv,\n",
    "                        scoring=('r2', 'neg_mean_squared_error', 'neg_mean_absolute_error'), n_jobs=-1)\n",
    "print(elasticnet_feature_scores['test_neg_mean_squared_error'])\n",
    "print(elasticnet_feature_scores['test_r2'])\n",
    "print(elasticnet_feature_scores['test_neg_mean_absolute_error'])\n",
    "\n"
   ]
  },
  {
   "cell_type": "code",
   "execution_count": null,
   "metadata": {
    "ExecuteTime": {
     "start_time": "2021-11-02T06:22:38.608Z"
    }
   },
   "outputs": [],
   "source": [
    "scores(elasticnet_feature_scores)"
   ]
  },
  {
   "cell_type": "code",
   "execution_count": null,
   "metadata": {
    "ExecuteTime": {
     "start_time": "2021-11-02T06:22:38.610Z"
    },
    "scrolled": true
   },
   "outputs": [],
   "source": [
    "# appending metrics to df_summary\n",
    "scores(elasticnet_feature_scores)\n",
    "\n",
    "score_dict=write('elasticnet log feature scores', elasticnet_feature_scores)\n",
    "\n",
    "df_summary=df_summary.append(score_dict, ignore_index=True)\n",
    "df_summary"
   ]
  },
  {
   "cell_type": "code",
   "execution_count": null,
   "metadata": {
    "ExecuteTime": {
     "start_time": "2021-11-02T06:22:38.611Z"
    }
   },
   "outputs": [],
   "source": [
    "df_summary.to_csv('temp_df', index=False)"
   ]
  },
  {
   "cell_type": "markdown",
   "metadata": {},
   "source": [
    "## Comparing Model Improvement with Engineered Feature"
   ]
  },
  {
   "cell_type": "code",
   "execution_count": null,
   "metadata": {
    "ExecuteTime": {
     "start_time": "2021-11-02T06:22:38.612Z"
    }
   },
   "outputs": [],
   "source": [
    "#write a function that returns scores\n",
    "list = {}\n",
    "def scores(name):\n",
    "\n",
    "    keys = ['test_r2','test_neg_mean_squared_error', 'test_neg_mean_absolute_error']\n",
    "    for item in keys:\n",
    "        #print(\"{} average: {:.3f}\".format(item, np.mean(np.abs(name[item])) ))\n",
    "        z = list.update({item:[np.round(np.mean(np.abs(name[item])),2)]})\n",
    "\n",
    "    return list\n",
    "\n",
    "scores(lr_scores)"
   ]
  },
  {
   "cell_type": "code",
   "execution_count": null,
   "metadata": {
    "ExecuteTime": {
     "start_time": "2021-11-02T06:22:38.613Z"
    }
   },
   "outputs": [],
   "source": [
    "# Comparison of Tuned Models Performance\n",
    "\n",
    "# build dataframe: model name, r2, mae, mse features\n",
    "names = ['ElasticNet', 'ElasticNet+', 'HistGradientBoost', 'HistGradientBoost+']\n",
    "scores_list = [elastic_scores,elasticnet_feature_scores,hist_scores,hist_feature_scores]\n",
    "\n",
    "df_scores = pd.DataFrame()\n",
    "for x, y in zip(names, scores_list):\n",
    "    df_ = pd.DataFrame(scores(y))\n",
    " \n",
    "    df_['model'] = x\n",
    "    \n",
    "    df_scores= df_scores.append(df_)\n",
    "    \n",
    "    #print(df_)\n",
    "\n",
    "df_scores=df_scores.reset_index(drop=True)\n",
    "df_scores = df_scores[['model','test_r2',\n",
    " 'test_neg_mean_squared_error',\n",
    " 'test_neg_mean_absolute_error']]\n",
    "df_scores = df_scores.rename(columns={'test_r2': 'R2', 'test_neg_mean_squared_error': 'Mean Squared Error, MSE',\n",
    "                   'test_neg_mean_absolute_error':'Mean Absolute Error, MAE'})\n",
    "df_scores"
   ]
  },
  {
   "cell_type": "code",
   "execution_count": null,
   "metadata": {
    "ExecuteTime": {
     "start_time": "2021-11-02T06:22:38.615Z"
    }
   },
   "outputs": [],
   "source": [
    "df_summary.drop(columns='name').to_csv('df_metric_results', index=False)b"
   ]
  },
  {
   "cell_type": "code",
   "execution_count": null,
   "metadata": {
    "ExecuteTime": {
     "start_time": "2021-11-02T06:22:38.616Z"
    }
   },
   "outputs": [],
   "source": [
    "df_summary"
   ]
  },
  {
   "cell_type": "markdown",
   "metadata": {},
   "source": [
    "# Model Performance Metrics Comparison\n",
    "\n",
    "Summary-\n",
    "\n",
    "|    | model             |   R2 |   Mean Squared Error, MSE |   Mean Absolute Error, MAE |\n",
    "|---:|:------------------|-----:|--------------------------:|---------------------------:|\n",
    "|  0 | Linear Regression | 0.02 |               4.70768e+08 |                   15163    |\n",
    "|  1 | ElasticNet        | 0.26 |               3.6639e+08  |                   13065.3  |\n",
    "|  2 | Random Forest     | 0.66 |               1.54184e+08 |                    7273.31 |\n",
    "|  3 | XGBoost           | 0.62 |               1.7782e+08  |                    9107.58 |\n",
    "|  4 | HistGradientBoost | 0.63 |               1.81316e+08 |                    8186.8  |\n",
    "\n",
    "R2, Coefficient of Determination.  Proportion of target variance explained by model. Values range from 0 to 1.  Higher values indicates improved model accuray (in order of best to worst):\n",
    "- HistGradientBoost Model \n",
    "- Random Forest \n",
    "- ElasticNet \n",
    "- XGBoost \n",
    "- Linear Regression \n",
    "\n",
    "Mean Squared Error. Variation of the residuals.  Lower values indicate improved model precision.  (in order of best to worst): \n",
    "- HistGradientBoost Model \n",
    "- Random Forest \n",
    "- ElasticNet \n",
    "- Linear Regression \n",
    "- XGBoost \n",
    "\n",
    "Mean Absolute Error.  Average of residuals.  Lower value indicates more accurate model(in order of best to worst).  In order of best to worst:\n",
    "- HistGradientBoost Model \n",
    "- Random Forest \n",
    "- ElasticNet \n",
    "- Linear Regression \n",
    "- XGBoost \n",
    "\n"
   ]
  },
  {
   "cell_type": "code",
   "execution_count": null,
   "metadata": {
    "ExecuteTime": {
     "start_time": "2021-11-02T06:22:38.617Z"
    }
   },
   "outputs": [],
   "source": [
    "#write a function that returns scores\n",
    "list = {}\n",
    "def scores(name):\n",
    "\n",
    "    keys = ['test_r2','test_neg_mean_squared_error', 'test_neg_mean_absolute_error']\n",
    "    for item in keys:\n",
    "        #print(\"{} average: {:.3f}\".format(item, np.mean(np.abs(name[item])) ))\n",
    "        z = list.update({item:[np.round(np.mean(np.abs(name[item])),2)]})\n",
    "\n",
    "    return list\n",
    "\n",
    "scores(lr_scores)"
   ]
  },
  {
   "cell_type": "markdown",
   "metadata": {},
   "source": [
    "## Comparing Model Performance Metrics with no hyperparameter tuning "
   ]
  },
  {
   "cell_type": "code",
   "execution_count": null,
   "metadata": {
    "ExecuteTime": {
     "start_time": "2021-11-02T06:22:38.619Z"
    }
   },
   "outputs": [],
   "source": [
    "# Comparison of Tuned Models Performance\n",
    "\n",
    "# build dataframe: model name, r2, mae, mse features\n",
    "names = ['Linear Regression', 'ElasticNet', 'Random Forest', 'XGBoost', 'HistGradientBoost']\n",
    "scores_list = [lr_base_scores, elastic_base_scores, rf_base_scores, xgb_base_scores, hist_base_scores]\n",
    "\n",
    "\n",
    "df_base_scores = pd.DataFrame()\n",
    "for x, y in zip(names, scores_list):\n",
    "    df_ = pd.DataFrame(scores(y))\n",
    " \n",
    "    df_['model'] = x\n",
    "    \n",
    "    df_scores= df_base_scores.append(df_)\n",
    "    \n",
    "    #print(df_)\n",
    "\n",
    "df_base_scores=df_scores.reset_index(drop=True)\n",
    "df_base_scores = df_scores[['model','test_r2',\n",
    " 'test_neg_mean_squared_error',\n",
    " 'test_neg_mean_absolute_error']]\n",
    "df_base_scores = df_base_scores.rename(columns={'test_r2': 'R2', 'test_neg_mean_squared_error': 'Mean Squared Error, MSE',\n",
    "                   'test_neg_mean_absolute_error':'Mean Absolute Error, MAE'})\n",
    "df_base_scores\n"
   ]
  },
  {
   "cell_type": "code",
   "execution_count": null,
   "metadata": {
    "ExecuteTime": {
     "start_time": "2021-11-02T06:22:38.620Z"
    }
   },
   "outputs": [],
   "source": [
    "# Create three plots to comparison base model performance metrics\n",
    "fig, (ax1, ax2, ax3) = plt.subplots(1,3, figsize=(14,10))\n",
    "\n",
    "\n",
    "sns.barplot(data=df_base_scores, x='model', y='R2', hue='model',\n",
    "            order = df_base_scores.sort_values('R2').model, ax=ax1)\n",
    "ax1.set(xlabel ='Model', ylabel ='Coefficient of Determination, R^2',\n",
    "       title ='R^2 Score')\n",
    "ax1.tick_params(axis = 'x',labelrotation=70)\n",
    "\n",
    "sns.barplot(data=df_base_scores, x='model', y='Mean Squared Error, MSE', hue='model',\n",
    "            order = df_base_scores.sort_values('Mean Squared Error, MSE').model, ax=ax2)\n",
    "ax2.set(xlabel ='Model', ylabel ='Mean Squared Error',\n",
    "       title ='Mean Squared Error, MSE')\n",
    "ax2.tick_params(axis = 'x', labelrotation=70)\n",
    "\n",
    "sns.barplot(data=df_base_scores, x='model', y='Mean Absolute Error, MAE', hue='model',\n",
    "            order = df_base_scores.sort_values('Mean Absolute Error, MAE').model, ax=ax3)\n",
    "ax3.set(xlabel ='Model', ylabel ='Mean Absolute Error, MAE',\n",
    "       title ='Mean Absolute Error, MAE')\n",
    "ax3.tick_params(axis = 'x',labelrotation=70)\n",
    "\n",
    "plt.tight_layout()\n",
    "plt.show()"
   ]
  },
  {
   "cell_type": "markdown",
   "metadata": {},
   "source": [
    "## Comparing Tuned Model Performance Metrics"
   ]
  },
  {
   "cell_type": "code",
   "execution_count": null,
   "metadata": {
    "ExecuteTime": {
     "start_time": "2021-11-02T06:22:38.621Z"
    }
   },
   "outputs": [],
   "source": [
    "# Comparison of Tuned Models Performance\n",
    "\n",
    "# build dataframe: model name, r2, mae, mse features\n",
    "names = ['Linear Regression', 'ElasticNet', 'Random Forest', 'XGBoost', 'HistGradientBoost']\n",
    "scores_list = [lr_scores, elastic_scores, rf_scores, xgb_scores, hist_scores]\n",
    "\n",
    "df_scores = pd.DataFrame()\n",
    "for x, y in zip(names, scores_list):\n",
    "    df_ = pd.DataFrame(scores(y))\n",
    " \n",
    "    df_['model'] = x\n",
    "    \n",
    "    df_scores= df_scores.append(df_)\n",
    "    \n",
    "    #print(df_)\n",
    "\n",
    "df_scores=df_scores.reset_index(drop=True)\n",
    "df_scores = df_scores[['model','test_r2',\n",
    " 'test_neg_mean_squared_error',\n",
    " 'test_neg_mean_absolute_error']]\n",
    "df_scores = df_scores.rename(columns={'test_r2': 'R2', 'test_neg_mean_squared_error': 'Mean Squared Error, MSE',\n",
    "                   'test_neg_mean_absolute_error':'Mean Absolute Error, MAE'})\n",
    "df_scores"
   ]
  },
  {
   "cell_type": "code",
   "execution_count": null,
   "metadata": {
    "ExecuteTime": {
     "start_time": "2021-11-02T06:22:38.622Z"
    }
   },
   "outputs": [],
   "source": [
    "# Create three plots to comparison model performance metrics\n",
    "fig, (ax1, ax2, ax3) = plt.subplots(1,3, figsize=(14,10))\n",
    "\n",
    "\n",
    "sns.barplot(data=df_scores, x='model', y='R2', hue='model',\n",
    "            order = df_scores.sort_values('R2').model, ax=ax1)\n",
    "ax1.set(xlabel ='Model', ylabel ='Coefficient of Determination, R^2',\n",
    "       title ='R^2 Score')\n",
    "ax1.tick_params(axis = 'x',labelrotation=70)\n",
    "\n",
    "sns.barplot(data=df_scores, x='model', y='Mean Squared Error, MSE', hue='model',\n",
    "            order = df_scores.sort_values('Mean Squared Error, MSE').model, ax=ax2)\n",
    "ax2.set(xlabel ='Model', ylabel ='Mean Squared Error',\n",
    "       title ='Mean Squared Error, MSE')\n",
    "ax2.tick_params(axis = 'x', labelrotation=70)\n",
    "\n",
    "sns.barplot(data=df_scores, x='model', y='Mean Absolute Error, MAE', hue='model',\n",
    "            order = df_scores.sort_values('Mean Absolute Error, MAE').model, ax=ax3)\n",
    "ax3.set(xlabel ='Model', ylabel ='Mean Absolute Error, MAE',\n",
    "       title ='Mean Absolute Error, MAE')\n",
    "ax3.tick_params(axis = 'x',labelrotation=70)\n",
    "\n",
    "plt.tight_layout()\n",
    "plt.show()"
   ]
  },
  {
   "cell_type": "code",
   "execution_count": null,
   "metadata": {
    "ExecuteTime": {
     "start_time": "2021-11-02T06:22:38.623Z"
    },
    "scrolled": false
   },
   "outputs": [],
   "source": [
    "### Markdown Table of performance metrics\n",
    "\n",
    "print(df_scores.to_markdown())"
   ]
  },
  {
   "cell_type": "code",
   "execution_count": null,
   "metadata": {
    "ExecuteTime": {
     "start_time": "2021-11-02T06:22:38.624Z"
    }
   },
   "outputs": [],
   "source": [
    "# Comparison of Tuned Models Performance\n",
    "\n",
    "# build dataframe: model name, r2, mae, mse features\n",
    "names = ['ElasticNet', 'ElasticNet+', 'HistGradientBoost', 'HistGradientBoost+']\n",
    "scores_list = [elastic_scores,elasticnet_feature_scores,hist_scores,hist_feature_scores]\n",
    "\n",
    "df_scores = pd.DataFrame()\n",
    "for x, y in zip(names, scores_list):\n",
    "    df_ = pd.DataFrame(scores(y))\n",
    " \n",
    "    df_['model'] = x\n",
    "    \n",
    "    df_scores= df_scores.append(df_)\n",
    "    \n",
    "    #print(df_)\n",
    "\n",
    "df_scores=df_scores.reset_index(drop=True)\n",
    "df_scores = df_scores[['model','test_r2',\n",
    " 'test_neg_mean_squared_error',\n",
    " 'test_neg_mean_absolute_error']]\n",
    "df_scores = df_scores.rename(columns={'test_r2': 'R2', 'test_neg_mean_squared_error': 'Mean Squared Error, MSE',\n",
    "                   'test_neg_mean_absolute_error':'Mean Absolute Error, MAE'})\n",
    "df_scores"
   ]
  },
  {
   "cell_type": "code",
   "execution_count": null,
   "metadata": {
    "ExecuteTime": {
     "start_time": "2021-11-02T06:22:38.625Z"
    }
   },
   "outputs": [],
   "source": [
    "# Create three plots to comparison model performance metrics\n",
    "fig, (ax1, ax2, ax3) = plt.subplots(1,3, figsize=(14,10))\n",
    "\n",
    "\n",
    "sns.barplot(data=df_scores, x='model', y='R2', hue='model',\n",
    "            order = df_scores.sort_values('R2').model, ax=ax1)\n",
    "ax1.set(xlabel ='Model', ylabel ='Coefficient of Determination, R^2',\n",
    "       title ='R^2 Score')\n",
    "ax1.tick_params(axis = 'x',labelrotation=70)\n",
    "\n",
    "sns.barplot(data=df_scores, x='model', y='Mean Squared Error, MSE', hue='model',\n",
    "            order = df_scores.sort_values('Mean Squared Error, MSE').model, ax=ax2)\n",
    "ax2.set(xlabel ='Model', ylabel ='Mean Squared Error',\n",
    "       title ='Mean Squared Error, MSE')\n",
    "ax2.tick_params(axis = 'x', labelrotation=70)\n",
    "\n",
    "sns.barplot(data=df_scores, x='model', y='Mean Absolute Error, MAE', hue='model',\n",
    "            order = df_scores.sort_values('Mean Absolute Error, MAE').model, ax=ax3)\n",
    "ax3.set(xlabel ='Model', ylabel ='Mean Absolute Error, MAE',\n",
    "       title ='Mean Absolute Error, MAE')\n",
    "ax3.tick_params(axis = 'x',labelrotation=70)\n",
    "\n",
    "plt.tight_layout()\n",
    "plt.show()"
   ]
  },
  {
   "cell_type": "code",
   "execution_count": null,
   "metadata": {
    "ExecuteTime": {
     "start_time": "2021-11-02T06:22:38.626Z"
    }
   },
   "outputs": [],
   "source": [
    "### Markdown Table of performance metrics\n",
    "\n",
    "print(df_scores.to_markdown())"
   ]
  },
  {
   "cell_type": "markdown",
   "metadata": {
    "ExecuteTime": {
     "end_time": "2021-10-18T23:13:44.721105Z",
     "start_time": "2021-10-18T23:13:44.718202Z"
    }
   },
   "source": [
    "## Residuals Plot"
   ]
  },
  {
   "cell_type": "code",
   "execution_count": null,
   "metadata": {
    "ExecuteTime": {
     "start_time": "2021-11-02T06:22:38.627Z"
    }
   },
   "outputs": [],
   "source": [
    "rf_random.best_params_"
   ]
  },
  {
   "cell_type": "code",
   "execution_count": null,
   "metadata": {
    "ExecuteTime": {
     "start_time": "2021-11-02T06:22:38.628Z"
    }
   },
   "outputs": [],
   "source": [
    "df_train.shape"
   ]
  },
  {
   "cell_type": "code",
   "execution_count": null,
   "metadata": {
    "ExecuteTime": {
     "start_time": "2021-11-02T06:22:38.629Z"
    }
   },
   "outputs": [],
   "source": [
    "# check features.  Note: 'MarkDown1_log', \"MarkDown2_log\", \"MarkDown3_log\", \"MarkDown4_log\", \"MarkDown5_log\" were\n",
    "# not used in random forest regessor model\n",
    "\n",
    "df_train.columns"
   ]
  },
  {
   "cell_type": "code",
   "execution_count": null,
   "metadata": {
    "ExecuteTime": {
     "start_time": "2021-11-02T06:22:38.630Z"
    }
   },
   "outputs": [],
   "source": [
    "X = column_transform.fit_transform(df_train.drop(columns = ['Weekly_Sales', 'MarkDown1_log', 'MarkDown2_log',\n",
    "                                                            'MarkDown3_log','MarkDown4_log', 'MarkDown5_log']))"
   ]
  },
  {
   "cell_type": "code",
   "execution_count": null,
   "metadata": {
    "ExecuteTime": {
     "start_time": "2021-11-02T06:22:38.631Z"
    }
   },
   "outputs": [],
   "source": [
    "# residuals plots Random Forest\n",
    "# residual value = observed value - predicted value\n",
    "\n",
    "\n",
    "# Fit the random search model\n",
    "#rf_random.fit(X,Y)\n",
    "\n",
    "y_pred = rf_random.predict(X)\n",
    "df_train['y_pred'] = y_pred\n"
   ]
  },
  {
   "cell_type": "code",
   "execution_count": null,
   "metadata": {
    "ExecuteTime": {
     "start_time": "2021-11-02T06:22:38.632Z"
    }
   },
   "outputs": [],
   "source": [
    "df_train\n"
   ]
  },
  {
   "cell_type": "code",
   "execution_count": null,
   "metadata": {
    "ExecuteTime": {
     "start_time": "2021-11-02T06:22:38.633Z"
    }
   },
   "outputs": [],
   "source": [
    "df_train.columns()"
   ]
  },
  {
   "cell_type": "code",
   "execution_count": null,
   "metadata": {
    "ExecuteTime": {
     "start_time": "2021-11-02T06:22:38.634Z"
    },
    "scrolled": true
   },
   "outputs": [],
   "source": [
    "sns.scatterplot(data=df_train[df_train['Store']==1], x='Date', y='y_pred', )\n",
    "\n",
    "plt.show()"
   ]
  }
 ],
 "metadata": {
  "kernelspec": {
   "display_name": "Python 3",
   "language": "python",
   "name": "python3"
  },
  "language_info": {
   "codemirror_mode": {
    "name": "ipython",
    "version": 3
   },
   "file_extension": ".py",
   "mimetype": "text/x-python",
   "name": "python",
   "nbconvert_exporter": "python",
   "pygments_lexer": "ipython3",
   "version": "3.8.5"
  },
  "notify_time": "5",
  "toc": {
   "base_numbering": 1,
   "nav_menu": {},
   "number_sections": true,
   "sideBar": true,
   "skip_h1_title": false,
   "title_cell": "Table of Contents",
   "title_sidebar": "Contents",
   "toc_cell": false,
   "toc_position": {
    "height": "461px",
    "left": "140px",
    "top": "110px",
    "width": "316px"
   },
   "toc_section_display": true,
   "toc_window_display": true
  },
  "varInspector": {
   "cols": {
    "lenName": 16,
    "lenType": 16,
    "lenVar": 40
   },
   "kernels_config": {
    "python": {
     "delete_cmd_postfix": "",
     "delete_cmd_prefix": "del ",
     "library": "var_list.py",
     "varRefreshCmd": "print(var_dic_list())"
    },
    "r": {
     "delete_cmd_postfix": ") ",
     "delete_cmd_prefix": "rm(",
     "library": "var_list.r",
     "varRefreshCmd": "cat(var_dic_list()) "
    }
   },
   "oldHeight": 391.734375,
   "position": {
    "height": "40px",
    "left": "68.171875px",
    "right": "20px",
    "top": "65px",
    "width": "652px"
   },
   "types_to_exclude": [
    "module",
    "function",
    "builtin_function_or_method",
    "instance",
    "_Feature"
   ],
   "varInspector_section_display": "none",
   "window_display": false
  }
 },
 "nbformat": 4,
 "nbformat_minor": 4
}
