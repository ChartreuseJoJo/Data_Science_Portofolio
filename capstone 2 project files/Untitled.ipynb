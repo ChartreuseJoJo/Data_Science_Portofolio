{
 "cells": [
  {
   "cell_type": "code",
   "execution_count": 20,
   "metadata": {},
   "outputs": [
    {
     "name": "stdout",
     "output_type": "stream",
     "text": [
      "/Users/marshallbanana/GitHub/Springboard2021/CAPSTONE 2 PROJECT FILES\n",
      "\u001b[34mCapstone 2 Project Data\u001b[m\u001b[m             Untitled.ipynb\n",
      "Capstone 2 Project Ed Gatdula.ipynb\n"
     ]
    }
   ],
   "source": [
    "!pwd\n",
    "!\n",
    "!cd /Users/marshallbanana/GitHub/Springboard2021\n",
    "!ls"
   ]
  }
 ],
 "metadata": {
  "kernelspec": {
   "display_name": "Python 3",
   "language": "python",
   "name": "python3"
  },
  "language_info": {
   "codemirror_mode": {
    "name": "ipython",
    "version": 3
   },
   "file_extension": ".py",
   "mimetype": "text/x-python",
   "name": "python",
   "nbconvert_exporter": "python",
   "pygments_lexer": "ipython3",
   "version": "3.8.5"
  }
 },
 "nbformat": 4,
 "nbformat_minor": 4
}
