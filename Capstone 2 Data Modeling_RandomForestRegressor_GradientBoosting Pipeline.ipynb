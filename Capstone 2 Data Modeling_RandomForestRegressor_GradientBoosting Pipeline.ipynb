{
 "cells": [
  {
   "cell_type": "markdown",
   "metadata": {},
   "source": [
    "# Regression Model Comparison\n",
    "\n",
    "## Objective:  Predict life expectancy at birth using regression models.  Compare optimized model performance for the following algorithms:\n",
    "\n",
    "- Random Forest Regressor\n",
    "- Gradient Boosted\n",
    "\n",
    "## Procedure:\n",
    "\n",
    "1.  Load data into dataframe.\n",
    "2.  Use Pipeline() and GridSearchCV() to optimize model parameters.  \n",
    "    - Apply StandardScaler(), OneHotEncode(), and Principal Component Analysis (PCA) where appropriate.<br>\n",
    "    - Record performance scores and model parameters. \n",
    "3.  Compare model scores to determine best performing model."
   ]
  },
  {
   "cell_type": "markdown",
   "metadata": {},
   "source": [
    "# Import Packages"
   ]
  },
  {
   "cell_type": "code",
   "execution_count": 3,
   "metadata": {},
   "outputs": [],
   "source": [
    "# pandas, numpy, matplotlib, seaborn, plotly libraries\n",
    "\n",
    "import pandas as pd\n",
    "import numpy as np\n",
    "import matplotlib.pyplot as plt\n",
    "import plotly.express as px\n",
    "import plotly.graph_objects as go\n",
    "from plotly.subplots import make_subplots\n",
    "import seaborn as sns\n",
    "\n",
    "\n",
    "%matplotlib inline"
   ]
  },
  {
   "cell_type": "code",
   "execution_count": 4,
   "metadata": {},
   "outputs": [],
   "source": [
    "# sklearn libraries\n",
    "\n",
    "from sklearn import datasets\n",
    "from sklearn.model_selection import train_test_split\n",
    "from sklearn.preprocessing import StandardScaler\n",
    "from sklearn.decomposition import PCA\n",
    "from sklearn.tree import DecisionTreeClassifier\n",
    "from sklearn.linear_model import LogisticRegression\n",
    "from sklearn.linear_model import LinearRegression\n",
    "\n",
    "from sklearn.model_selection import GridSearchCV\n",
    "from sklearn.pipeline import Pipeline\n",
    "from sklearn.svm import LinearSVC\n",
    "from sklearn.decomposition import PCA, NMF\n",
    "from sklearn.feature_selection import SelectKBest, chi2"
   ]
  },
  {
   "cell_type": "code",
   "execution_count": 5,
   "metadata": {
    "scrolled": true
   },
   "outputs": [
    {
     "name": "stdout",
     "output_type": "stream",
     "text": [
      "Capstone 2  Exploratory Data Analysis - Ed Gatdula.ipynb\r\n",
      "Capstone 2 Data Modeling - Ed Gatdula.ipynb\r\n",
      "Capstone 2 Data Modeling_RandomForestRegressor_GradientBoosting Pipeline.ipynb\r\n",
      "Capstone 2 Project Ed Gatdula.ipynb\r\n",
      "Untitled.ipynb\r\n",
      "\u001b[34mcapstone_2_project_data_files\u001b[m\u001b[m\r\n",
      "df_emp_edu_pov\r\n",
      "df_final\r\n",
      "df_mortality\r\n",
      "life_county_hist.png\r\n",
      "life_hist.png\r\n",
      "\u001b[34mpresentation images\u001b[m\u001b[m\r\n"
     ]
    }
   ],
   "source": [
    "!ls\n"
   ]
  },
  {
   "cell_type": "markdown",
   "metadata": {},
   "source": [
    "# Import Dataframe\n",
    "\n",
    "## Select feature columns\n",
    "\n",
    "### - Eleven features are selected from df_final, the dataframe containing all compiled data. \n",
    "\n",
    "1. 'State'\n",
    "2. 'County Name'\n",
    "3. 'e(0)'.  Life expectancy at birth.  This is the target.\n",
    "4. 'Percent of adults with less than a high school diploma, 2015-19',\n",
    "5. 'Percent of adults with a high school diploma only, 2015-19',\n",
    "6. \"Percent of adults completing some college or associate's degree, 2015-19\",\n",
    "7. \"Percent of adults with a bachelor's degree or higher, 2015-19\", 'PCTPOV017_2019',\n",
    "8. 'Unemployment_rate_2020', \n",
    "9. 'Median_Household_Income_2019',\n",
    "10. 'Med_HH_Income_Percent_of_State_Total_2019'\n",
    "11. 'PCTPOV017_2019'\n",
    "\n"
   ]
  },
  {
   "cell_type": "code",
   "execution_count": 6,
   "metadata": {},
   "outputs": [],
   "source": [
    "df = pd.read_csv('./df_final')"
   ]
  },
  {
   "cell_type": "code",
   "execution_count": 7,
   "metadata": {},
   "outputs": [
    {
     "data": {
      "text/plain": [
       "array(['Unnamed: 0', 'Tract ID', 'STATE2KX_x', 'CNTY2KX', 'TRACT2KX',\n",
       "       'e(0)', 'se(e(0))', 'Abridged life table flag', 'State',\n",
       "       'County Name', 'STATE2KX_y', 'STUSAB', 'STATENS', 'FIPS_Code',\n",
       "       'Area_name_x', 'Rural_urban_continuum_code_2013',\n",
       "       'Urban_influence_code_2013', 'Metro_2013',\n",
       "       'Civilian_labor_force_2000', 'Employed_2000', 'Unemployed_2000',\n",
       "       'Unemployment_rate_2000', 'Civilian_labor_force_2001',\n",
       "       'Employed_2001', 'Unemployed_2001', 'Unemployment_rate_2001',\n",
       "       'Civilian_labor_force_2002', 'Employed_2002', 'Unemployed_2002',\n",
       "       'Unemployment_rate_2002', 'Civilian_labor_force_2003',\n",
       "       'Employed_2003', 'Unemployed_2003', 'Unemployment_rate_2003',\n",
       "       'Civilian_labor_force_2004', 'Employed_2004', 'Unemployed_2004',\n",
       "       'Unemployment_rate_2004', 'Civilian_labor_force_2005',\n",
       "       'Employed_2005', 'Unemployed_2005', 'Unemployment_rate_2005',\n",
       "       'Civilian_labor_force_2006', 'Employed_2006', 'Unemployed_2006',\n",
       "       'Unemployment_rate_2006', 'Civilian_labor_force_2007',\n",
       "       'Employed_2007', 'Unemployed_2007', 'Unemployment_rate_2007',\n",
       "       'Civilian_labor_force_2008', 'Employed_2008', 'Unemployed_2008',\n",
       "       'Unemployment_rate_2008', 'Civilian_labor_force_2009',\n",
       "       'Employed_2009', 'Unemployed_2009', 'Unemployment_rate_2009',\n",
       "       'Civilian_labor_force_2010', 'Employed_2010', 'Unemployed_2010',\n",
       "       'Unemployment_rate_2010', 'Civilian_labor_force_2011',\n",
       "       'Employed_2011', 'Unemployed_2011', 'Unemployment_rate_2011',\n",
       "       'Civilian_labor_force_2012', 'Employed_2012', 'Unemployed_2012',\n",
       "       'Unemployment_rate_2012', 'Civilian_labor_force_2013',\n",
       "       'Employed_2013', 'Unemployed_2013', 'Unemployment_rate_2013',\n",
       "       'Civilian_labor_force_2014', 'Employed_2014', 'Unemployed_2014',\n",
       "       'Unemployment_rate_2014', 'Civilian_labor_force_2015',\n",
       "       'Employed_2015', 'Unemployed_2015', 'Unemployment_rate_2015',\n",
       "       'Civilian_labor_force_2016', 'Employed_2016', 'Unemployed_2016',\n",
       "       'Unemployment_rate_2016', 'Civilian_labor_force_2017',\n",
       "       'Employed_2017', 'Unemployed_2017', 'Unemployment_rate_2017',\n",
       "       'Civilian_labor_force_2018', 'Employed_2018', 'Unemployed_2018',\n",
       "       'Unemployment_rate_2018', 'Civilian_labor_force_2019',\n",
       "       'Employed_2019', 'Unemployed_2019', 'Unemployment_rate_2019',\n",
       "       'Civilian_labor_force_2020', 'Employed_2020', 'Unemployed_2020',\n",
       "       'Unemployment_rate_2020', 'Median_Household_Income_2019',\n",
       "       'Med_HH_Income_Percent_of_State_Total_2019', 'State_y',\n",
       "       'Area name', '2003 Rural-urban Continuum Code',\n",
       "       '2003 Urban Influence Code', '2013 Rural-urban Continuum Code',\n",
       "       '2013 Urban Influence Code',\n",
       "       'Less than a high school diploma, 1970',\n",
       "       'High school diploma only, 1970', 'Some college (1-3 years), 1970',\n",
       "       'Four years of college or higher, 1970',\n",
       "       'Percent of adults with less than a high school diploma, 1970',\n",
       "       'Percent of adults with a high school diploma only, 1970',\n",
       "       'Percent of adults completing some college (1-3 years), 1970',\n",
       "       'Percent of adults completing four years of college or higher, 1970',\n",
       "       'Less than a high school diploma, 1980',\n",
       "       'High school diploma only, 1980', 'Some college (1-3 years), 1980',\n",
       "       'Four years of college or higher, 1980',\n",
       "       'Percent of adults with less than a high school diploma, 1980',\n",
       "       'Percent of adults with a high school diploma only, 1980',\n",
       "       'Percent of adults completing some college (1-3 years), 1980',\n",
       "       'Percent of adults completing four years of college or higher, 1980',\n",
       "       'Less than a high school diploma, 1990',\n",
       "       'High school diploma only, 1990',\n",
       "       \"Some college or associate's degree, 1990\",\n",
       "       \"Bachelor's degree or higher, 1990\",\n",
       "       'Percent of adults with less than a high school diploma, 1990',\n",
       "       'Percent of adults with a high school diploma only, 1990',\n",
       "       \"Percent of adults completing some college or associate's degree, 1990\",\n",
       "       \"Percent of adults with a bachelor's degree or higher, 1990\",\n",
       "       'Less than a high school diploma, 2000',\n",
       "       'High school diploma only, 2000',\n",
       "       \"Some college or associate's degree, 2000\",\n",
       "       \"Bachelor's degree or higher, 2000\",\n",
       "       'Percent of adults with less than a high school diploma, 2000',\n",
       "       'Percent of adults with a high school diploma only, 2000',\n",
       "       \"Percent of adults completing some college or associate's degree, 2000\",\n",
       "       \"Percent of adults with a bachelor's degree or higher, 2000\",\n",
       "       'Less than a high school diploma, 2015-19',\n",
       "       'High school diploma only, 2015-19',\n",
       "       \"Some college or associate's degree, 2015-19\",\n",
       "       \"Bachelor's degree or higher, 2015-19\",\n",
       "       'Percent of adults with less than a high school diploma, 2015-19',\n",
       "       'Percent of adults with a high school diploma only, 2015-19',\n",
       "       \"Percent of adults completing some college or associate's degree, 2015-19\",\n",
       "       \"Percent of adults with a bachelor's degree or higher, 2015-19\",\n",
       "       'Stabr', 'Area_name_y', 'Rural-urban_Continuum_Code_2003',\n",
       "       'Urban_Influence_Code_2003', 'Rural-urban_Continuum_Code_2013',\n",
       "       'Urban_Influence_Code_2013', 'POVALL_2019', 'CI90LBALL_2019',\n",
       "       'CI90UBALL_2019', 'PCTPOVALL_2019', 'CI90LBALLP_2019',\n",
       "       'CI90UBALLP_2019', 'POV017_2019', 'CI90LB017_2019',\n",
       "       'CI90UB017_2019', 'PCTPOV017_2019', 'CI90LB017P_2019',\n",
       "       'CI90UB017P_2019', 'POV517_2019', 'CI90LB517_2019',\n",
       "       'CI90UB517_2019', 'PCTPOV517_2019', 'CI90LB517P_2019',\n",
       "       'CI90UB517P_2019', 'MEDHHINC_2019', 'CI90LBINC_2019',\n",
       "       'CI90UBINC_2019', 'POV04_2019', 'CI90LB04_2019', 'CI90UB04_2019',\n",
       "       'PCTPOV04_2019', 'CI90LB04P_2019', 'CI90UB04P_2019'], dtype=object)"
      ]
     },
     "execution_count": 7,
     "metadata": {},
     "output_type": "execute_result"
    }
   ],
   "source": [
    "df.columns.values"
   ]
  },
  {
   "cell_type": "code",
   "execution_count": 8,
   "metadata": {},
   "outputs": [
    {
     "name": "stdout",
     "output_type": "stream",
     "text": [
      "(65662, 9)\n"
     ]
    },
    {
     "data": {
      "text/html": [
       "<div>\n",
       "<style scoped>\n",
       "    .dataframe tbody tr th:only-of-type {\n",
       "        vertical-align: middle;\n",
       "    }\n",
       "\n",
       "    .dataframe tbody tr th {\n",
       "        vertical-align: top;\n",
       "    }\n",
       "\n",
       "    .dataframe thead th {\n",
       "        text-align: right;\n",
       "    }\n",
       "</style>\n",
       "<table border=\"1\" class=\"dataframe\">\n",
       "  <thead>\n",
       "    <tr style=\"text-align: right;\">\n",
       "      <th></th>\n",
       "      <th>e(0)</th>\n",
       "      <th>Percent of adults with less than a high school diploma, 2015-19</th>\n",
       "      <th>Percent of adults with a high school diploma only, 2015-19</th>\n",
       "      <th>Percent of adults completing some college or associate's degree, 2015-19</th>\n",
       "      <th>Percent of adults with a bachelor's degree or higher, 2015-19</th>\n",
       "      <th>PCTPOV017_2019</th>\n",
       "      <th>Unemployment_rate_2020</th>\n",
       "      <th>Median_Household_Income_2019</th>\n",
       "      <th>Med_HH_Income_Percent_of_State_Total_2019</th>\n",
       "    </tr>\n",
       "  </thead>\n",
       "  <tbody>\n",
       "    <tr>\n",
       "      <th>34851</th>\n",
       "      <td>78.0</td>\n",
       "      <td>15.318180</td>\n",
       "      <td>38.739056</td>\n",
       "      <td>29.972912</td>\n",
       "      <td>15.969851</td>\n",
       "      <td>22.7</td>\n",
       "      <td>6.1</td>\n",
       "      <td>45746.0</td>\n",
       "      <td>79.731590</td>\n",
       "    </tr>\n",
       "    <tr>\n",
       "      <th>29305</th>\n",
       "      <td>87.0</td>\n",
       "      <td>7.062722</td>\n",
       "      <td>27.824017</td>\n",
       "      <td>27.500452</td>\n",
       "      <td>37.612808</td>\n",
       "      <td>9.3</td>\n",
       "      <td>9.5</td>\n",
       "      <td>90584.0</td>\n",
       "      <td>105.698952</td>\n",
       "    </tr>\n",
       "    <tr>\n",
       "      <th>6899</th>\n",
       "      <td>82.2</td>\n",
       "      <td>14.528754</td>\n",
       "      <td>17.222048</td>\n",
       "      <td>27.662764</td>\n",
       "      <td>40.586433</td>\n",
       "      <td>12.6</td>\n",
       "      <td>8.8</td>\n",
       "      <td>95761.0</td>\n",
       "      <td>119.071655</td>\n",
       "    </tr>\n",
       "    <tr>\n",
       "      <th>38487</th>\n",
       "      <td>83.0</td>\n",
       "      <td>5.488366</td>\n",
       "      <td>20.069059</td>\n",
       "      <td>20.379946</td>\n",
       "      <td>54.062630</td>\n",
       "      <td>5.4</td>\n",
       "      <td>7.8</td>\n",
       "      <td>116328.0</td>\n",
       "      <td>135.602539</td>\n",
       "    </tr>\n",
       "    <tr>\n",
       "      <th>6331</th>\n",
       "      <td>81.3</td>\n",
       "      <td>20.866573</td>\n",
       "      <td>20.610870</td>\n",
       "      <td>25.981346</td>\n",
       "      <td>32.541210</td>\n",
       "      <td>18.3</td>\n",
       "      <td>12.8</td>\n",
       "      <td>72721.0</td>\n",
       "      <td>90.423134</td>\n",
       "    </tr>\n",
       "  </tbody>\n",
       "</table>\n",
       "</div>"
      ],
      "text/plain": [
       "       e(0)  Percent of adults with less than a high school diploma, 2015-19  \\\n",
       "34851  78.0                                          15.318180                 \n",
       "29305  87.0                                           7.062722                 \n",
       "6899   82.2                                          14.528754                 \n",
       "38487  83.0                                           5.488366                 \n",
       "6331   81.3                                          20.866573                 \n",
       "\n",
       "       Percent of adults with a high school diploma only, 2015-19  \\\n",
       "34851                                          38.739056            \n",
       "29305                                          27.824017            \n",
       "6899                                           17.222048            \n",
       "38487                                          20.069059            \n",
       "6331                                           20.610870            \n",
       "\n",
       "       Percent of adults completing some college or associate's degree, 2015-19  \\\n",
       "34851                                          29.972912                          \n",
       "29305                                          27.500452                          \n",
       "6899                                           27.662764                          \n",
       "38487                                          20.379946                          \n",
       "6331                                           25.981346                          \n",
       "\n",
       "       Percent of adults with a bachelor's degree or higher, 2015-19  \\\n",
       "34851                                          15.969851               \n",
       "29305                                          37.612808               \n",
       "6899                                           40.586433               \n",
       "38487                                          54.062630               \n",
       "6331                                           32.541210               \n",
       "\n",
       "       PCTPOV017_2019  Unemployment_rate_2020  Median_Household_Income_2019  \\\n",
       "34851            22.7                     6.1                       45746.0   \n",
       "29305             9.3                     9.5                       90584.0   \n",
       "6899             12.6                     8.8                       95761.0   \n",
       "38487             5.4                     7.8                      116328.0   \n",
       "6331             18.3                    12.8                       72721.0   \n",
       "\n",
       "       Med_HH_Income_Percent_of_State_Total_2019  \n",
       "34851                                  79.731590  \n",
       "29305                                 105.698952  \n",
       "6899                                  119.071655  \n",
       "38487                                 135.602539  \n",
       "6331                                   90.423134  "
      ]
     },
     "execution_count": 8,
     "metadata": {},
     "output_type": "execute_result"
    }
   ],
   "source": [
    "# Select features for use in regression modeling\n",
    "\n",
    "df_ = df[['e(0)', 'Percent of adults with less than a high school diploma, 2015-19',\n",
    "         'Percent of adults with a high school diploma only, 2015-19',\n",
    "         \"Percent of adults completing some college or associate's degree, 2015-19\",\n",
    "         \"Percent of adults with a bachelor's degree or higher, 2015-19\", 'PCTPOV017_2019',\n",
    "         'Unemployment_rate_2020', 'Median_Household_Income_2019',\n",
    "         'Med_HH_Income_Percent_of_State_Total_2019']]\n",
    "\n",
    "print(df_.shape)\n",
    "df_.sample(5)"
   ]
  },
  {
   "cell_type": "code",
   "execution_count": 9,
   "metadata": {},
   "outputs": [
    {
     "data": {
      "text/plain": [
       "e(0)                                                                         0\n",
       "Percent of adults with less than a high school diploma, 2015-19             10\n",
       "Percent of adults with a high school diploma only, 2015-19                  10\n",
       "Percent of adults completing some college or associate's degree, 2015-19    10\n",
       "Percent of adults with a bachelor's degree or higher, 2015-19               10\n",
       "PCTPOV017_2019                                                              10\n",
       "Unemployment_rate_2020                                                      10\n",
       "Median_Household_Income_2019                                                10\n",
       "Med_HH_Income_Percent_of_State_Total_2019                                   10\n",
       "dtype: int64"
      ]
     },
     "execution_count": 9,
     "metadata": {},
     "output_type": "execute_result"
    }
   ],
   "source": [
    "# inspect for missing NaN values\n",
    "\n",
    "df_.isna().sum()"
   ]
  },
  {
   "cell_type": "code",
   "execution_count": 10,
   "metadata": {},
   "outputs": [
    {
     "name": "stdout",
     "output_type": "stream",
     "text": [
      "(65652, 9)\n"
     ]
    },
    {
     "data": {
      "text/plain": [
       "e(0)                                                                        0\n",
       "Percent of adults with less than a high school diploma, 2015-19             0\n",
       "Percent of adults with a high school diploma only, 2015-19                  0\n",
       "Percent of adults completing some college or associate's degree, 2015-19    0\n",
       "Percent of adults with a bachelor's degree or higher, 2015-19               0\n",
       "PCTPOV017_2019                                                              0\n",
       "Unemployment_rate_2020                                                      0\n",
       "Median_Household_Income_2019                                                0\n",
       "Med_HH_Income_Percent_of_State_Total_2019                                   0\n",
       "dtype: int64"
      ]
     },
     "execution_count": 10,
     "metadata": {},
     "output_type": "execute_result"
    }
   ],
   "source": [
    "# locate df_ rows with NaN values\n",
    "# drop rows with NaN values\n",
    "\n",
    "df_[df_.isna().any(axis=1)]\n",
    "\n",
    "df_ = df_.dropna(axis = 0)\n",
    "\n",
    "print(df_.shape)\n",
    "df_.isna().sum()"
   ]
  },
  {
   "cell_type": "code",
   "execution_count": 11,
   "metadata": {},
   "outputs": [
    {
     "data": {
      "text/plain": [
       "Index(['e(0)',\n",
       "       'Percent of adults with less than a high school diploma, 2015-19',\n",
       "       'Percent of adults with a high school diploma only, 2015-19',\n",
       "       'Percent of adults completing some college or associate's degree, 2015-19',\n",
       "       'Percent of adults with a bachelor's degree or higher, 2015-19',\n",
       "       'PCTPOV017_2019', 'Unemployment_rate_2020',\n",
       "       'Median_Household_Income_2019',\n",
       "       'Med_HH_Income_Percent_of_State_Total_2019'],\n",
       "      dtype='object')"
      ]
     },
     "execution_count": 11,
     "metadata": {},
     "output_type": "execute_result"
    }
   ],
   "source": [
    "df_.columns"
   ]
  },
  {
   "cell_type": "markdown",
   "metadata": {},
   "source": [
    "# RandomForestRegressor\n",
    "\n",
    "## Results\n"
   ]
  },
  {
   "cell_type": "code",
   "execution_count": 12,
   "metadata": {},
   "outputs": [],
   "source": [
    "from sklearn.ensemble import RandomForestRegressor\n",
    "from sklearn.metrics import mean_squared_error"
   ]
  },
  {
   "cell_type": "code",
   "execution_count": 13,
   "metadata": {},
   "outputs": [],
   "source": [
    "# Create Regression Model Results Dataframe\n",
    "\n",
    "df_summary = pd.DataFrame(columns = ['name', 'parameters', 'train set score', 'test set score', 'RMSE'])"
   ]
  },
  {
   "cell_type": "code",
   "execution_count": 14,
   "metadata": {},
   "outputs": [
    {
     "name": "stdout",
     "output_type": "stream",
     "text": [
      "X_train shape: (45956, 8), y_train shape:(45956,)\n",
      "X_test shape: (19696, 8), y_test shape:(19696,)\n"
     ]
    }
   ],
   "source": [
    "# test, train split data\n",
    "\n",
    "features = df_.drop('e(0)', axis = 1)\n",
    "target = df_['e(0)']\n",
    "\n",
    "X_train, X_test, y_train, y_test = train_test_split(features, target, train_size=0.70)\n",
    "\n",
    "print(\"X_train shape: {}, y_train shape:{}\".format(X_train.shape, y_train.shape))\n",
    "print(\"X_test shape: {}, y_test shape:{}\".format(X_test.shape, y_test.shape))\n"
   ]
  },
  {
   "cell_type": "code",
   "execution_count": 15,
   "metadata": {},
   "outputs": [
    {
     "name": "stdout",
     "output_type": "stream",
     "text": [
      "RandomForest training set score:0.32\n",
      "RandomForest best parameters:<bound method BaseEstimator.get_params of RandomForestRegressor()>\n",
      "RandomForest test set score:0.25\n",
      "RMSE Score:3.449325080021797\n"
     ]
    }
   ],
   "source": [
    "# instantiate randomforestregressor\n",
    "\n",
    "forest = RandomForestRegressor()\n",
    "forest.fit(X_train, y_train)\n",
    "\n",
    "# predict using X_test.  evaluate regression model performance\n",
    "\n",
    "name_ = \"Random Forest\"\n",
    "y_pred = forest.predict(X_test)\n",
    "params_ = forest.get_params\n",
    "RMSE_score = mean_squared_error(y_test, y_pred, squared=False)\n",
    "train_score = forest.score(X_train,y_train)\n",
    "test_score = forest.score(X_test, y_test)\n",
    "\n",
    "print(\"RandomForest training set score:{:.2f}\".format(forest.score(X_train,y_train)))\n",
    "print(\"RandomForest best parameters:{}\".format(params_))\n",
    "print(\"RandomForest test set score:{:.2f}\".format(forest.score(X_test, y_test)))\n",
    "print(\"RMSE Score:{}\".format(mean_squared_error(y_test, y_pred, squared=False)))\n",
    "\n",
    "# append RandomForestRegressor() information to df_summary\n",
    "df_summary = df_summary.append({'name': name_ , 'parameters':params_, 'train set score': test_score,\n",
    "                                'test set score': train_score,\n",
    "                                'RMSE': RMSE_score}, ignore_index=True)"
   ]
  },
  {
   "cell_type": "code",
   "execution_count": 16,
   "metadata": {},
   "outputs": [
    {
     "data": {
      "text/html": [
       "<div>\n",
       "<style scoped>\n",
       "    .dataframe tbody tr th:only-of-type {\n",
       "        vertical-align: middle;\n",
       "    }\n",
       "\n",
       "    .dataframe tbody tr th {\n",
       "        vertical-align: top;\n",
       "    }\n",
       "\n",
       "    .dataframe thead th {\n",
       "        text-align: right;\n",
       "    }\n",
       "</style>\n",
       "<table border=\"1\" class=\"dataframe\">\n",
       "  <thead>\n",
       "    <tr style=\"text-align: right;\">\n",
       "      <th></th>\n",
       "      <th>name</th>\n",
       "      <th>parameters</th>\n",
       "      <th>train set score</th>\n",
       "      <th>test set score</th>\n",
       "      <th>RMSE</th>\n",
       "    </tr>\n",
       "  </thead>\n",
       "  <tbody>\n",
       "    <tr>\n",
       "      <th>0</th>\n",
       "      <td>Random Forest</td>\n",
       "      <td>&lt;bound method BaseEstimator.get_params of Rand...</td>\n",
       "      <td>0.248842</td>\n",
       "      <td>0.32351</td>\n",
       "      <td>3.449325</td>\n",
       "    </tr>\n",
       "  </tbody>\n",
       "</table>\n",
       "</div>"
      ],
      "text/plain": [
       "            name                                         parameters  \\\n",
       "0  Random Forest  <bound method BaseEstimator.get_params of Rand...   \n",
       "\n",
       "   train set score  test set score      RMSE  \n",
       "0         0.248842         0.32351  3.449325  "
      ]
     },
     "execution_count": 16,
     "metadata": {},
     "output_type": "execute_result"
    }
   ],
   "source": [
    "df_summary"
   ]
  },
  {
   "cell_type": "code",
   "execution_count": 17,
   "metadata": {},
   "outputs": [
    {
     "name": "stdout",
     "output_type": "stream",
     "text": [
      "{'Percent of adults with less than a high school diploma, 2015-19': 0.07888700684350598, 'Percent of adults with a high school diploma only, 2015-19': 0.056107880035043994, \"Percent of adults completing some college or associate's degree, 2015-19\": 0.05300655239741757, \"Percent of adults with a bachelor's degree or higher, 2015-19\": 0.04128251904038427, 'PCTPOV017_2019': 0.09469095465573212, 'Unemployment_rate_2020': 0.059189792246928434, 'Median_Household_Income_2019': 0.5368344084035348, 'Med_HH_Income_Percent_of_State_Total_2019': 0.0800008863774529}\n"
     ]
    }
   ],
   "source": [
    "# get features importances, use plotly to visualize\n",
    "\n",
    "\n",
    "#importances = forest.feature_importances_\n",
    "#df_features = pd.DataFrame(importances, columns = features.columns)\n",
    "\n",
    "importances = forest.feature_importances_\n",
    "test = dict(zip((features.columns),forest.feature_importances_))\n",
    "print(test)\n",
    "\n",
    "df_importances = pd.DataFrame.from_dict(test, orient='index')"
   ]
  },
  {
   "cell_type": "code",
   "execution_count": 60,
   "metadata": {},
   "outputs": [
    {
     "data": {
      "image/png": "[encoded data removed]",
      "text/plain": [
       "<Figure size 432x288 with 1 Axes>"
      ]
     },
     "metadata": {
      "needs_background": "light"
     },
     "output_type": "display_data"
    }
   ],
   "source": [
    "# plot the 7 most important features \n",
    "fig, ax = plt.subplots()\n",
    "\n",
    "\n",
    "feat_importances = pd.Series(forest.feature_importances_, index = X_train.columns)\n",
    "ax = feat_importances.nlargest(7).plot(kind='barh')\n",
    "\n",
    "ax.set_xlabel(\"Percentage (%)\")\n",
    "ax.set_ylabel(\"Feature Name\")\n",
    "\n",
    "# Add the legend and show the Figure\n",
    "#ax.legend()\n",
    "plt.savefig('features_forest.png', bbox_inches=\"tight\")\n",
    "plt.show();"
   ]
  },
  {
   "cell_type": "markdown",
   "metadata": {},
   "source": [
    "## GridSearchCV RandomForestRegressor - Parameter Tuning"
   ]
  },
  {
   "cell_type": "code",
   "execution_count": 19,
   "metadata": {},
   "outputs": [
    {
     "data": {
      "text/plain": [
       "GridSearchCV(cv=5,\n",
       "             estimator=Pipeline(steps=[('forest', RandomForestRegressor())]),\n",
       "             param_grid={'forest__max_features': [1, 2, 3, 4, 5, 6],\n",
       "                         'forest__n_estimators': [1, 2, 5, 10, 25, 50, 100]},\n",
       "             return_train_score=True)"
      ]
     },
     "execution_count": 19,
     "metadata": {},
     "output_type": "execute_result"
    }
   ],
   "source": [
    "# define steps\n",
    "\n",
    "steps = [('forest', RandomForestRegressor())]\n",
    "\n",
    "# instantiate pipeline object\n",
    "\n",
    "pipe = Pipeline(steps)\n",
    "\n",
    "# define gridsearch parameters dict\n",
    "\n",
    "param_grid = {'forest__n_estimators':[1,2,5,10,25,50,100],\n",
    "             'forest__max_features':[1,2,3,4,5,6]}\n",
    "\n",
    "# split data into test train split\n",
    "\n",
    "# test, train split data\n",
    "\n",
    "features = df_.drop('e(0)', axis = 1)\n",
    "target = df_['e(0)']\n",
    "\n",
    "X_train, X_test, y_train, y_test = train_test_split(features, target, train_size=0.70)\n",
    "\n",
    "\n",
    "# instantiate GridSearchCV object using pipeline, parameters dict\n",
    "\n",
    "grid_search = GridSearchCV(pipe, param_grid, cv=5, return_train_score = True)\n",
    "\n",
    "# fit cv\n",
    "\n",
    "grid_search.fit(X_train, y_train)\n",
    "\n",
    "\n",
    "\n",
    "# evaluate results"
   ]
  },
  {
   "cell_type": "code",
   "execution_count": 20,
   "metadata": {},
   "outputs": [
    {
     "name": "stdout",
     "output_type": "stream",
     "text": [
      "Train set score: 0.322864\n",
      "Test set score: 0.25\n",
      "Best parameters: {'forest__max_features': 6, 'forest__n_estimators': 100}\n",
      "RMSE score: 3.4340822236376454\n",
      "Best cross_validation score: 0.24\n"
     ]
    }
   ],
   "source": [
    "# Model performance metrics\n",
    "\n",
    "y_pred = grid_search.predict(X_test)\n",
    "\n",
    "model_name = \"RandomForestRegressor - GridSearch\"\n",
    "RMSE_score = mean_squared_error(y_test, y_pred, squared=False)\n",
    "params_ = grid_search.best_params_\n",
    "train_score = grid_search.score(X_train,y_train)\n",
    "test_score = grid_search.score(X_test, y_test)\n",
    "\n",
    "print(\"Train set score: {:2f}\".format(train_score))\n",
    "print(\"Test set score: {:.2f}\".format(test_score))\n",
    "print(\"Best parameters: {}\".format(params_))\n",
    "print(\"RMSE score: {}\".format(RMSE_score))\n",
    "print(\"Best cross_validation score: {:.2f}\".format(grid_search.best_score_))\n",
    "\n",
    "#Append model metrics to df_summary\n",
    "\n",
    "# append RandomForestRegressor() information to df_summary\n",
    "df_summary = df_summary.append({'name': name_ , 'parameters':params_, 'train set score': test_score,\n",
    "                                'test set score': train_score,\n",
    "                                'RMSE': RMSE_score}, ignore_index=True)"
   ]
  },
  {
   "cell_type": "code",
   "execution_count": 21,
   "metadata": {},
   "outputs": [
    {
     "data": {
      "text/html": [
       "<div>\n",
       "<style scoped>\n",
       "    .dataframe tbody tr th:only-of-type {\n",
       "        vertical-align: middle;\n",
       "    }\n",
       "\n",
       "    .dataframe tbody tr th {\n",
       "        vertical-align: top;\n",
       "    }\n",
       "\n",
       "    .dataframe thead th {\n",
       "        text-align: right;\n",
       "    }\n",
       "</style>\n",
       "<table border=\"1\" class=\"dataframe\">\n",
       "  <thead>\n",
       "    <tr style=\"text-align: right;\">\n",
       "      <th></th>\n",
       "      <th>name</th>\n",
       "      <th>parameters</th>\n",
       "      <th>train set score</th>\n",
       "      <th>test set score</th>\n",
       "      <th>RMSE</th>\n",
       "    </tr>\n",
       "  </thead>\n",
       "  <tbody>\n",
       "    <tr>\n",
       "      <th>0</th>\n",
       "      <td>Random Forest</td>\n",
       "      <td>&lt;bound method BaseEstimator.get_params of Rand...</td>\n",
       "      <td>0.248842</td>\n",
       "      <td>0.323510</td>\n",
       "      <td>3.449325</td>\n",
       "    </tr>\n",
       "    <tr>\n",
       "      <th>1</th>\n",
       "      <td>Random Forest</td>\n",
       "      <td>{'forest__max_features': 6, 'forest__n_estimat...</td>\n",
       "      <td>0.247870</td>\n",
       "      <td>0.322864</td>\n",
       "      <td>3.434082</td>\n",
       "    </tr>\n",
       "  </tbody>\n",
       "</table>\n",
       "</div>"
      ],
      "text/plain": [
       "            name                                         parameters  \\\n",
       "0  Random Forest  <bound method BaseEstimator.get_params of Rand...   \n",
       "1  Random Forest  {'forest__max_features': 6, 'forest__n_estimat...   \n",
       "\n",
       "   train set score  test set score      RMSE  \n",
       "0         0.248842        0.323510  3.449325  \n",
       "1         0.247870        0.322864  3.434082  "
      ]
     },
     "execution_count": 21,
     "metadata": {},
     "output_type": "execute_result"
    }
   ],
   "source": [
    "df_summary"
   ]
  },
  {
   "cell_type": "markdown",
   "metadata": {},
   "source": [
    "# GradientBoostingRegressor"
   ]
  },
  {
   "cell_type": "code",
   "execution_count": 22,
   "metadata": {},
   "outputs": [],
   "source": [
    "from sklearn.ensemble import GradientBoostingRegressor"
   ]
  },
  {
   "cell_type": "code",
   "execution_count": 23,
   "metadata": {},
   "outputs": [
    {
     "name": "stdout",
     "output_type": "stream",
     "text": [
      "GradientBoostingRegressor training set score:0.26\n",
      "GradientBoostingRegressor test set score:0.25\n",
      "GradientBoostingRegressor RMSE Score:3.4766999791107156\n"
     ]
    }
   ],
   "source": [
    "# test, train split data\n",
    "features = df_.drop('e(0)', axis=1)\n",
    "target = df_['e(0)']\n",
    "\n",
    "X_train, X_test, y_train, y_test = train_test_split(\n",
    "    features, target, train_size=0.70)\n",
    "\n",
    "# instantiate GradientBoostingRegressor. fit on X_train, y_train\n",
    "\n",
    "gbrt = GradientBoostingRegressor().fit(X_train, y_train)\n",
    "\n",
    "# model performance metrics calculation\n",
    "\n",
    "y_pred = gbrt.predict(X_test)\n",
    "model_name = \"GradientBoostingRegressor\"\n",
    "RMSE_score = mean_squared_error(y_test, y_pred, squared=False)\n",
    "params_ = gbrt.get_params\n",
    "train_score = gbrt.score(X_train, y_train)\n",
    "test_score = gbrt.score(X_test, y_test)\n",
    "\n",
    "print(\"{} training set score:{:.2f}\".format(model_name, train_score))\n",
    "print(\"{} test set score:{:.2f}\".format(model_name, test_score))\n",
    "print(\"{} RMSE Score:{}\".format(model_name,\n",
    "                                mean_squared_error(y_test, y_pred, squared=False)))\n",
    "\n",
    "\n",
    "# Append model information to df_summary\n",
    "\n",
    "df_summary = df_summary.append({'name': model_name, 'parameters': params_,\n",
    "                                'train set score': test_score, 'test set score': train_score,\n",
    "                                'RMSE': RMSE_score}, ignore_index=True)"
   ]
  },
  {
   "cell_type": "code",
   "execution_count": 24,
   "metadata": {},
   "outputs": [
    {
     "data": {
      "text/html": [
       "<div>\n",
       "<style scoped>\n",
       "    .dataframe tbody tr th:only-of-type {\n",
       "        vertical-align: middle;\n",
       "    }\n",
       "\n",
       "    .dataframe tbody tr th {\n",
       "        vertical-align: top;\n",
       "    }\n",
       "\n",
       "    .dataframe thead th {\n",
       "        text-align: right;\n",
       "    }\n",
       "</style>\n",
       "<table border=\"1\" class=\"dataframe\">\n",
       "  <thead>\n",
       "    <tr style=\"text-align: right;\">\n",
       "      <th></th>\n",
       "      <th>name</th>\n",
       "      <th>parameters</th>\n",
       "      <th>train set score</th>\n",
       "      <th>test set score</th>\n",
       "      <th>RMSE</th>\n",
       "    </tr>\n",
       "  </thead>\n",
       "  <tbody>\n",
       "    <tr>\n",
       "      <th>0</th>\n",
       "      <td>Random Forest</td>\n",
       "      <td>&lt;bound method BaseEstimator.get_params of Rand...</td>\n",
       "      <td>0.248842</td>\n",
       "      <td>0.323510</td>\n",
       "      <td>3.449325</td>\n",
       "    </tr>\n",
       "    <tr>\n",
       "      <th>1</th>\n",
       "      <td>Random Forest</td>\n",
       "      <td>{'forest__max_features': 6, 'forest__n_estimat...</td>\n",
       "      <td>0.247870</td>\n",
       "      <td>0.322864</td>\n",
       "      <td>3.434082</td>\n",
       "    </tr>\n",
       "    <tr>\n",
       "      <th>2</th>\n",
       "      <td>GradientBoostingRegressor</td>\n",
       "      <td>&lt;bound method BaseEstimator.get_params of Grad...</td>\n",
       "      <td>0.246904</td>\n",
       "      <td>0.256434</td>\n",
       "      <td>3.476700</td>\n",
       "    </tr>\n",
       "  </tbody>\n",
       "</table>\n",
       "</div>"
      ],
      "text/plain": [
       "                        name  \\\n",
       "0              Random Forest   \n",
       "1              Random Forest   \n",
       "2  GradientBoostingRegressor   \n",
       "\n",
       "                                          parameters  train set score  \\\n",
       "0  <bound method BaseEstimator.get_params of Rand...         0.248842   \n",
       "1  {'forest__max_features': 6, 'forest__n_estimat...         0.247870   \n",
       "2  <bound method BaseEstimator.get_params of Grad...         0.246904   \n",
       "\n",
       "   test set score      RMSE  \n",
       "0        0.323510  3.449325  \n",
       "1        0.322864  3.434082  \n",
       "2        0.256434  3.476700  "
      ]
     },
     "execution_count": 24,
     "metadata": {},
     "output_type": "execute_result"
    }
   ],
   "source": [
    "df_summary"
   ]
  },
  {
   "cell_type": "code",
   "execution_count": 57,
   "metadata": {},
   "outputs": [
    {
     "data": {
      "image/png": "[encoded data removed]",
      "text/plain": [
       "<Figure size 432x288 with 1 Axes>"
      ]
     },
     "metadata": {
      "needs_background": "light"
     },
     "output_type": "display_data"
    }
   ],
   "source": [
    "# plot the 7 most important features \n",
    "\n",
    "fig, ax = plt.subplots()\n",
    "\n",
    "\n",
    "feat_importances = pd.Series(gbrt.feature_importances_, index = X_train.columns)\n",
    "ax = feat_importances.nlargest(7).plot(kind='barh')\n",
    "\n",
    "ax.set_xlabel(\"Percentage (%)\")\n",
    "ax.set_ylabel(\"Feature Name\")\n",
    "\n",
    "# Add the legend and show the Figure\n",
    "#ax.legend()\n",
    "plt.savefig('features_gbrt.png', bbox_inches=\"tight\")\n",
    "plt.show();"
   ]
  },
  {
   "cell_type": "markdown",
   "metadata": {},
   "source": [
    "## GradientBoostingRegressor GridSearchCV"
   ]
  },
  {
   "cell_type": "code",
   "execution_count": 63,
   "metadata": {},
   "outputs": [
    {
     "data": {
      "text/plain": [
       "GridSearchCV(cv=5,\n",
       "             estimator=Pipeline(steps=[('gbrt', GradientBoostingRegressor())]),\n",
       "             param_grid={'gbrt__learning_rate': [0.001, 0.01, 0.1, 1],\n",
       "                         'gbrt__n_estimators': [100, 200, 300, 400, 500]},\n",
       "             return_train_score=True)"
      ]
     },
     "execution_count": 63,
     "metadata": {},
     "output_type": "execute_result"
    }
   ],
   "source": [
    "# define steps\n",
    "steps = [('gbrt', GradientBoostingRegressor())]\n",
    "\n",
    "# instantiate pipeline object\n",
    "pipe = Pipeline(steps)\n",
    "\n",
    "# define gridsearch parameters dict\n",
    "# most important parameters: n_estimators, learning rate\n",
    "\n",
    "param_grid = {'gbrt__n_estimators': [100, 200, 300, 400, 500],\n",
    "              'gbrt__learning_rate': [0.001, 0.01, 0.1, 1]}\n",
    "\n",
    "# split data into test train split\n",
    "\n",
    "# test, train split data\n",
    "features = df_.drop('e(0)', axis=1)\n",
    "target = df_['e(0)']\n",
    "X_train, X_test, y_train, y_test = train_test_split(\n",
    "    features, target, train_size=0.70)\n",
    "\n",
    "# instantiate GridSearchCV object using pipeline, parameters dict\n",
    "grid_search = GridSearchCV(pipe, param_grid, cv=5, return_train_score=True)\n",
    "\n",
    "# fit grid_search to trainings sets\n",
    "grid_search.fit(X_train, y_train)"
   ]
  },
  {
   "cell_type": "code",
   "execution_count": 64,
   "metadata": {
    "scrolled": true
   },
   "outputs": [
    {
     "name": "stdout",
     "output_type": "stream",
     "text": [
      "Train set score: 0.291235\n",
      "Test set score: 0.26\n",
      "Best parameters: {'gbrt__learning_rate': 0.1, 'gbrt__n_estimators': 500}\n",
      "RMSE score: 3.434725486153979\n",
      "Best cross_validation score: 0.26\n"
     ]
    }
   ],
   "source": [
    "# evaluate model performance metrics\n",
    "\n",
    "y_pred = grid_search.predict(X_test)\n",
    "\n",
    "model_name = \"GradientBoostingRegressor - GridSearch\"\n",
    "RMSE_score = mean_squared_error(y_test, y_pred, squared=False)\n",
    "params_ = grid_search.best_params_\n",
    "train_score = grid_search.score(X_train,y_train)\n",
    "test_score = grid_search.score(X_test, y_test)\n",
    "\n",
    "print(\"Train set score: {:2f}\".format(train_score))\n",
    "print(\"Test set score: {:.2f}\".format(test_score))\n",
    "print(\"Best parameters: {}\".format(params_))\n",
    "print(\"RMSE score: {}\".format(RMSE_score))\n",
    "print(\"Best cross_validation score: {:.2f}\".format(grid_search.best_score_))\n",
    "\n",
    "#Append model metrics to df_summary\n",
    "\n",
    "# append RandomForestRegressor() information to df_summary\n",
    "df_summary = df_summary.append({'name': model_name , 'parameters':params_, 'train set score': test_score,\n",
    "                                'test set score': train_score,\n",
    "                                'RMSE': RMSE_score}, ignore_index=True)\n"
   ]
  },
  {
   "cell_type": "markdown",
   "metadata": {},
   "source": [
    "# Model Results Summary:\n"
   ]
  },
  {
   "cell_type": "code",
   "execution_count": 53,
   "metadata": {},
   "outputs": [
    {
     "data": {
      "text/html": [
       "<div>\n",
       "<style scoped>\n",
       "    .dataframe tbody tr th:only-of-type {\n",
       "        vertical-align: middle;\n",
       "    }\n",
       "\n",
       "    .dataframe tbody tr th {\n",
       "        vertical-align: top;\n",
       "    }\n",
       "\n",
       "    .dataframe thead th {\n",
       "        text-align: right;\n",
       "    }\n",
       "</style>\n",
       "<table border=\"1\" class=\"dataframe\">\n",
       "  <thead>\n",
       "    <tr style=\"text-align: right;\">\n",
       "      <th></th>\n",
       "      <th>name</th>\n",
       "      <th>parameters</th>\n",
       "      <th>train set score</th>\n",
       "      <th>test set score</th>\n",
       "      <th>RMSE</th>\n",
       "    </tr>\n",
       "  </thead>\n",
       "  <tbody>\n",
       "    <tr>\n",
       "      <th>0</th>\n",
       "      <td>Random Forest</td>\n",
       "      <td>&lt;bound method BaseEstimator.get_params of Rand...</td>\n",
       "      <td>0.248842</td>\n",
       "      <td>0.323510</td>\n",
       "      <td>3.449325</td>\n",
       "    </tr>\n",
       "    <tr>\n",
       "      <th>1</th>\n",
       "      <td>Random Forest</td>\n",
       "      <td>{'forest__max_features': 6, 'forest__n_estimat...</td>\n",
       "      <td>0.247870</td>\n",
       "      <td>0.322864</td>\n",
       "      <td>3.434082</td>\n",
       "    </tr>\n",
       "    <tr>\n",
       "      <th>2</th>\n",
       "      <td>GradientBoostingRegressor</td>\n",
       "      <td>&lt;bound method BaseEstimator.get_params of Grad...</td>\n",
       "      <td>0.246904</td>\n",
       "      <td>0.256434</td>\n",
       "      <td>3.476700</td>\n",
       "    </tr>\n",
       "  </tbody>\n",
       "</table>\n",
       "</div>"
      ],
      "text/plain": [
       "                        name  \\\n",
       "0              Random Forest   \n",
       "1              Random Forest   \n",
       "2  GradientBoostingRegressor   \n",
       "\n",
       "                                          parameters  train set score  \\\n",
       "0  <bound method BaseEstimator.get_params of Rand...         0.248842   \n",
       "1  {'forest__max_features': 6, 'forest__n_estimat...         0.247870   \n",
       "2  <bound method BaseEstimator.get_params of Grad...         0.246904   \n",
       "\n",
       "   test set score      RMSE  \n",
       "0        0.323510  3.449325  \n",
       "1        0.322864  3.434082  \n",
       "2        0.256434  3.476700  "
      ]
     },
     "execution_count": 53,
     "metadata": {},
     "output_type": "execute_result"
    }
   ],
   "source": [
    "# Regression Model Results Dataframe\n",
    "df_summary"
   ]
  },
  {
   "cell_type": "code",
   "execution_count": 54,
   "metadata": {
    "scrolled": true
   },
   "outputs": [
    {
     "data": {
      "text/html": [
       "<div>\n",
       "<style scoped>\n",
       "    .dataframe tbody tr th:only-of-type {\n",
       "        vertical-align: middle;\n",
       "    }\n",
       "\n",
       "    .dataframe tbody tr th {\n",
       "        vertical-align: top;\n",
       "    }\n",
       "\n",
       "    .dataframe thead th {\n",
       "        text-align: right;\n",
       "    }\n",
       "</style>\n",
       "<table border=\"1\" class=\"dataframe\">\n",
       "  <thead>\n",
       "    <tr style=\"text-align: right;\">\n",
       "      <th></th>\n",
       "      <th>name</th>\n",
       "      <th>parameters</th>\n",
       "      <th>train set score</th>\n",
       "      <th>test set score</th>\n",
       "      <th>RMSE</th>\n",
       "    </tr>\n",
       "  </thead>\n",
       "  <tbody>\n",
       "    <tr>\n",
       "      <th>1</th>\n",
       "      <td>Random Forest</td>\n",
       "      <td>{'forest__max_features': 6, 'forest__n_estimat...</td>\n",
       "      <td>0.24787</td>\n",
       "      <td>0.322864</td>\n",
       "      <td>3.434082</td>\n",
       "    </tr>\n",
       "  </tbody>\n",
       "</table>\n",
       "</div>"
      ],
      "text/plain": [
       "            name                                         parameters  \\\n",
       "1  Random Forest  {'forest__max_features': 6, 'forest__n_estimat...   \n",
       "\n",
       "   train set score  test set score      RMSE  \n",
       "1          0.24787        0.322864  3.434082  "
      ]
     },
     "execution_count": 54,
     "metadata": {},
     "output_type": "execute_result"
    }
   ],
   "source": [
    "df_summary.loc[df_summary.RMSE == df_summary.RMSE.min()]"
   ]
  },
  {
   "cell_type": "code",
   "execution_count": null,
   "metadata": {},
   "outputs": [],
   "source": []
  },
  {
   "cell_type": "code",
   "execution_count": null,
   "metadata": {},
   "outputs": [],
   "source": []
  },
  {
   "cell_type": "code",
   "execution_count": null,
   "metadata": {},
   "outputs": [],
   "source": []
  }
 ],
 "metadata": {
  "kernelspec": {
   "display_name": "Python 3",
   "language": "python",
   "name": "python3"
  },
  "language_info": {
   "codemirror_mode": {
    "name": "ipython",
    "version": 3
   },
   "file_extension": ".py",
   "mimetype": "text/x-python",
   "name": "python",
   "nbconvert_exporter": "python",
   "pygments_lexer": "ipython3",
   "version": "3.8.5"
  },
  "toc": {
   "base_numbering": 1,
   "nav_menu": {},
   "number_sections": false,
   "sideBar": true,
   "skip_h1_title": false,
   "title_cell": "Table of Contents",
   "title_sidebar": "Contents",
   "toc_cell": false,
   "toc_position": {},
   "toc_section_display": true,
   "toc_window_display": true
  },
  "varInspector": {
   "cols": {
    "lenName": 16,
    "lenType": 16,
    "lenVar": 40
   },
   "kernels_config": {
    "python": {
     "delete_cmd_postfix": "",
     "delete_cmd_prefix": "del ",
     "library": "var_list.py",
     "varRefreshCmd": "print(var_dic_list())"
    },
    "r": {
     "delete_cmd_postfix": ") ",
     "delete_cmd_prefix": "rm(",
     "library": "var_list.r",
     "varRefreshCmd": "cat(var_dic_list()) "
    }
   },
   "types_to_exclude": [
    "module",
    "function",
    "builtin_function_or_method",
    "instance",
    "_Feature"
   ],
   "window_display": false
  }
 },
 "nbformat": 4,
 "nbformat_minor": 4
}
