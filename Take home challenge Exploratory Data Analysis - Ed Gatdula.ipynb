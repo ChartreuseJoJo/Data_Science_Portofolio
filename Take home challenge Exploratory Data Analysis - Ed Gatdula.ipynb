{
 "cells": [
  {
   "cell_type": "markdown",
   "metadata": {
    "toc": true
   },
   "source": [
    "<h1>Table of Contents<span class=\"tocSkip\"></span></h1>\n",
    "<div class=\"toc\"><ul class=\"toc-item\"><li><span><a href=\"#Import-Libraries\" data-toc-modified-id=\"Import-Libraries-1\">Import Libraries</a></span></li><li><span><a href=\"#Data-Wrangling\" data-toc-modified-id=\"Data-Wrangling-2\">Data Wrangling</a></span><ul class=\"toc-item\"><li><span><a href=\"#Procedure:\" data-toc-modified-id=\"Procedure:-2.1\">Procedure:</a></span></li><li><span><a href=\"#Data-Visualizations\" data-toc-modified-id=\"Data-Visualizations-2.2\">Data Visualizations</a></span><ul class=\"toc-item\"><li><span><a href=\"#7-day-and-30-day-means-plots\" data-toc-modified-id=\"7-day-and-30-day-means-plots-2.2.1\">7-day and 30-day means plots</a></span></li></ul></li></ul></li><li><span><a href=\"#Summary\" data-toc-modified-id=\"Summary-3\">Summary</a></span></li></ul></div>"
   ]
  },
  {
   "cell_type": "markdown",
   "metadata": {},
   "source": [
    "# Import Libraries"
   ]
  },
  {
   "cell_type": "code",
   "execution_count": 164,
   "metadata": {},
   "outputs": [],
   "source": [
    "import pandas as pd\n",
    "import numpy as np\n",
    "from datetime import datetime, timedelta, time\n",
    "\n",
    "import matplotlib.pyplot as plt\n",
    "import plotly.express as px\n",
    "import plotly.graph_objects as go\n",
    "from plotly.subplots import make_subplots\n",
    "import seaborn as sns\n",
    "\n",
    "\n",
    "%matplotlib inline"
   ]
  },
  {
   "cell_type": "markdown",
   "metadata": {},
   "source": [
    "# Data Wrangling"
   ]
  },
  {
   "cell_type": "markdown",
   "metadata": {},
   "source": [
    "## Procedure:\n",
    "\n",
    "- Data Wrangling\n",
    "\n",
    "1.  Appropriate datatype for features?  Datetime index?\n",
    "2.  Missing/NaN values present?\n",
    "\n",
    "- Resample logins into 15 min intervals\n",
    "\n",
    "- 24 hr Trends\n",
    "    1.  Which days of the week see highest and lowest number of logins on average?\n",
    "    2.  Which hours see highest and lowest number of logins on average?\n",
    "    \n",
    "\n",
    "- Monthly\n",
    "   Is there increasing or decreasing trend over the course of the sampling period?\n",
    "\n",
    "- Seasonal Decomposition?\n",
    "\n"
   ]
  },
  {
   "cell_type": "code",
   "execution_count": 145,
   "metadata": {},
   "outputs": [],
   "source": [
    "df = pd.read_json('./logins.json')"
   ]
  },
  {
   "cell_type": "code",
   "execution_count": 146,
   "metadata": {},
   "outputs": [
    {
     "data": {
      "text/html": [
       "<div>\n",
       "<style scoped>\n",
       "    .dataframe tbody tr th:only-of-type {\n",
       "        vertical-align: middle;\n",
       "    }\n",
       "\n",
       "    .dataframe tbody tr th {\n",
       "        vertical-align: top;\n",
       "    }\n",
       "\n",
       "    .dataframe thead th {\n",
       "        text-align: right;\n",
       "    }\n",
       "</style>\n",
       "<table border=\"1\" class=\"dataframe\">\n",
       "  <thead>\n",
       "    <tr style=\"text-align: right;\">\n",
       "      <th></th>\n",
       "      <th>login_time</th>\n",
       "    </tr>\n",
       "  </thead>\n",
       "  <tbody>\n",
       "    <tr>\n",
       "      <th>0</th>\n",
       "      <td>1970-01-01 20:13:18</td>\n",
       "    </tr>\n",
       "    <tr>\n",
       "      <th>1</th>\n",
       "      <td>1970-01-01 20:16:10</td>\n",
       "    </tr>\n",
       "    <tr>\n",
       "      <th>2</th>\n",
       "      <td>1970-01-01 20:16:37</td>\n",
       "    </tr>\n",
       "    <tr>\n",
       "      <th>3</th>\n",
       "      <td>1970-01-01 20:16:36</td>\n",
       "    </tr>\n",
       "    <tr>\n",
       "      <th>4</th>\n",
       "      <td>1970-01-01 20:26:21</td>\n",
       "    </tr>\n",
       "  </tbody>\n",
       "</table>\n",
       "</div>"
      ],
      "text/plain": [
       "           login_time\n",
       "0 1970-01-01 20:13:18\n",
       "1 1970-01-01 20:16:10\n",
       "2 1970-01-01 20:16:37\n",
       "3 1970-01-01 20:16:36\n",
       "4 1970-01-01 20:26:21"
      ]
     },
     "execution_count": 146,
     "metadata": {},
     "output_type": "execute_result"
    }
   ],
   "source": [
    "df.head()"
   ]
  },
  {
   "cell_type": "code",
   "execution_count": 202,
   "metadata": {},
   "outputs": [
    {
     "name": "stdout",
     "output_type": "stream",
     "text": [
      "<class 'pandas.core.frame.DataFrame'>\n",
      "DatetimeIndex: 93142 entries, 1970-01-01 20:13:18 to 1970-04-13 18:54:23\n",
      "Data columns (total 1 columns):\n",
      " #   Column      Non-Null Count  Dtype         \n",
      "---  ------      --------------  -----         \n",
      " 0   login_time  93142 non-null  datetime64[ns]\n",
      "dtypes: datetime64[ns](1)\n",
      "memory usage: 1.4 MB\n"
     ]
    },
    {
     "data": {
      "text/plain": [
       "login_time    0\n",
       "dtype: int64"
      ]
     },
     "execution_count": 202,
     "metadata": {},
     "output_type": "execute_result"
    }
   ],
   "source": [
    "# checking df info and missing values.  zero no-null values found.\n",
    "\n",
    "df.info()\n",
    "df.isna().sum()"
   ]
  },
  {
   "cell_type": "code",
   "execution_count": 148,
   "metadata": {},
   "outputs": [
    {
     "data": {
      "text/html": [
       "<div>\n",
       "<style scoped>\n",
       "    .dataframe tbody tr th:only-of-type {\n",
       "        vertical-align: middle;\n",
       "    }\n",
       "\n",
       "    .dataframe tbody tr th {\n",
       "        vertical-align: top;\n",
       "    }\n",
       "\n",
       "    .dataframe thead th {\n",
       "        text-align: right;\n",
       "    }\n",
       "</style>\n",
       "<table border=\"1\" class=\"dataframe\">\n",
       "  <thead>\n",
       "    <tr style=\"text-align: right;\">\n",
       "      <th></th>\n",
       "      <th>login_time</th>\n",
       "    </tr>\n",
       "  </thead>\n",
       "  <tbody>\n",
       "    <tr>\n",
       "      <th>1970-01-01 20:13:18</th>\n",
       "      <td>1970-01-01 20:13:18</td>\n",
       "    </tr>\n",
       "    <tr>\n",
       "      <th>1970-01-01 20:16:10</th>\n",
       "      <td>1970-01-01 20:16:10</td>\n",
       "    </tr>\n",
       "    <tr>\n",
       "      <th>1970-01-01 20:16:37</th>\n",
       "      <td>1970-01-01 20:16:37</td>\n",
       "    </tr>\n",
       "    <tr>\n",
       "      <th>1970-01-01 20:16:36</th>\n",
       "      <td>1970-01-01 20:16:36</td>\n",
       "    </tr>\n",
       "    <tr>\n",
       "      <th>1970-01-01 20:26:21</th>\n",
       "      <td>1970-01-01 20:26:21</td>\n",
       "    </tr>\n",
       "    <tr>\n",
       "      <th>...</th>\n",
       "      <td>...</td>\n",
       "    </tr>\n",
       "    <tr>\n",
       "      <th>1970-04-13 18:50:19</th>\n",
       "      <td>1970-04-13 18:50:19</td>\n",
       "    </tr>\n",
       "    <tr>\n",
       "      <th>1970-04-13 18:43:56</th>\n",
       "      <td>1970-04-13 18:43:56</td>\n",
       "    </tr>\n",
       "    <tr>\n",
       "      <th>1970-04-13 18:54:02</th>\n",
       "      <td>1970-04-13 18:54:02</td>\n",
       "    </tr>\n",
       "    <tr>\n",
       "      <th>1970-04-13 18:57:38</th>\n",
       "      <td>1970-04-13 18:57:38</td>\n",
       "    </tr>\n",
       "    <tr>\n",
       "      <th>1970-04-13 18:54:23</th>\n",
       "      <td>1970-04-13 18:54:23</td>\n",
       "    </tr>\n",
       "  </tbody>\n",
       "</table>\n",
       "<p>93142 rows × 1 columns</p>\n",
       "</div>"
      ],
      "text/plain": [
       "                             login_time\n",
       "1970-01-01 20:13:18 1970-01-01 20:13:18\n",
       "1970-01-01 20:16:10 1970-01-01 20:16:10\n",
       "1970-01-01 20:16:37 1970-01-01 20:16:37\n",
       "1970-01-01 20:16:36 1970-01-01 20:16:36\n",
       "1970-01-01 20:26:21 1970-01-01 20:26:21\n",
       "...                                 ...\n",
       "1970-04-13 18:50:19 1970-04-13 18:50:19\n",
       "1970-04-13 18:43:56 1970-04-13 18:43:56\n",
       "1970-04-13 18:54:02 1970-04-13 18:54:02\n",
       "1970-04-13 18:57:38 1970-04-13 18:57:38\n",
       "1970-04-13 18:54:23 1970-04-13 18:54:23\n",
       "\n",
       "[93142 rows x 1 columns]"
      ]
     },
     "execution_count": 148,
     "metadata": {},
     "output_type": "execute_result"
    }
   ],
   "source": [
    "# set index to create Time Series Dataframe\n",
    "df.set_index(df.login_time, inplace=True)\n",
    "\n",
    "#remove index name\n",
    "df.index.name = None\n",
    "\n",
    "df"
   ]
  },
  {
   "cell_type": "code",
   "execution_count": 149,
   "metadata": {},
   "outputs": [
    {
     "data": {
      "text/html": [
       "<div>\n",
       "<style scoped>\n",
       "    .dataframe tbody tr th:only-of-type {\n",
       "        vertical-align: middle;\n",
       "    }\n",
       "\n",
       "    .dataframe tbody tr th {\n",
       "        vertical-align: top;\n",
       "    }\n",
       "\n",
       "    .dataframe thead th {\n",
       "        text-align: right;\n",
       "    }\n",
       "</style>\n",
       "<table border=\"1\" class=\"dataframe\">\n",
       "  <thead>\n",
       "    <tr style=\"text-align: right;\">\n",
       "      <th></th>\n",
       "      <th>login_time</th>\n",
       "    </tr>\n",
       "  </thead>\n",
       "  <tbody>\n",
       "    <tr>\n",
       "      <th>1970-01-01 20:00:00</th>\n",
       "      <td>2</td>\n",
       "    </tr>\n",
       "    <tr>\n",
       "      <th>1970-01-01 20:15:00</th>\n",
       "      <td>6</td>\n",
       "    </tr>\n",
       "    <tr>\n",
       "      <th>1970-01-01 20:30:00</th>\n",
       "      <td>9</td>\n",
       "    </tr>\n",
       "    <tr>\n",
       "      <th>1970-01-01 20:45:00</th>\n",
       "      <td>7</td>\n",
       "    </tr>\n",
       "    <tr>\n",
       "      <th>1970-01-01 21:00:00</th>\n",
       "      <td>1</td>\n",
       "    </tr>\n",
       "    <tr>\n",
       "      <th>...</th>\n",
       "      <td>...</td>\n",
       "    </tr>\n",
       "    <tr>\n",
       "      <th>1970-04-13 17:45:00</th>\n",
       "      <td>5</td>\n",
       "    </tr>\n",
       "    <tr>\n",
       "      <th>1970-04-13 18:00:00</th>\n",
       "      <td>5</td>\n",
       "    </tr>\n",
       "    <tr>\n",
       "      <th>1970-04-13 18:15:00</th>\n",
       "      <td>2</td>\n",
       "    </tr>\n",
       "    <tr>\n",
       "      <th>1970-04-13 18:30:00</th>\n",
       "      <td>7</td>\n",
       "    </tr>\n",
       "    <tr>\n",
       "      <th>1970-04-13 18:45:00</th>\n",
       "      <td>6</td>\n",
       "    </tr>\n",
       "  </tbody>\n",
       "</table>\n",
       "<p>9788 rows × 1 columns</p>\n",
       "</div>"
      ],
      "text/plain": [
       "                     login_time\n",
       "1970-01-01 20:00:00           2\n",
       "1970-01-01 20:15:00           6\n",
       "1970-01-01 20:30:00           9\n",
       "1970-01-01 20:45:00           7\n",
       "1970-01-01 21:00:00           1\n",
       "...                         ...\n",
       "1970-04-13 17:45:00           5\n",
       "1970-04-13 18:00:00           5\n",
       "1970-04-13 18:15:00           2\n",
       "1970-04-13 18:30:00           7\n",
       "1970-04-13 18:45:00           6\n",
       "\n",
       "[9788 rows x 1 columns]"
      ]
     },
     "execution_count": 149,
     "metadata": {},
     "output_type": "execute_result"
    }
   ],
   "source": [
    "# resample by 15 min intervals\n",
    "\n",
    "df_15min = df.resample(\"15min\").count()\n",
    "df_15min"
   ]
  },
  {
   "cell_type": "code",
   "execution_count": 150,
   "metadata": {},
   "outputs": [
    {
     "data": {
      "text/html": [
       "<div>\n",
       "<style scoped>\n",
       "    .dataframe tbody tr th:only-of-type {\n",
       "        vertical-align: middle;\n",
       "    }\n",
       "\n",
       "    .dataframe tbody tr th {\n",
       "        vertical-align: top;\n",
       "    }\n",
       "\n",
       "    .dataframe thead th {\n",
       "        text-align: right;\n",
       "    }\n",
       "</style>\n",
       "<table border=\"1\" class=\"dataframe\">\n",
       "  <thead>\n",
       "    <tr style=\"text-align: right;\">\n",
       "      <th></th>\n",
       "      <th>login_count</th>\n",
       "      <th>weekday</th>\n",
       "      <th>week</th>\n",
       "      <th>year</th>\n",
       "      <th>month</th>\n",
       "      <th>day</th>\n",
       "      <th>hour</th>\n",
       "      <th>minute</th>\n",
       "      <th>second</th>\n",
       "    </tr>\n",
       "  </thead>\n",
       "  <tbody>\n",
       "    <tr>\n",
       "      <th>1970-01-01 20:00:00</th>\n",
       "      <td>2</td>\n",
       "      <td>Thursday</td>\n",
       "      <td>1</td>\n",
       "      <td>1970</td>\n",
       "      <td>1</td>\n",
       "      <td>1</td>\n",
       "      <td>20</td>\n",
       "      <td>0</td>\n",
       "      <td>0</td>\n",
       "    </tr>\n",
       "    <tr>\n",
       "      <th>1970-01-01 20:15:00</th>\n",
       "      <td>6</td>\n",
       "      <td>Thursday</td>\n",
       "      <td>1</td>\n",
       "      <td>1970</td>\n",
       "      <td>1</td>\n",
       "      <td>1</td>\n",
       "      <td>20</td>\n",
       "      <td>15</td>\n",
       "      <td>0</td>\n",
       "    </tr>\n",
       "    <tr>\n",
       "      <th>1970-01-01 20:30:00</th>\n",
       "      <td>9</td>\n",
       "      <td>Thursday</td>\n",
       "      <td>1</td>\n",
       "      <td>1970</td>\n",
       "      <td>1</td>\n",
       "      <td>1</td>\n",
       "      <td>20</td>\n",
       "      <td>30</td>\n",
       "      <td>0</td>\n",
       "    </tr>\n",
       "    <tr>\n",
       "      <th>1970-01-01 20:45:00</th>\n",
       "      <td>7</td>\n",
       "      <td>Thursday</td>\n",
       "      <td>1</td>\n",
       "      <td>1970</td>\n",
       "      <td>1</td>\n",
       "      <td>1</td>\n",
       "      <td>20</td>\n",
       "      <td>45</td>\n",
       "      <td>0</td>\n",
       "    </tr>\n",
       "    <tr>\n",
       "      <th>1970-01-01 21:00:00</th>\n",
       "      <td>1</td>\n",
       "      <td>Thursday</td>\n",
       "      <td>1</td>\n",
       "      <td>1970</td>\n",
       "      <td>1</td>\n",
       "      <td>1</td>\n",
       "      <td>21</td>\n",
       "      <td>0</td>\n",
       "      <td>0</td>\n",
       "    </tr>\n",
       "  </tbody>\n",
       "</table>\n",
       "</div>"
      ],
      "text/plain": [
       "                     login_count   weekday  week  year  month  day  hour  \\\n",
       "1970-01-01 20:00:00            2  Thursday     1  1970      1    1    20   \n",
       "1970-01-01 20:15:00            6  Thursday     1  1970      1    1    20   \n",
       "1970-01-01 20:30:00            9  Thursday     1  1970      1    1    20   \n",
       "1970-01-01 20:45:00            7  Thursday     1  1970      1    1    20   \n",
       "1970-01-01 21:00:00            1  Thursday     1  1970      1    1    21   \n",
       "\n",
       "                     minute  second  \n",
       "1970-01-01 20:00:00       0       0  \n",
       "1970-01-01 20:15:00      15       0  \n",
       "1970-01-01 20:30:00      30       0  \n",
       "1970-01-01 20:45:00      45       0  \n",
       "1970-01-01 21:00:00       0       0  "
      ]
     },
     "execution_count": 150,
     "metadata": {},
     "output_type": "execute_result"
    }
   ],
   "source": [
    "# reworking dataframe of 15-min interval login counts to extract weekday, month, year, day, hour, min, second\n",
    "# values for new feature columns\n",
    "\n",
    "df_15min['weekday'] = df_15min.index\n",
    "df_15min['week'] = df_15min.index.isocalendar().week\n",
    "df_15min['year'] = df_15min.index.year\n",
    "df_15min['month'] = df_15min.index.month\n",
    "df_15min['day'] = df_15min.index.day\n",
    "df_15min['weekday'] = df_15min.index.strftime('%A')\n",
    "df_15min['hour'] = df_15min.index.hour\n",
    "df_15min['minute'] = df_15min.index.minute\n",
    "df_15min['second'] = df_15min.index.second\n",
    "\n",
    "df_15min = df_15min.rename(columns={\"login_time\": \"login_count\"})\n",
    "\n",
    "df_15min.head()"
   ]
  },
  {
   "cell_type": "markdown",
   "metadata": {},
   "source": [
    "## Data Visualizations"
   ]
  },
  {
   "cell_type": "code",
   "execution_count": 151,
   "metadata": {},
   "outputs": [
    {
     "data": {
      "image/png": "[encoded data removed]",
      "text/plain": [
       "<Figure size 432x288 with 1 Axes>"
      ]
     },
     "metadata": {
      "needs_background": "light"
     },
     "output_type": "display_data"
    }
   ],
   "source": [
    "#  Plot of login_count versus 15-min intervals for all sampling period\n",
    "#  Distinct large peak at beginning March might need to be checked for accuracy\n",
    "\n",
    "df_15min.login_count.plot();"
   ]
  },
  {
   "cell_type": "markdown",
   "metadata": {},
   "source": [
    "### 7-day and 30-day means plots"
   ]
  },
  {
   "cell_type": "code",
   "execution_count": 214,
   "metadata": {},
   "outputs": [
    {
     "data": {
      "image/png": "[encoded data removed]",
      "text/plain": [
       "<Figure size 720x720 with 1 Axes>"
      ]
     },
     "metadata": {
      "needs_background": "light"
     },
     "output_type": "display_data"
    }
   ],
   "source": [
    "#daily login_count over sampling period.  plot shows strong cylical pattern.\n",
    "\n",
    "ax = df_15min.login_count.rolling(window=96).sum().plot(figsize=(10,10))\n",
    "\n",
    "ax.set_xlabel('Date')\n",
    "ax.set_ylabel('Login Count')\n",
    "ax.set_title('Daily Login Counts vs Time');"
   ]
  },
  {
   "cell_type": "code",
   "execution_count": 215,
   "metadata": {},
   "outputs": [
    {
     "data": {
      "image/png": "[encoded data removed]",
      "text/plain": [
       "<Figure size 720x720 with 1 Axes>"
      ]
     },
     "metadata": {
      "needs_background": "light"
     },
     "output_type": "display_data"
    }
   ],
   "source": [
    "# Rolling seven day and 30 day means smooth out data plots.\n",
    "# 30-day plot shows cyclical variation and increasing login count trend over sampling period.\n",
    "\n",
    "\n",
    "ax = df_15min.login_count.rolling('7D').mean().plot(figsize=(10,10))\n",
    "ax = df_15min.login_count.rolling('30D').mean().plot(figsize=(10,10))\n",
    "\n",
    "ax.set_xlabel('Date')\n",
    "ax.set_ylabel('Login Count')\n",
    "ax.set_title('Daily Login Counts vs Time');"
   ]
  },
  {
   "cell_type": "code",
   "execution_count": 203,
   "metadata": {},
   "outputs": [
    {
     "data": {
      "text/html": [
       "<div>\n",
       "<style scoped>\n",
       "    .dataframe tbody tr th:only-of-type {\n",
       "        vertical-align: middle;\n",
       "    }\n",
       "\n",
       "    .dataframe tbody tr th {\n",
       "        vertical-align: top;\n",
       "    }\n",
       "\n",
       "    .dataframe thead th {\n",
       "        text-align: right;\n",
       "    }\n",
       "</style>\n",
       "<table border=\"1\" class=\"dataframe\">\n",
       "  <thead>\n",
       "    <tr style=\"text-align: right;\">\n",
       "      <th></th>\n",
       "      <th>login_count</th>\n",
       "      <th>week</th>\n",
       "      <th>year</th>\n",
       "      <th>month</th>\n",
       "      <th>day</th>\n",
       "      <th>hour</th>\n",
       "      <th>minute</th>\n",
       "      <th>second</th>\n",
       "    </tr>\n",
       "    <tr>\n",
       "      <th>weekday</th>\n",
       "      <th></th>\n",
       "      <th></th>\n",
       "      <th></th>\n",
       "      <th></th>\n",
       "      <th></th>\n",
       "      <th></th>\n",
       "      <th></th>\n",
       "      <th></th>\n",
       "    </tr>\n",
       "  </thead>\n",
       "  <tbody>\n",
       "    <tr>\n",
       "      <th>Saturday</th>\n",
       "      <td>13.456250</td>\n",
       "      <td>8.000000</td>\n",
       "      <td>1970.0</td>\n",
       "      <td>2.200000</td>\n",
       "      <td>16.000000</td>\n",
       "      <td>11.500000</td>\n",
       "      <td>22.5</td>\n",
       "      <td>0.0</td>\n",
       "    </tr>\n",
       "    <tr>\n",
       "      <th>Sunday</th>\n",
       "      <td>12.615972</td>\n",
       "      <td>8.000000</td>\n",
       "      <td>1970.0</td>\n",
       "      <td>2.333333</td>\n",
       "      <td>13.066667</td>\n",
       "      <td>11.500000</td>\n",
       "      <td>22.5</td>\n",
       "      <td>0.0</td>\n",
       "    </tr>\n",
       "    <tr>\n",
       "      <th>Friday</th>\n",
       "      <td>10.561111</td>\n",
       "      <td>8.000000</td>\n",
       "      <td>1970.0</td>\n",
       "      <td>2.200000</td>\n",
       "      <td>15.000000</td>\n",
       "      <td>11.500000</td>\n",
       "      <td>22.5</td>\n",
       "      <td>0.0</td>\n",
       "    </tr>\n",
       "    <tr>\n",
       "      <th>Thursday</th>\n",
       "      <td>8.794118</td>\n",
       "      <td>8.411765</td>\n",
       "      <td>1970.0</td>\n",
       "      <td>2.270588</td>\n",
       "      <td>14.764706</td>\n",
       "      <td>11.617647</td>\n",
       "      <td>22.5</td>\n",
       "      <td>0.0</td>\n",
       "    </tr>\n",
       "    <tr>\n",
       "      <th>Wednesday</th>\n",
       "      <td>7.692708</td>\n",
       "      <td>8.500000</td>\n",
       "      <td>1970.0</td>\n",
       "      <td>2.285714</td>\n",
       "      <td>13.928571</td>\n",
       "      <td>11.500000</td>\n",
       "      <td>22.5</td>\n",
       "      <td>0.0</td>\n",
       "    </tr>\n",
       "    <tr>\n",
       "      <th>Tuesday</th>\n",
       "      <td>6.895833</td>\n",
       "      <td>8.500000</td>\n",
       "      <td>1970.0</td>\n",
       "      <td>2.214286</td>\n",
       "      <td>15.142857</td>\n",
       "      <td>11.500000</td>\n",
       "      <td>22.5</td>\n",
       "      <td>0.0</td>\n",
       "    </tr>\n",
       "    <tr>\n",
       "      <th>Monday</th>\n",
       "      <td>6.213380</td>\n",
       "      <td>8.901408</td>\n",
       "      <td>1970.0</td>\n",
       "      <td>2.309859</td>\n",
       "      <td>14.081690</td>\n",
       "      <td>11.366197</td>\n",
       "      <td>22.5</td>\n",
       "      <td>0.0</td>\n",
       "    </tr>\n",
       "  </tbody>\n",
       "</table>\n",
       "</div>"
      ],
      "text/plain": [
       "           login_count      week    year     month        day       hour  \\\n",
       "weekday                                                                    \n",
       "Saturday     13.456250  8.000000  1970.0  2.200000  16.000000  11.500000   \n",
       "Sunday       12.615972  8.000000  1970.0  2.333333  13.066667  11.500000   \n",
       "Friday       10.561111  8.000000  1970.0  2.200000  15.000000  11.500000   \n",
       "Thursday      8.794118  8.411765  1970.0  2.270588  14.764706  11.617647   \n",
       "Wednesday     7.692708  8.500000  1970.0  2.285714  13.928571  11.500000   \n",
       "Tuesday       6.895833  8.500000  1970.0  2.214286  15.142857  11.500000   \n",
       "Monday        6.213380  8.901408  1970.0  2.309859  14.081690  11.366197   \n",
       "\n",
       "           minute  second  \n",
       "weekday                    \n",
       "Saturday     22.5     0.0  \n",
       "Sunday       22.5     0.0  \n",
       "Friday       22.5     0.0  \n",
       "Thursday     22.5     0.0  \n",
       "Wednesday    22.5     0.0  \n",
       "Tuesday      22.5     0.0  \n",
       "Monday       22.5     0.0  "
      ]
     },
     "execution_count": 203,
     "metadata": {},
     "output_type": "execute_result"
    }
   ],
   "source": [
    "#  Use groupby and weekday feature to calculate the mean number of logins for each day of the week.\n",
    "\n",
    "logins_by_weekday = df_15min.groupby('weekday').mean()\n",
    "logins_by_weekday = logins_by_weekday.sort_values('login_count', ascending = False)\n",
    "\n",
    "logins_by_weekday\n",
    "\n",
    "# Saturday sees largest number of logins, followed closely by Sunday and Friday"
   ]
  },
  {
   "cell_type": "code",
   "execution_count": 157,
   "metadata": {},
   "outputs": [
    {
     "data": {
      "text/html": [
       "<div>\n",
       "<style scoped>\n",
       "    .dataframe tbody tr th:only-of-type {\n",
       "        vertical-align: middle;\n",
       "    }\n",
       "\n",
       "    .dataframe tbody tr th {\n",
       "        vertical-align: top;\n",
       "    }\n",
       "\n",
       "    .dataframe thead th {\n",
       "        text-align: right;\n",
       "    }\n",
       "</style>\n",
       "<table border=\"1\" class=\"dataframe\">\n",
       "  <thead>\n",
       "    <tr style=\"text-align: right;\">\n",
       "      <th></th>\n",
       "      <th></th>\n",
       "      <th></th>\n",
       "      <th>login_count</th>\n",
       "      <th>week</th>\n",
       "      <th>year</th>\n",
       "      <th>month</th>\n",
       "      <th>day</th>\n",
       "      <th>second</th>\n",
       "    </tr>\n",
       "    <tr>\n",
       "      <th>weekday</th>\n",
       "      <th>hour</th>\n",
       "      <th>minute</th>\n",
       "      <th></th>\n",
       "      <th></th>\n",
       "      <th></th>\n",
       "      <th></th>\n",
       "      <th></th>\n",
       "      <th></th>\n",
       "    </tr>\n",
       "  </thead>\n",
       "  <tbody>\n",
       "    <tr>\n",
       "      <th rowspan=\"5\" valign=\"top\">Friday</th>\n",
       "      <th rowspan=\"4\" valign=\"top\">0</th>\n",
       "      <th>0</th>\n",
       "      <td>15.800000</td>\n",
       "      <td>8.0</td>\n",
       "      <td>1970.0</td>\n",
       "      <td>2.200000</td>\n",
       "      <td>15.000000</td>\n",
       "      <td>0.0</td>\n",
       "    </tr>\n",
       "    <tr>\n",
       "      <th>15</th>\n",
       "      <td>17.533333</td>\n",
       "      <td>8.0</td>\n",
       "      <td>1970.0</td>\n",
       "      <td>2.200000</td>\n",
       "      <td>15.000000</td>\n",
       "      <td>0.0</td>\n",
       "    </tr>\n",
       "    <tr>\n",
       "      <th>30</th>\n",
       "      <td>15.466667</td>\n",
       "      <td>8.0</td>\n",
       "      <td>1970.0</td>\n",
       "      <td>2.200000</td>\n",
       "      <td>15.000000</td>\n",
       "      <td>0.0</td>\n",
       "    </tr>\n",
       "    <tr>\n",
       "      <th>45</th>\n",
       "      <td>16.200000</td>\n",
       "      <td>8.0</td>\n",
       "      <td>1970.0</td>\n",
       "      <td>2.200000</td>\n",
       "      <td>15.000000</td>\n",
       "      <td>0.0</td>\n",
       "    </tr>\n",
       "    <tr>\n",
       "      <th>1</th>\n",
       "      <th>0</th>\n",
       "      <td>17.266667</td>\n",
       "      <td>8.0</td>\n",
       "      <td>1970.0</td>\n",
       "      <td>2.200000</td>\n",
       "      <td>15.000000</td>\n",
       "      <td>0.0</td>\n",
       "    </tr>\n",
       "    <tr>\n",
       "      <th>...</th>\n",
       "      <th>...</th>\n",
       "      <th>...</th>\n",
       "      <td>...</td>\n",
       "      <td>...</td>\n",
       "      <td>...</td>\n",
       "      <td>...</td>\n",
       "      <td>...</td>\n",
       "      <td>...</td>\n",
       "    </tr>\n",
       "    <tr>\n",
       "      <th rowspan=\"5\" valign=\"top\">Wednesday</th>\n",
       "      <th>22</th>\n",
       "      <th>45</th>\n",
       "      <td>13.785714</td>\n",
       "      <td>8.5</td>\n",
       "      <td>1970.0</td>\n",
       "      <td>2.285714</td>\n",
       "      <td>13.928571</td>\n",
       "      <td>0.0</td>\n",
       "    </tr>\n",
       "    <tr>\n",
       "      <th rowspan=\"4\" valign=\"top\">23</th>\n",
       "      <th>0</th>\n",
       "      <td>14.714286</td>\n",
       "      <td>8.5</td>\n",
       "      <td>1970.0</td>\n",
       "      <td>2.285714</td>\n",
       "      <td>13.928571</td>\n",
       "      <td>0.0</td>\n",
       "    </tr>\n",
       "    <tr>\n",
       "      <th>15</th>\n",
       "      <td>15.785714</td>\n",
       "      <td>8.5</td>\n",
       "      <td>1970.0</td>\n",
       "      <td>2.285714</td>\n",
       "      <td>13.928571</td>\n",
       "      <td>0.0</td>\n",
       "    </tr>\n",
       "    <tr>\n",
       "      <th>30</th>\n",
       "      <td>17.785714</td>\n",
       "      <td>8.5</td>\n",
       "      <td>1970.0</td>\n",
       "      <td>2.285714</td>\n",
       "      <td>13.928571</td>\n",
       "      <td>0.0</td>\n",
       "    </tr>\n",
       "    <tr>\n",
       "      <th>45</th>\n",
       "      <td>16.571429</td>\n",
       "      <td>8.5</td>\n",
       "      <td>1970.0</td>\n",
       "      <td>2.285714</td>\n",
       "      <td>13.928571</td>\n",
       "      <td>0.0</td>\n",
       "    </tr>\n",
       "  </tbody>\n",
       "</table>\n",
       "<p>672 rows × 6 columns</p>\n",
       "</div>"
      ],
      "text/plain": [
       "                       login_count  week    year     month        day  second\n",
       "weekday   hour minute                                                        \n",
       "Friday    0    0         15.800000   8.0  1970.0  2.200000  15.000000     0.0\n",
       "               15        17.533333   8.0  1970.0  2.200000  15.000000     0.0\n",
       "               30        15.466667   8.0  1970.0  2.200000  15.000000     0.0\n",
       "               45        16.200000   8.0  1970.0  2.200000  15.000000     0.0\n",
       "          1    0         17.266667   8.0  1970.0  2.200000  15.000000     0.0\n",
       "...                            ...   ...     ...       ...        ...     ...\n",
       "Wednesday 22   45        13.785714   8.5  1970.0  2.285714  13.928571     0.0\n",
       "          23   0         14.714286   8.5  1970.0  2.285714  13.928571     0.0\n",
       "               15        15.785714   8.5  1970.0  2.285714  13.928571     0.0\n",
       "               30        17.785714   8.5  1970.0  2.285714  13.928571     0.0\n",
       "               45        16.571429   8.5  1970.0  2.285714  13.928571     0.0\n",
       "\n",
       "[672 rows x 6 columns]"
      ]
     },
     "execution_count": 157,
     "metadata": {},
     "output_type": "execute_result"
    }
   ],
   "source": [
    "# groupby using weekday, hour, min\n",
    "\n",
    "df_ = df_15min.groupby(['weekday', 'hour', 'minute']).mean()\n",
    "df_.reset_index(inplace=True)\n",
    "\n",
    "# create time feature from hour and minute column values.\n",
    "df_['time'] = (pd.to_datetime(df_['hour'].astype(str) + ':' + df_['minute'].astype(str), format='%H:%M')\n",
    "          .dt.time)\n",
    "\n",
    "df_"
   ]
  },
  {
   "cell_type": "code",
   "execution_count": 226,
   "metadata": {},
   "outputs": [
    {
     "data": {
      "application/vnd.plotly.v1+json": {
       "config": {
        "plotlyServerURL": "https://plotly.com"
       },
       "data": [
        {
         "hovertemplate": "weekday=Friday<br>time=%{x}<br>login_count=%{y}<extra></extra>",
         "legendgroup": "Friday",
         "line": {
          "color": "#636efa",
          "dash": "solid"
         },
         "mode": "lines",
         "name": "Friday",
         "orientation": "v",
         "showlegend": true,
         "type": "scatter",
         "x": [
          "00:00:00",
          "00:15:00",
          "00:30:00",
          "00:45:00",
          "01:00:00",
          "01:15:00",
          "01:30:00",
          "01:45:00",
          "02:00:00",
          "02:15:00",
          "02:30:00",
          "02:45:00",
          "03:00:00",
          "03:15:00",
          "03:30:00",
          "03:45:00",
          "04:00:00",
          "04:15:00",
          "04:30:00",
          "04:45:00",
          "05:00:00",
          "05:15:00",
          "05:30:00",
          "05:45:00",
          "06:00:00",
          "06:15:00",
          "06:30:00",
          "06:45:00",
          "07:00:00",
          "07:15:00",
          "07:30:00",
          "07:45:00",
          "08:00:00",
          "08:15:00",
          "08:30:00",
          "08:45:00",
          "09:00:00",
          "09:15:00",
          "09:30:00",
          "09:45:00",
          "10:00:00",
          "10:15:00",
          "10:30:00",
          "10:45:00",
          "11:00:00",
          "11:15:00",
          "11:30:00",
          "11:45:00",
          "12:00:00",
          "12:15:00",
          "12:30:00",
          "12:45:00",
          "13:00:00",
          "13:15:00",
          "13:30:00",
          "13:45:00",
          "14:00:00",
          "14:15:00",
          "14:30:00",
          "14:45:00",
          "15:00:00",
          "15:15:00",
          "15:30:00",
          "15:45:00",
          "16:00:00",
          "16:15:00",
          "16:30:00",
          "16:45:00",
          "17:00:00",
          "17:15:00",
          "17:30:00",
          "17:45:00",
          "18:00:00",
          "18:15:00",
          "18:30:00",
          "18:45:00",
          "19:00:00",
          "19:15:00",
          "19:30:00",
          "19:45:00",
          "20:00:00",
          "20:15:00",
          "20:30:00",
          "20:45:00",
          "21:00:00",
          "21:15:00",
          "21:30:00",
          "21:45:00",
          "22:00:00",
          "22:15:00",
          "22:30:00",
          "22:45:00",
          "23:00:00",
          "23:15:00",
          "23:30:00",
          "23:45:00"
         ],
         "xaxis": "x",
         "y": [
          15.8,
          17.533333333333335,
          15.466666666666667,
          16.2,
          17.266666666666666,
          15.933333333333334,
          16.4,
          14.2,
          13.266666666666667,
          13.866666666666667,
          11.933333333333334,
          12.333333333333334,
          9.8,
          9.133333333333333,
          8.066666666666666,
          6.466666666666667,
          6.4,
          5.066666666666666,
          5.666666666666667,
          6.4,
          7.333333333333333,
          3.7333333333333334,
          2.466666666666667,
          2.8,
          1.9333333333333333,
          2.6,
          2,
          1.5333333333333334,
          1.7333333333333334,
          1.8,
          2.2,
          1.2666666666666666,
          1.9333333333333333,
          1.2,
          1.8,
          2.3333333333333335,
          1.4,
          3.6,
          5.466666666666667,
          5.533333333333333,
          5.8,
          7.933333333333334,
          9.533333333333333,
          11.866666666666667,
          12.866666666666667,
          15.2,
          19.6,
          20.266666666666666,
          15.6,
          16.533333333333335,
          17.666666666666668,
          11.933333333333334,
          8.666666666666666,
          9.2,
          10.066666666666666,
          7.6,
          7.666666666666667,
          8.133333333333333,
          9.866666666666667,
          9.133333333333333,
          7.066666666666666,
          5.8,
          6.533333333333333,
          6.6,
          6.666666666666667,
          5.8,
          5.466666666666667,
          6.866666666666666,
          6.466666666666667,
          7.8,
          9.266666666666667,
          8.466666666666667,
          8.133333333333333,
          9.4,
          10.333333333333334,
          10.6,
          9.2,
          10.2,
          12.066666666666666,
          12.4,
          10.6,
          12.8,
          15,
          15.133333333333333,
          18.666666666666668,
          19.733333333333334,
          19,
          23,
          21.866666666666667,
          27.733333333333334,
          27.066666666666666,
          24.6,
          24.4,
          22.866666666666667,
          19.466666666666665,
          19.8
         ],
         "yaxis": "y"
        },
        {
         "hovertemplate": "weekday=Monday<br>time=%{x}<br>login_count=%{y}<extra></extra>",
         "legendgroup": "Monday",
         "line": {
          "color": "#EF553B",
          "dash": "solid"
         },
         "mode": "lines",
         "name": "Monday",
         "orientation": "v",
         "showlegend": true,
         "type": "scatter",
         "x": [
          "00:00:00",
          "00:15:00",
          "00:30:00",
          "00:45:00",
          "01:00:00",
          "01:15:00",
          "01:30:00",
          "01:45:00",
          "02:00:00",
          "02:15:00",
          "02:30:00",
          "02:45:00",
          "03:00:00",
          "03:15:00",
          "03:30:00",
          "03:45:00",
          "04:00:00",
          "04:15:00",
          "04:30:00",
          "04:45:00",
          "05:00:00",
          "05:15:00",
          "05:30:00",
          "05:45:00",
          "06:00:00",
          "06:15:00",
          "06:30:00",
          "06:45:00",
          "07:00:00",
          "07:15:00",
          "07:30:00",
          "07:45:00",
          "08:00:00",
          "08:15:00",
          "08:30:00",
          "08:45:00",
          "09:00:00",
          "09:15:00",
          "09:30:00",
          "09:45:00",
          "10:00:00",
          "10:15:00",
          "10:30:00",
          "10:45:00",
          "11:00:00",
          "11:15:00",
          "11:30:00",
          "11:45:00",
          "12:00:00",
          "12:15:00",
          "12:30:00",
          "12:45:00",
          "13:00:00",
          "13:15:00",
          "13:30:00",
          "13:45:00",
          "14:00:00",
          "14:15:00",
          "14:30:00",
          "14:45:00",
          "15:00:00",
          "15:15:00",
          "15:30:00",
          "15:45:00",
          "16:00:00",
          "16:15:00",
          "16:30:00",
          "16:45:00",
          "17:00:00",
          "17:15:00",
          "17:30:00",
          "17:45:00",
          "18:00:00",
          "18:15:00",
          "18:30:00",
          "18:45:00",
          "19:00:00",
          "19:15:00",
          "19:30:00",
          "19:45:00",
          "20:00:00",
          "20:15:00",
          "20:30:00",
          "20:45:00",
          "21:00:00",
          "21:15:00",
          "21:30:00",
          "21:45:00",
          "22:00:00",
          "22:15:00",
          "22:30:00",
          "22:45:00",
          "23:00:00",
          "23:15:00",
          "23:30:00",
          "23:45:00"
         ],
         "xaxis": "x",
         "y": [
          8.4,
          9.333333333333334,
          9.6,
          8.066666666666666,
          7.266666666666667,
          7.2,
          7,
          6.133333333333334,
          6.066666666666666,
          4.666666666666667,
          5.666666666666667,
          4.4,
          3.466666666666667,
          5.133333333333334,
          3.4,
          3.7333333333333334,
          2.6666666666666665,
          3.6,
          3.466666666666667,
          4,
          3,
          2.3333333333333335,
          1.2666666666666666,
          1.4666666666666666,
          1.0666666666666667,
          0.9333333333333333,
          0.4666666666666667,
          1.9333333333333333,
          1.2,
          2.2666666666666666,
          1.6666666666666667,
          2.2666666666666666,
          2.2,
          2,
          2.7333333333333334,
          2.8666666666666667,
          2.933333333333333,
          4,
          4.666666666666667,
          5.466666666666667,
          6.6,
          7.6,
          10,
          13,
          14.2,
          15.266666666666667,
          18.2,
          15.466666666666667,
          13,
          12.733333333333333,
          12.933333333333334,
          9.466666666666667,
          8.2,
          6.333333333333333,
          7.866666666666666,
          6,
          4.533333333333333,
          5.933333333333334,
          5.933333333333334,
          6.066666666666666,
          4.866666666666666,
          4.066666666666666,
          4.533333333333333,
          6.066666666666666,
          3.8666666666666667,
          3.8666666666666667,
          3.2666666666666666,
          5.6,
          3.933333333333333,
          3.4,
          3.2666666666666666,
          5.266666666666667,
          4.8,
          3.4,
          4.4,
          5.2,
          4.214285714285714,
          3.857142857142857,
          4.642857142857143,
          6,
          6.214285714285714,
          5.214285714285714,
          6.142857142857143,
          9.285714285714286,
          9.928571428571429,
          10.928571428571429,
          12,
          10.357142857142858,
          11.071428571428571,
          11.642857142857142,
          10,
          10.928571428571429,
          8.214285714285714,
          10.142857142857142,
          10.142857142857142,
          9.5
         ],
         "yaxis": "y"
        },
        {
         "hovertemplate": "weekday=Saturday<br>time=%{x}<br>login_count=%{y}<extra></extra>",
         "legendgroup": "Saturday",
         "line": {
          "color": "#00cc96",
          "dash": "solid"
         },
         "mode": "lines",
         "name": "Saturday",
         "orientation": "v",
         "showlegend": true,
         "type": "scatter",
         "x": [
          "00:00:00",
          "00:15:00",
          "00:30:00",
          "00:45:00",
          "01:00:00",
          "01:15:00",
          "01:30:00",
          "01:45:00",
          "02:00:00",
          "02:15:00",
          "02:30:00",
          "02:45:00",
          "03:00:00",
          "03:15:00",
          "03:30:00",
          "03:45:00",
          "04:00:00",
          "04:15:00",
          "04:30:00",
          "04:45:00",
          "05:00:00",
          "05:15:00",
          "05:30:00",
          "05:45:00",
          "06:00:00",
          "06:15:00",
          "06:30:00",
          "06:45:00",
          "07:00:00",
          "07:15:00",
          "07:30:00",
          "07:45:00",
          "08:00:00",
          "08:15:00",
          "08:30:00",
          "08:45:00",
          "09:00:00",
          "09:15:00",
          "09:30:00",
          "09:45:00",
          "10:00:00",
          "10:15:00",
          "10:30:00",
          "10:45:00",
          "11:00:00",
          "11:15:00",
          "11:30:00",
          "11:45:00",
          "12:00:00",
          "12:15:00",
          "12:30:00",
          "12:45:00",
          "13:00:00",
          "13:15:00",
          "13:30:00",
          "13:45:00",
          "14:00:00",
          "14:15:00",
          "14:30:00",
          "14:45:00",
          "15:00:00",
          "15:15:00",
          "15:30:00",
          "15:45:00",
          "16:00:00",
          "16:15:00",
          "16:30:00",
          "16:45:00",
          "17:00:00",
          "17:15:00",
          "17:30:00",
          "17:45:00",
          "18:00:00",
          "18:15:00",
          "18:30:00",
          "18:45:00",
          "19:00:00",
          "19:15:00",
          "19:30:00",
          "19:45:00",
          "20:00:00",
          "20:15:00",
          "20:30:00",
          "20:45:00",
          "21:00:00",
          "21:15:00",
          "21:30:00",
          "21:45:00",
          "22:00:00",
          "22:15:00",
          "22:30:00",
          "22:45:00",
          "23:00:00",
          "23:15:00",
          "23:30:00",
          "23:45:00"
         ],
         "xaxis": "x",
         "y": [
          19.8,
          21.933333333333334,
          20.866666666666667,
          21,
          23.8,
          26.2,
          28.733333333333334,
          25.4,
          28,
          28.066666666666666,
          26.8,
          24.333333333333332,
          26.266666666666666,
          28.266666666666666,
          25.333333333333332,
          25.066666666666666,
          23.533333333333335,
          26.933333333333334,
          31.8,
          32.333333333333336,
          27.266666666666666,
          19.2,
          14.2,
          12.2,
          10.466666666666667,
          7.466666666666667,
          5.333333333333333,
          3.933333333333333,
          3.2666666666666666,
          3.466666666666667,
          2.6,
          2.533333333333333,
          2.8666666666666667,
          1.9333333333333333,
          2.066666666666667,
          1.6,
          1.3333333333333333,
          2.2,
          2.1333333333333333,
          2.2,
          2.066666666666667,
          3.2666666666666666,
          3.4,
          4.866666666666666,
          4.133333333333334,
          4.933333333333334,
          7,
          8.733333333333333,
          7.6,
          7.466666666666667,
          9.6,
          10.533333333333333,
          9.866666666666667,
          10.2,
          12.2,
          13,
          12.466666666666667,
          12.733333333333333,
          13.666666666666666,
          12.133333333333333,
          11.2,
          13.466666666666667,
          14.2,
          12,
          12.133333333333333,
          11.866666666666667,
          12.4,
          11.466666666666667,
          11.066666666666666,
          10.133333333333333,
          9.8,
          11.733333333333333,
          10,
          10.533333333333333,
          9.866666666666667,
          12.133333333333333,
          11.466666666666667,
          10.933333333333334,
          10.933333333333334,
          12.266666666666667,
          9,
          11.666666666666666,
          11.866666666666667,
          14.266666666666667,
          11.333333333333334,
          13,
          16.533333333333335,
          17.4,
          18.933333333333334,
          19,
          19.066666666666666,
          20.466666666666665,
          17.066666666666666,
          17.333333333333332,
          16.666666666666668,
          16
         ],
         "yaxis": "y"
        },
        {
         "hovertemplate": "weekday=Sunday<br>time=%{x}<br>login_count=%{y}<extra></extra>",
         "legendgroup": "Sunday",
         "line": {
          "color": "#ab63fa",
          "dash": "solid"
         },
         "mode": "lines",
         "name": "Sunday",
         "orientation": "v",
         "showlegend": true,
         "type": "scatter",
         "x": [
          "00:00:00",
          "00:15:00",
          "00:30:00",
          "00:45:00",
          "01:00:00",
          "01:15:00",
          "01:30:00",
          "01:45:00",
          "02:00:00",
          "02:15:00",
          "02:30:00",
          "02:45:00",
          "03:00:00",
          "03:15:00",
          "03:30:00",
          "03:45:00",
          "04:00:00",
          "04:15:00",
          "04:30:00",
          "04:45:00",
          "05:00:00",
          "05:15:00",
          "05:30:00",
          "05:45:00",
          "06:00:00",
          "06:15:00",
          "06:30:00",
          "06:45:00",
          "07:00:00",
          "07:15:00",
          "07:30:00",
          "07:45:00",
          "08:00:00",
          "08:15:00",
          "08:30:00",
          "08:45:00",
          "09:00:00",
          "09:15:00",
          "09:30:00",
          "09:45:00",
          "10:00:00",
          "10:15:00",
          "10:30:00",
          "10:45:00",
          "11:00:00",
          "11:15:00",
          "11:30:00",
          "11:45:00",
          "12:00:00",
          "12:15:00",
          "12:30:00",
          "12:45:00",
          "13:00:00",
          "13:15:00",
          "13:30:00",
          "13:45:00",
          "14:00:00",
          "14:15:00",
          "14:30:00",
          "14:45:00",
          "15:00:00",
          "15:15:00",
          "15:30:00",
          "15:45:00",
          "16:00:00",
          "16:15:00",
          "16:30:00",
          "16:45:00",
          "17:00:00",
          "17:15:00",
          "17:30:00",
          "17:45:00",
          "18:00:00",
          "18:15:00",
          "18:30:00",
          "18:45:00",
          "19:00:00",
          "19:15:00",
          "19:30:00",
          "19:45:00",
          "20:00:00",
          "20:15:00",
          "20:30:00",
          "20:45:00",
          "21:00:00",
          "21:15:00",
          "21:30:00",
          "21:45:00",
          "22:00:00",
          "22:15:00",
          "22:30:00",
          "22:45:00",
          "23:00:00",
          "23:15:00",
          "23:30:00",
          "23:45:00"
         ],
         "xaxis": "x",
         "y": [
          17.333333333333332,
          18.266666666666666,
          19.8,
          19.466666666666665,
          18.6,
          22.333333333333332,
          25.266666666666666,
          24.133333333333333,
          25.4,
          28,
          27.8,
          26,
          28.266666666666666,
          29.6,
          26.6,
          25.333333333333332,
          31.933333333333334,
          33,
          36.6,
          38.93333333333333,
          30.066666666666666,
          19.533333333333335,
          13.666666666666666,
          10.2,
          8.4,
          6.866666666666666,
          5.933333333333334,
          4.266666666666667,
          4.133333333333334,
          3.466666666666667,
          2.6666666666666665,
          2.533333333333333,
          2.3333333333333335,
          2.8,
          2.4,
          2.6666666666666665,
          3.533333333333333,
          2.2666666666666666,
          3.7333333333333334,
          2.466666666666667,
          2.533333333333333,
          3.6666666666666665,
          4.666666666666667,
          3.1333333333333333,
          4.133333333333334,
          4.933333333333334,
          5.333333333333333,
          5.066666666666666,
          7.8,
          6.533333333333333,
          9.933333333333334,
          10.533333333333333,
          10.266666666666667,
          10.4,
          12,
          14.266666666666667,
          11.266666666666667,
          10.666666666666666,
          16.066666666666666,
          14.4,
          13.466666666666667,
          11.8,
          14.933333333333334,
          13.266666666666667,
          13.2,
          13.933333333333334,
          13.2,
          14.2,
          10.6,
          10.533333333333333,
          11,
          9.066666666666666,
          9.4,
          8.733333333333333,
          9.8,
          9.2,
          11.466666666666667,
          8.866666666666667,
          11.4,
          10.4,
          9.866666666666667,
          10.733333333333333,
          9.2,
          11,
          9.6,
          8.866666666666667,
          11,
          12.2,
          10.6,
          8.266666666666667,
          9.866666666666667,
          10.133333333333333,
          9.2,
          8.866666666666667,
          8.466666666666667,
          10.6
         ],
         "yaxis": "y"
        },
        {
         "hovertemplate": "weekday=Thursday<br>time=%{x}<br>login_count=%{y}<extra></extra>",
         "legendgroup": "Thursday",
         "line": {
          "color": "#FFA15A",
          "dash": "solid"
         },
         "mode": "lines",
         "name": "Thursday",
         "orientation": "v",
         "showlegend": true,
         "type": "scatter",
         "x": [
          "00:00:00",
          "00:15:00",
          "00:30:00",
          "00:45:00",
          "01:00:00",
          "01:15:00",
          "01:30:00",
          "01:45:00",
          "02:00:00",
          "02:15:00",
          "02:30:00",
          "02:45:00",
          "03:00:00",
          "03:15:00",
          "03:30:00",
          "03:45:00",
          "04:00:00",
          "04:15:00",
          "04:30:00",
          "04:45:00",
          "05:00:00",
          "05:15:00",
          "05:30:00",
          "05:45:00",
          "06:00:00",
          "06:15:00",
          "06:30:00",
          "06:45:00",
          "07:00:00",
          "07:15:00",
          "07:30:00",
          "07:45:00",
          "08:00:00",
          "08:15:00",
          "08:30:00",
          "08:45:00",
          "09:00:00",
          "09:15:00",
          "09:30:00",
          "09:45:00",
          "10:00:00",
          "10:15:00",
          "10:30:00",
          "10:45:00",
          "11:00:00",
          "11:15:00",
          "11:30:00",
          "11:45:00",
          "12:00:00",
          "12:15:00",
          "12:30:00",
          "12:45:00",
          "13:00:00",
          "13:15:00",
          "13:30:00",
          "13:45:00",
          "14:00:00",
          "14:15:00",
          "14:30:00",
          "14:45:00",
          "15:00:00",
          "15:15:00",
          "15:30:00",
          "15:45:00",
          "16:00:00",
          "16:15:00",
          "16:30:00",
          "16:45:00",
          "17:00:00",
          "17:15:00",
          "17:30:00",
          "17:45:00",
          "18:00:00",
          "18:15:00",
          "18:30:00",
          "18:45:00",
          "19:00:00",
          "19:15:00",
          "19:30:00",
          "19:45:00",
          "20:00:00",
          "20:15:00",
          "20:30:00",
          "20:45:00",
          "21:00:00",
          "21:15:00",
          "21:30:00",
          "21:45:00",
          "22:00:00",
          "22:15:00",
          "22:30:00",
          "22:45:00",
          "23:00:00",
          "23:15:00",
          "23:30:00",
          "23:45:00"
         ],
         "xaxis": "x",
         "y": [
          15.285714285714286,
          15.142857142857142,
          14.428571428571429,
          13.428571428571429,
          14.285714285714286,
          15,
          13.357142857142858,
          12.857142857142858,
          11.642857142857142,
          12.357142857142858,
          10.928571428571429,
          9.714285714285714,
          7.5,
          6.857142857142857,
          7.071428571428571,
          5.357142857142857,
          4.428571428571429,
          4.357142857142857,
          4.714285714285714,
          4.714285714285714,
          3.7142857142857144,
          2.5714285714285716,
          1.8571428571428572,
          1.5714285714285714,
          1.2142857142857142,
          1.7857142857142858,
          0.5,
          1.2857142857142858,
          1.4285714285714286,
          1.5,
          1.5714285714285714,
          1.2857142857142858,
          0.9285714285714286,
          1.1428571428571428,
          2.2857142857142856,
          2.4285714285714284,
          2.4285714285714284,
          4.214285714285714,
          5.714285714285714,
          5.571428571428571,
          8.642857142857142,
          7.642857142857143,
          11.642857142857142,
          13.357142857142858,
          16.928571428571427,
          20.857142857142858,
          20.642857142857142,
          19.928571428571427,
          16.785714285714285,
          15.785714285714286,
          14.785714285714286,
          11.5,
          9.642857142857142,
          8.928571428571429,
          8.214285714285714,
          7.785714285714286,
          4.285714285714286,
          6.5,
          9.785714285714286,
          7.142857142857143,
          6.142857142857143,
          5.785714285714286,
          4,
          4.071428571428571,
          4,
          5.357142857142857,
          4.857142857142857,
          3.0714285714285716,
          4,
          3.857142857142857,
          4.285714285714286,
          4.428571428571429,
          5.642857142857143,
          5.071428571428571,
          6.714285714285714,
          7.642857142857143,
          6.857142857142857,
          6.857142857142857,
          7.5,
          6.785714285714286,
          8.133333333333333,
          9.333333333333334,
          12.066666666666666,
          11.933333333333334,
          12.6,
          14.333333333333334,
          14.466666666666667,
          16.6,
          18.2,
          17.133333333333333,
          18.733333333333334,
          18.533333333333335,
          19.266666666666666,
          17,
          16.533333333333335,
          16.066666666666666
         ],
         "yaxis": "y"
        },
        {
         "hovertemplate": "weekday=Tuesday<br>time=%{x}<br>login_count=%{y}<extra></extra>",
         "legendgroup": "Tuesday",
         "line": {
          "color": "#19d3f3",
          "dash": "solid"
         },
         "mode": "lines",
         "name": "Tuesday",
         "orientation": "v",
         "showlegend": true,
         "type": "scatter",
         "x": [
          "00:00:00",
          "00:15:00",
          "00:30:00",
          "00:45:00",
          "01:00:00",
          "01:15:00",
          "01:30:00",
          "01:45:00",
          "02:00:00",
          "02:15:00",
          "02:30:00",
          "02:45:00",
          "03:00:00",
          "03:15:00",
          "03:30:00",
          "03:45:00",
          "04:00:00",
          "04:15:00",
          "04:30:00",
          "04:45:00",
          "05:00:00",
          "05:15:00",
          "05:30:00",
          "05:45:00",
          "06:00:00",
          "06:15:00",
          "06:30:00",
          "06:45:00",
          "07:00:00",
          "07:15:00",
          "07:30:00",
          "07:45:00",
          "08:00:00",
          "08:15:00",
          "08:30:00",
          "08:45:00",
          "09:00:00",
          "09:15:00",
          "09:30:00",
          "09:45:00",
          "10:00:00",
          "10:15:00",
          "10:30:00",
          "10:45:00",
          "11:00:00",
          "11:15:00",
          "11:30:00",
          "11:45:00",
          "12:00:00",
          "12:15:00",
          "12:30:00",
          "12:45:00",
          "13:00:00",
          "13:15:00",
          "13:30:00",
          "13:45:00",
          "14:00:00",
          "14:15:00",
          "14:30:00",
          "14:45:00",
          "15:00:00",
          "15:15:00",
          "15:30:00",
          "15:45:00",
          "16:00:00",
          "16:15:00",
          "16:30:00",
          "16:45:00",
          "17:00:00",
          "17:15:00",
          "17:30:00",
          "17:45:00",
          "18:00:00",
          "18:15:00",
          "18:30:00",
          "18:45:00",
          "19:00:00",
          "19:15:00",
          "19:30:00",
          "19:45:00",
          "20:00:00",
          "20:15:00",
          "20:30:00",
          "20:45:00",
          "21:00:00",
          "21:15:00",
          "21:30:00",
          "21:45:00",
          "22:00:00",
          "22:15:00",
          "22:30:00",
          "22:45:00",
          "23:00:00",
          "23:15:00",
          "23:30:00",
          "23:45:00"
         ],
         "xaxis": "x",
         "y": [
          10.5,
          10.785714285714286,
          11.428571428571429,
          10.642857142857142,
          10.285714285714286,
          9.285714285714286,
          11.714285714285714,
          9.142857142857142,
          7.785714285714286,
          7.928571428571429,
          6.142857142857143,
          6.285714285714286,
          5,
          3.0714285714285716,
          3.2857142857142856,
          2.7857142857142856,
          2.7857142857142856,
          1.5714285714285714,
          3.0714285714285716,
          3.2142857142857144,
          3.142857142857143,
          2.2142857142857144,
          1.2857142857142858,
          1.4285714285714286,
          0.8571428571428571,
          0.8571428571428571,
          0.8571428571428571,
          0.7142857142857143,
          1.4285714285714286,
          1.3571428571428572,
          0.8571428571428571,
          0.9285714285714286,
          1.0714285714285714,
          1.1428571428571428,
          1.7857142857142858,
          2.2857142857142856,
          3,
          4,
          4.714285714285714,
          5.571428571428571,
          5.785714285714286,
          7,
          10.071428571428571,
          11.357142857142858,
          15.928571428571429,
          18.071428571428573,
          19.785714285714285,
          18.714285714285715,
          14.571428571428571,
          14.571428571428571,
          13,
          8.571428571428571,
          6.642857142857143,
          6.5,
          6.428571428571429,
          6.214285714285714,
          5,
          5,
          6.571428571428571,
          5.5,
          4.714285714285714,
          5.142857142857143,
          3.5714285714285716,
          4.214285714285714,
          3.357142857142857,
          4.142857142857143,
          4.5,
          3.642857142857143,
          3.5714285714285716,
          2.7857142857142856,
          2.857142857142857,
          3.857142857142857,
          5.5,
          4.357142857142857,
          6,
          5.785714285714286,
          4.714285714285714,
          4.714285714285714,
          5.428571428571429,
          6.642857142857143,
          7.642857142857143,
          7.714285714285714,
          9.285714285714286,
          10.214285714285714,
          11.571428571428571,
          11.214285714285714,
          14,
          13.5,
          13.785714285714286,
          12.785714285714286,
          14.357142857142858,
          13.214285714285714,
          14.5,
          14.142857142857142,
          10.571428571428571,
          12.5
         ],
         "yaxis": "y"
        },
        {
         "hovertemplate": "weekday=Wednesday<br>time=%{x}<br>login_count=%{y}<extra></extra>",
         "legendgroup": "Wednesday",
         "line": {
          "color": "#FF6692",
          "dash": "solid"
         },
         "mode": "lines",
         "name": "Wednesday",
         "orientation": "v",
         "showlegend": true,
         "type": "scatter",
         "x": [
          "00:00:00",
          "00:15:00",
          "00:30:00",
          "00:45:00",
          "01:00:00",
          "01:15:00",
          "01:30:00",
          "01:45:00",
          "02:00:00",
          "02:15:00",
          "02:30:00",
          "02:45:00",
          "03:00:00",
          "03:15:00",
          "03:30:00",
          "03:45:00",
          "04:00:00",
          "04:15:00",
          "04:30:00",
          "04:45:00",
          "05:00:00",
          "05:15:00",
          "05:30:00",
          "05:45:00",
          "06:00:00",
          "06:15:00",
          "06:30:00",
          "06:45:00",
          "07:00:00",
          "07:15:00",
          "07:30:00",
          "07:45:00",
          "08:00:00",
          "08:15:00",
          "08:30:00",
          "08:45:00",
          "09:00:00",
          "09:15:00",
          "09:30:00",
          "09:45:00",
          "10:00:00",
          "10:15:00",
          "10:30:00",
          "10:45:00",
          "11:00:00",
          "11:15:00",
          "11:30:00",
          "11:45:00",
          "12:00:00",
          "12:15:00",
          "12:30:00",
          "12:45:00",
          "13:00:00",
          "13:15:00",
          "13:30:00",
          "13:45:00",
          "14:00:00",
          "14:15:00",
          "14:30:00",
          "14:45:00",
          "15:00:00",
          "15:15:00",
          "15:30:00",
          "15:45:00",
          "16:00:00",
          "16:15:00",
          "16:30:00",
          "16:45:00",
          "17:00:00",
          "17:15:00",
          "17:30:00",
          "17:45:00",
          "18:00:00",
          "18:15:00",
          "18:30:00",
          "18:45:00",
          "19:00:00",
          "19:15:00",
          "19:30:00",
          "19:45:00",
          "20:00:00",
          "20:15:00",
          "20:30:00",
          "20:45:00",
          "21:00:00",
          "21:15:00",
          "21:30:00",
          "21:45:00",
          "22:00:00",
          "22:15:00",
          "22:30:00",
          "22:45:00",
          "23:00:00",
          "23:15:00",
          "23:30:00",
          "23:45:00"
         ],
         "xaxis": "x",
         "y": [
          11.285714285714286,
          12.714285714285714,
          12.642857142857142,
          12.428571428571429,
          14.357142857142858,
          13.071428571428571,
          11.5,
          10.071428571428571,
          10.428571428571429,
          8.785714285714286,
          7.642857142857143,
          7.571428571428571,
          5.928571428571429,
          5.785714285714286,
          4.714285714285714,
          4.928571428571429,
          4.5,
          3.7142857142857144,
          4.428571428571429,
          4.857142857142857,
          4.428571428571429,
          2.2142857142857144,
          1.9285714285714286,
          1.0714285714285714,
          0.8571428571428571,
          1.0714285714285714,
          0.7142857142857143,
          0.7857142857142857,
          1.7142857142857142,
          1.7142857142857142,
          1.5,
          1.0714285714285714,
          1.6428571428571428,
          2,
          2.0714285714285716,
          1.3571428571428572,
          2.7142857142857144,
          3.357142857142857,
          4.642857142857143,
          6.428571428571429,
          5.5,
          7.071428571428571,
          10.642857142857142,
          13.071428571428571,
          15.214285714285714,
          18.142857142857142,
          21.714285714285715,
          20.428571428571427,
          14.642857142857142,
          14.357142857142858,
          13.785714285714286,
          9.5,
          8.214285714285714,
          8,
          7.5,
          6.571428571428571,
          4.357142857142857,
          5,
          6.857142857142857,
          6.571428571428571,
          5.642857142857143,
          4.571428571428571,
          4.214285714285714,
          4.357142857142857,
          3.7142857142857144,
          4.285714285714286,
          3.857142857142857,
          3.4285714285714284,
          3.5714285714285716,
          2.9285714285714284,
          3.142857142857143,
          4.071428571428571,
          4,
          5.5,
          5.214285714285714,
          5.785714285714286,
          4.642857142857143,
          5.571428571428571,
          5.714285714285714,
          5.928571428571429,
          6.5,
          8.642857142857142,
          9.357142857142858,
          11.214285714285714,
          12,
          12.571428571428571,
          15.214285714285714,
          13,
          17.285714285714285,
          16.285714285714285,
          15.857142857142858,
          13.785714285714286,
          14.714285714285714,
          15.785714285714286,
          17.785714285714285,
          16.571428571428573
         ],
         "yaxis": "y"
        }
       ],
       "layout": {
        "legend": {
         "title": {
          "text": "weekday"
         },
         "tracegroupgap": 0
        },
        "margin": {
         "t": 60
        },
        "template": {
         "data": {
          "bar": [
           {
            "error_x": {
             "color": "#2a3f5f"
            },
            "error_y": {
             "color": "#2a3f5f"
            },
            "marker": {
             "line": {
              "color": "#E5ECF6",
              "width": 0.5
             }
            },
            "type": "bar"
           }
          ],
          "barpolar": [
           {
            "marker": {
             "line": {
              "color": "#E5ECF6",
              "width": 0.5
             }
            },
            "type": "barpolar"
           }
          ],
          "carpet": [
           {
            "aaxis": {
             "endlinecolor": "#2a3f5f",
             "gridcolor": "white",
             "linecolor": "white",
             "minorgridcolor": "white",
             "startlinecolor": "#2a3f5f"
            },
            "baxis": {
             "endlinecolor": "#2a3f5f",
             "gridcolor": "white",
             "linecolor": "white",
             "minorgridcolor": "white",
             "startlinecolor": "#2a3f5f"
            },
            "type": "carpet"
           }
          ],
          "choropleth": [
           {
            "colorbar": {
             "outlinewidth": 0,
             "ticks": ""
            },
            "type": "choropleth"
           }
          ],
          "contour": [
           {
            "colorbar": {
             "outlinewidth": 0,
             "ticks": ""
            },
            "colorscale": [
             [
              0,
              "#0d0887"
             ],
             [
              0.1111111111111111,
              "#46039f"
             ],
             [
              0.2222222222222222,
              "#7201a8"
             ],
             [
              0.3333333333333333,
              "#9c179e"
             ],
             [
              0.4444444444444444,
              "#bd3786"
             ],
             [
              0.5555555555555556,
              "#d8576b"
             ],
             [
              0.6666666666666666,
              "#ed7953"
             ],
             [
              0.7777777777777778,
              "#fb9f3a"
             ],
             [
              0.8888888888888888,
              "#fdca26"
             ],
             [
              1,
              "#f0f921"
             ]
            ],
            "type": "contour"
           }
          ],
          "contourcarpet": [
           {
            "colorbar": {
             "outlinewidth": 0,
             "ticks": ""
            },
            "type": "contourcarpet"
           }
          ],
          "heatmap": [
           {
            "colorbar": {
             "outlinewidth": 0,
             "ticks": ""
            },
            "colorscale": [
             [
              0,
              "#0d0887"
             ],
             [
              0.1111111111111111,
              "#46039f"
             ],
             [
              0.2222222222222222,
              "#7201a8"
             ],
             [
              0.3333333333333333,
              "#9c179e"
             ],
             [
              0.4444444444444444,
              "#bd3786"
             ],
             [
              0.5555555555555556,
              "#d8576b"
             ],
             [
              0.6666666666666666,
              "#ed7953"
             ],
             [
              0.7777777777777778,
              "#fb9f3a"
             ],
             [
              0.8888888888888888,
              "#fdca26"
             ],
             [
              1,
              "#f0f921"
             ]
            ],
            "type": "heatmap"
           }
          ],
          "heatmapgl": [
           {
            "colorbar": {
             "outlinewidth": 0,
             "ticks": ""
            },
            "colorscale": [
             [
              0,
              "#0d0887"
             ],
             [
              0.1111111111111111,
              "#46039f"
             ],
             [
              0.2222222222222222,
              "#7201a8"
             ],
             [
              0.3333333333333333,
              "#9c179e"
             ],
             [
              0.4444444444444444,
              "#bd3786"
             ],
             [
              0.5555555555555556,
              "#d8576b"
             ],
             [
              0.6666666666666666,
              "#ed7953"
             ],
             [
              0.7777777777777778,
              "#fb9f3a"
             ],
             [
              0.8888888888888888,
              "#fdca26"
             ],
             [
              1,
              "#f0f921"
             ]
            ],
            "type": "heatmapgl"
           }
          ],
          "histogram": [
           {
            "marker": {
             "colorbar": {
              "outlinewidth": 0,
              "ticks": ""
             }
            },
            "type": "histogram"
           }
          ],
          "histogram2d": [
           {
            "colorbar": {
             "outlinewidth": 0,
             "ticks": ""
            },
            "colorscale": [
             [
              0,
              "#0d0887"
             ],
             [
              0.1111111111111111,
              "#46039f"
             ],
             [
              0.2222222222222222,
              "#7201a8"
             ],
             [
              0.3333333333333333,
              "#9c179e"
             ],
             [
              0.4444444444444444,
              "#bd3786"
             ],
             [
              0.5555555555555556,
              "#d8576b"
             ],
             [
              0.6666666666666666,
              "#ed7953"
             ],
             [
              0.7777777777777778,
              "#fb9f3a"
             ],
             [
              0.8888888888888888,
              "#fdca26"
             ],
             [
              1,
              "#f0f921"
             ]
            ],
            "type": "histogram2d"
           }
          ],
          "histogram2dcontour": [
           {
            "colorbar": {
             "outlinewidth": 0,
             "ticks": ""
            },
            "colorscale": [
             [
              0,
              "#0d0887"
             ],
             [
              0.1111111111111111,
              "#46039f"
             ],
             [
              0.2222222222222222,
              "#7201a8"
             ],
             [
              0.3333333333333333,
              "#9c179e"
             ],
             [
              0.4444444444444444,
              "#bd3786"
             ],
             [
              0.5555555555555556,
              "#d8576b"
             ],
             [
              0.6666666666666666,
              "#ed7953"
             ],
             [
              0.7777777777777778,
              "#fb9f3a"
             ],
             [
              0.8888888888888888,
              "#fdca26"
             ],
             [
              1,
              "#f0f921"
             ]
            ],
            "type": "histogram2dcontour"
           }
          ],
          "mesh3d": [
           {
            "colorbar": {
             "outlinewidth": 0,
             "ticks": ""
            },
            "type": "mesh3d"
           }
          ],
          "parcoords": [
           {
            "line": {
             "colorbar": {
              "outlinewidth": 0,
              "ticks": ""
             }
            },
            "type": "parcoords"
           }
          ],
          "pie": [
           {
            "automargin": true,
            "type": "pie"
           }
          ],
          "scatter": [
           {
            "marker": {
             "colorbar": {
              "outlinewidth": 0,
              "ticks": ""
             }
            },
            "type": "scatter"
           }
          ],
          "scatter3d": [
           {
            "line": {
             "colorbar": {
              "outlinewidth": 0,
              "ticks": ""
             }
            },
            "marker": {
             "colorbar": {
              "outlinewidth": 0,
              "ticks": ""
             }
            },
            "type": "scatter3d"
           }
          ],
          "scattercarpet": [
           {
            "marker": {
             "colorbar": {
              "outlinewidth": 0,
              "ticks": ""
             }
            },
            "type": "scattercarpet"
           }
          ],
          "scattergeo": [
           {
            "marker": {
             "colorbar": {
              "outlinewidth": 0,
              "ticks": ""
             }
            },
            "type": "scattergeo"
           }
          ],
          "scattergl": [
           {
            "marker": {
             "colorbar": {
              "outlinewidth": 0,
              "ticks": ""
             }
            },
            "type": "scattergl"
           }
          ],
          "scattermapbox": [
           {
            "marker": {
             "colorbar": {
              "outlinewidth": 0,
              "ticks": ""
             }
            },
            "type": "scattermapbox"
           }
          ],
          "scatterpolar": [
           {
            "marker": {
             "colorbar": {
              "outlinewidth": 0,
              "ticks": ""
             }
            },
            "type": "scatterpolar"
           }
          ],
          "scatterpolargl": [
           {
            "marker": {
             "colorbar": {
              "outlinewidth": 0,
              "ticks": ""
             }
            },
            "type": "scatterpolargl"
           }
          ],
          "scatterternary": [
           {
            "marker": {
             "colorbar": {
              "outlinewidth": 0,
              "ticks": ""
             }
            },
            "type": "scatterternary"
           }
          ],
          "surface": [
           {
            "colorbar": {
             "outlinewidth": 0,
             "ticks": ""
            },
            "colorscale": [
             [
              0,
              "#0d0887"
             ],
             [
              0.1111111111111111,
              "#46039f"
             ],
             [
              0.2222222222222222,
              "#7201a8"
             ],
             [
              0.3333333333333333,
              "#9c179e"
             ],
             [
              0.4444444444444444,
              "#bd3786"
             ],
             [
              0.5555555555555556,
              "#d8576b"
             ],
             [
              0.6666666666666666,
              "#ed7953"
             ],
             [
              0.7777777777777778,
              "#fb9f3a"
             ],
             [
              0.8888888888888888,
              "#fdca26"
             ],
             [
              1,
              "#f0f921"
             ]
            ],
            "type": "surface"
           }
          ],
          "table": [
           {
            "cells": {
             "fill": {
              "color": "#EBF0F8"
             },
             "line": {
              "color": "white"
             }
            },
            "header": {
             "fill": {
              "color": "#C8D4E3"
             },
             "line": {
              "color": "white"
             }
            },
            "type": "table"
           }
          ]
         },
         "layout": {
          "annotationdefaults": {
           "arrowcolor": "#2a3f5f",
           "arrowhead": 0,
           "arrowwidth": 1
          },
          "autotypenumbers": "strict",
          "coloraxis": {
           "colorbar": {
            "outlinewidth": 0,
            "ticks": ""
           }
          },
          "colorscale": {
           "diverging": [
            [
             0,
             "#8e0152"
            ],
            [
             0.1,
             "#c51b7d"
            ],
            [
             0.2,
             "#de77ae"
            ],
            [
             0.3,
             "#f1b6da"
            ],
            [
             0.4,
             "#fde0ef"
            ],
            [
             0.5,
             "#f7f7f7"
            ],
            [
             0.6,
             "#e6f5d0"
            ],
            [
             0.7,
             "#b8e186"
            ],
            [
             0.8,
             "#7fbc41"
            ],
            [
             0.9,
             "#4d9221"
            ],
            [
             1,
             "#276419"
            ]
           ],
           "sequential": [
            [
             0,
             "#0d0887"
            ],
            [
             0.1111111111111111,
             "#46039f"
            ],
            [
             0.2222222222222222,
             "#7201a8"
            ],
            [
             0.3333333333333333,
             "#9c179e"
            ],
            [
             0.4444444444444444,
             "#bd3786"
            ],
            [
             0.5555555555555556,
             "#d8576b"
            ],
            [
             0.6666666666666666,
             "#ed7953"
            ],
            [
             0.7777777777777778,
             "#fb9f3a"
            ],
            [
             0.8888888888888888,
             "#fdca26"
            ],
            [
             1,
             "#f0f921"
            ]
           ],
           "sequentialminus": [
            [
             0,
             "#0d0887"
            ],
            [
             0.1111111111111111,
             "#46039f"
            ],
            [
             0.2222222222222222,
             "#7201a8"
            ],
            [
             0.3333333333333333,
             "#9c179e"
            ],
            [
             0.4444444444444444,
             "#bd3786"
            ],
            [
             0.5555555555555556,
             "#d8576b"
            ],
            [
             0.6666666666666666,
             "#ed7953"
            ],
            [
             0.7777777777777778,
             "#fb9f3a"
            ],
            [
             0.8888888888888888,
             "#fdca26"
            ],
            [
             1,
             "#f0f921"
            ]
           ]
          },
          "colorway": [
           "#636efa",
           "#EF553B",
           "#00cc96",
           "#ab63fa",
           "#FFA15A",
           "#19d3f3",
           "#FF6692",
           "#B6E880",
           "#FF97FF",
           "#FECB52"
          ],
          "font": {
           "color": "#2a3f5f"
          },
          "geo": {
           "bgcolor": "white",
           "lakecolor": "white",
           "landcolor": "#E5ECF6",
           "showlakes": true,
           "showland": true,
           "subunitcolor": "white"
          },
          "hoverlabel": {
           "align": "left"
          },
          "hovermode": "closest",
          "mapbox": {
           "style": "light"
          },
          "paper_bgcolor": "white",
          "plot_bgcolor": "#E5ECF6",
          "polar": {
           "angularaxis": {
            "gridcolor": "white",
            "linecolor": "white",
            "ticks": ""
           },
           "bgcolor": "#E5ECF6",
           "radialaxis": {
            "gridcolor": "white",
            "linecolor": "white",
            "ticks": ""
           }
          },
          "scene": {
           "xaxis": {
            "backgroundcolor": "#E5ECF6",
            "gridcolor": "white",
            "gridwidth": 2,
            "linecolor": "white",
            "showbackground": true,
            "ticks": "",
            "zerolinecolor": "white"
           },
           "yaxis": {
            "backgroundcolor": "#E5ECF6",
            "gridcolor": "white",
            "gridwidth": 2,
            "linecolor": "white",
            "showbackground": true,
            "ticks": "",
            "zerolinecolor": "white"
           },
           "zaxis": {
            "backgroundcolor": "#E5ECF6",
            "gridcolor": "white",
            "gridwidth": 2,
            "linecolor": "white",
            "showbackground": true,
            "ticks": "",
            "zerolinecolor": "white"
           }
          },
          "shapedefaults": {
           "line": {
            "color": "#2a3f5f"
           }
          },
          "ternary": {
           "aaxis": {
            "gridcolor": "white",
            "linecolor": "white",
            "ticks": ""
           },
           "baxis": {
            "gridcolor": "white",
            "linecolor": "white",
            "ticks": ""
           },
           "bgcolor": "#E5ECF6",
           "caxis": {
            "gridcolor": "white",
            "linecolor": "white",
            "ticks": ""
           }
          },
          "title": {
           "x": 0.05
          },
          "xaxis": {
           "automargin": true,
           "gridcolor": "white",
           "linecolor": "white",
           "ticks": "",
           "title": {
            "standoff": 15
           },
           "zerolinecolor": "white",
           "zerolinewidth": 2
          },
          "yaxis": {
           "automargin": true,
           "gridcolor": "white",
           "linecolor": "white",
           "ticks": "",
           "title": {
            "standoff": 15
           },
           "zerolinecolor": "white",
           "zerolinewidth": 2
          }
         }
        },
        "title": {
         "text": "Average Login Counts vs Time of Day",
         "x": 0.5,
         "xref": "paper"
        },
        "xaxis": {
         "anchor": "y",
         "domain": [
          0,
          1
         ],
         "title": {
          "text": "Time of Day"
         }
        },
        "yaxis": {
         "anchor": "x",
         "domain": [
          0,
          1
         ],
         "title": {
          "text": "Login Count"
         }
        }
       }
      },
      "text/html": [
       "<div>                            <div id=\"a43a6bfa-d4a4-4431-af9a-ff6e7358d7b9\" class=\"plotly-graph-div\" style=\"height:525px; width:100%;\"></div>            <script type=\"text/javascript\">                require([\"plotly\"], function(Plotly) {                    window.PLOTLYENV=window.PLOTLYENV || {};                                    if (document.getElementById(\"a43a6bfa-d4a4-4431-af9a-ff6e7358d7b9\")) {                    Plotly.newPlot(                        \"a43a6bfa-d4a4-4431-af9a-ff6e7358d7b9\",                        [{\"hovertemplate\": \"weekday=Friday<br>time=%{x}<br>login_count=%{y}<extra></extra>\", \"legendgroup\": \"Friday\", \"line\": {\"color\": \"#636efa\", \"dash\": \"solid\"}, \"mode\": \"lines\", \"name\": \"Friday\", \"orientation\": \"v\", \"showlegend\": true, \"type\": \"scatter\", \"x\": [\"00:00:00\", \"00:15:00\", \"00:30:00\", \"00:45:00\", \"01:00:00\", \"01:15:00\", \"01:30:00\", \"01:45:00\", \"02:00:00\", \"02:15:00\", \"02:30:00\", \"02:45:00\", \"03:00:00\", \"03:15:00\", \"03:30:00\", \"03:45:00\", \"04:00:00\", \"04:15:00\", \"04:30:00\", \"04:45:00\", \"05:00:00\", \"05:15:00\", \"05:30:00\", \"05:45:00\", \"06:00:00\", \"06:15:00\", \"06:30:00\", \"06:45:00\", \"07:00:00\", \"07:15:00\", \"07:30:00\", \"07:45:00\", \"08:00:00\", \"08:15:00\", \"08:30:00\", \"08:45:00\", \"09:00:00\", \"09:15:00\", \"09:30:00\", \"09:45:00\", \"10:00:00\", \"10:15:00\", \"10:30:00\", \"10:45:00\", \"11:00:00\", \"11:15:00\", \"11:30:00\", \"11:45:00\", \"12:00:00\", \"12:15:00\", \"12:30:00\", \"12:45:00\", \"13:00:00\", \"13:15:00\", \"13:30:00\", \"13:45:00\", \"14:00:00\", \"14:15:00\", \"14:30:00\", \"14:45:00\", \"15:00:00\", \"15:15:00\", \"15:30:00\", \"15:45:00\", \"16:00:00\", \"16:15:00\", \"16:30:00\", \"16:45:00\", \"17:00:00\", \"17:15:00\", \"17:30:00\", \"17:45:00\", \"18:00:00\", \"18:15:00\", \"18:30:00\", \"18:45:00\", \"19:00:00\", \"19:15:00\", \"19:30:00\", \"19:45:00\", \"20:00:00\", \"20:15:00\", \"20:30:00\", \"20:45:00\", \"21:00:00\", \"21:15:00\", \"21:30:00\", \"21:45:00\", \"22:00:00\", \"22:15:00\", \"22:30:00\", \"22:45:00\", \"23:00:00\", \"23:15:00\", \"23:30:00\", \"23:45:00\"], \"xaxis\": \"x\", \"y\": [15.8, 17.533333333333335, 15.466666666666667, 16.2, 17.266666666666666, 15.933333333333334, 16.4, 14.2, 13.266666666666667, 13.866666666666667, 11.933333333333334, 12.333333333333334, 9.8, 9.133333333333333, 8.066666666666666, 6.466666666666667, 6.4, 5.066666666666666, 5.666666666666667, 6.4, 7.333333333333333, 3.7333333333333334, 2.466666666666667, 2.8, 1.9333333333333333, 2.6, 2.0, 1.5333333333333334, 1.7333333333333334, 1.8, 2.2, 1.2666666666666666, 1.9333333333333333, 1.2, 1.8, 2.3333333333333335, 1.4, 3.6, 5.466666666666667, 5.533333333333333, 5.8, 7.933333333333334, 9.533333333333333, 11.866666666666667, 12.866666666666667, 15.2, 19.6, 20.266666666666666, 15.6, 16.533333333333335, 17.666666666666668, 11.933333333333334, 8.666666666666666, 9.2, 10.066666666666666, 7.6, 7.666666666666667, 8.133333333333333, 9.866666666666667, 9.133333333333333, 7.066666666666666, 5.8, 6.533333333333333, 6.6, 6.666666666666667, 5.8, 5.466666666666667, 6.866666666666666, 6.466666666666667, 7.8, 9.266666666666667, 8.466666666666667, 8.133333333333333, 9.4, 10.333333333333334, 10.6, 9.2, 10.2, 12.066666666666666, 12.4, 10.6, 12.8, 15.0, 15.133333333333333, 18.666666666666668, 19.733333333333334, 19.0, 23.0, 21.866666666666667, 27.733333333333334, 27.066666666666666, 24.6, 24.4, 22.866666666666667, 19.466666666666665, 19.8], \"yaxis\": \"y\"}, {\"hovertemplate\": \"weekday=Monday<br>time=%{x}<br>login_count=%{y}<extra></extra>\", \"legendgroup\": \"Monday\", \"line\": {\"color\": \"#EF553B\", \"dash\": \"solid\"}, \"mode\": \"lines\", \"name\": \"Monday\", \"orientation\": \"v\", \"showlegend\": true, \"type\": \"scatter\", \"x\": [\"00:00:00\", \"00:15:00\", \"00:30:00\", \"00:45:00\", \"01:00:00\", \"01:15:00\", \"01:30:00\", \"01:45:00\", \"02:00:00\", \"02:15:00\", \"02:30:00\", \"02:45:00\", \"03:00:00\", \"03:15:00\", \"03:30:00\", \"03:45:00\", \"04:00:00\", \"04:15:00\", \"04:30:00\", \"04:45:00\", \"05:00:00\", \"05:15:00\", \"05:30:00\", \"05:45:00\", \"06:00:00\", \"06:15:00\", \"06:30:00\", \"06:45:00\", \"07:00:00\", \"07:15:00\", \"07:30:00\", \"07:45:00\", \"08:00:00\", \"08:15:00\", \"08:30:00\", \"08:45:00\", \"09:00:00\", \"09:15:00\", \"09:30:00\", \"09:45:00\", \"10:00:00\", \"10:15:00\", \"10:30:00\", \"10:45:00\", \"11:00:00\", \"11:15:00\", \"11:30:00\", \"11:45:00\", \"12:00:00\", \"12:15:00\", \"12:30:00\", \"12:45:00\", \"13:00:00\", \"13:15:00\", \"13:30:00\", \"13:45:00\", \"14:00:00\", \"14:15:00\", \"14:30:00\", \"14:45:00\", \"15:00:00\", \"15:15:00\", \"15:30:00\", \"15:45:00\", \"16:00:00\", \"16:15:00\", \"16:30:00\", \"16:45:00\", \"17:00:00\", \"17:15:00\", \"17:30:00\", \"17:45:00\", \"18:00:00\", \"18:15:00\", \"18:30:00\", \"18:45:00\", \"19:00:00\", \"19:15:00\", \"19:30:00\", \"19:45:00\", \"20:00:00\", \"20:15:00\", \"20:30:00\", \"20:45:00\", \"21:00:00\", \"21:15:00\", \"21:30:00\", \"21:45:00\", \"22:00:00\", \"22:15:00\", \"22:30:00\", \"22:45:00\", \"23:00:00\", \"23:15:00\", \"23:30:00\", \"23:45:00\"], \"xaxis\": \"x\", \"y\": [8.4, 9.333333333333334, 9.6, 8.066666666666666, 7.266666666666667, 7.2, 7.0, 6.133333333333334, 6.066666666666666, 4.666666666666667, 5.666666666666667, 4.4, 3.466666666666667, 5.133333333333334, 3.4, 3.7333333333333334, 2.6666666666666665, 3.6, 3.466666666666667, 4.0, 3.0, 2.3333333333333335, 1.2666666666666666, 1.4666666666666666, 1.0666666666666667, 0.9333333333333333, 0.4666666666666667, 1.9333333333333333, 1.2, 2.2666666666666666, 1.6666666666666667, 2.2666666666666666, 2.2, 2.0, 2.7333333333333334, 2.8666666666666667, 2.933333333333333, 4.0, 4.666666666666667, 5.466666666666667, 6.6, 7.6, 10.0, 13.0, 14.2, 15.266666666666667, 18.2, 15.466666666666667, 13.0, 12.733333333333333, 12.933333333333334, 9.466666666666667, 8.2, 6.333333333333333, 7.866666666666666, 6.0, 4.533333333333333, 5.933333333333334, 5.933333333333334, 6.066666666666666, 4.866666666666666, 4.066666666666666, 4.533333333333333, 6.066666666666666, 3.8666666666666667, 3.8666666666666667, 3.2666666666666666, 5.6, 3.933333333333333, 3.4, 3.2666666666666666, 5.266666666666667, 4.8, 3.4, 4.4, 5.2, 4.214285714285714, 3.857142857142857, 4.642857142857143, 6.0, 6.214285714285714, 5.214285714285714, 6.142857142857143, 9.285714285714286, 9.928571428571429, 10.928571428571429, 12.0, 10.357142857142858, 11.071428571428571, 11.642857142857142, 10.0, 10.928571428571429, 8.214285714285714, 10.142857142857142, 10.142857142857142, 9.5], \"yaxis\": \"y\"}, {\"hovertemplate\": \"weekday=Saturday<br>time=%{x}<br>login_count=%{y}<extra></extra>\", \"legendgroup\": \"Saturday\", \"line\": {\"color\": \"#00cc96\", \"dash\": \"solid\"}, \"mode\": \"lines\", \"name\": \"Saturday\", \"orientation\": \"v\", \"showlegend\": true, \"type\": \"scatter\", \"x\": [\"00:00:00\", \"00:15:00\", \"00:30:00\", \"00:45:00\", \"01:00:00\", \"01:15:00\", \"01:30:00\", \"01:45:00\", \"02:00:00\", \"02:15:00\", \"02:30:00\", \"02:45:00\", \"03:00:00\", \"03:15:00\", \"03:30:00\", \"03:45:00\", \"04:00:00\", \"04:15:00\", \"04:30:00\", \"04:45:00\", \"05:00:00\", \"05:15:00\", \"05:30:00\", \"05:45:00\", \"06:00:00\", \"06:15:00\", \"06:30:00\", \"06:45:00\", \"07:00:00\", \"07:15:00\", \"07:30:00\", \"07:45:00\", \"08:00:00\", \"08:15:00\", \"08:30:00\", \"08:45:00\", \"09:00:00\", \"09:15:00\", \"09:30:00\", \"09:45:00\", \"10:00:00\", \"10:15:00\", \"10:30:00\", \"10:45:00\", \"11:00:00\", \"11:15:00\", \"11:30:00\", \"11:45:00\", \"12:00:00\", \"12:15:00\", \"12:30:00\", \"12:45:00\", \"13:00:00\", \"13:15:00\", \"13:30:00\", \"13:45:00\", \"14:00:00\", \"14:15:00\", \"14:30:00\", \"14:45:00\", \"15:00:00\", \"15:15:00\", \"15:30:00\", \"15:45:00\", \"16:00:00\", \"16:15:00\", \"16:30:00\", \"16:45:00\", \"17:00:00\", \"17:15:00\", \"17:30:00\", \"17:45:00\", \"18:00:00\", \"18:15:00\", \"18:30:00\", \"18:45:00\", \"19:00:00\", \"19:15:00\", \"19:30:00\", \"19:45:00\", \"20:00:00\", \"20:15:00\", \"20:30:00\", \"20:45:00\", \"21:00:00\", \"21:15:00\", \"21:30:00\", \"21:45:00\", \"22:00:00\", \"22:15:00\", \"22:30:00\", \"22:45:00\", \"23:00:00\", \"23:15:00\", \"23:30:00\", \"23:45:00\"], \"xaxis\": \"x\", \"y\": [19.8, 21.933333333333334, 20.866666666666667, 21.0, 23.8, 26.2, 28.733333333333334, 25.4, 28.0, 28.066666666666666, 26.8, 24.333333333333332, 26.266666666666666, 28.266666666666666, 25.333333333333332, 25.066666666666666, 23.533333333333335, 26.933333333333334, 31.8, 32.333333333333336, 27.266666666666666, 19.2, 14.2, 12.2, 10.466666666666667, 7.466666666666667, 5.333333333333333, 3.933333333333333, 3.2666666666666666, 3.466666666666667, 2.6, 2.533333333333333, 2.8666666666666667, 1.9333333333333333, 2.066666666666667, 1.6, 1.3333333333333333, 2.2, 2.1333333333333333, 2.2, 2.066666666666667, 3.2666666666666666, 3.4, 4.866666666666666, 4.133333333333334, 4.933333333333334, 7.0, 8.733333333333333, 7.6, 7.466666666666667, 9.6, 10.533333333333333, 9.866666666666667, 10.2, 12.2, 13.0, 12.466666666666667, 12.733333333333333, 13.666666666666666, 12.133333333333333, 11.2, 13.466666666666667, 14.2, 12.0, 12.133333333333333, 11.866666666666667, 12.4, 11.466666666666667, 11.066666666666666, 10.133333333333333, 9.8, 11.733333333333333, 10.0, 10.533333333333333, 9.866666666666667, 12.133333333333333, 11.466666666666667, 10.933333333333334, 10.933333333333334, 12.266666666666667, 9.0, 11.666666666666666, 11.866666666666667, 14.266666666666667, 11.333333333333334, 13.0, 16.533333333333335, 17.4, 18.933333333333334, 19.0, 19.066666666666666, 20.466666666666665, 17.066666666666666, 17.333333333333332, 16.666666666666668, 16.0], \"yaxis\": \"y\"}, {\"hovertemplate\": \"weekday=Sunday<br>time=%{x}<br>login_count=%{y}<extra></extra>\", \"legendgroup\": \"Sunday\", \"line\": {\"color\": \"#ab63fa\", \"dash\": \"solid\"}, \"mode\": \"lines\", \"name\": \"Sunday\", \"orientation\": \"v\", \"showlegend\": true, \"type\": \"scatter\", \"x\": [\"00:00:00\", \"00:15:00\", \"00:30:00\", \"00:45:00\", \"01:00:00\", \"01:15:00\", \"01:30:00\", \"01:45:00\", \"02:00:00\", \"02:15:00\", \"02:30:00\", \"02:45:00\", \"03:00:00\", \"03:15:00\", \"03:30:00\", \"03:45:00\", \"04:00:00\", \"04:15:00\", \"04:30:00\", \"04:45:00\", \"05:00:00\", \"05:15:00\", \"05:30:00\", \"05:45:00\", \"06:00:00\", \"06:15:00\", \"06:30:00\", \"06:45:00\", \"07:00:00\", \"07:15:00\", \"07:30:00\", \"07:45:00\", \"08:00:00\", \"08:15:00\", \"08:30:00\", \"08:45:00\", \"09:00:00\", \"09:15:00\", \"09:30:00\", \"09:45:00\", \"10:00:00\", \"10:15:00\", \"10:30:00\", \"10:45:00\", \"11:00:00\", \"11:15:00\", \"11:30:00\", \"11:45:00\", \"12:00:00\", \"12:15:00\", \"12:30:00\", \"12:45:00\", \"13:00:00\", \"13:15:00\", \"13:30:00\", \"13:45:00\", \"14:00:00\", \"14:15:00\", \"14:30:00\", \"14:45:00\", \"15:00:00\", \"15:15:00\", \"15:30:00\", \"15:45:00\", \"16:00:00\", \"16:15:00\", \"16:30:00\", \"16:45:00\", \"17:00:00\", \"17:15:00\", \"17:30:00\", \"17:45:00\", \"18:00:00\", \"18:15:00\", \"18:30:00\", \"18:45:00\", \"19:00:00\", \"19:15:00\", \"19:30:00\", \"19:45:00\", \"20:00:00\", \"20:15:00\", \"20:30:00\", \"20:45:00\", \"21:00:00\", \"21:15:00\", \"21:30:00\", \"21:45:00\", \"22:00:00\", \"22:15:00\", \"22:30:00\", \"22:45:00\", \"23:00:00\", \"23:15:00\", \"23:30:00\", \"23:45:00\"], \"xaxis\": \"x\", \"y\": [17.333333333333332, 18.266666666666666, 19.8, 19.466666666666665, 18.6, 22.333333333333332, 25.266666666666666, 24.133333333333333, 25.4, 28.0, 27.8, 26.0, 28.266666666666666, 29.6, 26.6, 25.333333333333332, 31.933333333333334, 33.0, 36.6, 38.93333333333333, 30.066666666666666, 19.533333333333335, 13.666666666666666, 10.2, 8.4, 6.866666666666666, 5.933333333333334, 4.266666666666667, 4.133333333333334, 3.466666666666667, 2.6666666666666665, 2.533333333333333, 2.3333333333333335, 2.8, 2.4, 2.6666666666666665, 3.533333333333333, 2.2666666666666666, 3.7333333333333334, 2.466666666666667, 2.533333333333333, 3.6666666666666665, 4.666666666666667, 3.1333333333333333, 4.133333333333334, 4.933333333333334, 5.333333333333333, 5.066666666666666, 7.8, 6.533333333333333, 9.933333333333334, 10.533333333333333, 10.266666666666667, 10.4, 12.0, 14.266666666666667, 11.266666666666667, 10.666666666666666, 16.066666666666666, 14.4, 13.466666666666667, 11.8, 14.933333333333334, 13.266666666666667, 13.2, 13.933333333333334, 13.2, 14.2, 10.6, 10.533333333333333, 11.0, 9.066666666666666, 9.4, 8.733333333333333, 9.8, 9.2, 11.466666666666667, 8.866666666666667, 11.4, 10.4, 9.866666666666667, 10.733333333333333, 9.2, 11.0, 9.6, 8.866666666666667, 11.0, 12.2, 10.6, 8.266666666666667, 9.866666666666667, 10.133333333333333, 9.2, 8.866666666666667, 8.466666666666667, 10.6], \"yaxis\": \"y\"}, {\"hovertemplate\": \"weekday=Thursday<br>time=%{x}<br>login_count=%{y}<extra></extra>\", \"legendgroup\": \"Thursday\", \"line\": {\"color\": \"#FFA15A\", \"dash\": \"solid\"}, \"mode\": \"lines\", \"name\": \"Thursday\", \"orientation\": \"v\", \"showlegend\": true, \"type\": \"scatter\", \"x\": [\"00:00:00\", \"00:15:00\", \"00:30:00\", \"00:45:00\", \"01:00:00\", \"01:15:00\", \"01:30:00\", \"01:45:00\", \"02:00:00\", \"02:15:00\", \"02:30:00\", \"02:45:00\", \"03:00:00\", \"03:15:00\", \"03:30:00\", \"03:45:00\", \"04:00:00\", \"04:15:00\", \"04:30:00\", \"04:45:00\", \"05:00:00\", \"05:15:00\", \"05:30:00\", \"05:45:00\", \"06:00:00\", \"06:15:00\", \"06:30:00\", \"06:45:00\", \"07:00:00\", \"07:15:00\", \"07:30:00\", \"07:45:00\", \"08:00:00\", \"08:15:00\", \"08:30:00\", \"08:45:00\", \"09:00:00\", \"09:15:00\", \"09:30:00\", \"09:45:00\", \"10:00:00\", \"10:15:00\", \"10:30:00\", \"10:45:00\", \"11:00:00\", \"11:15:00\", \"11:30:00\", \"11:45:00\", \"12:00:00\", \"12:15:00\", \"12:30:00\", \"12:45:00\", \"13:00:00\", \"13:15:00\", \"13:30:00\", \"13:45:00\", \"14:00:00\", \"14:15:00\", \"14:30:00\", \"14:45:00\", \"15:00:00\", \"15:15:00\", \"15:30:00\", \"15:45:00\", \"16:00:00\", \"16:15:00\", \"16:30:00\", \"16:45:00\", \"17:00:00\", \"17:15:00\", \"17:30:00\", \"17:45:00\", \"18:00:00\", \"18:15:00\", \"18:30:00\", \"18:45:00\", \"19:00:00\", \"19:15:00\", \"19:30:00\", \"19:45:00\", \"20:00:00\", \"20:15:00\", \"20:30:00\", \"20:45:00\", \"21:00:00\", \"21:15:00\", \"21:30:00\", \"21:45:00\", \"22:00:00\", \"22:15:00\", \"22:30:00\", \"22:45:00\", \"23:00:00\", \"23:15:00\", \"23:30:00\", \"23:45:00\"], \"xaxis\": \"x\", \"y\": [15.285714285714286, 15.142857142857142, 14.428571428571429, 13.428571428571429, 14.285714285714286, 15.0, 13.357142857142858, 12.857142857142858, 11.642857142857142, 12.357142857142858, 10.928571428571429, 9.714285714285714, 7.5, 6.857142857142857, 7.071428571428571, 5.357142857142857, 4.428571428571429, 4.357142857142857, 4.714285714285714, 4.714285714285714, 3.7142857142857144, 2.5714285714285716, 1.8571428571428572, 1.5714285714285714, 1.2142857142857142, 1.7857142857142858, 0.5, 1.2857142857142858, 1.4285714285714286, 1.5, 1.5714285714285714, 1.2857142857142858, 0.9285714285714286, 1.1428571428571428, 2.2857142857142856, 2.4285714285714284, 2.4285714285714284, 4.214285714285714, 5.714285714285714, 5.571428571428571, 8.642857142857142, 7.642857142857143, 11.642857142857142, 13.357142857142858, 16.928571428571427, 20.857142857142858, 20.642857142857142, 19.928571428571427, 16.785714285714285, 15.785714285714286, 14.785714285714286, 11.5, 9.642857142857142, 8.928571428571429, 8.214285714285714, 7.785714285714286, 4.285714285714286, 6.5, 9.785714285714286, 7.142857142857143, 6.142857142857143, 5.785714285714286, 4.0, 4.071428571428571, 4.0, 5.357142857142857, 4.857142857142857, 3.0714285714285716, 4.0, 3.857142857142857, 4.285714285714286, 4.428571428571429, 5.642857142857143, 5.071428571428571, 6.714285714285714, 7.642857142857143, 6.857142857142857, 6.857142857142857, 7.5, 6.785714285714286, 8.133333333333333, 9.333333333333334, 12.066666666666666, 11.933333333333334, 12.6, 14.333333333333334, 14.466666666666667, 16.6, 18.2, 17.133333333333333, 18.733333333333334, 18.533333333333335, 19.266666666666666, 17.0, 16.533333333333335, 16.066666666666666], \"yaxis\": \"y\"}, {\"hovertemplate\": \"weekday=Tuesday<br>time=%{x}<br>login_count=%{y}<extra></extra>\", \"legendgroup\": \"Tuesday\", \"line\": {\"color\": \"#19d3f3\", \"dash\": \"solid\"}, \"mode\": \"lines\", \"name\": \"Tuesday\", \"orientation\": \"v\", \"showlegend\": true, \"type\": \"scatter\", \"x\": [\"00:00:00\", \"00:15:00\", \"00:30:00\", \"00:45:00\", \"01:00:00\", \"01:15:00\", \"01:30:00\", \"01:45:00\", \"02:00:00\", \"02:15:00\", \"02:30:00\", \"02:45:00\", \"03:00:00\", \"03:15:00\", \"03:30:00\", \"03:45:00\", \"04:00:00\", \"04:15:00\", \"04:30:00\", \"04:45:00\", \"05:00:00\", \"05:15:00\", \"05:30:00\", \"05:45:00\", \"06:00:00\", \"06:15:00\", \"06:30:00\", \"06:45:00\", \"07:00:00\", \"07:15:00\", \"07:30:00\", \"07:45:00\", \"08:00:00\", \"08:15:00\", \"08:30:00\", \"08:45:00\", \"09:00:00\", \"09:15:00\", \"09:30:00\", \"09:45:00\", \"10:00:00\", \"10:15:00\", \"10:30:00\", \"10:45:00\", \"11:00:00\", \"11:15:00\", \"11:30:00\", \"11:45:00\", \"12:00:00\", \"12:15:00\", \"12:30:00\", \"12:45:00\", \"13:00:00\", \"13:15:00\", \"13:30:00\", \"13:45:00\", \"14:00:00\", \"14:15:00\", \"14:30:00\", \"14:45:00\", \"15:00:00\", \"15:15:00\", \"15:30:00\", \"15:45:00\", \"16:00:00\", \"16:15:00\", \"16:30:00\", \"16:45:00\", \"17:00:00\", \"17:15:00\", \"17:30:00\", \"17:45:00\", \"18:00:00\", \"18:15:00\", \"18:30:00\", \"18:45:00\", \"19:00:00\", \"19:15:00\", \"19:30:00\", \"19:45:00\", \"20:00:00\", \"20:15:00\", \"20:30:00\", \"20:45:00\", \"21:00:00\", \"21:15:00\", \"21:30:00\", \"21:45:00\", \"22:00:00\", \"22:15:00\", \"22:30:00\", \"22:45:00\", \"23:00:00\", \"23:15:00\", \"23:30:00\", \"23:45:00\"], \"xaxis\": \"x\", \"y\": [10.5, 10.785714285714286, 11.428571428571429, 10.642857142857142, 10.285714285714286, 9.285714285714286, 11.714285714285714, 9.142857142857142, 7.785714285714286, 7.928571428571429, 6.142857142857143, 6.285714285714286, 5.0, 3.0714285714285716, 3.2857142857142856, 2.7857142857142856, 2.7857142857142856, 1.5714285714285714, 3.0714285714285716, 3.2142857142857144, 3.142857142857143, 2.2142857142857144, 1.2857142857142858, 1.4285714285714286, 0.8571428571428571, 0.8571428571428571, 0.8571428571428571, 0.7142857142857143, 1.4285714285714286, 1.3571428571428572, 0.8571428571428571, 0.9285714285714286, 1.0714285714285714, 1.1428571428571428, 1.7857142857142858, 2.2857142857142856, 3.0, 4.0, 4.714285714285714, 5.571428571428571, 5.785714285714286, 7.0, 10.071428571428571, 11.357142857142858, 15.928571428571429, 18.071428571428573, 19.785714285714285, 18.714285714285715, 14.571428571428571, 14.571428571428571, 13.0, 8.571428571428571, 6.642857142857143, 6.5, 6.428571428571429, 6.214285714285714, 5.0, 5.0, 6.571428571428571, 5.5, 4.714285714285714, 5.142857142857143, 3.5714285714285716, 4.214285714285714, 3.357142857142857, 4.142857142857143, 4.5, 3.642857142857143, 3.5714285714285716, 2.7857142857142856, 2.857142857142857, 3.857142857142857, 5.5, 4.357142857142857, 6.0, 5.785714285714286, 4.714285714285714, 4.714285714285714, 5.428571428571429, 6.642857142857143, 7.642857142857143, 7.714285714285714, 9.285714285714286, 10.214285714285714, 11.571428571428571, 11.214285714285714, 14.0, 13.5, 13.785714285714286, 12.785714285714286, 14.357142857142858, 13.214285714285714, 14.5, 14.142857142857142, 10.571428571428571, 12.5], \"yaxis\": \"y\"}, {\"hovertemplate\": \"weekday=Wednesday<br>time=%{x}<br>login_count=%{y}<extra></extra>\", \"legendgroup\": \"Wednesday\", \"line\": {\"color\": \"#FF6692\", \"dash\": \"solid\"}, \"mode\": \"lines\", \"name\": \"Wednesday\", \"orientation\": \"v\", \"showlegend\": true, \"type\": \"scatter\", \"x\": [\"00:00:00\", \"00:15:00\", \"00:30:00\", \"00:45:00\", \"01:00:00\", \"01:15:00\", \"01:30:00\", \"01:45:00\", \"02:00:00\", \"02:15:00\", \"02:30:00\", \"02:45:00\", \"03:00:00\", \"03:15:00\", \"03:30:00\", \"03:45:00\", \"04:00:00\", \"04:15:00\", \"04:30:00\", \"04:45:00\", \"05:00:00\", \"05:15:00\", \"05:30:00\", \"05:45:00\", \"06:00:00\", \"06:15:00\", \"06:30:00\", \"06:45:00\", \"07:00:00\", \"07:15:00\", \"07:30:00\", \"07:45:00\", \"08:00:00\", \"08:15:00\", \"08:30:00\", \"08:45:00\", \"09:00:00\", \"09:15:00\", \"09:30:00\", \"09:45:00\", \"10:00:00\", \"10:15:00\", \"10:30:00\", \"10:45:00\", \"11:00:00\", \"11:15:00\", \"11:30:00\", \"11:45:00\", \"12:00:00\", \"12:15:00\", \"12:30:00\", \"12:45:00\", \"13:00:00\", \"13:15:00\", \"13:30:00\", \"13:45:00\", \"14:00:00\", \"14:15:00\", \"14:30:00\", \"14:45:00\", \"15:00:00\", \"15:15:00\", \"15:30:00\", \"15:45:00\", \"16:00:00\", \"16:15:00\", \"16:30:00\", \"16:45:00\", \"17:00:00\", \"17:15:00\", \"17:30:00\", \"17:45:00\", \"18:00:00\", \"18:15:00\", \"18:30:00\", \"18:45:00\", \"19:00:00\", \"19:15:00\", \"19:30:00\", \"19:45:00\", \"20:00:00\", \"20:15:00\", \"20:30:00\", \"20:45:00\", \"21:00:00\", \"21:15:00\", \"21:30:00\", \"21:45:00\", \"22:00:00\", \"22:15:00\", \"22:30:00\", \"22:45:00\", \"23:00:00\", \"23:15:00\", \"23:30:00\", \"23:45:00\"], \"xaxis\": \"x\", \"y\": [11.285714285714286, 12.714285714285714, 12.642857142857142, 12.428571428571429, 14.357142857142858, 13.071428571428571, 11.5, 10.071428571428571, 10.428571428571429, 8.785714285714286, 7.642857142857143, 7.571428571428571, 5.928571428571429, 5.785714285714286, 4.714285714285714, 4.928571428571429, 4.5, 3.7142857142857144, 4.428571428571429, 4.857142857142857, 4.428571428571429, 2.2142857142857144, 1.9285714285714286, 1.0714285714285714, 0.8571428571428571, 1.0714285714285714, 0.7142857142857143, 0.7857142857142857, 1.7142857142857142, 1.7142857142857142, 1.5, 1.0714285714285714, 1.6428571428571428, 2.0, 2.0714285714285716, 1.3571428571428572, 2.7142857142857144, 3.357142857142857, 4.642857142857143, 6.428571428571429, 5.5, 7.071428571428571, 10.642857142857142, 13.071428571428571, 15.214285714285714, 18.142857142857142, 21.714285714285715, 20.428571428571427, 14.642857142857142, 14.357142857142858, 13.785714285714286, 9.5, 8.214285714285714, 8.0, 7.5, 6.571428571428571, 4.357142857142857, 5.0, 6.857142857142857, 6.571428571428571, 5.642857142857143, 4.571428571428571, 4.214285714285714, 4.357142857142857, 3.7142857142857144, 4.285714285714286, 3.857142857142857, 3.4285714285714284, 3.5714285714285716, 2.9285714285714284, 3.142857142857143, 4.071428571428571, 4.0, 5.5, 5.214285714285714, 5.785714285714286, 4.642857142857143, 5.571428571428571, 5.714285714285714, 5.928571428571429, 6.5, 8.642857142857142, 9.357142857142858, 11.214285714285714, 12.0, 12.571428571428571, 15.214285714285714, 13.0, 17.285714285714285, 16.285714285714285, 15.857142857142858, 13.785714285714286, 14.714285714285714, 15.785714285714286, 17.785714285714285, 16.571428571428573], \"yaxis\": \"y\"}],                        {\"legend\": {\"title\": {\"text\": \"weekday\"}, \"tracegroupgap\": 0}, \"margin\": {\"t\": 60}, \"template\": {\"data\": {\"bar\": [{\"error_x\": {\"color\": \"#2a3f5f\"}, \"error_y\": {\"color\": \"#2a3f5f\"}, \"marker\": {\"line\": {\"color\": \"#E5ECF6\", \"width\": 0.5}}, \"type\": \"bar\"}], \"barpolar\": [{\"marker\": {\"line\": {\"color\": \"#E5ECF6\", \"width\": 0.5}}, \"type\": \"barpolar\"}], \"carpet\": [{\"aaxis\": {\"endlinecolor\": \"#2a3f5f\", \"gridcolor\": \"white\", \"linecolor\": \"white\", \"minorgridcolor\": \"white\", \"startlinecolor\": \"#2a3f5f\"}, \"baxis\": {\"endlinecolor\": \"#2a3f5f\", \"gridcolor\": \"white\", \"linecolor\": \"white\", \"minorgridcolor\": \"white\", \"startlinecolor\": \"#2a3f5f\"}, \"type\": \"carpet\"}], \"choropleth\": [{\"colorbar\": {\"outlinewidth\": 0, \"ticks\": \"\"}, \"type\": \"choropleth\"}], \"contour\": [{\"colorbar\": {\"outlinewidth\": 0, \"ticks\": \"\"}, \"colorscale\": [[0.0, \"#0d0887\"], [0.1111111111111111, \"#46039f\"], [0.2222222222222222, \"#7201a8\"], [0.3333333333333333, \"#9c179e\"], [0.4444444444444444, \"#bd3786\"], [0.5555555555555556, \"#d8576b\"], [0.6666666666666666, \"#ed7953\"], [0.7777777777777778, \"#fb9f3a\"], [0.8888888888888888, \"#fdca26\"], [1.0, \"#f0f921\"]], \"type\": \"contour\"}], \"contourcarpet\": [{\"colorbar\": {\"outlinewidth\": 0, \"ticks\": \"\"}, \"type\": \"contourcarpet\"}], \"heatmap\": [{\"colorbar\": {\"outlinewidth\": 0, \"ticks\": \"\"}, \"colorscale\": [[0.0, \"#0d0887\"], [0.1111111111111111, \"#46039f\"], [0.2222222222222222, \"#7201a8\"], [0.3333333333333333, \"#9c179e\"], [0.4444444444444444, \"#bd3786\"], [0.5555555555555556, \"#d8576b\"], [0.6666666666666666, \"#ed7953\"], [0.7777777777777778, \"#fb9f3a\"], [0.8888888888888888, \"#fdca26\"], [1.0, \"#f0f921\"]], \"type\": \"heatmap\"}], \"heatmapgl\": [{\"colorbar\": {\"outlinewidth\": 0, \"ticks\": \"\"}, \"colorscale\": [[0.0, \"#0d0887\"], [0.1111111111111111, \"#46039f\"], [0.2222222222222222, \"#7201a8\"], [0.3333333333333333, \"#9c179e\"], [0.4444444444444444, \"#bd3786\"], [0.5555555555555556, \"#d8576b\"], [0.6666666666666666, \"#ed7953\"], [0.7777777777777778, \"#fb9f3a\"], [0.8888888888888888, \"#fdca26\"], [1.0, \"#f0f921\"]], \"type\": \"heatmapgl\"}], \"histogram\": [{\"marker\": {\"colorbar\": {\"outlinewidth\": 0, \"ticks\": \"\"}}, \"type\": \"histogram\"}], \"histogram2d\": [{\"colorbar\": {\"outlinewidth\": 0, \"ticks\": \"\"}, \"colorscale\": [[0.0, \"#0d0887\"], [0.1111111111111111, \"#46039f\"], [0.2222222222222222, \"#7201a8\"], [0.3333333333333333, \"#9c179e\"], [0.4444444444444444, \"#bd3786\"], [0.5555555555555556, \"#d8576b\"], [0.6666666666666666, \"#ed7953\"], [0.7777777777777778, \"#fb9f3a\"], [0.8888888888888888, \"#fdca26\"], [1.0, \"#f0f921\"]], \"type\": \"histogram2d\"}], \"histogram2dcontour\": [{\"colorbar\": {\"outlinewidth\": 0, \"ticks\": \"\"}, \"colorscale\": [[0.0, \"#0d0887\"], [0.1111111111111111, \"#46039f\"], [0.2222222222222222, \"#7201a8\"], [0.3333333333333333, \"#9c179e\"], [0.4444444444444444, \"#bd3786\"], [0.5555555555555556, \"#d8576b\"], [0.6666666666666666, \"#ed7953\"], [0.7777777777777778, \"#fb9f3a\"], [0.8888888888888888, \"#fdca26\"], [1.0, \"#f0f921\"]], \"type\": \"histogram2dcontour\"}], \"mesh3d\": [{\"colorbar\": {\"outlinewidth\": 0, \"ticks\": \"\"}, \"type\": \"mesh3d\"}], \"parcoords\": [{\"line\": {\"colorbar\": {\"outlinewidth\": 0, \"ticks\": \"\"}}, \"type\": \"parcoords\"}], \"pie\": [{\"automargin\": true, \"type\": \"pie\"}], \"scatter\": [{\"marker\": {\"colorbar\": {\"outlinewidth\": 0, \"ticks\": \"\"}}, \"type\": \"scatter\"}], \"scatter3d\": [{\"line\": {\"colorbar\": {\"outlinewidth\": 0, \"ticks\": \"\"}}, \"marker\": {\"colorbar\": {\"outlinewidth\": 0, \"ticks\": \"\"}}, \"type\": \"scatter3d\"}], \"scattercarpet\": [{\"marker\": {\"colorbar\": {\"outlinewidth\": 0, \"ticks\": \"\"}}, \"type\": \"scattercarpet\"}], \"scattergeo\": [{\"marker\": {\"colorbar\": {\"outlinewidth\": 0, \"ticks\": \"\"}}, \"type\": \"scattergeo\"}], \"scattergl\": [{\"marker\": {\"colorbar\": {\"outlinewidth\": 0, \"ticks\": \"\"}}, \"type\": \"scattergl\"}], \"scattermapbox\": [{\"marker\": {\"colorbar\": {\"outlinewidth\": 0, \"ticks\": \"\"}}, \"type\": \"scattermapbox\"}], \"scatterpolar\": [{\"marker\": {\"colorbar\": {\"outlinewidth\": 0, \"ticks\": \"\"}}, \"type\": \"scatterpolar\"}], \"scatterpolargl\": [{\"marker\": {\"colorbar\": {\"outlinewidth\": 0, \"ticks\": \"\"}}, \"type\": \"scatterpolargl\"}], \"scatterternary\": [{\"marker\": {\"colorbar\": {\"outlinewidth\": 0, \"ticks\": \"\"}}, \"type\": \"scatterternary\"}], \"surface\": [{\"colorbar\": {\"outlinewidth\": 0, \"ticks\": \"\"}, \"colorscale\": [[0.0, \"#0d0887\"], [0.1111111111111111, \"#46039f\"], [0.2222222222222222, \"#7201a8\"], [0.3333333333333333, \"#9c179e\"], [0.4444444444444444, \"#bd3786\"], [0.5555555555555556, \"#d8576b\"], [0.6666666666666666, \"#ed7953\"], [0.7777777777777778, \"#fb9f3a\"], [0.8888888888888888, \"#fdca26\"], [1.0, \"#f0f921\"]], \"type\": \"surface\"}], \"table\": [{\"cells\": {\"fill\": {\"color\": \"#EBF0F8\"}, \"line\": {\"color\": \"white\"}}, \"header\": {\"fill\": {\"color\": \"#C8D4E3\"}, \"line\": {\"color\": \"white\"}}, \"type\": \"table\"}]}, \"layout\": {\"annotationdefaults\": {\"arrowcolor\": \"#2a3f5f\", \"arrowhead\": 0, \"arrowwidth\": 1}, \"autotypenumbers\": \"strict\", \"coloraxis\": {\"colorbar\": {\"outlinewidth\": 0, \"ticks\": \"\"}}, \"colorscale\": {\"diverging\": [[0, \"#8e0152\"], [0.1, \"#c51b7d\"], [0.2, \"#de77ae\"], [0.3, \"#f1b6da\"], [0.4, \"#fde0ef\"], [0.5, \"#f7f7f7\"], [0.6, \"#e6f5d0\"], [0.7, \"#b8e186\"], [0.8, \"#7fbc41\"], [0.9, \"#4d9221\"], [1, \"#276419\"]], \"sequential\": [[0.0, \"#0d0887\"], [0.1111111111111111, \"#46039f\"], [0.2222222222222222, \"#7201a8\"], [0.3333333333333333, \"#9c179e\"], [0.4444444444444444, \"#bd3786\"], [0.5555555555555556, \"#d8576b\"], [0.6666666666666666, \"#ed7953\"], [0.7777777777777778, \"#fb9f3a\"], [0.8888888888888888, \"#fdca26\"], [1.0, \"#f0f921\"]], \"sequentialminus\": [[0.0, \"#0d0887\"], [0.1111111111111111, \"#46039f\"], [0.2222222222222222, \"#7201a8\"], [0.3333333333333333, \"#9c179e\"], [0.4444444444444444, \"#bd3786\"], [0.5555555555555556, \"#d8576b\"], [0.6666666666666666, \"#ed7953\"], [0.7777777777777778, \"#fb9f3a\"], [0.8888888888888888, \"#fdca26\"], [1.0, \"#f0f921\"]]}, \"colorway\": [\"#636efa\", \"#EF553B\", \"#00cc96\", \"#ab63fa\", \"#FFA15A\", \"#19d3f3\", \"#FF6692\", \"#B6E880\", \"#FF97FF\", \"#FECB52\"], \"font\": {\"color\": \"#2a3f5f\"}, \"geo\": {\"bgcolor\": \"white\", \"lakecolor\": \"white\", \"landcolor\": \"#E5ECF6\", \"showlakes\": true, \"showland\": true, \"subunitcolor\": \"white\"}, \"hoverlabel\": {\"align\": \"left\"}, \"hovermode\": \"closest\", \"mapbox\": {\"style\": \"light\"}, \"paper_bgcolor\": \"white\", \"plot_bgcolor\": \"#E5ECF6\", \"polar\": {\"angularaxis\": {\"gridcolor\": \"white\", \"linecolor\": \"white\", \"ticks\": \"\"}, \"bgcolor\": \"#E5ECF6\", \"radialaxis\": {\"gridcolor\": \"white\", \"linecolor\": \"white\", \"ticks\": \"\"}}, \"scene\": {\"xaxis\": {\"backgroundcolor\": \"#E5ECF6\", \"gridcolor\": \"white\", \"gridwidth\": 2, \"linecolor\": \"white\", \"showbackground\": true, \"ticks\": \"\", \"zerolinecolor\": \"white\"}, \"yaxis\": {\"backgroundcolor\": \"#E5ECF6\", \"gridcolor\": \"white\", \"gridwidth\": 2, \"linecolor\": \"white\", \"showbackground\": true, \"ticks\": \"\", \"zerolinecolor\": \"white\"}, \"zaxis\": {\"backgroundcolor\": \"#E5ECF6\", \"gridcolor\": \"white\", \"gridwidth\": 2, \"linecolor\": \"white\", \"showbackground\": true, \"ticks\": \"\", \"zerolinecolor\": \"white\"}}, \"shapedefaults\": {\"line\": {\"color\": \"#2a3f5f\"}}, \"ternary\": {\"aaxis\": {\"gridcolor\": \"white\", \"linecolor\": \"white\", \"ticks\": \"\"}, \"baxis\": {\"gridcolor\": \"white\", \"linecolor\": \"white\", \"ticks\": \"\"}, \"bgcolor\": \"#E5ECF6\", \"caxis\": {\"gridcolor\": \"white\", \"linecolor\": \"white\", \"ticks\": \"\"}}, \"title\": {\"x\": 0.05}, \"xaxis\": {\"automargin\": true, \"gridcolor\": \"white\", \"linecolor\": \"white\", \"ticks\": \"\", \"title\": {\"standoff\": 15}, \"zerolinecolor\": \"white\", \"zerolinewidth\": 2}, \"yaxis\": {\"automargin\": true, \"gridcolor\": \"white\", \"linecolor\": \"white\", \"ticks\": \"\", \"title\": {\"standoff\": 15}, \"zerolinecolor\": \"white\", \"zerolinewidth\": 2}}}, \"title\": {\"text\": \"Average Login Counts vs Time of Day\", \"x\": 0.5, \"xref\": \"paper\"}, \"xaxis\": {\"anchor\": \"y\", \"domain\": [0.0, 1.0], \"title\": {\"text\": \"Time of Day\"}}, \"yaxis\": {\"anchor\": \"x\", \"domain\": [0.0, 1.0], \"title\": {\"text\": \"Login Count\"}}},                        {\"responsive\": true}                    ).then(function(){\n",
       "                            \n",
       "var gd = document.getElementById('a43a6bfa-d4a4-4431-af9a-ff6e7358d7b9');\n",
       "var x = new MutationObserver(function (mutations, observer) {{\n",
       "        var display = window.getComputedStyle(gd).display;\n",
       "        if (!display || display === 'none') {{\n",
       "            console.log([gd, 'removed!']);\n",
       "            Plotly.purge(gd);\n",
       "            observer.disconnect();\n",
       "        }}\n",
       "}});\n",
       "\n",
       "// Listen for the removal of the full notebook cells\n",
       "var notebookContainer = gd.closest('#notebook-container');\n",
       "if (notebookContainer) {{\n",
       "    x.observe(notebookContainer, {childList: true});\n",
       "}}\n",
       "\n",
       "// Listen for the clearing of the current output cell\n",
       "var outputEl = gd.closest('.output');\n",
       "if (outputEl) {{\n",
       "    x.observe(outputEl, {childList: true});\n",
       "}}\n",
       "\n",
       "                        })                };                });            </script>        </div>"
      ]
     },
     "metadata": {},
     "output_type": "display_data"
    }
   ],
   "source": [
    "# Plot. 15-min login count averages over 24-hr period for each day of the week.\n",
    "\n",
    "fig = px.line(df_, x = 'time',y='login_count', color = 'weekday')\n",
    "\n",
    "# axes\n",
    "fig.update_layout({'xaxis': {'title': {'text': 'Time of Day'}},\n",
    "                   'yaxis': {'title': {'text': 'Login Count'}}})\n",
    "fig.update_layout({'title': {'text': 'Average Login Counts vs Time of Day', 'xref': 'paper', 'x': 0.5}})\n",
    "\n",
    "fig.show()"
   ]
  },
  {
   "cell_type": "markdown",
   "metadata": {},
   "source": [
    "# Summary\n",
    "\n",
    "Logins data follows two patterns, weekday and weekend.  The weekday pattern is characterized by a mid-day peak occuring roughly from 11a-12p.  Days of the weekday exhibiting this pattern include Monday, Tuesday, Wednesday, Thursday, and Friday.  \n",
    "\n",
    "The weekend pattern shows substantial number of logins occuring from 00:00 thru 05:00 with a distinct peak at 04:45 followed by a steep drop.  A second characteristic of the weekend pattern is the larger number of logins in the afternoon hours from 13:30 thru 17:00 compared to the same time period for Monday thru Thursday.  Saturday and Sunday are best examples of this pattern.\n",
    "\n",
    "The largest late evening login counts from 21:00 thru 23:30 occur on Fridays."
   ]
  },
  {
   "cell_type": "code",
   "execution_count": null,
   "metadata": {},
   "outputs": [],
   "source": []
  },
  {
   "cell_type": "code",
   "execution_count": null,
   "metadata": {},
   "outputs": [],
   "source": []
  },
  {
   "cell_type": "code",
   "execution_count": null,
   "metadata": {},
   "outputs": [],
   "source": []
  },
  {
   "cell_type": "code",
   "execution_count": null,
   "metadata": {},
   "outputs": [],
   "source": []
  },
  {
   "cell_type": "code",
   "execution_count": null,
   "metadata": {},
   "outputs": [],
   "source": []
  }
 ],
 "metadata": {
  "kernelspec": {
   "display_name": "Python 3",
   "language": "python",
   "name": "python3"
  },
  "language_info": {
   "codemirror_mode": {
    "name": "ipython",
    "version": 3
   },
   "file_extension": ".py",
   "mimetype": "text/x-python",
   "name": "python",
   "nbconvert_exporter": "python",
   "pygments_lexer": "ipython3",
   "version": "3.8.5"
  },
  "toc": {
   "base_numbering": 1,
   "nav_menu": {},
   "number_sections": false,
   "sideBar": true,
   "skip_h1_title": false,
   "title_cell": "Table of Contents",
   "title_sidebar": "Contents",
   "toc_cell": true,
   "toc_position": {},
   "toc_section_display": true,
   "toc_window_display": true
  },
  "varInspector": {
   "cols": {
    "lenName": 16,
    "lenType": 16,
    "lenVar": 40
   },
   "kernels_config": {
    "python": {
     "delete_cmd_postfix": "",
     "delete_cmd_prefix": "del ",
     "library": "var_list.py",
     "varRefreshCmd": "print(var_dic_list())"
    },
    "r": {
     "delete_cmd_postfix": ") ",
     "delete_cmd_prefix": "rm(",
     "library": "var_list.r",
     "varRefreshCmd": "cat(var_dic_list()) "
    }
   },
   "types_to_exclude": [
    "module",
    "function",
    "builtin_function_or_method",
    "instance",
    "_Feature"
   ],
   "window_display": false
  }
 },
 "nbformat": 4,
 "nbformat_minor": 4
}
